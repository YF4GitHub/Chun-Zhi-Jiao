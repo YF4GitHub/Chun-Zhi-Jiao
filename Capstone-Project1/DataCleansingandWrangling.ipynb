{
 "cells": [
  {
   "cell_type": "markdown",
   "metadata": {},
   "source": [
    "# Data Clean and wrangling"
   ]
  },
  {
   "cell_type": "markdown",
   "metadata": {},
   "source": [
    "Downdloaded data files from Github and imported as a batch"
   ]
  },
  {
   "cell_type": "code",
   "execution_count": 752,
   "metadata": {},
   "outputs": [],
   "source": [
    "import pandas as pd\n",
    "import numpy as np\n",
    "import matplotlib.pyplot as plt\n",
    "from numpy.random import seed\n",
    "import seaborn as sns\n",
    "from os import listdir\n",
    "import re"
   ]
  },
  {
   "cell_type": "code",
   "execution_count": 753,
   "metadata": {},
   "outputs": [],
   "source": [
    "filepaths = ['data/tennis_atp/match_00_19/'+f for f in listdir(\"data/tennis_atp/match_00_19\") if f.endswith('.csv')]\n",
    "df = pd.concat(map(pd.read_csv, filepaths), sort=False)"
   ]
  },
  {
   "cell_type": "code",
   "execution_count": 754,
   "metadata": {},
   "outputs": [
    {
     "data": {
      "text/plain": [
       "['data/tennis_atp/match_00_19/atp_matches_2000.csv',\n",
       " 'data/tennis_atp/match_00_19/atp_matches_2001.csv',\n",
       " 'data/tennis_atp/match_00_19/atp_matches_2002.csv',\n",
       " 'data/tennis_atp/match_00_19/atp_matches_2003.csv',\n",
       " 'data/tennis_atp/match_00_19/atp_matches_2004.csv',\n",
       " 'data/tennis_atp/match_00_19/atp_matches_2005.csv',\n",
       " 'data/tennis_atp/match_00_19/atp_matches_2006.csv',\n",
       " 'data/tennis_atp/match_00_19/atp_matches_2007.csv',\n",
       " 'data/tennis_atp/match_00_19/atp_matches_2008.csv',\n",
       " 'data/tennis_atp/match_00_19/atp_matches_2009.csv',\n",
       " 'data/tennis_atp/match_00_19/atp_matches_2010.csv',\n",
       " 'data/tennis_atp/match_00_19/atp_matches_2011.csv',\n",
       " 'data/tennis_atp/match_00_19/atp_matches_2012.csv',\n",
       " 'data/tennis_atp/match_00_19/atp_matches_2013.csv',\n",
       " 'data/tennis_atp/match_00_19/atp_matches_2014.csv',\n",
       " 'data/tennis_atp/match_00_19/atp_matches_2015.csv',\n",
       " 'data/tennis_atp/match_00_19/atp_matches_2016.csv',\n",
       " 'data/tennis_atp/match_00_19/atp_matches_2017.csv',\n",
       " 'data/tennis_atp/match_00_19/atp_matches_2018.csv',\n",
       " 'data/tennis_atp/match_00_19/atp_matches_2019.csv']"
      ]
     },
     "execution_count": 754,
     "metadata": {},
     "output_type": "execute_result"
    }
   ],
   "source": [
    "filepaths"
   ]
  },
  {
   "cell_type": "code",
   "execution_count": 755,
   "metadata": {},
   "outputs": [
    {
     "name": "stdout",
     "output_type": "stream",
     "text": [
      "<class 'pandas.core.frame.DataFrame'>\n",
      "Int64Index: 61560 entries, 0 to 2780\n",
      "Data columns (total 49 columns):\n",
      "tourney_id            61560 non-null object\n",
      "tourney_name          61560 non-null object\n",
      "surface               61442 non-null object\n",
      "draw_size             2781 non-null float64\n",
      "tourney_level         61560 non-null object\n",
      "tourney_date          61560 non-null int64\n",
      "match_num             61560 non-null int64\n",
      "winner_id             61560 non-null int64\n",
      "winner_seed           25567 non-null object\n",
      "winner_entry          7346 non-null object\n",
      "winner_name           61560 non-null object\n",
      "winner_hand           61542 non-null object\n",
      "winner_ht             56229 non-null float64\n",
      "winner_ioc            61560 non-null object\n",
      "winner_age            61545 non-null float64\n",
      "loser_id              61560 non-null int64\n",
      "loser_seed            13973 non-null object\n",
      "loser_entry           12107 non-null object\n",
      "loser_name            61560 non-null object\n",
      "loser_hand            61514 non-null object\n",
      "loser_ht              53389 non-null float64\n",
      "loser_ioc             61560 non-null object\n",
      "loser_age             61529 non-null float64\n",
      "score                 61559 non-null object\n",
      "best_of               61560 non-null int64\n",
      "round                 61560 non-null object\n",
      "minutes               54478 non-null float64\n",
      "w_ace                 55781 non-null float64\n",
      "w_df                  55781 non-null float64\n",
      "w_svpt                55781 non-null float64\n",
      "w_1stIn               55781 non-null float64\n",
      "w_1stWon              55781 non-null float64\n",
      "w_2ndWon              55781 non-null float64\n",
      "w_SvGms               55781 non-null float64\n",
      "w_bpSaved             55781 non-null float64\n",
      "w_bpFaced             55781 non-null float64\n",
      "l_ace                 55781 non-null float64\n",
      "l_df                  55781 non-null float64\n",
      "l_svpt                55781 non-null float64\n",
      "l_1stIn               55781 non-null float64\n",
      "l_1stWon              55781 non-null float64\n",
      "l_2ndWon              55781 non-null float64\n",
      "l_SvGms               55781 non-null float64\n",
      "l_bpSaved             55781 non-null float64\n",
      "l_bpFaced             55781 non-null float64\n",
      "winner_rank           61057 non-null float64\n",
      "winner_rank_points    61057 non-null float64\n",
      "loser_rank            60263 non-null float64\n",
      "loser_rank_points     60263 non-null float64\n",
      "dtypes: float64(28), int64(5), object(16)\n",
      "memory usage: 23.5+ MB\n"
     ]
    }
   ],
   "source": [
    "df.info()"
   ]
  },
  {
   "cell_type": "code",
   "execution_count": 756,
   "metadata": {},
   "outputs": [
    {
     "name": "stdout",
     "output_type": "stream",
     "text": [
      "1890 retired rows are removed\n"
     ]
    }
   ],
   "source": [
    "df = df[df.score.str.contains('RET') == False]\n",
    "print('1890 retired rows are removed')"
   ]
  },
  {
   "cell_type": "code",
   "execution_count": 757,
   "metadata": {},
   "outputs": [
    {
     "name": "stdout",
     "output_type": "stream",
     "text": [
      "<class 'pandas.core.frame.DataFrame'>\n",
      "Int64Index: 59670 entries, 0 to 2780\n",
      "Data columns (total 49 columns):\n",
      "tourney_id            59670 non-null object\n",
      "tourney_name          59670 non-null object\n",
      "surface               59557 non-null object\n",
      "draw_size             2722 non-null float64\n",
      "tourney_level         59670 non-null object\n",
      "tourney_date          59670 non-null int64\n",
      "match_num             59670 non-null int64\n",
      "winner_id             59670 non-null int64\n",
      "winner_seed           24958 non-null object\n",
      "winner_entry          7058 non-null object\n",
      "winner_name           59670 non-null object\n",
      "winner_hand           59653 non-null object\n",
      "winner_ht             54523 non-null float64\n",
      "winner_ioc            59670 non-null object\n",
      "winner_age            59657 non-null float64\n",
      "loser_id              59670 non-null int64\n",
      "loser_seed            13458 non-null object\n",
      "loser_entry           11886 non-null object\n",
      "loser_name            59670 non-null object\n",
      "loser_hand            59624 non-null object\n",
      "loser_ht              51672 non-null float64\n",
      "loser_ioc             59670 non-null object\n",
      "loser_age             59639 non-null float64\n",
      "score                 59670 non-null object\n",
      "best_of               59670 non-null int64\n",
      "round                 59670 non-null object\n",
      "minutes               52791 non-null float64\n",
      "w_ace                 54044 non-null float64\n",
      "w_df                  54044 non-null float64\n",
      "w_svpt                54044 non-null float64\n",
      "w_1stIn               54044 non-null float64\n",
      "w_1stWon              54044 non-null float64\n",
      "w_2ndWon              54044 non-null float64\n",
      "w_SvGms               54044 non-null float64\n",
      "w_bpSaved             54044 non-null float64\n",
      "w_bpFaced             54044 non-null float64\n",
      "l_ace                 54044 non-null float64\n",
      "l_df                  54044 non-null float64\n",
      "l_svpt                54044 non-null float64\n",
      "l_1stIn               54044 non-null float64\n",
      "l_1stWon              54044 non-null float64\n",
      "l_2ndWon              54044 non-null float64\n",
      "l_SvGms               54044 non-null float64\n",
      "l_bpSaved             54044 non-null float64\n",
      "l_bpFaced             54044 non-null float64\n",
      "winner_rank           59191 non-null float64\n",
      "winner_rank_points    59191 non-null float64\n",
      "loser_rank            58418 non-null float64\n",
      "loser_rank_points     58418 non-null float64\n",
      "dtypes: float64(28), int64(5), object(16)\n",
      "memory usage: 22.8+ MB\n"
     ]
    }
   ],
   "source": [
    "df.info()"
   ]
  },
  {
   "cell_type": "code",
   "execution_count": 758,
   "metadata": {},
   "outputs": [
    {
     "data": {
      "text/plain": [
       "tourney_level\n",
       "A    32651\n",
       "D     5890\n",
       "F      286\n",
       "G     9746\n",
       "M    11097\n",
       "Name: tourney_id, dtype: int64"
      ]
     },
     "execution_count": 758,
     "metadata": {},
     "output_type": "execute_result"
    }
   ],
   "source": [
    "df.groupby('tourney_level').tourney_id.count()"
   ]
  },
  {
   "cell_type": "code",
   "execution_count": 759,
   "metadata": {},
   "outputs": [
    {
     "name": "stdout",
     "output_type": "stream",
     "text": [
      "Total games of level A = 32651\n",
      "Total games of level D = 5890\n",
      "Total games of level F = 286\n",
      "Total games of level G = 9746\n",
      "Total games of level M = 11097\n"
     ]
    }
   ],
   "source": [
    "Total_A_origin = df[df.tourney_level=='A'].tourney_id.count()\n",
    "Total_D_origin = df[df.tourney_level=='D'].tourney_id.count()\n",
    "Total_F_origin = df[df.tourney_level=='F'].tourney_id.count()\n",
    "Total_G_origin = df[df.tourney_level=='G'].tourney_id.count()\n",
    "Total_M_origin = df[df.tourney_level=='M'].tourney_id.count()\n",
    "print('Total games of level A = ' + str(Total_A_origin))\n",
    "print('Total games of level D = ' + str(Total_D_origin))\n",
    "print('Total games of level F = ' + str(Total_F_origin))\n",
    "print('Total games of level G = ' + str(Total_G_origin))\n",
    "print('Total games of level M = ' + str(Total_M_origin))"
   ]
  },
  {
   "cell_type": "code",
   "execution_count": 760,
   "metadata": {},
   "outputs": [],
   "source": [
    "# remove tourey_level F with 286 rows.  So small unkown data set will not impact overll analysis\n",
    "df = df[df.tourney_level!='F']"
   ]
  },
  {
   "cell_type": "code",
   "execution_count": 761,
   "metadata": {},
   "outputs": [
    {
     "name": "stdout",
     "output_type": "stream",
     "text": [
      "<class 'pandas.core.frame.DataFrame'>\n",
      "Int64Index: 59384 entries, 0 to 2780\n",
      "Data columns (total 49 columns):\n",
      "tourney_id            59384 non-null object\n",
      "tourney_name          59384 non-null object\n",
      "surface               59271 non-null object\n",
      "draw_size             2707 non-null float64\n",
      "tourney_level         59384 non-null object\n",
      "tourney_date          59384 non-null int64\n",
      "match_num             59384 non-null int64\n",
      "winner_id             59384 non-null int64\n",
      "winner_seed           24850 non-null object\n",
      "winner_entry          7058 non-null object\n",
      "winner_name           59384 non-null object\n",
      "winner_hand           59367 non-null object\n",
      "winner_ht             54258 non-null float64\n",
      "winner_ioc            59384 non-null object\n",
      "winner_age            59371 non-null float64\n",
      "loser_id              59384 non-null int64\n",
      "loser_seed            13350 non-null object\n",
      "loser_entry           11886 non-null object\n",
      "loser_name            59384 non-null object\n",
      "loser_hand            59338 non-null object\n",
      "loser_ht              51408 non-null float64\n",
      "loser_ioc             59384 non-null object\n",
      "loser_age             59353 non-null float64\n",
      "score                 59384 non-null object\n",
      "best_of               59384 non-null int64\n",
      "round                 59384 non-null object\n",
      "minutes               52530 non-null float64\n",
      "w_ace                 53768 non-null float64\n",
      "w_df                  53768 non-null float64\n",
      "w_svpt                53768 non-null float64\n",
      "w_1stIn               53768 non-null float64\n",
      "w_1stWon              53768 non-null float64\n",
      "w_2ndWon              53768 non-null float64\n",
      "w_SvGms               53768 non-null float64\n",
      "w_bpSaved             53768 non-null float64\n",
      "w_bpFaced             53768 non-null float64\n",
      "l_ace                 53768 non-null float64\n",
      "l_df                  53768 non-null float64\n",
      "l_svpt                53768 non-null float64\n",
      "l_1stIn               53768 non-null float64\n",
      "l_1stWon              53768 non-null float64\n",
      "l_2ndWon              53768 non-null float64\n",
      "l_SvGms               53768 non-null float64\n",
      "l_bpSaved             53768 non-null float64\n",
      "l_bpFaced             53768 non-null float64\n",
      "winner_rank           58905 non-null float64\n",
      "winner_rank_points    58905 non-null float64\n",
      "loser_rank            58132 non-null float64\n",
      "loser_rank_points     58132 non-null float64\n",
      "dtypes: float64(28), int64(5), object(16)\n",
      "memory usage: 22.7+ MB\n"
     ]
    }
   ],
   "source": [
    "df.info()"
   ]
  },
  {
   "cell_type": "markdown",
   "metadata": {},
   "source": [
    "Remove columns will not be used for late analysis"
   ]
  },
  {
   "cell_type": "code",
   "execution_count": 762,
   "metadata": {},
   "outputs": [
    {
     "name": "stdout",
     "output_type": "stream",
     "text": [
      "Verify results\n"
     ]
    },
    {
     "data": {
      "text/plain": [
       "tourney_level\n",
       "A    32651\n",
       "D     5890\n",
       "G     9746\n",
       "M    11097\n",
       "Name: tourney_id, dtype: int64"
      ]
     },
     "execution_count": 762,
     "metadata": {},
     "output_type": "execute_result"
    }
   ],
   "source": [
    "print('Verify results')\n",
    "df.groupby('tourney_level').tourney_id.count()"
   ]
  },
  {
   "cell_type": "code",
   "execution_count": 763,
   "metadata": {},
   "outputs": [],
   "source": [
    "# remove rows dont have players attributes such as hadedneess, age, etc.  \n",
    "df = df[df.winner_hand.notnull()]\n",
    "df = df[df.winner_ht.notnull()]\n",
    "df = df[df.winner_age.notnull()]\n",
    "df = df[df.winner_rank.notnull()]\n",
    "df = df[df.loser_hand.notnull()]\n",
    "df = df[df.loser_ht.notnull()]\n",
    "df = df[df.loser_age.notnull()]\n",
    "df = df[df.loser_rank.notnull()]"
   ]
  },
  {
   "cell_type": "code",
   "execution_count": 764,
   "metadata": {},
   "outputs": [],
   "source": [
    "# drop columns with low ratio of complete data entries\n",
    "columns = ['draw_size','winner_seed','winner_entry','loser_seed','loser_entry']\n",
    "df.drop(columns, inplace=True, axis=1)"
   ]
  },
  {
   "cell_type": "code",
   "execution_count": 765,
   "metadata": {},
   "outputs": [
    {
     "name": "stdout",
     "output_type": "stream",
     "text": [
      "<class 'pandas.core.frame.DataFrame'>\n",
      "Int64Index: 48953 entries, 0 to 2773\n",
      "Data columns (total 44 columns):\n",
      "tourney_id            48953 non-null object\n",
      "tourney_name          48953 non-null object\n",
      "surface               48917 non-null object\n",
      "tourney_level         48953 non-null object\n",
      "tourney_date          48953 non-null int64\n",
      "match_num             48953 non-null int64\n",
      "winner_id             48953 non-null int64\n",
      "winner_name           48953 non-null object\n",
      "winner_hand           48953 non-null object\n",
      "winner_ht             48953 non-null float64\n",
      "winner_ioc            48953 non-null object\n",
      "winner_age            48953 non-null float64\n",
      "loser_id              48953 non-null int64\n",
      "loser_name            48953 non-null object\n",
      "loser_hand            48953 non-null object\n",
      "loser_ht              48953 non-null float64\n",
      "loser_ioc             48953 non-null object\n",
      "loser_age             48953 non-null float64\n",
      "score                 48953 non-null object\n",
      "best_of               48953 non-null int64\n",
      "round                 48953 non-null object\n",
      "minutes               45453 non-null float64\n",
      "w_ace                 46441 non-null float64\n",
      "w_df                  46441 non-null float64\n",
      "w_svpt                46441 non-null float64\n",
      "w_1stIn               46441 non-null float64\n",
      "w_1stWon              46441 non-null float64\n",
      "w_2ndWon              46441 non-null float64\n",
      "w_SvGms               46441 non-null float64\n",
      "w_bpSaved             46441 non-null float64\n",
      "w_bpFaced             46441 non-null float64\n",
      "l_ace                 46441 non-null float64\n",
      "l_df                  46441 non-null float64\n",
      "l_svpt                46441 non-null float64\n",
      "l_1stIn               46441 non-null float64\n",
      "l_1stWon              46441 non-null float64\n",
      "l_2ndWon              46441 non-null float64\n",
      "l_SvGms               46441 non-null float64\n",
      "l_bpSaved             46441 non-null float64\n",
      "l_bpFaced             46441 non-null float64\n",
      "winner_rank           48953 non-null float64\n",
      "winner_rank_points    48953 non-null float64\n",
      "loser_rank            48953 non-null float64\n",
      "loser_rank_points     48953 non-null float64\n",
      "dtypes: float64(27), int64(5), object(12)\n",
      "memory usage: 16.8+ MB\n"
     ]
    }
   ],
   "source": [
    "df.info()"
   ]
  },
  {
   "cell_type": "code",
   "execution_count": 766,
   "metadata": {},
   "outputs": [
    {
     "name": "stdout",
     "output_type": "stream",
     "text": [
      "Remove numeric fields which are null.\n"
     ]
    }
   ],
   "source": [
    "print('Remove numeric fields which are null.')\n",
    "df = df[df.minutes.notnull()]\n",
    "df=df[df['w_ace'].notnull()]\n",
    "df=df[df['w_df'].notnull()]\n",
    "df=df[df['w_svpt'].notnull()]\n",
    "df=df[df['w_1stIn'].notnull()]\n",
    "df=df[df['w_1stWon'].notnull()]\n",
    "df=df[df['w_2ndWon'].notnull()]\n",
    "df=df[df['w_SvGms'].notnull()]\n",
    "df=df[df['w_bpSaved'].notnull()]\n",
    "df=df[df['w_bpFaced'].notnull()]\n",
    "df=df[df['l_ace'].notnull()]\n",
    "df=df[df['l_df'].notnull()]\n",
    "df=df[df['l_svpt'].notnull()]\n",
    "df=df[df['l_1stIn'].notnull()]\n",
    "df=df[df['l_1stWon'].notnull()]\n",
    "df=df[df['l_2ndWon'].notnull()]\n",
    "df=df[df['l_SvGms'].notnull()]\n",
    "df=df[df['l_bpSaved'].notnull()]\n",
    "df=df[df['l_bpFaced'].notnull()]"
   ]
  },
  {
   "cell_type": "code",
   "execution_count": 767,
   "metadata": {},
   "outputs": [
    {
     "name": "stdout",
     "output_type": "stream",
     "text": [
      "<class 'pandas.core.frame.DataFrame'>\n",
      "Int64Index: 45441 entries, 0 to 2773\n",
      "Data columns (total 44 columns):\n",
      "tourney_id            45441 non-null object\n",
      "tourney_name          45441 non-null object\n",
      "surface               45441 non-null object\n",
      "tourney_level         45441 non-null object\n",
      "tourney_date          45441 non-null int64\n",
      "match_num             45441 non-null int64\n",
      "winner_id             45441 non-null int64\n",
      "winner_name           45441 non-null object\n",
      "winner_hand           45441 non-null object\n",
      "winner_ht             45441 non-null float64\n",
      "winner_ioc            45441 non-null object\n",
      "winner_age            45441 non-null float64\n",
      "loser_id              45441 non-null int64\n",
      "loser_name            45441 non-null object\n",
      "loser_hand            45441 non-null object\n",
      "loser_ht              45441 non-null float64\n",
      "loser_ioc             45441 non-null object\n",
      "loser_age             45441 non-null float64\n",
      "score                 45441 non-null object\n",
      "best_of               45441 non-null int64\n",
      "round                 45441 non-null object\n",
      "minutes               45441 non-null float64\n",
      "w_ace                 45441 non-null float64\n",
      "w_df                  45441 non-null float64\n",
      "w_svpt                45441 non-null float64\n",
      "w_1stIn               45441 non-null float64\n",
      "w_1stWon              45441 non-null float64\n",
      "w_2ndWon              45441 non-null float64\n",
      "w_SvGms               45441 non-null float64\n",
      "w_bpSaved             45441 non-null float64\n",
      "w_bpFaced             45441 non-null float64\n",
      "l_ace                 45441 non-null float64\n",
      "l_df                  45441 non-null float64\n",
      "l_svpt                45441 non-null float64\n",
      "l_1stIn               45441 non-null float64\n",
      "l_1stWon              45441 non-null float64\n",
      "l_2ndWon              45441 non-null float64\n",
      "l_SvGms               45441 non-null float64\n",
      "l_bpSaved             45441 non-null float64\n",
      "l_bpFaced             45441 non-null float64\n",
      "winner_rank           45441 non-null float64\n",
      "winner_rank_points    45441 non-null float64\n",
      "loser_rank            45441 non-null float64\n",
      "loser_rank_points     45441 non-null float64\n",
      "dtypes: float64(27), int64(5), object(12)\n",
      "memory usage: 15.6+ MB\n"
     ]
    }
   ],
   "source": [
    "df.info()"
   ]
  },
  {
   "cell_type": "code",
   "execution_count": 768,
   "metadata": {},
   "outputs": [
    {
     "name": "stdout",
     "output_type": "stream",
     "text": [
      "Verify results\n"
     ]
    },
    {
     "data": {
      "text/plain": [
       "tourney_level\n",
       "A    27131\n",
       "D      137\n",
       "G     8390\n",
       "M     9783\n",
       "Name: tourney_id, dtype: int64"
      ]
     },
     "execution_count": 768,
     "metadata": {},
     "output_type": "execute_result"
    }
   ],
   "source": [
    "print('Verify results')\n",
    "df.groupby('tourney_level').tourney_id.count()"
   ]
  },
  {
   "cell_type": "code",
   "execution_count": 769,
   "metadata": {},
   "outputs": [],
   "source": [
    "# After the above clean up, level D only has 139 complete data entry against total 6060 rows.  Leve D data donst have good data.  Remove D level\n",
    "df = df[df.tourney_level!='D']"
   ]
  },
  {
   "cell_type": "code",
   "execution_count": 770,
   "metadata": {},
   "outputs": [
    {
     "name": "stdout",
     "output_type": "stream",
     "text": [
      "Verify results\n"
     ]
    },
    {
     "data": {
      "text/plain": [
       "tourney_level\n",
       "A    27131\n",
       "G     8390\n",
       "M     9783\n",
       "Name: tourney_id, dtype: int64"
      ]
     },
     "execution_count": 770,
     "metadata": {},
     "output_type": "execute_result"
    }
   ],
   "source": [
    "print('Verify results')\n",
    "df.groupby('tourney_level').tourney_id.count()"
   ]
  },
  {
   "cell_type": "code",
   "execution_count": 771,
   "metadata": {},
   "outputs": [
    {
     "name": "stdout",
     "output_type": "stream",
     "text": [
      "<class 'pandas.core.frame.DataFrame'>\n",
      "Int64Index: 45304 entries, 0 to 2588\n",
      "Data columns (total 44 columns):\n",
      "tourney_id            45304 non-null object\n",
      "tourney_name          45304 non-null object\n",
      "surface               45304 non-null object\n",
      "tourney_level         45304 non-null object\n",
      "tourney_date          45304 non-null int64\n",
      "match_num             45304 non-null int64\n",
      "winner_id             45304 non-null int64\n",
      "winner_name           45304 non-null object\n",
      "winner_hand           45304 non-null object\n",
      "winner_ht             45304 non-null float64\n",
      "winner_ioc            45304 non-null object\n",
      "winner_age            45304 non-null float64\n",
      "loser_id              45304 non-null int64\n",
      "loser_name            45304 non-null object\n",
      "loser_hand            45304 non-null object\n",
      "loser_ht              45304 non-null float64\n",
      "loser_ioc             45304 non-null object\n",
      "loser_age             45304 non-null float64\n",
      "score                 45304 non-null object\n",
      "best_of               45304 non-null int64\n",
      "round                 45304 non-null object\n",
      "minutes               45304 non-null float64\n",
      "w_ace                 45304 non-null float64\n",
      "w_df                  45304 non-null float64\n",
      "w_svpt                45304 non-null float64\n",
      "w_1stIn               45304 non-null float64\n",
      "w_1stWon              45304 non-null float64\n",
      "w_2ndWon              45304 non-null float64\n",
      "w_SvGms               45304 non-null float64\n",
      "w_bpSaved             45304 non-null float64\n",
      "w_bpFaced             45304 non-null float64\n",
      "l_ace                 45304 non-null float64\n",
      "l_df                  45304 non-null float64\n",
      "l_svpt                45304 non-null float64\n",
      "l_1stIn               45304 non-null float64\n",
      "l_1stWon              45304 non-null float64\n",
      "l_2ndWon              45304 non-null float64\n",
      "l_SvGms               45304 non-null float64\n",
      "l_bpSaved             45304 non-null float64\n",
      "l_bpFaced             45304 non-null float64\n",
      "winner_rank           45304 non-null float64\n",
      "winner_rank_points    45304 non-null float64\n",
      "loser_rank            45304 non-null float64\n",
      "loser_rank_points     45304 non-null float64\n",
      "dtypes: float64(27), int64(5), object(12)\n",
      "memory usage: 15.6+ MB\n"
     ]
    }
   ],
   "source": [
    "df.info()"
   ]
  },
  {
   "cell_type": "code",
   "execution_count": 772,
   "metadata": {},
   "outputs": [],
   "source": [
    "# calculate percentae of serve stats for winners\n",
    "df['w_ace_pct'] = np.around(df.w_ace/df.w_svpt, 2)\n",
    "df['w_df_pct'] = np.around(df.w_df/df.w_svpt, 2)\n",
    "df['w_1stIn_pct'] = np.around(df.w_1stIn / df.w_svpt, 2)\n",
    "df['w_2ndIn_pct'] = np.around(((df.w_svpt - df.w_1stIn) / df.w_svpt), 2)\n",
    "df['w_1stWon_pct'] = np.around(df.w_1stWon / df.w_svpt, 2)\n",
    "df['w_2ndWon_pct'] = np.around(df.w_2ndWon/df.w_svpt, 2)\n",
    "# calculate total games won and loss\n",
    "df['w_GmsWon'] = df.w_SvGms-(df.w_bpFaced - df.w_bpSaved) + (df.l_bpFaced - df.l_bpSaved)\n",
    "df['w_GmsLoss'] = df.l_SvGms-(df.l_bpFaced - df.l_bpSaved) + (df.w_bpFaced - df.w_bpSaved)\n",
    "# calculate percentae of serve stats for losers\n",
    "df['l_ace_pct'] = np.around(df.l_ace/df.l_svpt, 2)\n",
    "df['l_df_pct'] = np.around(df.l_df/df.l_svpt, 2)\n",
    "df['l_1stIn_pct'] = np.around(df.l_1stIn / df.l_svpt, 2)\n",
    "df['l_2ndIn_pct'] = np.around(((df.l_svpt - df.l_1stIn) / df.l_svpt), 2)\n",
    "df['l_1stWon_pct'] = np.around(df.l_1stWon / df.l_svpt, 2)\n",
    "df['l_2ndWon_pct'] = np.around(df.l_2ndWon/df.l_svpt, 2)"
   ]
  },
  {
   "cell_type": "code",
   "execution_count": 773,
   "metadata": {},
   "outputs": [],
   "source": [
    "# add year of game\n",
    "df['year'] = df['tourney_date'].astype(str).str.slice(0,4)"
   ]
  },
  {
   "cell_type": "code",
   "execution_count": 774,
   "metadata": {},
   "outputs": [
    {
     "data": {
      "text/plain": [
       "array(['2000', '2001', '2002', '2003', '2004', '2005', '2006', '2007',\n",
       "       '2008', '2009', '2010', '2011', '2012', '2013', '2014', '2015',\n",
       "       '2016', '2017', '2018', '2019'], dtype=object)"
      ]
     },
     "execution_count": 774,
     "metadata": {},
     "output_type": "execute_result"
    }
   ],
   "source": [
    "df.year.unique()"
   ]
  },
  {
   "cell_type": "code",
   "execution_count": 775,
   "metadata": {},
   "outputs": [
    {
     "data": {
      "text/plain": [
       "185.96961690885072"
      ]
     },
     "execution_count": 775,
     "metadata": {},
     "output_type": "execute_result"
    }
   ],
   "source": [
    "df[df.year=='2019'].winner_ht.mean()"
   ]
  },
  {
   "cell_type": "code",
   "execution_count": 776,
   "metadata": {},
   "outputs": [],
   "source": [
    "# add winner age bucket\n",
    "df.loc[df.winner_age <20, 'winner_age_bucket'] = '<20'\n",
    "df.loc[df.winner_age >=20, 'winner_age_bucket'] = '20-24'\n",
    "df.loc[df.winner_age >=25, 'winner_age_bucket'] = '25-29'\n",
    "df.loc[df.winner_age >=30, 'winner_age_bucket'] = '30-34'\n",
    "df.loc[df.winner_age >=35, 'winner_age_bucket'] = '35-39'\n",
    "df.loc[df.winner_age >=40, 'winner_age_bucket'] = '>=40'"
   ]
  },
  {
   "cell_type": "code",
   "execution_count": 777,
   "metadata": {},
   "outputs": [
    {
     "data": {
      "text/plain": [
       "Series([], Name: winner_age, dtype: float64)"
      ]
     },
     "execution_count": 777,
     "metadata": {},
     "output_type": "execute_result"
    }
   ],
   "source": [
    "df[df.winner_age_bucket.isnull()].winner_age"
   ]
  },
  {
   "cell_type": "code",
   "execution_count": 778,
   "metadata": {},
   "outputs": [],
   "source": [
    "# still have data issue or need to understand data\n",
    "#df['w_svptWon_pct'] = np.around((df.w_ace + df.w_1stWon + df.w_2ndWon - df.w_df) / (df.w_svpt + df.w_ace), 2)\n",
    "#df['l_svptWon_pct'] = np.around((df.l_ace + df.l_1stWon + df.l_2ndWon - df.l_df) / (df.l_svpt + df.w_ace), 2)"
   ]
  },
  {
   "cell_type": "code",
   "execution_count": 779,
   "metadata": {},
   "outputs": [
    {
     "name": "stdout",
     "output_type": "stream",
     "text": [
      "<class 'pandas.core.frame.DataFrame'>\n",
      "Int64Index: 45304 entries, 0 to 2588\n",
      "Data columns (total 60 columns):\n",
      "tourney_id            45304 non-null object\n",
      "tourney_name          45304 non-null object\n",
      "surface               45304 non-null object\n",
      "tourney_level         45304 non-null object\n",
      "tourney_date          45304 non-null int64\n",
      "match_num             45304 non-null int64\n",
      "winner_id             45304 non-null int64\n",
      "winner_name           45304 non-null object\n",
      "winner_hand           45304 non-null object\n",
      "winner_ht             45304 non-null float64\n",
      "winner_ioc            45304 non-null object\n",
      "winner_age            45304 non-null float64\n",
      "loser_id              45304 non-null int64\n",
      "loser_name            45304 non-null object\n",
      "loser_hand            45304 non-null object\n",
      "loser_ht              45304 non-null float64\n",
      "loser_ioc             45304 non-null object\n",
      "loser_age             45304 non-null float64\n",
      "score                 45304 non-null object\n",
      "best_of               45304 non-null int64\n",
      "round                 45304 non-null object\n",
      "minutes               45304 non-null float64\n",
      "w_ace                 45304 non-null float64\n",
      "w_df                  45304 non-null float64\n",
      "w_svpt                45304 non-null float64\n",
      "w_1stIn               45304 non-null float64\n",
      "w_1stWon              45304 non-null float64\n",
      "w_2ndWon              45304 non-null float64\n",
      "w_SvGms               45304 non-null float64\n",
      "w_bpSaved             45304 non-null float64\n",
      "w_bpFaced             45304 non-null float64\n",
      "l_ace                 45304 non-null float64\n",
      "l_df                  45304 non-null float64\n",
      "l_svpt                45304 non-null float64\n",
      "l_1stIn               45304 non-null float64\n",
      "l_1stWon              45304 non-null float64\n",
      "l_2ndWon              45304 non-null float64\n",
      "l_SvGms               45304 non-null float64\n",
      "l_bpSaved             45304 non-null float64\n",
      "l_bpFaced             45304 non-null float64\n",
      "winner_rank           45304 non-null float64\n",
      "winner_rank_points    45304 non-null float64\n",
      "loser_rank            45304 non-null float64\n",
      "loser_rank_points     45304 non-null float64\n",
      "w_ace_pct             45304 non-null float64\n",
      "w_df_pct              45304 non-null float64\n",
      "w_1stIn_pct           45304 non-null float64\n",
      "w_2ndIn_pct           45304 non-null float64\n",
      "w_1stWon_pct          45304 non-null float64\n",
      "w_2ndWon_pct          45304 non-null float64\n",
      "w_GmsWon              45304 non-null float64\n",
      "w_GmsLoss             45304 non-null float64\n",
      "l_ace_pct             45302 non-null float64\n",
      "l_df_pct              45302 non-null float64\n",
      "l_1stIn_pct           45302 non-null float64\n",
      "l_2ndIn_pct           45302 non-null float64\n",
      "l_1stWon_pct          45302 non-null float64\n",
      "l_2ndWon_pct          45302 non-null float64\n",
      "year                  45304 non-null object\n",
      "winner_age_bucket     45304 non-null object\n",
      "dtypes: float64(41), int64(5), object(14)\n",
      "memory usage: 21.1+ MB\n"
     ]
    }
   ],
   "source": [
    "df.info()"
   ]
  },
  {
   "cell_type": "code",
   "execution_count": 780,
   "metadata": {},
   "outputs": [
    {
     "name": "stdout",
     "output_type": "stream",
     "text": [
      "These two exception is because no data captured for loser.  Need to exclue them.\n"
     ]
    }
   ],
   "source": [
    "print('These two exception is because no data captured for loser.  Need to exclue them.')\n",
    "df = df[df.l_ace_pct.notnull()]"
   ]
  },
  {
   "cell_type": "code",
   "execution_count": 781,
   "metadata": {},
   "outputs": [
    {
     "name": "stdout",
     "output_type": "stream",
     "text": [
      "<class 'pandas.core.frame.DataFrame'>\n",
      "Int64Index: 45302 entries, 0 to 2588\n",
      "Data columns (total 60 columns):\n",
      "tourney_id            45302 non-null object\n",
      "tourney_name          45302 non-null object\n",
      "surface               45302 non-null object\n",
      "tourney_level         45302 non-null object\n",
      "tourney_date          45302 non-null int64\n",
      "match_num             45302 non-null int64\n",
      "winner_id             45302 non-null int64\n",
      "winner_name           45302 non-null object\n",
      "winner_hand           45302 non-null object\n",
      "winner_ht             45302 non-null float64\n",
      "winner_ioc            45302 non-null object\n",
      "winner_age            45302 non-null float64\n",
      "loser_id              45302 non-null int64\n",
      "loser_name            45302 non-null object\n",
      "loser_hand            45302 non-null object\n",
      "loser_ht              45302 non-null float64\n",
      "loser_ioc             45302 non-null object\n",
      "loser_age             45302 non-null float64\n",
      "score                 45302 non-null object\n",
      "best_of               45302 non-null int64\n",
      "round                 45302 non-null object\n",
      "minutes               45302 non-null float64\n",
      "w_ace                 45302 non-null float64\n",
      "w_df                  45302 non-null float64\n",
      "w_svpt                45302 non-null float64\n",
      "w_1stIn               45302 non-null float64\n",
      "w_1stWon              45302 non-null float64\n",
      "w_2ndWon              45302 non-null float64\n",
      "w_SvGms               45302 non-null float64\n",
      "w_bpSaved             45302 non-null float64\n",
      "w_bpFaced             45302 non-null float64\n",
      "l_ace                 45302 non-null float64\n",
      "l_df                  45302 non-null float64\n",
      "l_svpt                45302 non-null float64\n",
      "l_1stIn               45302 non-null float64\n",
      "l_1stWon              45302 non-null float64\n",
      "l_2ndWon              45302 non-null float64\n",
      "l_SvGms               45302 non-null float64\n",
      "l_bpSaved             45302 non-null float64\n",
      "l_bpFaced             45302 non-null float64\n",
      "winner_rank           45302 non-null float64\n",
      "winner_rank_points    45302 non-null float64\n",
      "loser_rank            45302 non-null float64\n",
      "loser_rank_points     45302 non-null float64\n",
      "w_ace_pct             45302 non-null float64\n",
      "w_df_pct              45302 non-null float64\n",
      "w_1stIn_pct           45302 non-null float64\n",
      "w_2ndIn_pct           45302 non-null float64\n",
      "w_1stWon_pct          45302 non-null float64\n",
      "w_2ndWon_pct          45302 non-null float64\n",
      "w_GmsWon              45302 non-null float64\n",
      "w_GmsLoss             45302 non-null float64\n",
      "l_ace_pct             45302 non-null float64\n",
      "l_df_pct              45302 non-null float64\n",
      "l_1stIn_pct           45302 non-null float64\n",
      "l_2ndIn_pct           45302 non-null float64\n",
      "l_1stWon_pct          45302 non-null float64\n",
      "l_2ndWon_pct          45302 non-null float64\n",
      "year                  45302 non-null object\n",
      "winner_age_bucket     45302 non-null object\n",
      "dtypes: float64(41), int64(5), object(14)\n",
      "memory usage: 21.1+ MB\n"
     ]
    }
   ],
   "source": [
    "df.info()"
   ]
  },
  {
   "cell_type": "code",
   "execution_count": 782,
   "metadata": {},
   "outputs": [
    {
     "data": {
      "text/plain": [
       "array(['R', 'L'], dtype=object)"
      ]
     },
     "execution_count": 782,
     "metadata": {},
     "output_type": "execute_result"
    }
   ],
   "source": [
    "df.winner_hand.unique()"
   ]
  },
  {
   "cell_type": "code",
   "execution_count": 783,
   "metadata": {},
   "outputs": [
    {
     "data": {
      "text/html": [
       "<div>\n",
       "<style scoped>\n",
       "    .dataframe tbody tr th:only-of-type {\n",
       "        vertical-align: middle;\n",
       "    }\n",
       "\n",
       "    .dataframe tbody tr th {\n",
       "        vertical-align: top;\n",
       "    }\n",
       "\n",
       "    .dataframe thead th {\n",
       "        text-align: right;\n",
       "    }\n",
       "</style>\n",
       "<table border=\"1\" class=\"dataframe\">\n",
       "  <thead>\n",
       "    <tr style=\"text-align: right;\">\n",
       "      <th></th>\n",
       "      <th>tourney_id</th>\n",
       "      <th>tourney_name</th>\n",
       "      <th>surface</th>\n",
       "      <th>tourney_level</th>\n",
       "      <th>tourney_date</th>\n",
       "      <th>match_num</th>\n",
       "      <th>winner_id</th>\n",
       "      <th>winner_name</th>\n",
       "      <th>winner_hand</th>\n",
       "      <th>winner_ht</th>\n",
       "      <th>...</th>\n",
       "      <th>w_GmsWon</th>\n",
       "      <th>w_GmsLoss</th>\n",
       "      <th>l_ace_pct</th>\n",
       "      <th>l_df_pct</th>\n",
       "      <th>l_1stIn_pct</th>\n",
       "      <th>l_2ndIn_pct</th>\n",
       "      <th>l_1stWon_pct</th>\n",
       "      <th>l_2ndWon_pct</th>\n",
       "      <th>year</th>\n",
       "      <th>winner_age_bucket</th>\n",
       "    </tr>\n",
       "  </thead>\n",
       "  <tbody>\n",
       "    <tr>\n",
       "      <th>1606</th>\n",
       "      <td>2003-500</td>\n",
       "      <td>Halle</td>\n",
       "      <td>Grass</td>\n",
       "      <td>A</td>\n",
       "      <td>20030609</td>\n",
       "      <td>4</td>\n",
       "      <td>101962</td>\n",
       "      <td>Younes El Aynaoui</td>\n",
       "      <td>R</td>\n",
       "      <td>193.0</td>\n",
       "      <td>...</td>\n",
       "      <td>12.0</td>\n",
       "      <td>3.0</td>\n",
       "      <td>0.04</td>\n",
       "      <td>0.06</td>\n",
       "      <td>0.57</td>\n",
       "      <td>0.43</td>\n",
       "      <td>0.28</td>\n",
       "      <td>0.19</td>\n",
       "      <td>2003</td>\n",
       "      <td>30-34</td>\n",
       "    </tr>\n",
       "  </tbody>\n",
       "</table>\n",
       "<p>1 rows × 60 columns</p>\n",
       "</div>"
      ],
      "text/plain": [
       "     tourney_id tourney_name surface tourney_level  tourney_date  match_num  \\\n",
       "1606   2003-500        Halle   Grass             A      20030609          4   \n",
       "\n",
       "      winner_id        winner_name winner_hand  winner_ht  ... w_GmsWon  \\\n",
       "1606     101962  Younes El Aynaoui           R      193.0  ...     12.0   \n",
       "\n",
       "      w_GmsLoss  l_ace_pct l_df_pct l_1stIn_pct  l_2ndIn_pct l_1stWon_pct  \\\n",
       "1606        3.0       0.04     0.06        0.57         0.43         0.28   \n",
       "\n",
       "      l_2ndWon_pct  year  winner_age_bucket  \n",
       "1606          0.19  2003              30-34  \n",
       "\n",
       "[1 rows x 60 columns]"
      ]
     },
     "execution_count": 783,
     "metadata": {},
     "output_type": "execute_result"
    }
   ],
   "source": [
    "df[df.loser_hand=='U']"
   ]
  },
  {
   "cell_type": "code",
   "execution_count": 784,
   "metadata": {},
   "outputs": [],
   "source": [
    "df = df[df.loser_hand!='U']"
   ]
  },
  {
   "cell_type": "code",
   "execution_count": 785,
   "metadata": {},
   "outputs": [
    {
     "data": {
      "text/plain": [
       "array(['R', 'L'], dtype=object)"
      ]
     },
     "execution_count": 785,
     "metadata": {},
     "output_type": "execute_result"
    }
   ],
   "source": [
    "df.loser_hand.unique()"
   ]
  },
  {
   "cell_type": "code",
   "execution_count": 786,
   "metadata": {},
   "outputs": [
    {
     "name": "stdout",
     "output_type": "stream",
     "text": [
      "<class 'pandas.core.frame.DataFrame'>\n",
      "Int64Index: 45301 entries, 0 to 2588\n",
      "Data columns (total 60 columns):\n",
      "tourney_id            45301 non-null object\n",
      "tourney_name          45301 non-null object\n",
      "surface               45301 non-null object\n",
      "tourney_level         45301 non-null object\n",
      "tourney_date          45301 non-null int64\n",
      "match_num             45301 non-null int64\n",
      "winner_id             45301 non-null int64\n",
      "winner_name           45301 non-null object\n",
      "winner_hand           45301 non-null object\n",
      "winner_ht             45301 non-null float64\n",
      "winner_ioc            45301 non-null object\n",
      "winner_age            45301 non-null float64\n",
      "loser_id              45301 non-null int64\n",
      "loser_name            45301 non-null object\n",
      "loser_hand            45301 non-null object\n",
      "loser_ht              45301 non-null float64\n",
      "loser_ioc             45301 non-null object\n",
      "loser_age             45301 non-null float64\n",
      "score                 45301 non-null object\n",
      "best_of               45301 non-null int64\n",
      "round                 45301 non-null object\n",
      "minutes               45301 non-null float64\n",
      "w_ace                 45301 non-null float64\n",
      "w_df                  45301 non-null float64\n",
      "w_svpt                45301 non-null float64\n",
      "w_1stIn               45301 non-null float64\n",
      "w_1stWon              45301 non-null float64\n",
      "w_2ndWon              45301 non-null float64\n",
      "w_SvGms               45301 non-null float64\n",
      "w_bpSaved             45301 non-null float64\n",
      "w_bpFaced             45301 non-null float64\n",
      "l_ace                 45301 non-null float64\n",
      "l_df                  45301 non-null float64\n",
      "l_svpt                45301 non-null float64\n",
      "l_1stIn               45301 non-null float64\n",
      "l_1stWon              45301 non-null float64\n",
      "l_2ndWon              45301 non-null float64\n",
      "l_SvGms               45301 non-null float64\n",
      "l_bpSaved             45301 non-null float64\n",
      "l_bpFaced             45301 non-null float64\n",
      "winner_rank           45301 non-null float64\n",
      "winner_rank_points    45301 non-null float64\n",
      "loser_rank            45301 non-null float64\n",
      "loser_rank_points     45301 non-null float64\n",
      "w_ace_pct             45301 non-null float64\n",
      "w_df_pct              45301 non-null float64\n",
      "w_1stIn_pct           45301 non-null float64\n",
      "w_2ndIn_pct           45301 non-null float64\n",
      "w_1stWon_pct          45301 non-null float64\n",
      "w_2ndWon_pct          45301 non-null float64\n",
      "w_GmsWon              45301 non-null float64\n",
      "w_GmsLoss             45301 non-null float64\n",
      "l_ace_pct             45301 non-null float64\n",
      "l_df_pct              45301 non-null float64\n",
      "l_1stIn_pct           45301 non-null float64\n",
      "l_2ndIn_pct           45301 non-null float64\n",
      "l_1stWon_pct          45301 non-null float64\n",
      "l_2ndWon_pct          45301 non-null float64\n",
      "year                  45301 non-null object\n",
      "winner_age_bucket     45301 non-null object\n",
      "dtypes: float64(41), int64(5), object(14)\n",
      "memory usage: 21.1+ MB\n"
     ]
    }
   ],
   "source": [
    "df.info()"
   ]
  },
  {
   "cell_type": "code",
   "execution_count": 787,
   "metadata": {},
   "outputs": [],
   "source": [
    "# get games between right hand and left hand players\n",
    "df_RL = df[df.winner_hand != df.loser_hand]"
   ]
  },
  {
   "cell_type": "code",
   "execution_count": 788,
   "metadata": {},
   "outputs": [
    {
     "data": {
      "text/html": [
       "<div>\n",
       "<style scoped>\n",
       "    .dataframe tbody tr th:only-of-type {\n",
       "        vertical-align: middle;\n",
       "    }\n",
       "\n",
       "    .dataframe tbody tr th {\n",
       "        vertical-align: top;\n",
       "    }\n",
       "\n",
       "    .dataframe thead th {\n",
       "        text-align: right;\n",
       "    }\n",
       "</style>\n",
       "<table border=\"1\" class=\"dataframe\">\n",
       "  <thead>\n",
       "    <tr style=\"text-align: right;\">\n",
       "      <th></th>\n",
       "      <th>tourney_id</th>\n",
       "      <th>tourney_name</th>\n",
       "      <th>surface</th>\n",
       "      <th>tourney_level</th>\n",
       "      <th>tourney_date</th>\n",
       "      <th>match_num</th>\n",
       "      <th>winner_id</th>\n",
       "      <th>winner_name</th>\n",
       "      <th>winner_hand</th>\n",
       "      <th>winner_ht</th>\n",
       "      <th>...</th>\n",
       "      <th>w_GmsWon</th>\n",
       "      <th>w_GmsLoss</th>\n",
       "      <th>l_ace_pct</th>\n",
       "      <th>l_df_pct</th>\n",
       "      <th>l_1stIn_pct</th>\n",
       "      <th>l_2ndIn_pct</th>\n",
       "      <th>l_1stWon_pct</th>\n",
       "      <th>l_2ndWon_pct</th>\n",
       "      <th>year</th>\n",
       "      <th>winner_age_bucket</th>\n",
       "    </tr>\n",
       "  </thead>\n",
       "  <tbody>\n",
       "    <tr>\n",
       "      <th>10</th>\n",
       "      <td>2000-339</td>\n",
       "      <td>Adelaide</td>\n",
       "      <td>Hard</td>\n",
       "      <td>A</td>\n",
       "      <td>20000103</td>\n",
       "      <td>11</td>\n",
       "      <td>102652</td>\n",
       "      <td>Christian Vinck</td>\n",
       "      <td>L</td>\n",
       "      <td>183.0</td>\n",
       "      <td>...</td>\n",
       "      <td>15.0</td>\n",
       "      <td>13.0</td>\n",
       "      <td>0.02</td>\n",
       "      <td>0.07</td>\n",
       "      <td>0.64</td>\n",
       "      <td>0.36</td>\n",
       "      <td>0.46</td>\n",
       "      <td>0.14</td>\n",
       "      <td>2000</td>\n",
       "      <td>20-24</td>\n",
       "    </tr>\n",
       "    <tr>\n",
       "      <th>35</th>\n",
       "      <td>2000-891</td>\n",
       "      <td>Chennai</td>\n",
       "      <td>Hard</td>\n",
       "      <td>A</td>\n",
       "      <td>20000103</td>\n",
       "      <td>5</td>\n",
       "      <td>102259</td>\n",
       "      <td>Jerome Golmard</td>\n",
       "      <td>L</td>\n",
       "      <td>188.0</td>\n",
       "      <td>...</td>\n",
       "      <td>12.0</td>\n",
       "      <td>7.0</td>\n",
       "      <td>0.10</td>\n",
       "      <td>0.03</td>\n",
       "      <td>0.34</td>\n",
       "      <td>0.66</td>\n",
       "      <td>0.23</td>\n",
       "      <td>0.38</td>\n",
       "      <td>2000</td>\n",
       "      <td>25-29</td>\n",
       "    </tr>\n",
       "    <tr>\n",
       "      <th>43</th>\n",
       "      <td>2000-891</td>\n",
       "      <td>Chennai</td>\n",
       "      <td>Hard</td>\n",
       "      <td>A</td>\n",
       "      <td>20000103</td>\n",
       "      <td>13</td>\n",
       "      <td>103714</td>\n",
       "      <td>Andreas Vinciguerra</td>\n",
       "      <td>L</td>\n",
       "      <td>180.0</td>\n",
       "      <td>...</td>\n",
       "      <td>12.0</td>\n",
       "      <td>6.0</td>\n",
       "      <td>0.05</td>\n",
       "      <td>0.09</td>\n",
       "      <td>0.49</td>\n",
       "      <td>0.51</td>\n",
       "      <td>0.31</td>\n",
       "      <td>0.18</td>\n",
       "      <td>2000</td>\n",
       "      <td>&lt;20</td>\n",
       "    </tr>\n",
       "    <tr>\n",
       "      <th>49</th>\n",
       "      <td>2000-891</td>\n",
       "      <td>Chennai</td>\n",
       "      <td>Hard</td>\n",
       "      <td>A</td>\n",
       "      <td>20000103</td>\n",
       "      <td>19</td>\n",
       "      <td>102259</td>\n",
       "      <td>Jerome Golmard</td>\n",
       "      <td>L</td>\n",
       "      <td>188.0</td>\n",
       "      <td>...</td>\n",
       "      <td>12.0</td>\n",
       "      <td>5.0</td>\n",
       "      <td>0.12</td>\n",
       "      <td>0.00</td>\n",
       "      <td>0.56</td>\n",
       "      <td>0.44</td>\n",
       "      <td>0.37</td>\n",
       "      <td>0.29</td>\n",
       "      <td>2000</td>\n",
       "      <td>25-29</td>\n",
       "    </tr>\n",
       "    <tr>\n",
       "      <th>56</th>\n",
       "      <td>2000-891</td>\n",
       "      <td>Chennai</td>\n",
       "      <td>Hard</td>\n",
       "      <td>A</td>\n",
       "      <td>20000103</td>\n",
       "      <td>26</td>\n",
       "      <td>102259</td>\n",
       "      <td>Jerome Golmard</td>\n",
       "      <td>L</td>\n",
       "      <td>188.0</td>\n",
       "      <td>...</td>\n",
       "      <td>12.0</td>\n",
       "      <td>7.0</td>\n",
       "      <td>0.08</td>\n",
       "      <td>0.06</td>\n",
       "      <td>0.53</td>\n",
       "      <td>0.47</td>\n",
       "      <td>0.39</td>\n",
       "      <td>0.22</td>\n",
       "      <td>2000</td>\n",
       "      <td>25-29</td>\n",
       "    </tr>\n",
       "  </tbody>\n",
       "</table>\n",
       "<p>5 rows × 60 columns</p>\n",
       "</div>"
      ],
      "text/plain": [
       "   tourney_id tourney_name surface tourney_level  tourney_date  match_num  \\\n",
       "10   2000-339     Adelaide    Hard             A      20000103         11   \n",
       "35   2000-891      Chennai    Hard             A      20000103          5   \n",
       "43   2000-891      Chennai    Hard             A      20000103         13   \n",
       "49   2000-891      Chennai    Hard             A      20000103         19   \n",
       "56   2000-891      Chennai    Hard             A      20000103         26   \n",
       "\n",
       "    winner_id          winner_name winner_hand  winner_ht  ... w_GmsWon  \\\n",
       "10     102652      Christian Vinck           L      183.0  ...     15.0   \n",
       "35     102259       Jerome Golmard           L      188.0  ...     12.0   \n",
       "43     103714  Andreas Vinciguerra           L      180.0  ...     12.0   \n",
       "49     102259       Jerome Golmard           L      188.0  ...     12.0   \n",
       "56     102259       Jerome Golmard           L      188.0  ...     12.0   \n",
       "\n",
       "    w_GmsLoss  l_ace_pct l_df_pct l_1stIn_pct  l_2ndIn_pct l_1stWon_pct  \\\n",
       "10       13.0       0.02     0.07        0.64         0.36         0.46   \n",
       "35        7.0       0.10     0.03        0.34         0.66         0.23   \n",
       "43        6.0       0.05     0.09        0.49         0.51         0.31   \n",
       "49        5.0       0.12     0.00        0.56         0.44         0.37   \n",
       "56        7.0       0.08     0.06        0.53         0.47         0.39   \n",
       "\n",
       "    l_2ndWon_pct  year  winner_age_bucket  \n",
       "10          0.14  2000              20-24  \n",
       "35          0.38  2000              25-29  \n",
       "43          0.18  2000                <20  \n",
       "49          0.29  2000              25-29  \n",
       "56          0.22  2000              25-29  \n",
       "\n",
       "[5 rows x 60 columns]"
      ]
     },
     "execution_count": 788,
     "metadata": {},
     "output_type": "execute_result"
    }
   ],
   "source": [
    "df.query('winner_hand==\"L\" & loser_hand==\"R\"').head()"
   ]
  },
  {
   "cell_type": "code",
   "execution_count": 789,
   "metadata": {},
   "outputs": [
    {
     "data": {
      "text/plain": [
       "winner_hand\n",
       "L    4805\n",
       "R    5261\n",
       "Name: tourney_id, dtype: int64"
      ]
     },
     "execution_count": 789,
     "metadata": {},
     "output_type": "execute_result"
    }
   ],
   "source": [
    "df_RL.groupby('winner_hand').tourney_id.count()"
   ]
  },
  {
   "cell_type": "code",
   "execution_count": 790,
   "metadata": {},
   "outputs": [],
   "source": [
    "Total_A_cln = df[df.tourney_level=='A'].tourney_id.count()\n",
    "Total_G_cln = df[df.tourney_level=='G'].tourney_id.count()\n",
    "Total_M_cln = df[df.tourney_level=='M'].tourney_id.count()"
   ]
  },
  {
   "cell_type": "code",
   "execution_count": 791,
   "metadata": {},
   "outputs": [
    {
     "name": "stdout",
     "output_type": "stream",
     "text": [
      "Level A data quality % = 0.83\n",
      "Level G data quality % = 0.86\n",
      "Level M data quality % = 0.88\n"
     ]
    }
   ],
   "source": [
    "print ('Level A data quality % = '+ str(np.around(Total_A_cln / Total_A_origin, 2)))\n",
    "print ('Level G data quality % = '+ str(np.around(Total_G_cln / Total_G_origin, 2)))\n",
    "print ('Level M data quality % = '+ str(np.around(Total_M_cln / Total_M_origin, 2)))"
   ]
  },
  {
   "cell_type": "code",
   "execution_count": 792,
   "metadata": {},
   "outputs": [
    {
     "data": {
      "text/plain": [
       "surface  winner_hand\n",
       "Carpet   L               104\n",
       "         R               135\n",
       "Clay     L              1709\n",
       "         R              1666\n",
       "Grass    L               543\n",
       "         R               597\n",
       "Hard     L              2449\n",
       "         R              2863\n",
       "Name: tourney_id, dtype: int64"
      ]
     },
     "execution_count": 792,
     "metadata": {},
     "output_type": "execute_result"
    }
   ],
   "source": [
    "df_RL.groupby(['surface', 'winner_hand']).tourney_id.count()"
   ]
  },
  {
   "cell_type": "code",
   "execution_count": 793,
   "metadata": {},
   "outputs": [
    {
     "data": {
      "text/plain": [
       "tourney_level  surface  winner_hand\n",
       "A              Carpet   L                81\n",
       "                        R               106\n",
       "               Clay     L              1104\n",
       "                        R              1095\n",
       "               Grass    L               332\n",
       "                        R               356\n",
       "               Hard     L              1397\n",
       "                        R              1618\n",
       "G              Clay     L               239\n",
       "                        R               239\n",
       "               Grass    L               211\n",
       "                        R               241\n",
       "               Hard     L               415\n",
       "                        R               486\n",
       "M              Carpet   L                23\n",
       "                        R                29\n",
       "               Clay     L               366\n",
       "                        R               332\n",
       "               Hard     L               637\n",
       "                        R               759\n",
       "Name: tourney_id, dtype: int64"
      ]
     },
     "execution_count": 793,
     "metadata": {},
     "output_type": "execute_result"
    }
   ],
   "source": [
    "df_RL.groupby(['tourney_level','surface', 'winner_hand']).tourney_id.count()"
   ]
  },
  {
   "cell_type": "code",
   "execution_count": 794,
   "metadata": {},
   "outputs": [
    {
     "data": {
      "text/plain": [
       "array(['R32', 'R16', 'QF', 'SF', 'F', 'R128', 'R64', 'RR', 'BR'],\n",
       "      dtype=object)"
      ]
     },
     "execution_count": 794,
     "metadata": {},
     "output_type": "execute_result"
    }
   ],
   "source": [
    "# exam round values\n",
    "df.loc[:,'round'].unique()"
   ]
  },
  {
   "cell_type": "code",
   "execution_count": 795,
   "metadata": {},
   "outputs": [
    {
     "data": {
      "text/plain": [
       "array(['A'], dtype=object)"
      ]
     },
     "execution_count": 795,
     "metadata": {},
     "output_type": "execute_result"
    }
   ],
   "source": [
    "df[df['round']=='RR'].tourney_level.unique()"
   ]
  },
  {
   "cell_type": "code",
   "execution_count": 796,
   "metadata": {},
   "outputs": [
    {
     "data": {
      "text/plain": [
       "array(['A'], dtype=object)"
      ]
     },
     "execution_count": 796,
     "metadata": {},
     "output_type": "execute_result"
    }
   ],
   "source": [
    "df[df['round']=='BR'].tourney_level.unique()"
   ]
  },
  {
   "cell_type": "code",
   "execution_count": 797,
   "metadata": {},
   "outputs": [
    {
     "data": {
      "text/plain": [
       "round\n",
       "BR          1\n",
       "F        1183\n",
       "QF       4449\n",
       "R128     4994\n",
       "R16      8631\n",
       "R32     15627\n",
       "R64      7814\n",
       "RR        342\n",
       "SF       2260\n",
       "Name: winner_id, dtype: int64"
      ]
     },
     "execution_count": 797,
     "metadata": {},
     "output_type": "execute_result"
    }
   ],
   "source": [
    "df.groupby('round').winner_id.count()"
   ]
  },
  {
   "cell_type": "code",
   "execution_count": 798,
   "metadata": {},
   "outputs": [
    {
     "data": {
      "text/html": [
       "<div>\n",
       "<style scoped>\n",
       "    .dataframe tbody tr th:only-of-type {\n",
       "        vertical-align: middle;\n",
       "    }\n",
       "\n",
       "    .dataframe tbody tr th {\n",
       "        vertical-align: top;\n",
       "    }\n",
       "\n",
       "    .dataframe thead th {\n",
       "        text-align: right;\n",
       "    }\n",
       "</style>\n",
       "<table border=\"1\" class=\"dataframe\">\n",
       "  <thead>\n",
       "    <tr style=\"text-align: right;\">\n",
       "      <th></th>\n",
       "      <th>tourney_id</th>\n",
       "      <th>tourney_name</th>\n",
       "      <th>surface</th>\n",
       "      <th>tourney_level</th>\n",
       "      <th>tourney_date</th>\n",
       "      <th>match_num</th>\n",
       "      <th>winner_id</th>\n",
       "      <th>winner_name</th>\n",
       "      <th>winner_hand</th>\n",
       "      <th>winner_ht</th>\n",
       "      <th>...</th>\n",
       "      <th>w_GmsWon</th>\n",
       "      <th>w_GmsLoss</th>\n",
       "      <th>l_ace_pct</th>\n",
       "      <th>l_df_pct</th>\n",
       "      <th>l_1stIn_pct</th>\n",
       "      <th>l_2ndIn_pct</th>\n",
       "      <th>l_1stWon_pct</th>\n",
       "      <th>l_2ndWon_pct</th>\n",
       "      <th>year</th>\n",
       "      <th>winner_age_bucket</th>\n",
       "    </tr>\n",
       "    <tr>\n",
       "      <th>round</th>\n",
       "      <th></th>\n",
       "      <th></th>\n",
       "      <th></th>\n",
       "      <th></th>\n",
       "      <th></th>\n",
       "      <th></th>\n",
       "      <th></th>\n",
       "      <th></th>\n",
       "      <th></th>\n",
       "      <th></th>\n",
       "      <th></th>\n",
       "      <th></th>\n",
       "      <th></th>\n",
       "      <th></th>\n",
       "      <th></th>\n",
       "      <th></th>\n",
       "      <th></th>\n",
       "      <th></th>\n",
       "      <th></th>\n",
       "      <th></th>\n",
       "      <th></th>\n",
       "    </tr>\n",
       "  </thead>\n",
       "  <tbody>\n",
       "    <tr>\n",
       "      <th>BR</th>\n",
       "      <td>1</td>\n",
       "      <td>1</td>\n",
       "      <td>1</td>\n",
       "      <td>1</td>\n",
       "      <td>1</td>\n",
       "      <td>1</td>\n",
       "      <td>1</td>\n",
       "      <td>1</td>\n",
       "      <td>1</td>\n",
       "      <td>1</td>\n",
       "      <td>...</td>\n",
       "      <td>1</td>\n",
       "      <td>1</td>\n",
       "      <td>1</td>\n",
       "      <td>1</td>\n",
       "      <td>1</td>\n",
       "      <td>1</td>\n",
       "      <td>1</td>\n",
       "      <td>1</td>\n",
       "      <td>1</td>\n",
       "      <td>1</td>\n",
       "    </tr>\n",
       "    <tr>\n",
       "      <th>F</th>\n",
       "      <td>942</td>\n",
       "      <td>942</td>\n",
       "      <td>942</td>\n",
       "      <td>942</td>\n",
       "      <td>942</td>\n",
       "      <td>942</td>\n",
       "      <td>942</td>\n",
       "      <td>942</td>\n",
       "      <td>942</td>\n",
       "      <td>942</td>\n",
       "      <td>...</td>\n",
       "      <td>942</td>\n",
       "      <td>942</td>\n",
       "      <td>942</td>\n",
       "      <td>942</td>\n",
       "      <td>942</td>\n",
       "      <td>942</td>\n",
       "      <td>942</td>\n",
       "      <td>942</td>\n",
       "      <td>942</td>\n",
       "      <td>942</td>\n",
       "    </tr>\n",
       "    <tr>\n",
       "      <th>QF</th>\n",
       "      <td>3512</td>\n",
       "      <td>3512</td>\n",
       "      <td>3512</td>\n",
       "      <td>3512</td>\n",
       "      <td>3512</td>\n",
       "      <td>3512</td>\n",
       "      <td>3512</td>\n",
       "      <td>3512</td>\n",
       "      <td>3512</td>\n",
       "      <td>3512</td>\n",
       "      <td>...</td>\n",
       "      <td>3512</td>\n",
       "      <td>3512</td>\n",
       "      <td>3512</td>\n",
       "      <td>3512</td>\n",
       "      <td>3512</td>\n",
       "      <td>3512</td>\n",
       "      <td>3512</td>\n",
       "      <td>3512</td>\n",
       "      <td>3512</td>\n",
       "      <td>3512</td>\n",
       "    </tr>\n",
       "    <tr>\n",
       "      <th>R16</th>\n",
       "      <td>6795</td>\n",
       "      <td>6795</td>\n",
       "      <td>6795</td>\n",
       "      <td>6795</td>\n",
       "      <td>6795</td>\n",
       "      <td>6795</td>\n",
       "      <td>6795</td>\n",
       "      <td>6795</td>\n",
       "      <td>6795</td>\n",
       "      <td>6795</td>\n",
       "      <td>...</td>\n",
       "      <td>6795</td>\n",
       "      <td>6795</td>\n",
       "      <td>6795</td>\n",
       "      <td>6795</td>\n",
       "      <td>6795</td>\n",
       "      <td>6795</td>\n",
       "      <td>6795</td>\n",
       "      <td>6795</td>\n",
       "      <td>6795</td>\n",
       "      <td>6795</td>\n",
       "    </tr>\n",
       "    <tr>\n",
       "      <th>R32</th>\n",
       "      <td>12016</td>\n",
       "      <td>12016</td>\n",
       "      <td>12016</td>\n",
       "      <td>12016</td>\n",
       "      <td>12016</td>\n",
       "      <td>12016</td>\n",
       "      <td>12016</td>\n",
       "      <td>12016</td>\n",
       "      <td>12016</td>\n",
       "      <td>12016</td>\n",
       "      <td>...</td>\n",
       "      <td>12016</td>\n",
       "      <td>12016</td>\n",
       "      <td>12016</td>\n",
       "      <td>12016</td>\n",
       "      <td>12016</td>\n",
       "      <td>12016</td>\n",
       "      <td>12016</td>\n",
       "      <td>12016</td>\n",
       "      <td>12016</td>\n",
       "      <td>12016</td>\n",
       "    </tr>\n",
       "    <tr>\n",
       "      <th>R64</th>\n",
       "      <td>1724</td>\n",
       "      <td>1724</td>\n",
       "      <td>1724</td>\n",
       "      <td>1724</td>\n",
       "      <td>1724</td>\n",
       "      <td>1724</td>\n",
       "      <td>1724</td>\n",
       "      <td>1724</td>\n",
       "      <td>1724</td>\n",
       "      <td>1724</td>\n",
       "      <td>...</td>\n",
       "      <td>1724</td>\n",
       "      <td>1724</td>\n",
       "      <td>1724</td>\n",
       "      <td>1724</td>\n",
       "      <td>1724</td>\n",
       "      <td>1724</td>\n",
       "      <td>1724</td>\n",
       "      <td>1724</td>\n",
       "      <td>1724</td>\n",
       "      <td>1724</td>\n",
       "    </tr>\n",
       "    <tr>\n",
       "      <th>RR</th>\n",
       "      <td>342</td>\n",
       "      <td>342</td>\n",
       "      <td>342</td>\n",
       "      <td>342</td>\n",
       "      <td>342</td>\n",
       "      <td>342</td>\n",
       "      <td>342</td>\n",
       "      <td>342</td>\n",
       "      <td>342</td>\n",
       "      <td>342</td>\n",
       "      <td>...</td>\n",
       "      <td>342</td>\n",
       "      <td>342</td>\n",
       "      <td>342</td>\n",
       "      <td>342</td>\n",
       "      <td>342</td>\n",
       "      <td>342</td>\n",
       "      <td>342</td>\n",
       "      <td>342</td>\n",
       "      <td>342</td>\n",
       "      <td>342</td>\n",
       "    </tr>\n",
       "    <tr>\n",
       "      <th>SF</th>\n",
       "      <td>1796</td>\n",
       "      <td>1796</td>\n",
       "      <td>1796</td>\n",
       "      <td>1796</td>\n",
       "      <td>1796</td>\n",
       "      <td>1796</td>\n",
       "      <td>1796</td>\n",
       "      <td>1796</td>\n",
       "      <td>1796</td>\n",
       "      <td>1796</td>\n",
       "      <td>...</td>\n",
       "      <td>1796</td>\n",
       "      <td>1796</td>\n",
       "      <td>1796</td>\n",
       "      <td>1796</td>\n",
       "      <td>1796</td>\n",
       "      <td>1796</td>\n",
       "      <td>1796</td>\n",
       "      <td>1796</td>\n",
       "      <td>1796</td>\n",
       "      <td>1796</td>\n",
       "    </tr>\n",
       "  </tbody>\n",
       "</table>\n",
       "<p>8 rows × 59 columns</p>\n",
       "</div>"
      ],
      "text/plain": [
       "       tourney_id  tourney_name  surface  tourney_level  tourney_date  \\\n",
       "round                                                                   \n",
       "BR              1             1        1              1             1   \n",
       "F             942           942      942            942           942   \n",
       "QF           3512          3512     3512           3512          3512   \n",
       "R16          6795          6795     6795           6795          6795   \n",
       "R32         12016         12016    12016          12016         12016   \n",
       "R64          1724          1724     1724           1724          1724   \n",
       "RR            342           342      342            342           342   \n",
       "SF           1796          1796     1796           1796          1796   \n",
       "\n",
       "       match_num  winner_id  winner_name  winner_hand  winner_ht  ...  \\\n",
       "round                                                             ...   \n",
       "BR             1          1            1            1          1  ...   \n",
       "F            942        942          942          942        942  ...   \n",
       "QF          3512       3512         3512         3512       3512  ...   \n",
       "R16         6795       6795         6795         6795       6795  ...   \n",
       "R32        12016      12016        12016        12016      12016  ...   \n",
       "R64         1724       1724         1724         1724       1724  ...   \n",
       "RR           342        342          342          342        342  ...   \n",
       "SF          1796       1796         1796         1796       1796  ...   \n",
       "\n",
       "       w_GmsWon  w_GmsLoss  l_ace_pct  l_df_pct  l_1stIn_pct  l_2ndIn_pct  \\\n",
       "round                                                                       \n",
       "BR            1          1          1         1            1            1   \n",
       "F           942        942        942       942          942          942   \n",
       "QF         3512       3512       3512      3512         3512         3512   \n",
       "R16        6795       6795       6795      6795         6795         6795   \n",
       "R32       12016      12016      12016     12016        12016        12016   \n",
       "R64        1724       1724       1724      1724         1724         1724   \n",
       "RR          342        342        342       342          342          342   \n",
       "SF         1796       1796       1796      1796         1796         1796   \n",
       "\n",
       "       l_1stWon_pct  l_2ndWon_pct   year  winner_age_bucket  \n",
       "round                                                        \n",
       "BR                1             1      1                  1  \n",
       "F               942           942    942                942  \n",
       "QF             3512          3512   3512               3512  \n",
       "R16            6795          6795   6795               6795  \n",
       "R32           12016         12016  12016              12016  \n",
       "R64            1724          1724   1724               1724  \n",
       "RR              342           342    342                342  \n",
       "SF             1796          1796   1796               1796  \n",
       "\n",
       "[8 rows x 59 columns]"
      ]
     },
     "execution_count": 798,
     "metadata": {},
     "output_type": "execute_result"
    }
   ],
   "source": [
    "df[df.tourney_level=='A'].groupby('round').count()"
   ]
  },
  {
   "cell_type": "code",
   "execution_count": 799,
   "metadata": {},
   "outputs": [
    {
     "name": "stdout",
     "output_type": "stream",
     "text": [
      "Round code RR and BR are from level A - Other tourney level\n"
     ]
    }
   ],
   "source": [
    "print('Round code RR and BR are from level A - Other tourney level')"
   ]
  },
  {
   "cell_type": "code",
   "execution_count": 800,
   "metadata": {},
   "outputs": [
    {
     "name": "stdout",
     "output_type": "stream",
     "text": [
      "Added sequence number for each round\n",
      "Assigned temp value 11 and 10 for BR and RR.  RR and BR only used at leve lA games. Need more understanding on how RR and BR working in round sequence\n"
     ]
    }
   ],
   "source": [
    "print('Added sequence number for each round')\n",
    "df.loc[df['round']=='R128', 'round_num'] = 1\n",
    "df.loc[df['round']=='R64', 'round_num'] = 2\n",
    "df.loc[df['round']=='R32', 'round_num'] = 3\n",
    "df.loc[df['round']=='R16', 'round_num'] = 4\n",
    "df.loc[df['round']=='QF', 'round_num'] = 5\n",
    "df.loc[df['round']=='SF', 'round_num'] = 6\n",
    "df.loc[df['round']=='F', 'round_num'] = 7\n",
    "print('Assigned temp value 11 and 10 for BR and RR.  RR and BR only used at leve lA games. Need more understanding on how RR and BR working in round sequence')\n",
    "df.loc[df['round']=='RR', 'round_num'] = 10\n",
    "df.loc[df['round']=='BR', 'round_num'] = 11"
   ]
  },
  {
   "cell_type": "code",
   "execution_count": 801,
   "metadata": {},
   "outputs": [
    {
     "data": {
      "text/html": [
       "<div>\n",
       "<style scoped>\n",
       "    .dataframe tbody tr th:only-of-type {\n",
       "        vertical-align: middle;\n",
       "    }\n",
       "\n",
       "    .dataframe tbody tr th {\n",
       "        vertical-align: top;\n",
       "    }\n",
       "\n",
       "    .dataframe thead th {\n",
       "        text-align: right;\n",
       "    }\n",
       "</style>\n",
       "<table border=\"1\" class=\"dataframe\">\n",
       "  <thead>\n",
       "    <tr style=\"text-align: right;\">\n",
       "      <th></th>\n",
       "      <th>tourney_id</th>\n",
       "      <th>tourney_name</th>\n",
       "      <th>surface</th>\n",
       "      <th>tourney_level</th>\n",
       "      <th>tourney_date</th>\n",
       "      <th>match_num</th>\n",
       "      <th>winner_id</th>\n",
       "      <th>winner_name</th>\n",
       "      <th>winner_hand</th>\n",
       "      <th>winner_ht</th>\n",
       "      <th>...</th>\n",
       "      <th>w_GmsLoss</th>\n",
       "      <th>l_ace_pct</th>\n",
       "      <th>l_df_pct</th>\n",
       "      <th>l_1stIn_pct</th>\n",
       "      <th>l_2ndIn_pct</th>\n",
       "      <th>l_1stWon_pct</th>\n",
       "      <th>l_2ndWon_pct</th>\n",
       "      <th>year</th>\n",
       "      <th>winner_age_bucket</th>\n",
       "      <th>round_num</th>\n",
       "    </tr>\n",
       "  </thead>\n",
       "  <tbody>\n",
       "  </tbody>\n",
       "</table>\n",
       "<p>0 rows × 61 columns</p>\n",
       "</div>"
      ],
      "text/plain": [
       "Empty DataFrame\n",
       "Columns: [tourney_id, tourney_name, surface, tourney_level, tourney_date, match_num, winner_id, winner_name, winner_hand, winner_ht, winner_ioc, winner_age, loser_id, loser_name, loser_hand, loser_ht, loser_ioc, loser_age, score, best_of, round, minutes, w_ace, w_df, w_svpt, w_1stIn, w_1stWon, w_2ndWon, w_SvGms, w_bpSaved, w_bpFaced, l_ace, l_df, l_svpt, l_1stIn, l_1stWon, l_2ndWon, l_SvGms, l_bpSaved, l_bpFaced, winner_rank, winner_rank_points, loser_rank, loser_rank_points, w_ace_pct, w_df_pct, w_1stIn_pct, w_2ndIn_pct, w_1stWon_pct, w_2ndWon_pct, w_GmsWon, w_GmsLoss, l_ace_pct, l_df_pct, l_1stIn_pct, l_2ndIn_pct, l_1stWon_pct, l_2ndWon_pct, year, winner_age_bucket, round_num]\n",
       "Index: []\n",
       "\n",
       "[0 rows x 61 columns]"
      ]
     },
     "execution_count": 801,
     "metadata": {},
     "output_type": "execute_result"
    }
   ],
   "source": [
    "df[df.round_num.isnull()]"
   ]
  },
  {
   "cell_type": "code",
   "execution_count": 802,
   "metadata": {},
   "outputs": [],
   "source": [
    "w_columns = ['tourney_id','tourney_name','surface','tourney_level','tourney_date','match_num','winner_id','winner_name','winner_hand','winner_ht','winner_ioc','winner_age','score','best_of','round','minutes','w_ace','w_df','w_svpt','w_1stIn','w_1stWon','w_2ndWon','w_SvGms','w_bpSaved','w_bpFaced','winner_rank','winner_rank_points','w_ace_pct','w_df_pct','w_1stIn_pct','w_2ndIn_pct','w_1stWon_pct','w_2ndWon_pct','w_GmsWon','w_GmsLoss','year','loser_id', 'loser_name']\n",
    "l_columns = ['tourney_id','tourney_name','surface','tourney_level','tourney_date','match_num','loser_id','loser_name','loser_hand','loser_ht','loser_ioc','loser_age','score','best_of','round','minutes','l_ace','l_df','l_svpt','l_1stIn','l_1stWon','l_2ndWon','l_SvGms','l_bpSaved','l_bpFaced','loser_rank','loser_rank_points','l_ace_pct','l_df_pct','l_1stIn_pct','l_2ndIn_pct','l_1stWon_pct','l_2ndWon_pct','w_GmsLoss','w_GmsWon','year','winner_id', 'winner_name']\n",
    "columns = ['tourney_id','tourney_name','surface','tourney_level','tourney_date','match_num','player_id','player_name','player_hand','player_ht','player_ioc','player_age','score','best_of','round','minutes','ace','df','svpt','sv1stIn','sv1stWon','sv2ndWon','SvGms','bpSaved','bpFaced','player_rank','player_rank_points','ace_pct','df_pct','sv1stIn_pct','sv2ndIn_pct','sv1stWon_pct','sv2ndWon_pct','GmsWon','GmsLoss','year','opponent_id', 'opponent_name', 'won_flag']"
   ]
  },
  {
   "cell_type": "code",
   "execution_count": 803,
   "metadata": {},
   "outputs": [
    {
     "name": "stderr",
     "output_type": "stream",
     "text": [
      "C:\\Users\\yihon\\Anaconda3\\lib\\site-packages\\ipykernel_launcher.py:3: SettingWithCopyWarning: \n",
      "A value is trying to be set on a copy of a slice from a DataFrame.\n",
      "Try using .loc[row_indexer,col_indexer] = value instead\n",
      "\n",
      "See the caveats in the documentation: http://pandas.pydata.org/pandas-docs/stable/indexing.html#indexing-view-versus-copy\n",
      "  This is separate from the ipykernel package so we can avoid doing imports until\n",
      "C:\\Users\\yihon\\Anaconda3\\lib\\site-packages\\ipykernel_launcher.py:4: SettingWithCopyWarning: \n",
      "A value is trying to be set on a copy of a slice from a DataFrame.\n",
      "Try using .loc[row_indexer,col_indexer] = value instead\n",
      "\n",
      "See the caveats in the documentation: http://pandas.pydata.org/pandas-docs/stable/indexing.html#indexing-view-versus-copy\n",
      "  after removing the cwd from sys.path.\n"
     ]
    }
   ],
   "source": [
    "df_all_l = df[l_columns]\n",
    "df_all_w = df[w_columns]\n",
    "df_all_l['won_flag']=0\n",
    "df_all_w['won_flag']=1"
   ]
  },
  {
   "cell_type": "code",
   "execution_count": 804,
   "metadata": {},
   "outputs": [],
   "source": [
    "df_all_w.columns=columns\n",
    "df_all_l.columns=columns\n",
    "df_all = df_all_w.append(df_all_l)"
   ]
  },
  {
   "cell_type": "code",
   "execution_count": 805,
   "metadata": {},
   "outputs": [
    {
     "name": "stdout",
     "output_type": "stream",
     "text": [
      "<class 'pandas.core.frame.DataFrame'>\n",
      "Int64Index: 90602 entries, 0 to 2588\n",
      "Data columns (total 39 columns):\n",
      "tourney_id            90602 non-null object\n",
      "tourney_name          90602 non-null object\n",
      "surface               90602 non-null object\n",
      "tourney_level         90602 non-null object\n",
      "tourney_date          90602 non-null int64\n",
      "match_num             90602 non-null int64\n",
      "player_id             90602 non-null int64\n",
      "player_name           90602 non-null object\n",
      "player_hand           90602 non-null object\n",
      "player_ht             90602 non-null float64\n",
      "player_ioc            90602 non-null object\n",
      "player_age            90602 non-null float64\n",
      "score                 90602 non-null object\n",
      "best_of               90602 non-null int64\n",
      "round                 90602 non-null object\n",
      "minutes               90602 non-null float64\n",
      "ace                   90602 non-null float64\n",
      "df                    90602 non-null float64\n",
      "svpt                  90602 non-null float64\n",
      "sv1stIn               90602 non-null float64\n",
      "sv1stWon              90602 non-null float64\n",
      "sv2ndWon              90602 non-null float64\n",
      "SvGms                 90602 non-null float64\n",
      "bpSaved               90602 non-null float64\n",
      "bpFaced               90602 non-null float64\n",
      "player_rank           90602 non-null float64\n",
      "player_rank_points    90602 non-null float64\n",
      "ace_pct               90602 non-null float64\n",
      "df_pct                90602 non-null float64\n",
      "sv1stIn_pct           90602 non-null float64\n",
      "sv2ndIn_pct           90602 non-null float64\n",
      "sv1stWon_pct          90602 non-null float64\n",
      "sv2ndWon_pct          90602 non-null float64\n",
      "GmsWon                90602 non-null float64\n",
      "GmsLoss               90602 non-null float64\n",
      "year                  90602 non-null object\n",
      "opponent_id           90602 non-null int64\n",
      "opponent_name         90602 non-null object\n",
      "won_flag              90602 non-null int64\n",
      "dtypes: float64(22), int64(6), object(11)\n",
      "memory usage: 27.6+ MB\n"
     ]
    }
   ],
   "source": [
    "df_all.info()"
   ]
  },
  {
   "cell_type": "code",
   "execution_count": 806,
   "metadata": {},
   "outputs": [],
   "source": [
    "# add player age bucket\n",
    "df_all.loc[df_all.player_age <20, 'player_age_bucket'] = '<20'\n",
    "df_all.loc[df_all.player_age >=20, 'player_age_bucket'] = '20-24'\n",
    "df_all.loc[df_all.player_age >=25, 'player_age_bucket'] = '25-29'\n",
    "df_all.loc[df_all.player_age >=30, 'player_age_bucket'] = '30-34'\n",
    "df_all.loc[df_all.player_age >=35, 'player_age_bucket'] = '35-39'\n",
    "df_all.loc[df_all.player_age >=40, 'player_age_bucket'] = '>=40'"
   ]
  },
  {
   "cell_type": "code",
   "execution_count": 807,
   "metadata": {},
   "outputs": [],
   "source": [
    "df_all_rl_l = df_RL[l_columns]\n",
    "df_all_rl_w = df_RL[w_columns]"
   ]
  },
  {
   "cell_type": "code",
   "execution_count": 808,
   "metadata": {},
   "outputs": [
    {
     "name": "stderr",
     "output_type": "stream",
     "text": [
      "C:\\Users\\yihon\\Anaconda3\\lib\\site-packages\\ipykernel_launcher.py:1: SettingWithCopyWarning: \n",
      "A value is trying to be set on a copy of a slice from a DataFrame.\n",
      "Try using .loc[row_indexer,col_indexer] = value instead\n",
      "\n",
      "See the caveats in the documentation: http://pandas.pydata.org/pandas-docs/stable/indexing.html#indexing-view-versus-copy\n",
      "  \"\"\"Entry point for launching an IPython kernel.\n",
      "C:\\Users\\yihon\\Anaconda3\\lib\\site-packages\\ipykernel_launcher.py:2: SettingWithCopyWarning: \n",
      "A value is trying to be set on a copy of a slice from a DataFrame.\n",
      "Try using .loc[row_indexer,col_indexer] = value instead\n",
      "\n",
      "See the caveats in the documentation: http://pandas.pydata.org/pandas-docs/stable/indexing.html#indexing-view-versus-copy\n",
      "  \n"
     ]
    }
   ],
   "source": [
    "df_all_rl_l['won_flag']=0\n",
    "df_all_rl_w['won_flag']=1"
   ]
  },
  {
   "cell_type": "code",
   "execution_count": 809,
   "metadata": {},
   "outputs": [],
   "source": [
    "df_all_rl_w.columns=columns\n",
    "df_all_rl_l.columns=columns\n",
    "df_all_rl = df_all_rl_w.append(df_all_rl_l)"
   ]
  },
  {
   "cell_type": "code",
   "execution_count": 810,
   "metadata": {},
   "outputs": [],
   "source": [
    "df_all_rl.loc[df_all_rl.player_age <20, 'player_age_bucket'] = '<20'\n",
    "df_all_rl.loc[df_all_rl.player_age >=20, 'player_age_bucket'] = '20-24'\n",
    "df_all_rl.loc[df_all_rl.player_age >=25, 'player_age_bucket'] = '25-29'\n",
    "df_all_rl.loc[df_all_rl.player_age >=30, 'player_age_bucket'] = '30-34'\n",
    "df_all_rl.loc[df_all_rl.player_age >=35, 'player_age_bucket'] = '35-39'\n",
    "df_all_rl.loc[df_all_rl.player_age >=40, 'player_age_bucket'] = '>=40'"
   ]
  },
  {
   "cell_type": "code",
   "execution_count": 811,
   "metadata": {
    "scrolled": true
   },
   "outputs": [
    {
     "data": {
      "text/html": [
       "<div>\n",
       "<style scoped>\n",
       "    .dataframe tbody tr th:only-of-type {\n",
       "        vertical-align: middle;\n",
       "    }\n",
       "\n",
       "    .dataframe tbody tr th {\n",
       "        vertical-align: top;\n",
       "    }\n",
       "\n",
       "    .dataframe thead th {\n",
       "        text-align: right;\n",
       "    }\n",
       "</style>\n",
       "<table border=\"1\" class=\"dataframe\">\n",
       "  <thead>\n",
       "    <tr style=\"text-align: right;\">\n",
       "      <th></th>\n",
       "      <th>tourney_date</th>\n",
       "      <th>match_num</th>\n",
       "      <th>player_id</th>\n",
       "      <th>player_ht</th>\n",
       "      <th>player_age</th>\n",
       "      <th>best_of</th>\n",
       "      <th>minutes</th>\n",
       "      <th>ace</th>\n",
       "      <th>df</th>\n",
       "      <th>svpt</th>\n",
       "      <th>...</th>\n",
       "      <th>ace_pct</th>\n",
       "      <th>df_pct</th>\n",
       "      <th>sv1stIn_pct</th>\n",
       "      <th>sv2ndIn_pct</th>\n",
       "      <th>sv1stWon_pct</th>\n",
       "      <th>sv2ndWon_pct</th>\n",
       "      <th>GmsWon</th>\n",
       "      <th>GmsLoss</th>\n",
       "      <th>opponent_id</th>\n",
       "      <th>won_flag</th>\n",
       "    </tr>\n",
       "  </thead>\n",
       "  <tbody>\n",
       "    <tr>\n",
       "      <th>count</th>\n",
       "      <td>2.013200e+04</td>\n",
       "      <td>20132.000000</td>\n",
       "      <td>20132.000000</td>\n",
       "      <td>20132.000000</td>\n",
       "      <td>20132.000000</td>\n",
       "      <td>20132.000000</td>\n",
       "      <td>20132.000000</td>\n",
       "      <td>20132.000000</td>\n",
       "      <td>20132.000000</td>\n",
       "      <td>20132.000000</td>\n",
       "      <td>...</td>\n",
       "      <td>20132.000000</td>\n",
       "      <td>20132.000000</td>\n",
       "      <td>20132.000000</td>\n",
       "      <td>20132.000000</td>\n",
       "      <td>20132.000000</td>\n",
       "      <td>20132.000000</td>\n",
       "      <td>20132.000000</td>\n",
       "      <td>20132.000000</td>\n",
       "      <td>20132.000000</td>\n",
       "      <td>20132.000000</td>\n",
       "    </tr>\n",
       "    <tr>\n",
       "      <th>mean</th>\n",
       "      <td>2.008378e+07</td>\n",
       "      <td>63.714981</td>\n",
       "      <td>103899.153537</td>\n",
       "      <td>185.544854</td>\n",
       "      <td>26.730311</td>\n",
       "      <td>3.367177</td>\n",
       "      <td>105.762070</td>\n",
       "      <td>6.008593</td>\n",
       "      <td>3.084095</td>\n",
       "      <td>79.883618</td>\n",
       "      <td>...</td>\n",
       "      <td>0.075237</td>\n",
       "      <td>0.038562</td>\n",
       "      <td>0.611268</td>\n",
       "      <td>0.388718</td>\n",
       "      <td>0.436195</td>\n",
       "      <td>0.199405</td>\n",
       "      <td>12.496175</td>\n",
       "      <td>12.496175</td>\n",
       "      <td>103899.153537</td>\n",
       "      <td>0.500000</td>\n",
       "    </tr>\n",
       "    <tr>\n",
       "      <th>std</th>\n",
       "      <td>5.490822e+04</td>\n",
       "      <td>98.979493</td>\n",
       "      <td>1055.752391</td>\n",
       "      <td>6.377392</td>\n",
       "      <td>3.883110</td>\n",
       "      <td>0.774315</td>\n",
       "      <td>40.208425</td>\n",
       "      <td>5.296905</td>\n",
       "      <td>2.495345</td>\n",
       "      <td>28.252196</td>\n",
       "      <td>...</td>\n",
       "      <td>0.059738</td>\n",
       "      <td>0.028936</td>\n",
       "      <td>0.083404</td>\n",
       "      <td>0.083398</td>\n",
       "      <td>0.085619</td>\n",
       "      <td>0.060696</td>\n",
       "      <td>4.935331</td>\n",
       "      <td>4.935331</td>\n",
       "      <td>1055.752391</td>\n",
       "      <td>0.500012</td>\n",
       "    </tr>\n",
       "    <tr>\n",
       "      <th>min</th>\n",
       "      <td>2.000010e+07</td>\n",
       "      <td>1.000000</td>\n",
       "      <td>100644.000000</td>\n",
       "      <td>163.000000</td>\n",
       "      <td>15.550000</td>\n",
       "      <td>3.000000</td>\n",
       "      <td>10.000000</td>\n",
       "      <td>0.000000</td>\n",
       "      <td>0.000000</td>\n",
       "      <td>17.000000</td>\n",
       "      <td>...</td>\n",
       "      <td>0.000000</td>\n",
       "      <td>0.000000</td>\n",
       "      <td>0.260000</td>\n",
       "      <td>0.090000</td>\n",
       "      <td>0.080000</td>\n",
       "      <td>0.000000</td>\n",
       "      <td>0.000000</td>\n",
       "      <td>0.000000</td>\n",
       "      <td>100644.000000</td>\n",
       "      <td>0.000000</td>\n",
       "    </tr>\n",
       "    <tr>\n",
       "      <th>25%</th>\n",
       "      <td>2.004011e+07</td>\n",
       "      <td>13.000000</td>\n",
       "      <td>103196.750000</td>\n",
       "      <td>183.000000</td>\n",
       "      <td>23.810000</td>\n",
       "      <td>3.000000</td>\n",
       "      <td>77.000000</td>\n",
       "      <td>2.000000</td>\n",
       "      <td>1.000000</td>\n",
       "      <td>59.000000</td>\n",
       "      <td>...</td>\n",
       "      <td>0.030000</td>\n",
       "      <td>0.020000</td>\n",
       "      <td>0.560000</td>\n",
       "      <td>0.330000</td>\n",
       "      <td>0.380000</td>\n",
       "      <td>0.160000</td>\n",
       "      <td>9.000000</td>\n",
       "      <td>9.000000</td>\n",
       "      <td>103196.750000</td>\n",
       "      <td>0.000000</td>\n",
       "    </tr>\n",
       "    <tr>\n",
       "      <th>50%</th>\n",
       "      <td>2.008072e+07</td>\n",
       "      <td>25.000000</td>\n",
       "      <td>103852.000000</td>\n",
       "      <td>185.000000</td>\n",
       "      <td>26.660000</td>\n",
       "      <td>3.000000</td>\n",
       "      <td>98.000000</td>\n",
       "      <td>5.000000</td>\n",
       "      <td>3.000000</td>\n",
       "      <td>75.000000</td>\n",
       "      <td>...</td>\n",
       "      <td>0.060000</td>\n",
       "      <td>0.030000</td>\n",
       "      <td>0.610000</td>\n",
       "      <td>0.390000</td>\n",
       "      <td>0.430000</td>\n",
       "      <td>0.200000</td>\n",
       "      <td>12.000000</td>\n",
       "      <td>12.000000</td>\n",
       "      <td>103852.000000</td>\n",
       "      <td>0.500000</td>\n",
       "    </tr>\n",
       "    <tr>\n",
       "      <th>75%</th>\n",
       "      <td>2.013021e+07</td>\n",
       "      <td>58.000000</td>\n",
       "      <td>104745.000000</td>\n",
       "      <td>190.000000</td>\n",
       "      <td>29.490000</td>\n",
       "      <td>3.000000</td>\n",
       "      <td>127.000000</td>\n",
       "      <td>8.000000</td>\n",
       "      <td>4.000000</td>\n",
       "      <td>95.000000</td>\n",
       "      <td>...</td>\n",
       "      <td>0.100000</td>\n",
       "      <td>0.050000</td>\n",
       "      <td>0.670000</td>\n",
       "      <td>0.440000</td>\n",
       "      <td>0.490000</td>\n",
       "      <td>0.240000</td>\n",
       "      <td>15.000000</td>\n",
       "      <td>15.000000</td>\n",
       "      <td>104745.000000</td>\n",
       "      <td>1.000000</td>\n",
       "    </tr>\n",
       "    <tr>\n",
       "      <th>max</th>\n",
       "      <td>2.019103e+07</td>\n",
       "      <td>1701.000000</td>\n",
       "      <td>106401.000000</td>\n",
       "      <td>208.000000</td>\n",
       "      <td>44.060000</td>\n",
       "      <td>5.000000</td>\n",
       "      <td>1146.000000</td>\n",
       "      <td>75.000000</td>\n",
       "      <td>20.000000</td>\n",
       "      <td>237.000000</td>\n",
       "      <td>...</td>\n",
       "      <td>0.460000</td>\n",
       "      <td>0.300000</td>\n",
       "      <td>0.910000</td>\n",
       "      <td>0.740000</td>\n",
       "      <td>1.330000</td>\n",
       "      <td>0.760000</td>\n",
       "      <td>45.000000</td>\n",
       "      <td>45.000000</td>\n",
       "      <td>106401.000000</td>\n",
       "      <td>1.000000</td>\n",
       "    </tr>\n",
       "  </tbody>\n",
       "</table>\n",
       "<p>8 rows × 28 columns</p>\n",
       "</div>"
      ],
      "text/plain": [
       "       tourney_date     match_num      player_id     player_ht    player_age  \\\n",
       "count  2.013200e+04  20132.000000   20132.000000  20132.000000  20132.000000   \n",
       "mean   2.008378e+07     63.714981  103899.153537    185.544854     26.730311   \n",
       "std    5.490822e+04     98.979493    1055.752391      6.377392      3.883110   \n",
       "min    2.000010e+07      1.000000  100644.000000    163.000000     15.550000   \n",
       "25%    2.004011e+07     13.000000  103196.750000    183.000000     23.810000   \n",
       "50%    2.008072e+07     25.000000  103852.000000    185.000000     26.660000   \n",
       "75%    2.013021e+07     58.000000  104745.000000    190.000000     29.490000   \n",
       "max    2.019103e+07   1701.000000  106401.000000    208.000000     44.060000   \n",
       "\n",
       "            best_of       minutes           ace            df          svpt  \\\n",
       "count  20132.000000  20132.000000  20132.000000  20132.000000  20132.000000   \n",
       "mean       3.367177    105.762070      6.008593      3.084095     79.883618   \n",
       "std        0.774315     40.208425      5.296905      2.495345     28.252196   \n",
       "min        3.000000     10.000000      0.000000      0.000000     17.000000   \n",
       "25%        3.000000     77.000000      2.000000      1.000000     59.000000   \n",
       "50%        3.000000     98.000000      5.000000      3.000000     75.000000   \n",
       "75%        3.000000    127.000000      8.000000      4.000000     95.000000   \n",
       "max        5.000000   1146.000000     75.000000     20.000000    237.000000   \n",
       "\n",
       "       ...       ace_pct        df_pct   sv1stIn_pct   sv2ndIn_pct  \\\n",
       "count  ...  20132.000000  20132.000000  20132.000000  20132.000000   \n",
       "mean   ...      0.075237      0.038562      0.611268      0.388718   \n",
       "std    ...      0.059738      0.028936      0.083404      0.083398   \n",
       "min    ...      0.000000      0.000000      0.260000      0.090000   \n",
       "25%    ...      0.030000      0.020000      0.560000      0.330000   \n",
       "50%    ...      0.060000      0.030000      0.610000      0.390000   \n",
       "75%    ...      0.100000      0.050000      0.670000      0.440000   \n",
       "max    ...      0.460000      0.300000      0.910000      0.740000   \n",
       "\n",
       "       sv1stWon_pct  sv2ndWon_pct        GmsWon       GmsLoss    opponent_id  \\\n",
       "count  20132.000000  20132.000000  20132.000000  20132.000000   20132.000000   \n",
       "mean       0.436195      0.199405     12.496175     12.496175  103899.153537   \n",
       "std        0.085619      0.060696      4.935331      4.935331    1055.752391   \n",
       "min        0.080000      0.000000      0.000000      0.000000  100644.000000   \n",
       "25%        0.380000      0.160000      9.000000      9.000000  103196.750000   \n",
       "50%        0.430000      0.200000     12.000000     12.000000  103852.000000   \n",
       "75%        0.490000      0.240000     15.000000     15.000000  104745.000000   \n",
       "max        1.330000      0.760000     45.000000     45.000000  106401.000000   \n",
       "\n",
       "           won_flag  \n",
       "count  20132.000000  \n",
       "mean       0.500000  \n",
       "std        0.500012  \n",
       "min        0.000000  \n",
       "25%        0.000000  \n",
       "50%        0.500000  \n",
       "75%        1.000000  \n",
       "max        1.000000  \n",
       "\n",
       "[8 rows x 28 columns]"
      ]
     },
     "execution_count": 811,
     "metadata": {},
     "output_type": "execute_result"
    }
   ],
   "source": [
    "df_all_rl.describe()"
   ]
  },
  {
   "cell_type": "markdown",
   "metadata": {},
   "source": [
    "#### Export cleansed data to csv files for Data Story and EAD:"
   ]
  },
  {
   "cell_type": "code",
   "execution_count": 812,
   "metadata": {},
   "outputs": [
    {
     "name": "stdout",
     "output_type": "stream",
     "text": [
      "export cleansed data to csv files for Data Story and EAD\n"
     ]
    }
   ],
   "source": [
    "print('export cleansed data to csv files for Data Story and EAD')\n",
    "df.to_csv('data/all_h_00_19.csv')\n",
    "df_all.to_csv('data/all_v_00_19.csv')\n",
    "df_RL.to_csv('data/RL_h.csv')\n",
    "df_all_rl.to_csv('data/RL_v.csv')"
   ]
  }
 ],
 "metadata": {
  "kernelspec": {
   "display_name": "Python 3",
   "language": "python",
   "name": "python3"
  },
  "language_info": {
   "codemirror_mode": {
    "name": "ipython",
    "version": 3
   },
   "file_extension": ".py",
   "mimetype": "text/x-python",
   "name": "python",
   "nbconvert_exporter": "python",
   "pygments_lexer": "ipython3",
   "version": "3.7.3"
  }
 },
 "nbformat": 4,
 "nbformat_minor": 2
}
