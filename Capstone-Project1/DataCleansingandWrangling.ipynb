{
 "cells": [
  {
   "cell_type": "markdown",
   "metadata": {},
   "source": [
    "# Data Clean and wrangling"
   ]
  },
  {
   "cell_type": "markdown",
   "metadata": {},
   "source": [
    "Downdloaded data files from Github and imported as a batch"
   ]
  },
  {
   "cell_type": "code",
   "execution_count": 2,
   "metadata": {},
   "outputs": [],
   "source": [
    "import pandas as pd\n",
    "import numpy as np\n",
    "import matplotlib.pyplot as plt\n",
    "from numpy.random import seed\n",
    "import seaborn as sns\n",
    "from os import listdir\n",
    "import re"
   ]
  },
  {
   "cell_type": "code",
   "execution_count": 3,
   "metadata": {},
   "outputs": [],
   "source": [
    "filepaths = ['data/tennis_atp/match_00_19/'+f for f in listdir(\"data/tennis_atp/match_00_19\") if f.endswith('.csv')]\n",
    "df = pd.concat(map(pd.read_csv, filepaths), sort=False)"
   ]
  },
  {
   "cell_type": "code",
   "execution_count": 4,
   "metadata": {},
   "outputs": [
    {
     "data": {
      "text/plain": [
       "['data/tennis_atp/match_00_19/atp_matches_2000.csv',\n",
       " 'data/tennis_atp/match_00_19/atp_matches_2001.csv',\n",
       " 'data/tennis_atp/match_00_19/atp_matches_2002.csv',\n",
       " 'data/tennis_atp/match_00_19/atp_matches_2003.csv',\n",
       " 'data/tennis_atp/match_00_19/atp_matches_2004.csv',\n",
       " 'data/tennis_atp/match_00_19/atp_matches_2005.csv',\n",
       " 'data/tennis_atp/match_00_19/atp_matches_2006.csv',\n",
       " 'data/tennis_atp/match_00_19/atp_matches_2007.csv',\n",
       " 'data/tennis_atp/match_00_19/atp_matches_2008.csv',\n",
       " 'data/tennis_atp/match_00_19/atp_matches_2009.csv',\n",
       " 'data/tennis_atp/match_00_19/atp_matches_2010.csv',\n",
       " 'data/tennis_atp/match_00_19/atp_matches_2011.csv',\n",
       " 'data/tennis_atp/match_00_19/atp_matches_2012.csv',\n",
       " 'data/tennis_atp/match_00_19/atp_matches_2013.csv',\n",
       " 'data/tennis_atp/match_00_19/atp_matches_2014.csv',\n",
       " 'data/tennis_atp/match_00_19/atp_matches_2015.csv',\n",
       " 'data/tennis_atp/match_00_19/atp_matches_2016.csv',\n",
       " 'data/tennis_atp/match_00_19/atp_matches_2017.csv',\n",
       " 'data/tennis_atp/match_00_19/atp_matches_2018.csv',\n",
       " 'data/tennis_atp/match_00_19/atp_matches_2019.csv']"
      ]
     },
     "execution_count": 4,
     "metadata": {},
     "output_type": "execute_result"
    }
   ],
   "source": [
    "filepaths"
   ]
  },
  {
   "cell_type": "code",
   "execution_count": 5,
   "metadata": {},
   "outputs": [
    {
     "name": "stdout",
     "output_type": "stream",
     "text": [
      "<class 'pandas.core.frame.DataFrame'>\n",
      "Int64Index: 61560 entries, 0 to 2780\n",
      "Data columns (total 49 columns):\n",
      "tourney_id            61560 non-null object\n",
      "tourney_name          61560 non-null object\n",
      "surface               61442 non-null object\n",
      "draw_size             2781 non-null float64\n",
      "tourney_level         61560 non-null object\n",
      "tourney_date          61560 non-null int64\n",
      "match_num             61560 non-null int64\n",
      "winner_id             61560 non-null int64\n",
      "winner_seed           25567 non-null object\n",
      "winner_entry          7346 non-null object\n",
      "winner_name           61560 non-null object\n",
      "winner_hand           61542 non-null object\n",
      "winner_ht             56229 non-null float64\n",
      "winner_ioc            61560 non-null object\n",
      "winner_age            61545 non-null float64\n",
      "loser_id              61560 non-null int64\n",
      "loser_seed            13973 non-null object\n",
      "loser_entry           12107 non-null object\n",
      "loser_name            61560 non-null object\n",
      "loser_hand            61514 non-null object\n",
      "loser_ht              53389 non-null float64\n",
      "loser_ioc             61560 non-null object\n",
      "loser_age             61529 non-null float64\n",
      "score                 61559 non-null object\n",
      "best_of               61560 non-null int64\n",
      "round                 61560 non-null object\n",
      "minutes               54478 non-null float64\n",
      "w_ace                 55781 non-null float64\n",
      "w_df                  55781 non-null float64\n",
      "w_svpt                55781 non-null float64\n",
      "w_1stIn               55781 non-null float64\n",
      "w_1stWon              55781 non-null float64\n",
      "w_2ndWon              55781 non-null float64\n",
      "w_SvGms               55781 non-null float64\n",
      "w_bpSaved             55781 non-null float64\n",
      "w_bpFaced             55781 non-null float64\n",
      "l_ace                 55781 non-null float64\n",
      "l_df                  55781 non-null float64\n",
      "l_svpt                55781 non-null float64\n",
      "l_1stIn               55781 non-null float64\n",
      "l_1stWon              55781 non-null float64\n",
      "l_2ndWon              55781 non-null float64\n",
      "l_SvGms               55781 non-null float64\n",
      "l_bpSaved             55781 non-null float64\n",
      "l_bpFaced             55781 non-null float64\n",
      "winner_rank           61057 non-null float64\n",
      "winner_rank_points    61057 non-null float64\n",
      "loser_rank            60263 non-null float64\n",
      "loser_rank_points     60263 non-null float64\n",
      "dtypes: float64(28), int64(5), object(16)\n",
      "memory usage: 23.5+ MB\n"
     ]
    }
   ],
   "source": [
    "df.info()"
   ]
  },
  {
   "cell_type": "code",
   "execution_count": 6,
   "metadata": {},
   "outputs": [
    {
     "name": "stdout",
     "output_type": "stream",
     "text": [
      "1890 retired rows are removed\n"
     ]
    }
   ],
   "source": [
    "df = df[df.score.str.contains('RET') == False]\n",
    "print('1890 retired rows are removed')"
   ]
  },
  {
   "cell_type": "code",
   "execution_count": 7,
   "metadata": {},
   "outputs": [
    {
     "name": "stdout",
     "output_type": "stream",
     "text": [
      "<class 'pandas.core.frame.DataFrame'>\n",
      "Int64Index: 59670 entries, 0 to 2780\n",
      "Data columns (total 49 columns):\n",
      "tourney_id            59670 non-null object\n",
      "tourney_name          59670 non-null object\n",
      "surface               59557 non-null object\n",
      "draw_size             2722 non-null float64\n",
      "tourney_level         59670 non-null object\n",
      "tourney_date          59670 non-null int64\n",
      "match_num             59670 non-null int64\n",
      "winner_id             59670 non-null int64\n",
      "winner_seed           24958 non-null object\n",
      "winner_entry          7058 non-null object\n",
      "winner_name           59670 non-null object\n",
      "winner_hand           59653 non-null object\n",
      "winner_ht             54523 non-null float64\n",
      "winner_ioc            59670 non-null object\n",
      "winner_age            59657 non-null float64\n",
      "loser_id              59670 non-null int64\n",
      "loser_seed            13458 non-null object\n",
      "loser_entry           11886 non-null object\n",
      "loser_name            59670 non-null object\n",
      "loser_hand            59624 non-null object\n",
      "loser_ht              51672 non-null float64\n",
      "loser_ioc             59670 non-null object\n",
      "loser_age             59639 non-null float64\n",
      "score                 59670 non-null object\n",
      "best_of               59670 non-null int64\n",
      "round                 59670 non-null object\n",
      "minutes               52791 non-null float64\n",
      "w_ace                 54044 non-null float64\n",
      "w_df                  54044 non-null float64\n",
      "w_svpt                54044 non-null float64\n",
      "w_1stIn               54044 non-null float64\n",
      "w_1stWon              54044 non-null float64\n",
      "w_2ndWon              54044 non-null float64\n",
      "w_SvGms               54044 non-null float64\n",
      "w_bpSaved             54044 non-null float64\n",
      "w_bpFaced             54044 non-null float64\n",
      "l_ace                 54044 non-null float64\n",
      "l_df                  54044 non-null float64\n",
      "l_svpt                54044 non-null float64\n",
      "l_1stIn               54044 non-null float64\n",
      "l_1stWon              54044 non-null float64\n",
      "l_2ndWon              54044 non-null float64\n",
      "l_SvGms               54044 non-null float64\n",
      "l_bpSaved             54044 non-null float64\n",
      "l_bpFaced             54044 non-null float64\n",
      "winner_rank           59191 non-null float64\n",
      "winner_rank_points    59191 non-null float64\n",
      "loser_rank            58418 non-null float64\n",
      "loser_rank_points     58418 non-null float64\n",
      "dtypes: float64(28), int64(5), object(16)\n",
      "memory usage: 22.8+ MB\n"
     ]
    }
   ],
   "source": [
    "df.info()"
   ]
  },
  {
   "cell_type": "code",
   "execution_count": 8,
   "metadata": {},
   "outputs": [
    {
     "data": {
      "text/plain": [
       "tourney_level\n",
       "A    32651\n",
       "D     5890\n",
       "F      286\n",
       "G     9746\n",
       "M    11097\n",
       "Name: tourney_id, dtype: int64"
      ]
     },
     "execution_count": 8,
     "metadata": {},
     "output_type": "execute_result"
    }
   ],
   "source": [
    "df.groupby('tourney_level').tourney_id.count()"
   ]
  },
  {
   "cell_type": "code",
   "execution_count": 9,
   "metadata": {},
   "outputs": [
    {
     "name": "stdout",
     "output_type": "stream",
     "text": [
      "Total games of level A = 32651\n",
      "Total games of level D = 5890\n",
      "Total games of level F = 286\n",
      "Total games of level G = 9746\n",
      "Total games of level M = 11097\n"
     ]
    }
   ],
   "source": [
    "Total_A_origin = df[df.tourney_level=='A'].tourney_id.count()\n",
    "Total_D_origin = df[df.tourney_level=='D'].tourney_id.count()\n",
    "Total_F_origin = df[df.tourney_level=='F'].tourney_id.count()\n",
    "Total_G_origin = df[df.tourney_level=='G'].tourney_id.count()\n",
    "Total_M_origin = df[df.tourney_level=='M'].tourney_id.count()\n",
    "print('Total games of level A = ' + str(Total_A_origin))\n",
    "print('Total games of level D = ' + str(Total_D_origin))\n",
    "print('Total games of level F = ' + str(Total_F_origin))\n",
    "print('Total games of level G = ' + str(Total_G_origin))\n",
    "print('Total games of level M = ' + str(Total_M_origin))"
   ]
  },
  {
   "cell_type": "code",
   "execution_count": 10,
   "metadata": {},
   "outputs": [],
   "source": [
    "# remove tourey_level F with 286 rows.  So small unkown data set will not impact overll analysis\n",
    "df = df[df.tourney_level!='F']"
   ]
  },
  {
   "cell_type": "code",
   "execution_count": 11,
   "metadata": {},
   "outputs": [
    {
     "name": "stdout",
     "output_type": "stream",
     "text": [
      "<class 'pandas.core.frame.DataFrame'>\n",
      "Int64Index: 59384 entries, 0 to 2780\n",
      "Data columns (total 49 columns):\n",
      "tourney_id            59384 non-null object\n",
      "tourney_name          59384 non-null object\n",
      "surface               59271 non-null object\n",
      "draw_size             2707 non-null float64\n",
      "tourney_level         59384 non-null object\n",
      "tourney_date          59384 non-null int64\n",
      "match_num             59384 non-null int64\n",
      "winner_id             59384 non-null int64\n",
      "winner_seed           24850 non-null object\n",
      "winner_entry          7058 non-null object\n",
      "winner_name           59384 non-null object\n",
      "winner_hand           59367 non-null object\n",
      "winner_ht             54258 non-null float64\n",
      "winner_ioc            59384 non-null object\n",
      "winner_age            59371 non-null float64\n",
      "loser_id              59384 non-null int64\n",
      "loser_seed            13350 non-null object\n",
      "loser_entry           11886 non-null object\n",
      "loser_name            59384 non-null object\n",
      "loser_hand            59338 non-null object\n",
      "loser_ht              51408 non-null float64\n",
      "loser_ioc             59384 non-null object\n",
      "loser_age             59353 non-null float64\n",
      "score                 59384 non-null object\n",
      "best_of               59384 non-null int64\n",
      "round                 59384 non-null object\n",
      "minutes               52530 non-null float64\n",
      "w_ace                 53768 non-null float64\n",
      "w_df                  53768 non-null float64\n",
      "w_svpt                53768 non-null float64\n",
      "w_1stIn               53768 non-null float64\n",
      "w_1stWon              53768 non-null float64\n",
      "w_2ndWon              53768 non-null float64\n",
      "w_SvGms               53768 non-null float64\n",
      "w_bpSaved             53768 non-null float64\n",
      "w_bpFaced             53768 non-null float64\n",
      "l_ace                 53768 non-null float64\n",
      "l_df                  53768 non-null float64\n",
      "l_svpt                53768 non-null float64\n",
      "l_1stIn               53768 non-null float64\n",
      "l_1stWon              53768 non-null float64\n",
      "l_2ndWon              53768 non-null float64\n",
      "l_SvGms               53768 non-null float64\n",
      "l_bpSaved             53768 non-null float64\n",
      "l_bpFaced             53768 non-null float64\n",
      "winner_rank           58905 non-null float64\n",
      "winner_rank_points    58905 non-null float64\n",
      "loser_rank            58132 non-null float64\n",
      "loser_rank_points     58132 non-null float64\n",
      "dtypes: float64(28), int64(5), object(16)\n",
      "memory usage: 22.7+ MB\n"
     ]
    }
   ],
   "source": [
    "df.info()"
   ]
  },
  {
   "cell_type": "markdown",
   "metadata": {},
   "source": [
    "Remove columns will not be used for late analysis"
   ]
  },
  {
   "cell_type": "code",
   "execution_count": 12,
   "metadata": {},
   "outputs": [
    {
     "name": "stdout",
     "output_type": "stream",
     "text": [
      "Verify results\n"
     ]
    },
    {
     "data": {
      "text/plain": [
       "tourney_level\n",
       "A    32651\n",
       "D     5890\n",
       "G     9746\n",
       "M    11097\n",
       "Name: tourney_id, dtype: int64"
      ]
     },
     "execution_count": 12,
     "metadata": {},
     "output_type": "execute_result"
    }
   ],
   "source": [
    "print('Verify results')\n",
    "df.groupby('tourney_level').tourney_id.count()"
   ]
  },
  {
   "cell_type": "code",
   "execution_count": 13,
   "metadata": {},
   "outputs": [],
   "source": [
    "# remove rows dont have players attributes such as hadedneess, age, etc.  \n",
    "df = df[df.winner_hand.notnull()]\n",
    "df = df[df.winner_ht.notnull()]\n",
    "df = df[df.winner_age.notnull()]\n",
    "df = df[df.winner_rank.notnull()]\n",
    "df = df[df.loser_hand.notnull()]\n",
    "df = df[df.loser_ht.notnull()]\n",
    "df = df[df.loser_age.notnull()]\n",
    "df = df[df.loser_rank.notnull()]"
   ]
  },
  {
   "cell_type": "code",
   "execution_count": 14,
   "metadata": {},
   "outputs": [],
   "source": [
    "# drop columns with low ratio of complete data entries\n",
    "columns = ['draw_size','winner_seed','winner_entry','loser_seed','loser_entry']\n",
    "df.drop(columns, inplace=True, axis=1)"
   ]
  },
  {
   "cell_type": "code",
   "execution_count": 15,
   "metadata": {},
   "outputs": [
    {
     "name": "stdout",
     "output_type": "stream",
     "text": [
      "<class 'pandas.core.frame.DataFrame'>\n",
      "Int64Index: 48953 entries, 0 to 2773\n",
      "Data columns (total 44 columns):\n",
      "tourney_id            48953 non-null object\n",
      "tourney_name          48953 non-null object\n",
      "surface               48917 non-null object\n",
      "tourney_level         48953 non-null object\n",
      "tourney_date          48953 non-null int64\n",
      "match_num             48953 non-null int64\n",
      "winner_id             48953 non-null int64\n",
      "winner_name           48953 non-null object\n",
      "winner_hand           48953 non-null object\n",
      "winner_ht             48953 non-null float64\n",
      "winner_ioc            48953 non-null object\n",
      "winner_age            48953 non-null float64\n",
      "loser_id              48953 non-null int64\n",
      "loser_name            48953 non-null object\n",
      "loser_hand            48953 non-null object\n",
      "loser_ht              48953 non-null float64\n",
      "loser_ioc             48953 non-null object\n",
      "loser_age             48953 non-null float64\n",
      "score                 48953 non-null object\n",
      "best_of               48953 non-null int64\n",
      "round                 48953 non-null object\n",
      "minutes               45453 non-null float64\n",
      "w_ace                 46441 non-null float64\n",
      "w_df                  46441 non-null float64\n",
      "w_svpt                46441 non-null float64\n",
      "w_1stIn               46441 non-null float64\n",
      "w_1stWon              46441 non-null float64\n",
      "w_2ndWon              46441 non-null float64\n",
      "w_SvGms               46441 non-null float64\n",
      "w_bpSaved             46441 non-null float64\n",
      "w_bpFaced             46441 non-null float64\n",
      "l_ace                 46441 non-null float64\n",
      "l_df                  46441 non-null float64\n",
      "l_svpt                46441 non-null float64\n",
      "l_1stIn               46441 non-null float64\n",
      "l_1stWon              46441 non-null float64\n",
      "l_2ndWon              46441 non-null float64\n",
      "l_SvGms               46441 non-null float64\n",
      "l_bpSaved             46441 non-null float64\n",
      "l_bpFaced             46441 non-null float64\n",
      "winner_rank           48953 non-null float64\n",
      "winner_rank_points    48953 non-null float64\n",
      "loser_rank            48953 non-null float64\n",
      "loser_rank_points     48953 non-null float64\n",
      "dtypes: float64(27), int64(5), object(12)\n",
      "memory usage: 16.8+ MB\n"
     ]
    }
   ],
   "source": [
    "df.info()"
   ]
  },
  {
   "cell_type": "code",
   "execution_count": 16,
   "metadata": {},
   "outputs": [
    {
     "name": "stdout",
     "output_type": "stream",
     "text": [
      "Remove numeric fields which are null.\n"
     ]
    }
   ],
   "source": [
    "print('Remove numeric fields which are null.')\n",
    "df = df[df.minutes.notnull()]\n",
    "df=df[df['w_ace'].notnull()]\n",
    "df=df[df['w_df'].notnull()]\n",
    "df=df[df['w_svpt'].notnull()]\n",
    "df=df[df['w_1stIn'].notnull()]\n",
    "df=df[df['w_1stWon'].notnull()]\n",
    "df=df[df['w_2ndWon'].notnull()]\n",
    "df=df[df['w_SvGms'].notnull()]\n",
    "df=df[df['w_bpSaved'].notnull()]\n",
    "df=df[df['w_bpFaced'].notnull()]\n",
    "df=df[df['l_ace'].notnull()]\n",
    "df=df[df['l_df'].notnull()]\n",
    "df=df[df['l_svpt'].notnull()]\n",
    "df=df[df['l_1stIn'].notnull()]\n",
    "df=df[df['l_1stWon'].notnull()]\n",
    "df=df[df['l_2ndWon'].notnull()]\n",
    "df=df[df['l_SvGms'].notnull()]\n",
    "df=df[df['l_bpSaved'].notnull()]\n",
    "df=df[df['l_bpFaced'].notnull()]"
   ]
  },
  {
   "cell_type": "code",
   "execution_count": 17,
   "metadata": {},
   "outputs": [
    {
     "name": "stdout",
     "output_type": "stream",
     "text": [
      "<class 'pandas.core.frame.DataFrame'>\n",
      "Int64Index: 45441 entries, 0 to 2773\n",
      "Data columns (total 44 columns):\n",
      "tourney_id            45441 non-null object\n",
      "tourney_name          45441 non-null object\n",
      "surface               45441 non-null object\n",
      "tourney_level         45441 non-null object\n",
      "tourney_date          45441 non-null int64\n",
      "match_num             45441 non-null int64\n",
      "winner_id             45441 non-null int64\n",
      "winner_name           45441 non-null object\n",
      "winner_hand           45441 non-null object\n",
      "winner_ht             45441 non-null float64\n",
      "winner_ioc            45441 non-null object\n",
      "winner_age            45441 non-null float64\n",
      "loser_id              45441 non-null int64\n",
      "loser_name            45441 non-null object\n",
      "loser_hand            45441 non-null object\n",
      "loser_ht              45441 non-null float64\n",
      "loser_ioc             45441 non-null object\n",
      "loser_age             45441 non-null float64\n",
      "score                 45441 non-null object\n",
      "best_of               45441 non-null int64\n",
      "round                 45441 non-null object\n",
      "minutes               45441 non-null float64\n",
      "w_ace                 45441 non-null float64\n",
      "w_df                  45441 non-null float64\n",
      "w_svpt                45441 non-null float64\n",
      "w_1stIn               45441 non-null float64\n",
      "w_1stWon              45441 non-null float64\n",
      "w_2ndWon              45441 non-null float64\n",
      "w_SvGms               45441 non-null float64\n",
      "w_bpSaved             45441 non-null float64\n",
      "w_bpFaced             45441 non-null float64\n",
      "l_ace                 45441 non-null float64\n",
      "l_df                  45441 non-null float64\n",
      "l_svpt                45441 non-null float64\n",
      "l_1stIn               45441 non-null float64\n",
      "l_1stWon              45441 non-null float64\n",
      "l_2ndWon              45441 non-null float64\n",
      "l_SvGms               45441 non-null float64\n",
      "l_bpSaved             45441 non-null float64\n",
      "l_bpFaced             45441 non-null float64\n",
      "winner_rank           45441 non-null float64\n",
      "winner_rank_points    45441 non-null float64\n",
      "loser_rank            45441 non-null float64\n",
      "loser_rank_points     45441 non-null float64\n",
      "dtypes: float64(27), int64(5), object(12)\n",
      "memory usage: 15.6+ MB\n"
     ]
    }
   ],
   "source": [
    "df.info()"
   ]
  },
  {
   "cell_type": "code",
   "execution_count": 18,
   "metadata": {},
   "outputs": [
    {
     "name": "stdout",
     "output_type": "stream",
     "text": [
      "Verify results\n"
     ]
    },
    {
     "data": {
      "text/plain": [
       "tourney_level\n",
       "A    27131\n",
       "D      137\n",
       "G     8390\n",
       "M     9783\n",
       "Name: tourney_id, dtype: int64"
      ]
     },
     "execution_count": 18,
     "metadata": {},
     "output_type": "execute_result"
    }
   ],
   "source": [
    "print('Verify results')\n",
    "df.groupby('tourney_level').tourney_id.count()"
   ]
  },
  {
   "cell_type": "code",
   "execution_count": 19,
   "metadata": {},
   "outputs": [],
   "source": [
    "# After the above clean up, level D only has 139 complete data entry against total 6060 rows.  Leve D data donst have good data.  Remove D level\n",
    "df = df[df.tourney_level!='D']"
   ]
  },
  {
   "cell_type": "code",
   "execution_count": 20,
   "metadata": {},
   "outputs": [
    {
     "name": "stdout",
     "output_type": "stream",
     "text": [
      "Verify results\n"
     ]
    },
    {
     "data": {
      "text/plain": [
       "tourney_level\n",
       "A    27131\n",
       "G     8390\n",
       "M     9783\n",
       "Name: tourney_id, dtype: int64"
      ]
     },
     "execution_count": 20,
     "metadata": {},
     "output_type": "execute_result"
    }
   ],
   "source": [
    "print('Verify results')\n",
    "df.groupby('tourney_level').tourney_id.count()"
   ]
  },
  {
   "cell_type": "code",
   "execution_count": 21,
   "metadata": {},
   "outputs": [
    {
     "name": "stdout",
     "output_type": "stream",
     "text": [
      "<class 'pandas.core.frame.DataFrame'>\n",
      "Int64Index: 45304 entries, 0 to 2588\n",
      "Data columns (total 44 columns):\n",
      "tourney_id            45304 non-null object\n",
      "tourney_name          45304 non-null object\n",
      "surface               45304 non-null object\n",
      "tourney_level         45304 non-null object\n",
      "tourney_date          45304 non-null int64\n",
      "match_num             45304 non-null int64\n",
      "winner_id             45304 non-null int64\n",
      "winner_name           45304 non-null object\n",
      "winner_hand           45304 non-null object\n",
      "winner_ht             45304 non-null float64\n",
      "winner_ioc            45304 non-null object\n",
      "winner_age            45304 non-null float64\n",
      "loser_id              45304 non-null int64\n",
      "loser_name            45304 non-null object\n",
      "loser_hand            45304 non-null object\n",
      "loser_ht              45304 non-null float64\n",
      "loser_ioc             45304 non-null object\n",
      "loser_age             45304 non-null float64\n",
      "score                 45304 non-null object\n",
      "best_of               45304 non-null int64\n",
      "round                 45304 non-null object\n",
      "minutes               45304 non-null float64\n",
      "w_ace                 45304 non-null float64\n",
      "w_df                  45304 non-null float64\n",
      "w_svpt                45304 non-null float64\n",
      "w_1stIn               45304 non-null float64\n",
      "w_1stWon              45304 non-null float64\n",
      "w_2ndWon              45304 non-null float64\n",
      "w_SvGms               45304 non-null float64\n",
      "w_bpSaved             45304 non-null float64\n",
      "w_bpFaced             45304 non-null float64\n",
      "l_ace                 45304 non-null float64\n",
      "l_df                  45304 non-null float64\n",
      "l_svpt                45304 non-null float64\n",
      "l_1stIn               45304 non-null float64\n",
      "l_1stWon              45304 non-null float64\n",
      "l_2ndWon              45304 non-null float64\n",
      "l_SvGms               45304 non-null float64\n",
      "l_bpSaved             45304 non-null float64\n",
      "l_bpFaced             45304 non-null float64\n",
      "winner_rank           45304 non-null float64\n",
      "winner_rank_points    45304 non-null float64\n",
      "loser_rank            45304 non-null float64\n",
      "loser_rank_points     45304 non-null float64\n",
      "dtypes: float64(27), int64(5), object(12)\n",
      "memory usage: 15.6+ MB\n"
     ]
    }
   ],
   "source": [
    "df.info()"
   ]
  },
  {
   "cell_type": "code",
   "execution_count": 22,
   "metadata": {},
   "outputs": [],
   "source": [
    "# calculate percentae of serve stats for winners\n",
    "df['w_ace_pct'] = np.around(df.w_ace/df.w_svpt, 2)\n",
    "df['w_df_pct'] = np.around(df.w_df/df.w_svpt, 2)\n",
    "df['w_1stIn_pct'] = np.around(df.w_1stIn / df.w_svpt, 2)\n",
    "df['w_2ndIn_pct'] = np.around(((df.w_svpt - df.w_1stIn) / df.w_svpt), 2)\n",
    "df['w_1stWon_pct'] = np.around(df.w_1stWon / df.w_svpt, 2)\n",
    "df['w_2ndWon_pct'] = np.around(df.w_2ndWon/df.w_svpt, 2)\n",
    "# calculate total games won and loss\n",
    "df['w_GmsWon'] = df.w_SvGms-(df.w_bpFaced - df.w_bpSaved) + (df.l_bpFaced - df.l_bpSaved)\n",
    "df['w_GmsLoss'] = df.l_SvGms-(df.l_bpFaced - df.l_bpSaved) + (df.w_bpFaced - df.w_bpSaved)\n",
    "# calculate percentae of serve stats for losers\n",
    "df['l_ace_pct'] = np.around(df.l_ace/df.l_svpt, 2)\n",
    "df['l_df_pct'] = np.around(df.l_df/df.l_svpt, 2)\n",
    "df['l_1stIn_pct'] = np.around(df.l_1stIn / df.l_svpt, 2)\n",
    "df['l_2ndIn_pct'] = np.around(((df.l_svpt - df.l_1stIn) / df.l_svpt), 2)\n",
    "df['l_1stWon_pct'] = np.around(df.l_1stWon / df.l_svpt, 2)\n",
    "df['l_2ndWon_pct'] = np.around(df.l_2ndWon/df.l_svpt, 2)"
   ]
  },
  {
   "cell_type": "code",
   "execution_count": 23,
   "metadata": {},
   "outputs": [],
   "source": [
    "# still have data issue or need to understand data\n",
    "#df['w_svptWon_pct'] = np.around((df.w_ace + df.w_1stWon + df.w_2ndWon - df.w_df) / (df.w_svpt + df.w_ace), 2)\n",
    "#df['l_svptWon_pct'] = np.around((df.l_ace + df.l_1stWon + df.l_2ndWon - df.l_df) / (df.l_svpt + df.w_ace), 2)"
   ]
  },
  {
   "cell_type": "code",
   "execution_count": 24,
   "metadata": {},
   "outputs": [
    {
     "name": "stdout",
     "output_type": "stream",
     "text": [
      "<class 'pandas.core.frame.DataFrame'>\n",
      "Int64Index: 45304 entries, 0 to 2588\n",
      "Data columns (total 58 columns):\n",
      "tourney_id            45304 non-null object\n",
      "tourney_name          45304 non-null object\n",
      "surface               45304 non-null object\n",
      "tourney_level         45304 non-null object\n",
      "tourney_date          45304 non-null int64\n",
      "match_num             45304 non-null int64\n",
      "winner_id             45304 non-null int64\n",
      "winner_name           45304 non-null object\n",
      "winner_hand           45304 non-null object\n",
      "winner_ht             45304 non-null float64\n",
      "winner_ioc            45304 non-null object\n",
      "winner_age            45304 non-null float64\n",
      "loser_id              45304 non-null int64\n",
      "loser_name            45304 non-null object\n",
      "loser_hand            45304 non-null object\n",
      "loser_ht              45304 non-null float64\n",
      "loser_ioc             45304 non-null object\n",
      "loser_age             45304 non-null float64\n",
      "score                 45304 non-null object\n",
      "best_of               45304 non-null int64\n",
      "round                 45304 non-null object\n",
      "minutes               45304 non-null float64\n",
      "w_ace                 45304 non-null float64\n",
      "w_df                  45304 non-null float64\n",
      "w_svpt                45304 non-null float64\n",
      "w_1stIn               45304 non-null float64\n",
      "w_1stWon              45304 non-null float64\n",
      "w_2ndWon              45304 non-null float64\n",
      "w_SvGms               45304 non-null float64\n",
      "w_bpSaved             45304 non-null float64\n",
      "w_bpFaced             45304 non-null float64\n",
      "l_ace                 45304 non-null float64\n",
      "l_df                  45304 non-null float64\n",
      "l_svpt                45304 non-null float64\n",
      "l_1stIn               45304 non-null float64\n",
      "l_1stWon              45304 non-null float64\n",
      "l_2ndWon              45304 non-null float64\n",
      "l_SvGms               45304 non-null float64\n",
      "l_bpSaved             45304 non-null float64\n",
      "l_bpFaced             45304 non-null float64\n",
      "winner_rank           45304 non-null float64\n",
      "winner_rank_points    45304 non-null float64\n",
      "loser_rank            45304 non-null float64\n",
      "loser_rank_points     45304 non-null float64\n",
      "w_ace_pct             45304 non-null float64\n",
      "w_df_pct              45304 non-null float64\n",
      "w_1stIn_pct           45304 non-null float64\n",
      "w_2ndIn_pct           45304 non-null float64\n",
      "w_1stWon_pct          45304 non-null float64\n",
      "w_2ndWon_pct          45304 non-null float64\n",
      "w_GmsWon              45304 non-null float64\n",
      "w_GmsLoss             45304 non-null float64\n",
      "l_ace_pct             45302 non-null float64\n",
      "l_df_pct              45302 non-null float64\n",
      "l_1stIn_pct           45302 non-null float64\n",
      "l_2ndIn_pct           45302 non-null float64\n",
      "l_1stWon_pct          45302 non-null float64\n",
      "l_2ndWon_pct          45302 non-null float64\n",
      "dtypes: float64(41), int64(5), object(12)\n",
      "memory usage: 20.4+ MB\n"
     ]
    }
   ],
   "source": [
    "df.info()"
   ]
  },
  {
   "cell_type": "code",
   "execution_count": 25,
   "metadata": {},
   "outputs": [
    {
     "name": "stdout",
     "output_type": "stream",
     "text": [
      "There are two calculation for loser records are null.  Export the eveption to csv file.\n"
     ]
    }
   ],
   "source": [
    "print( 'There are two calculation for loser records are null.  Export the eveption to csv file.')\n",
    "df[df.l_ace_pct.isnull()].to_csv('data/match_exception1.csv')"
   ]
  },
  {
   "cell_type": "code",
   "execution_count": 26,
   "metadata": {},
   "outputs": [
    {
     "name": "stdout",
     "output_type": "stream",
     "text": [
      "These two exception is because no data captured for loaser.  Need to exclue them.\n"
     ]
    }
   ],
   "source": [
    "print('These two exception is because no data captured for loaser.  Need to exclue them.')\n",
    "df = df[df.l_ace_pct.notnull()]"
   ]
  },
  {
   "cell_type": "code",
   "execution_count": 27,
   "metadata": {},
   "outputs": [
    {
     "name": "stdout",
     "output_type": "stream",
     "text": [
      "<class 'pandas.core.frame.DataFrame'>\n",
      "Int64Index: 45302 entries, 0 to 2588\n",
      "Data columns (total 58 columns):\n",
      "tourney_id            45302 non-null object\n",
      "tourney_name          45302 non-null object\n",
      "surface               45302 non-null object\n",
      "tourney_level         45302 non-null object\n",
      "tourney_date          45302 non-null int64\n",
      "match_num             45302 non-null int64\n",
      "winner_id             45302 non-null int64\n",
      "winner_name           45302 non-null object\n",
      "winner_hand           45302 non-null object\n",
      "winner_ht             45302 non-null float64\n",
      "winner_ioc            45302 non-null object\n",
      "winner_age            45302 non-null float64\n",
      "loser_id              45302 non-null int64\n",
      "loser_name            45302 non-null object\n",
      "loser_hand            45302 non-null object\n",
      "loser_ht              45302 non-null float64\n",
      "loser_ioc             45302 non-null object\n",
      "loser_age             45302 non-null float64\n",
      "score                 45302 non-null object\n",
      "best_of               45302 non-null int64\n",
      "round                 45302 non-null object\n",
      "minutes               45302 non-null float64\n",
      "w_ace                 45302 non-null float64\n",
      "w_df                  45302 non-null float64\n",
      "w_svpt                45302 non-null float64\n",
      "w_1stIn               45302 non-null float64\n",
      "w_1stWon              45302 non-null float64\n",
      "w_2ndWon              45302 non-null float64\n",
      "w_SvGms               45302 non-null float64\n",
      "w_bpSaved             45302 non-null float64\n",
      "w_bpFaced             45302 non-null float64\n",
      "l_ace                 45302 non-null float64\n",
      "l_df                  45302 non-null float64\n",
      "l_svpt                45302 non-null float64\n",
      "l_1stIn               45302 non-null float64\n",
      "l_1stWon              45302 non-null float64\n",
      "l_2ndWon              45302 non-null float64\n",
      "l_SvGms               45302 non-null float64\n",
      "l_bpSaved             45302 non-null float64\n",
      "l_bpFaced             45302 non-null float64\n",
      "winner_rank           45302 non-null float64\n",
      "winner_rank_points    45302 non-null float64\n",
      "loser_rank            45302 non-null float64\n",
      "loser_rank_points     45302 non-null float64\n",
      "w_ace_pct             45302 non-null float64\n",
      "w_df_pct              45302 non-null float64\n",
      "w_1stIn_pct           45302 non-null float64\n",
      "w_2ndIn_pct           45302 non-null float64\n",
      "w_1stWon_pct          45302 non-null float64\n",
      "w_2ndWon_pct          45302 non-null float64\n",
      "w_GmsWon              45302 non-null float64\n",
      "w_GmsLoss             45302 non-null float64\n",
      "l_ace_pct             45302 non-null float64\n",
      "l_df_pct              45302 non-null float64\n",
      "l_1stIn_pct           45302 non-null float64\n",
      "l_2ndIn_pct           45302 non-null float64\n",
      "l_1stWon_pct          45302 non-null float64\n",
      "l_2ndWon_pct          45302 non-null float64\n",
      "dtypes: float64(41), int64(5), object(12)\n",
      "memory usage: 20.4+ MB\n"
     ]
    }
   ],
   "source": [
    "df.info()"
   ]
  },
  {
   "cell_type": "code",
   "execution_count": 28,
   "metadata": {},
   "outputs": [
    {
     "data": {
      "text/plain": [
       "array(['R', 'L'], dtype=object)"
      ]
     },
     "execution_count": 28,
     "metadata": {},
     "output_type": "execute_result"
    }
   ],
   "source": [
    "df.winner_hand.unique()"
   ]
  },
  {
   "cell_type": "code",
   "execution_count": 29,
   "metadata": {},
   "outputs": [
    {
     "data": {
      "text/html": [
       "<div>\n",
       "<style scoped>\n",
       "    .dataframe tbody tr th:only-of-type {\n",
       "        vertical-align: middle;\n",
       "    }\n",
       "\n",
       "    .dataframe tbody tr th {\n",
       "        vertical-align: top;\n",
       "    }\n",
       "\n",
       "    .dataframe thead th {\n",
       "        text-align: right;\n",
       "    }\n",
       "</style>\n",
       "<table border=\"1\" class=\"dataframe\">\n",
       "  <thead>\n",
       "    <tr style=\"text-align: right;\">\n",
       "      <th></th>\n",
       "      <th>tourney_id</th>\n",
       "      <th>tourney_name</th>\n",
       "      <th>surface</th>\n",
       "      <th>tourney_level</th>\n",
       "      <th>tourney_date</th>\n",
       "      <th>match_num</th>\n",
       "      <th>winner_id</th>\n",
       "      <th>winner_name</th>\n",
       "      <th>winner_hand</th>\n",
       "      <th>winner_ht</th>\n",
       "      <th>...</th>\n",
       "      <th>w_1stWon_pct</th>\n",
       "      <th>w_2ndWon_pct</th>\n",
       "      <th>w_GmsWon</th>\n",
       "      <th>w_GmsLoss</th>\n",
       "      <th>l_ace_pct</th>\n",
       "      <th>l_df_pct</th>\n",
       "      <th>l_1stIn_pct</th>\n",
       "      <th>l_2ndIn_pct</th>\n",
       "      <th>l_1stWon_pct</th>\n",
       "      <th>l_2ndWon_pct</th>\n",
       "    </tr>\n",
       "  </thead>\n",
       "  <tbody>\n",
       "    <tr>\n",
       "      <th>1606</th>\n",
       "      <td>2003-500</td>\n",
       "      <td>Halle</td>\n",
       "      <td>Grass</td>\n",
       "      <td>A</td>\n",
       "      <td>20030609</td>\n",
       "      <td>4</td>\n",
       "      <td>101962</td>\n",
       "      <td>Younes El Aynaoui</td>\n",
       "      <td>R</td>\n",
       "      <td>193.0</td>\n",
       "      <td>...</td>\n",
       "      <td>0.5</td>\n",
       "      <td>0.26</td>\n",
       "      <td>12.0</td>\n",
       "      <td>3.0</td>\n",
       "      <td>0.04</td>\n",
       "      <td>0.06</td>\n",
       "      <td>0.57</td>\n",
       "      <td>0.43</td>\n",
       "      <td>0.28</td>\n",
       "      <td>0.19</td>\n",
       "    </tr>\n",
       "  </tbody>\n",
       "</table>\n",
       "<p>1 rows × 58 columns</p>\n",
       "</div>"
      ],
      "text/plain": [
       "     tourney_id tourney_name surface tourney_level  tourney_date  match_num  \\\n",
       "1606   2003-500        Halle   Grass             A      20030609          4   \n",
       "\n",
       "      winner_id        winner_name winner_hand  winner_ht  ... w_1stWon_pct  \\\n",
       "1606     101962  Younes El Aynaoui           R      193.0  ...          0.5   \n",
       "\n",
       "      w_2ndWon_pct  w_GmsWon w_GmsLoss l_ace_pct  l_df_pct l_1stIn_pct  \\\n",
       "1606          0.26      12.0       3.0      0.04      0.06        0.57   \n",
       "\n",
       "      l_2ndIn_pct l_1stWon_pct  l_2ndWon_pct  \n",
       "1606         0.43         0.28          0.19  \n",
       "\n",
       "[1 rows x 58 columns]"
      ]
     },
     "execution_count": 29,
     "metadata": {},
     "output_type": "execute_result"
    }
   ],
   "source": [
    "df[df.loser_hand=='U']"
   ]
  },
  {
   "cell_type": "code",
   "execution_count": 30,
   "metadata": {},
   "outputs": [],
   "source": [
    "df = df[df.loser_hand!='U']"
   ]
  },
  {
   "cell_type": "code",
   "execution_count": 31,
   "metadata": {},
   "outputs": [
    {
     "data": {
      "text/plain": [
       "array(['R', 'L'], dtype=object)"
      ]
     },
     "execution_count": 31,
     "metadata": {},
     "output_type": "execute_result"
    }
   ],
   "source": [
    "df.loser_hand.unique()"
   ]
  },
  {
   "cell_type": "code",
   "execution_count": 32,
   "metadata": {},
   "outputs": [
    {
     "name": "stdout",
     "output_type": "stream",
     "text": [
      "<class 'pandas.core.frame.DataFrame'>\n",
      "Int64Index: 45301 entries, 0 to 2588\n",
      "Data columns (total 58 columns):\n",
      "tourney_id            45301 non-null object\n",
      "tourney_name          45301 non-null object\n",
      "surface               45301 non-null object\n",
      "tourney_level         45301 non-null object\n",
      "tourney_date          45301 non-null int64\n",
      "match_num             45301 non-null int64\n",
      "winner_id             45301 non-null int64\n",
      "winner_name           45301 non-null object\n",
      "winner_hand           45301 non-null object\n",
      "winner_ht             45301 non-null float64\n",
      "winner_ioc            45301 non-null object\n",
      "winner_age            45301 non-null float64\n",
      "loser_id              45301 non-null int64\n",
      "loser_name            45301 non-null object\n",
      "loser_hand            45301 non-null object\n",
      "loser_ht              45301 non-null float64\n",
      "loser_ioc             45301 non-null object\n",
      "loser_age             45301 non-null float64\n",
      "score                 45301 non-null object\n",
      "best_of               45301 non-null int64\n",
      "round                 45301 non-null object\n",
      "minutes               45301 non-null float64\n",
      "w_ace                 45301 non-null float64\n",
      "w_df                  45301 non-null float64\n",
      "w_svpt                45301 non-null float64\n",
      "w_1stIn               45301 non-null float64\n",
      "w_1stWon              45301 non-null float64\n",
      "w_2ndWon              45301 non-null float64\n",
      "w_SvGms               45301 non-null float64\n",
      "w_bpSaved             45301 non-null float64\n",
      "w_bpFaced             45301 non-null float64\n",
      "l_ace                 45301 non-null float64\n",
      "l_df                  45301 non-null float64\n",
      "l_svpt                45301 non-null float64\n",
      "l_1stIn               45301 non-null float64\n",
      "l_1stWon              45301 non-null float64\n",
      "l_2ndWon              45301 non-null float64\n",
      "l_SvGms               45301 non-null float64\n",
      "l_bpSaved             45301 non-null float64\n",
      "l_bpFaced             45301 non-null float64\n",
      "winner_rank           45301 non-null float64\n",
      "winner_rank_points    45301 non-null float64\n",
      "loser_rank            45301 non-null float64\n",
      "loser_rank_points     45301 non-null float64\n",
      "w_ace_pct             45301 non-null float64\n",
      "w_df_pct              45301 non-null float64\n",
      "w_1stIn_pct           45301 non-null float64\n",
      "w_2ndIn_pct           45301 non-null float64\n",
      "w_1stWon_pct          45301 non-null float64\n",
      "w_2ndWon_pct          45301 non-null float64\n",
      "w_GmsWon              45301 non-null float64\n",
      "w_GmsLoss             45301 non-null float64\n",
      "l_ace_pct             45301 non-null float64\n",
      "l_df_pct              45301 non-null float64\n",
      "l_1stIn_pct           45301 non-null float64\n",
      "l_2ndIn_pct           45301 non-null float64\n",
      "l_1stWon_pct          45301 non-null float64\n",
      "l_2ndWon_pct          45301 non-null float64\n",
      "dtypes: float64(41), int64(5), object(12)\n",
      "memory usage: 20.4+ MB\n"
     ]
    }
   ],
   "source": [
    "df.info()"
   ]
  },
  {
   "cell_type": "code",
   "execution_count": 33,
   "metadata": {},
   "outputs": [],
   "source": [
    "# get games between right hand and left hand players\n",
    "df_RL = df[df.winner_hand != df.loser_hand]"
   ]
  },
  {
   "cell_type": "code",
   "execution_count": 34,
   "metadata": {},
   "outputs": [
    {
     "data": {
      "text/plain": [
       "winner_hand\n",
       "L    4805\n",
       "R    5261\n",
       "Name: tourney_id, dtype: int64"
      ]
     },
     "execution_count": 34,
     "metadata": {},
     "output_type": "execute_result"
    }
   ],
   "source": [
    "df_RL.groupby('winner_hand').tourney_id.count()"
   ]
  },
  {
   "cell_type": "code",
   "execution_count": 35,
   "metadata": {},
   "outputs": [],
   "source": [
    "Total_A_cln = df[df.tourney_level=='A'].tourney_id.count()\n",
    "Total_G_cln = df[df.tourney_level=='G'].tourney_id.count()\n",
    "Total_M_cln = df[df.tourney_level=='M'].tourney_id.count()"
   ]
  },
  {
   "cell_type": "code",
   "execution_count": 36,
   "metadata": {},
   "outputs": [
    {
     "name": "stdout",
     "output_type": "stream",
     "text": [
      "Level A data quality % = 0.83\n",
      "Level G data quality % = 0.86\n",
      "Level M data quality % = 0.88\n"
     ]
    }
   ],
   "source": [
    "print ('Level A data quality % = '+ str(np.around(Total_A_cln / Total_A_origin, 2)))\n",
    "print ('Level G data quality % = '+ str(np.around(Total_G_cln / Total_G_origin, 2)))\n",
    "print ('Level M data quality % = '+ str(np.around(Total_M_cln / Total_M_origin, 2)))"
   ]
  },
  {
   "cell_type": "code",
   "execution_count": 37,
   "metadata": {},
   "outputs": [
    {
     "data": {
      "text/plain": [
       "surface  winner_hand\n",
       "Carpet   L               104\n",
       "         R               135\n",
       "Clay     L              1709\n",
       "         R              1666\n",
       "Grass    L               543\n",
       "         R               597\n",
       "Hard     L              2449\n",
       "         R              2863\n",
       "Name: tourney_id, dtype: int64"
      ]
     },
     "execution_count": 37,
     "metadata": {},
     "output_type": "execute_result"
    }
   ],
   "source": [
    "df_RL.groupby(['surface', 'winner_hand']).tourney_id.count()"
   ]
  },
  {
   "cell_type": "code",
   "execution_count": 38,
   "metadata": {},
   "outputs": [
    {
     "data": {
      "text/plain": [
       "tourney_level  surface  winner_hand\n",
       "A              Carpet   L                81\n",
       "                        R               106\n",
       "               Clay     L              1104\n",
       "                        R              1095\n",
       "               Grass    L               332\n",
       "                        R               356\n",
       "               Hard     L              1397\n",
       "                        R              1618\n",
       "G              Clay     L               239\n",
       "                        R               239\n",
       "               Grass    L               211\n",
       "                        R               241\n",
       "               Hard     L               415\n",
       "                        R               486\n",
       "M              Carpet   L                23\n",
       "                        R                29\n",
       "               Clay     L               366\n",
       "                        R               332\n",
       "               Hard     L               637\n",
       "                        R               759\n",
       "Name: tourney_id, dtype: int64"
      ]
     },
     "execution_count": 38,
     "metadata": {},
     "output_type": "execute_result"
    }
   ],
   "source": [
    "df_RL.groupby(['tourney_level','surface', 'winner_hand']).tourney_id.count()"
   ]
  },
  {
   "cell_type": "code",
   "execution_count": 39,
   "metadata": {},
   "outputs": [
    {
     "data": {
      "text/plain": [
       "array(['R32', 'R16', 'QF', 'SF', 'F', 'R128', 'R64', 'RR', 'BR'],\n",
       "      dtype=object)"
      ]
     },
     "execution_count": 39,
     "metadata": {},
     "output_type": "execute_result"
    }
   ],
   "source": [
    "# exam round values\n",
    "df.loc[:,'round'].unique()"
   ]
  },
  {
   "cell_type": "code",
   "execution_count": 40,
   "metadata": {},
   "outputs": [
    {
     "data": {
      "text/plain": [
       "array(['A'], dtype=object)"
      ]
     },
     "execution_count": 40,
     "metadata": {},
     "output_type": "execute_result"
    }
   ],
   "source": [
    "df[df['round']=='RR'].tourney_level.unique()"
   ]
  },
  {
   "cell_type": "code",
   "execution_count": 41,
   "metadata": {},
   "outputs": [
    {
     "data": {
      "text/plain": [
       "array(['A'], dtype=object)"
      ]
     },
     "execution_count": 41,
     "metadata": {},
     "output_type": "execute_result"
    }
   ],
   "source": [
    "df[df['round']=='BR'].tourney_level.unique()"
   ]
  },
  {
   "cell_type": "code",
   "execution_count": 42,
   "metadata": {},
   "outputs": [
    {
     "data": {
      "text/plain": [
       "round\n",
       "BR          1\n",
       "F        1183\n",
       "QF       4449\n",
       "R128     4994\n",
       "R16      8631\n",
       "R32     15627\n",
       "R64      7814\n",
       "RR        342\n",
       "SF       2260\n",
       "Name: winner_id, dtype: int64"
      ]
     },
     "execution_count": 42,
     "metadata": {},
     "output_type": "execute_result"
    }
   ],
   "source": [
    "df.groupby('round').winner_id.count()"
   ]
  },
  {
   "cell_type": "code",
   "execution_count": 43,
   "metadata": {},
   "outputs": [
    {
     "data": {
      "text/html": [
       "<div>\n",
       "<style scoped>\n",
       "    .dataframe tbody tr th:only-of-type {\n",
       "        vertical-align: middle;\n",
       "    }\n",
       "\n",
       "    .dataframe tbody tr th {\n",
       "        vertical-align: top;\n",
       "    }\n",
       "\n",
       "    .dataframe thead th {\n",
       "        text-align: right;\n",
       "    }\n",
       "</style>\n",
       "<table border=\"1\" class=\"dataframe\">\n",
       "  <thead>\n",
       "    <tr style=\"text-align: right;\">\n",
       "      <th></th>\n",
       "      <th>tourney_id</th>\n",
       "      <th>tourney_name</th>\n",
       "      <th>surface</th>\n",
       "      <th>tourney_level</th>\n",
       "      <th>tourney_date</th>\n",
       "      <th>match_num</th>\n",
       "      <th>winner_id</th>\n",
       "      <th>winner_name</th>\n",
       "      <th>winner_hand</th>\n",
       "      <th>winner_ht</th>\n",
       "      <th>...</th>\n",
       "      <th>w_1stWon_pct</th>\n",
       "      <th>w_2ndWon_pct</th>\n",
       "      <th>w_GmsWon</th>\n",
       "      <th>w_GmsLoss</th>\n",
       "      <th>l_ace_pct</th>\n",
       "      <th>l_df_pct</th>\n",
       "      <th>l_1stIn_pct</th>\n",
       "      <th>l_2ndIn_pct</th>\n",
       "      <th>l_1stWon_pct</th>\n",
       "      <th>l_2ndWon_pct</th>\n",
       "    </tr>\n",
       "    <tr>\n",
       "      <th>round</th>\n",
       "      <th></th>\n",
       "      <th></th>\n",
       "      <th></th>\n",
       "      <th></th>\n",
       "      <th></th>\n",
       "      <th></th>\n",
       "      <th></th>\n",
       "      <th></th>\n",
       "      <th></th>\n",
       "      <th></th>\n",
       "      <th></th>\n",
       "      <th></th>\n",
       "      <th></th>\n",
       "      <th></th>\n",
       "      <th></th>\n",
       "      <th></th>\n",
       "      <th></th>\n",
       "      <th></th>\n",
       "      <th></th>\n",
       "      <th></th>\n",
       "      <th></th>\n",
       "    </tr>\n",
       "  </thead>\n",
       "  <tbody>\n",
       "    <tr>\n",
       "      <th>BR</th>\n",
       "      <td>1</td>\n",
       "      <td>1</td>\n",
       "      <td>1</td>\n",
       "      <td>1</td>\n",
       "      <td>1</td>\n",
       "      <td>1</td>\n",
       "      <td>1</td>\n",
       "      <td>1</td>\n",
       "      <td>1</td>\n",
       "      <td>1</td>\n",
       "      <td>...</td>\n",
       "      <td>1</td>\n",
       "      <td>1</td>\n",
       "      <td>1</td>\n",
       "      <td>1</td>\n",
       "      <td>1</td>\n",
       "      <td>1</td>\n",
       "      <td>1</td>\n",
       "      <td>1</td>\n",
       "      <td>1</td>\n",
       "      <td>1</td>\n",
       "    </tr>\n",
       "    <tr>\n",
       "      <th>F</th>\n",
       "      <td>942</td>\n",
       "      <td>942</td>\n",
       "      <td>942</td>\n",
       "      <td>942</td>\n",
       "      <td>942</td>\n",
       "      <td>942</td>\n",
       "      <td>942</td>\n",
       "      <td>942</td>\n",
       "      <td>942</td>\n",
       "      <td>942</td>\n",
       "      <td>...</td>\n",
       "      <td>942</td>\n",
       "      <td>942</td>\n",
       "      <td>942</td>\n",
       "      <td>942</td>\n",
       "      <td>942</td>\n",
       "      <td>942</td>\n",
       "      <td>942</td>\n",
       "      <td>942</td>\n",
       "      <td>942</td>\n",
       "      <td>942</td>\n",
       "    </tr>\n",
       "    <tr>\n",
       "      <th>QF</th>\n",
       "      <td>3512</td>\n",
       "      <td>3512</td>\n",
       "      <td>3512</td>\n",
       "      <td>3512</td>\n",
       "      <td>3512</td>\n",
       "      <td>3512</td>\n",
       "      <td>3512</td>\n",
       "      <td>3512</td>\n",
       "      <td>3512</td>\n",
       "      <td>3512</td>\n",
       "      <td>...</td>\n",
       "      <td>3512</td>\n",
       "      <td>3512</td>\n",
       "      <td>3512</td>\n",
       "      <td>3512</td>\n",
       "      <td>3512</td>\n",
       "      <td>3512</td>\n",
       "      <td>3512</td>\n",
       "      <td>3512</td>\n",
       "      <td>3512</td>\n",
       "      <td>3512</td>\n",
       "    </tr>\n",
       "    <tr>\n",
       "      <th>R16</th>\n",
       "      <td>6795</td>\n",
       "      <td>6795</td>\n",
       "      <td>6795</td>\n",
       "      <td>6795</td>\n",
       "      <td>6795</td>\n",
       "      <td>6795</td>\n",
       "      <td>6795</td>\n",
       "      <td>6795</td>\n",
       "      <td>6795</td>\n",
       "      <td>6795</td>\n",
       "      <td>...</td>\n",
       "      <td>6795</td>\n",
       "      <td>6795</td>\n",
       "      <td>6795</td>\n",
       "      <td>6795</td>\n",
       "      <td>6795</td>\n",
       "      <td>6795</td>\n",
       "      <td>6795</td>\n",
       "      <td>6795</td>\n",
       "      <td>6795</td>\n",
       "      <td>6795</td>\n",
       "    </tr>\n",
       "    <tr>\n",
       "      <th>R32</th>\n",
       "      <td>12016</td>\n",
       "      <td>12016</td>\n",
       "      <td>12016</td>\n",
       "      <td>12016</td>\n",
       "      <td>12016</td>\n",
       "      <td>12016</td>\n",
       "      <td>12016</td>\n",
       "      <td>12016</td>\n",
       "      <td>12016</td>\n",
       "      <td>12016</td>\n",
       "      <td>...</td>\n",
       "      <td>12016</td>\n",
       "      <td>12016</td>\n",
       "      <td>12016</td>\n",
       "      <td>12016</td>\n",
       "      <td>12016</td>\n",
       "      <td>12016</td>\n",
       "      <td>12016</td>\n",
       "      <td>12016</td>\n",
       "      <td>12016</td>\n",
       "      <td>12016</td>\n",
       "    </tr>\n",
       "    <tr>\n",
       "      <th>R64</th>\n",
       "      <td>1724</td>\n",
       "      <td>1724</td>\n",
       "      <td>1724</td>\n",
       "      <td>1724</td>\n",
       "      <td>1724</td>\n",
       "      <td>1724</td>\n",
       "      <td>1724</td>\n",
       "      <td>1724</td>\n",
       "      <td>1724</td>\n",
       "      <td>1724</td>\n",
       "      <td>...</td>\n",
       "      <td>1724</td>\n",
       "      <td>1724</td>\n",
       "      <td>1724</td>\n",
       "      <td>1724</td>\n",
       "      <td>1724</td>\n",
       "      <td>1724</td>\n",
       "      <td>1724</td>\n",
       "      <td>1724</td>\n",
       "      <td>1724</td>\n",
       "      <td>1724</td>\n",
       "    </tr>\n",
       "    <tr>\n",
       "      <th>RR</th>\n",
       "      <td>342</td>\n",
       "      <td>342</td>\n",
       "      <td>342</td>\n",
       "      <td>342</td>\n",
       "      <td>342</td>\n",
       "      <td>342</td>\n",
       "      <td>342</td>\n",
       "      <td>342</td>\n",
       "      <td>342</td>\n",
       "      <td>342</td>\n",
       "      <td>...</td>\n",
       "      <td>342</td>\n",
       "      <td>342</td>\n",
       "      <td>342</td>\n",
       "      <td>342</td>\n",
       "      <td>342</td>\n",
       "      <td>342</td>\n",
       "      <td>342</td>\n",
       "      <td>342</td>\n",
       "      <td>342</td>\n",
       "      <td>342</td>\n",
       "    </tr>\n",
       "    <tr>\n",
       "      <th>SF</th>\n",
       "      <td>1796</td>\n",
       "      <td>1796</td>\n",
       "      <td>1796</td>\n",
       "      <td>1796</td>\n",
       "      <td>1796</td>\n",
       "      <td>1796</td>\n",
       "      <td>1796</td>\n",
       "      <td>1796</td>\n",
       "      <td>1796</td>\n",
       "      <td>1796</td>\n",
       "      <td>...</td>\n",
       "      <td>1796</td>\n",
       "      <td>1796</td>\n",
       "      <td>1796</td>\n",
       "      <td>1796</td>\n",
       "      <td>1796</td>\n",
       "      <td>1796</td>\n",
       "      <td>1796</td>\n",
       "      <td>1796</td>\n",
       "      <td>1796</td>\n",
       "      <td>1796</td>\n",
       "    </tr>\n",
       "  </tbody>\n",
       "</table>\n",
       "<p>8 rows × 57 columns</p>\n",
       "</div>"
      ],
      "text/plain": [
       "       tourney_id  tourney_name  surface  tourney_level  tourney_date  \\\n",
       "round                                                                   \n",
       "BR              1             1        1              1             1   \n",
       "F             942           942      942            942           942   \n",
       "QF           3512          3512     3512           3512          3512   \n",
       "R16          6795          6795     6795           6795          6795   \n",
       "R32         12016         12016    12016          12016         12016   \n",
       "R64          1724          1724     1724           1724          1724   \n",
       "RR            342           342      342            342           342   \n",
       "SF           1796          1796     1796           1796          1796   \n",
       "\n",
       "       match_num  winner_id  winner_name  winner_hand  winner_ht  ...  \\\n",
       "round                                                             ...   \n",
       "BR             1          1            1            1          1  ...   \n",
       "F            942        942          942          942        942  ...   \n",
       "QF          3512       3512         3512         3512       3512  ...   \n",
       "R16         6795       6795         6795         6795       6795  ...   \n",
       "R32        12016      12016        12016        12016      12016  ...   \n",
       "R64         1724       1724         1724         1724       1724  ...   \n",
       "RR           342        342          342          342        342  ...   \n",
       "SF          1796       1796         1796         1796       1796  ...   \n",
       "\n",
       "       w_1stWon_pct  w_2ndWon_pct  w_GmsWon  w_GmsLoss  l_ace_pct  l_df_pct  \\\n",
       "round                                                                         \n",
       "BR                1             1         1          1          1         1   \n",
       "F               942           942       942        942        942       942   \n",
       "QF             3512          3512      3512       3512       3512      3512   \n",
       "R16            6795          6795      6795       6795       6795      6795   \n",
       "R32           12016         12016     12016      12016      12016     12016   \n",
       "R64            1724          1724      1724       1724       1724      1724   \n",
       "RR              342           342       342        342        342       342   \n",
       "SF             1796          1796      1796       1796       1796      1796   \n",
       "\n",
       "       l_1stIn_pct  l_2ndIn_pct  l_1stWon_pct  l_2ndWon_pct  \n",
       "round                                                        \n",
       "BR               1            1             1             1  \n",
       "F              942          942           942           942  \n",
       "QF            3512         3512          3512          3512  \n",
       "R16           6795         6795          6795          6795  \n",
       "R32          12016        12016         12016         12016  \n",
       "R64           1724         1724          1724          1724  \n",
       "RR             342          342           342           342  \n",
       "SF            1796         1796          1796          1796  \n",
       "\n",
       "[8 rows x 57 columns]"
      ]
     },
     "execution_count": 43,
     "metadata": {},
     "output_type": "execute_result"
    }
   ],
   "source": [
    "df[df.tourney_level=='A'].groupby('round').count()"
   ]
  },
  {
   "cell_type": "code",
   "execution_count": 44,
   "metadata": {},
   "outputs": [],
   "source": [
    "df[df.tourney_level=='A'].to_csv('data/match_level_A.csv')"
   ]
  },
  {
   "cell_type": "code",
   "execution_count": 45,
   "metadata": {},
   "outputs": [
    {
     "name": "stdout",
     "output_type": "stream",
     "text": [
      "Round code RR and BR are from level A - Other tourney level\n"
     ]
    }
   ],
   "source": [
    "print('Round code RR and BR are from level A - Other tourney level')"
   ]
  },
  {
   "cell_type": "code",
   "execution_count": 52,
   "metadata": {},
   "outputs": [
    {
     "name": "stdout",
     "output_type": "stream",
     "text": [
      "Added sequence number for each round\n",
      "Assigned temp value 11 and 10 for BR and RR.  RR and BR only used at leve lA games. Need more understanding on how RR and BR working in round sequence\n"
     ]
    }
   ],
   "source": [
    "print('Added sequence number for each round')\n",
    "df.loc[df['round']=='R128', 'round_num'] = 1\n",
    "df.loc[df['round']=='R64', 'round_num'] = 2\n",
    "df.loc[df['round']=='R32', 'round_num'] = 3\n",
    "df.loc[df['round']=='R16', 'round_num'] = 4\n",
    "df.loc[df['round']=='QF', 'round_num'] = 5\n",
    "df.loc[df['round']=='SF', 'round_num'] = 6\n",
    "df.loc[df['round']=='F', 'round_num'] = 7\n",
    "print('Assigned temp value 11 and 10 for BR and RR.  RR and BR only used at leve lA games. Need more understanding on how RR and BR working in round sequence')\n",
    "df.loc[df['round']=='RR', 'round_num'] = 10\n",
    "df.loc[df['round']=='BR', 'round_num'] = 11"
   ]
  },
  {
   "cell_type": "code",
   "execution_count": 47,
   "metadata": {},
   "outputs": [
    {
     "data": {
      "text/html": [
       "<div>\n",
       "<style scoped>\n",
       "    .dataframe tbody tr th:only-of-type {\n",
       "        vertical-align: middle;\n",
       "    }\n",
       "\n",
       "    .dataframe tbody tr th {\n",
       "        vertical-align: top;\n",
       "    }\n",
       "\n",
       "    .dataframe thead th {\n",
       "        text-align: right;\n",
       "    }\n",
       "</style>\n",
       "<table border=\"1\" class=\"dataframe\">\n",
       "  <thead>\n",
       "    <tr style=\"text-align: right;\">\n",
       "      <th></th>\n",
       "      <th>tourney_id</th>\n",
       "      <th>tourney_name</th>\n",
       "      <th>surface</th>\n",
       "      <th>tourney_level</th>\n",
       "      <th>tourney_date</th>\n",
       "      <th>match_num</th>\n",
       "      <th>winner_id</th>\n",
       "      <th>winner_name</th>\n",
       "      <th>winner_hand</th>\n",
       "      <th>winner_ht</th>\n",
       "      <th>...</th>\n",
       "      <th>w_2ndWon_pct</th>\n",
       "      <th>w_GmsWon</th>\n",
       "      <th>w_GmsLoss</th>\n",
       "      <th>l_ace_pct</th>\n",
       "      <th>l_df_pct</th>\n",
       "      <th>l_1stIn_pct</th>\n",
       "      <th>l_2ndIn_pct</th>\n",
       "      <th>l_1stWon_pct</th>\n",
       "      <th>l_2ndWon_pct</th>\n",
       "      <th>round_num</th>\n",
       "    </tr>\n",
       "  </thead>\n",
       "  <tbody>\n",
       "  </tbody>\n",
       "</table>\n",
       "<p>0 rows × 59 columns</p>\n",
       "</div>"
      ],
      "text/plain": [
       "Empty DataFrame\n",
       "Columns: [tourney_id, tourney_name, surface, tourney_level, tourney_date, match_num, winner_id, winner_name, winner_hand, winner_ht, winner_ioc, winner_age, loser_id, loser_name, loser_hand, loser_ht, loser_ioc, loser_age, score, best_of, round, minutes, w_ace, w_df, w_svpt, w_1stIn, w_1stWon, w_2ndWon, w_SvGms, w_bpSaved, w_bpFaced, l_ace, l_df, l_svpt, l_1stIn, l_1stWon, l_2ndWon, l_SvGms, l_bpSaved, l_bpFaced, winner_rank, winner_rank_points, loser_rank, loser_rank_points, w_ace_pct, w_df_pct, w_1stIn_pct, w_2ndIn_pct, w_1stWon_pct, w_2ndWon_pct, w_GmsWon, w_GmsLoss, l_ace_pct, l_df_pct, l_1stIn_pct, l_2ndIn_pct, l_1stWon_pct, l_2ndWon_pct, round_num]\n",
       "Index: []\n",
       "\n",
       "[0 rows x 59 columns]"
      ]
     },
     "execution_count": 47,
     "metadata": {},
     "output_type": "execute_result"
    }
   ],
   "source": [
    "df[df.round_num.isnull()]"
   ]
  },
  {
   "cell_type": "code",
   "execution_count": 48,
   "metadata": {},
   "outputs": [],
   "source": [
    "# Will focus on Tourney level G and M matches\n",
    "df_GM = df.query('tourney_level in [\"G\",\"M\"]')"
   ]
  },
  {
   "cell_type": "code",
   "execution_count": 49,
   "metadata": {},
   "outputs": [
    {
     "data": {
      "text/plain": [
       "round_num\n",
       "1.0    4994\n",
       "2.0    6090\n",
       "3.0    3611\n",
       "4.0    1836\n",
       "5.0     937\n",
       "6.0     464\n",
       "7.0     241\n",
       "Name: tourney_id, dtype: int64"
      ]
     },
     "execution_count": 49,
     "metadata": {},
     "output_type": "execute_result"
    }
   ],
   "source": [
    "df_GM.groupby('round_num').tourney_id.count()"
   ]
  },
  {
   "cell_type": "code",
   "execution_count": 50,
   "metadata": {},
   "outputs": [
    {
     "data": {
      "text/plain": [
       "round_num\n",
       "1.0    135.741089\n",
       "2.0    114.668144\n",
       "3.0    115.230130\n",
       "4.0    117.425381\n",
       "5.0    121.071505\n",
       "6.0    125.163793\n",
       "7.0    139.016598\n",
       "Name: minutes, dtype: float64"
      ]
     },
     "execution_count": 50,
     "metadata": {},
     "output_type": "execute_result"
    }
   ],
   "source": [
    "df_GM.groupby('round_num').minutes.mean()"
   ]
  },
  {
   "cell_type": "markdown",
   "metadata": {},
   "source": [
    "#### Export cleansed data to csv files for Data Story and EAD:"
   ]
  },
  {
   "cell_type": "code",
   "execution_count": 51,
   "metadata": {},
   "outputs": [
    {
     "name": "stdout",
     "output_type": "stream",
     "text": [
      "export cleansed data to csv files for Data Story and EAD\n"
     ]
    }
   ],
   "source": [
    "print('export cleansed data to csv files for Data Story and EAD')\n",
    "df.to_csv('data/df_main.csv')\n",
    "df_GM.to_csv('data/df_GM.csv')\n",
    "df_RL.to_csv('data/df_RL.csv')"
   ]
  }
 ],
 "metadata": {
  "kernelspec": {
   "display_name": "Python 3",
   "language": "python",
   "name": "python3"
  },
  "language_info": {
   "codemirror_mode": {
    "name": "ipython",
    "version": 3
   },
   "file_extension": ".py",
   "mimetype": "text/x-python",
   "name": "python",
   "nbconvert_exporter": "python",
   "pygments_lexer": "ipython3",
   "version": "3.7.3"
  }
 },
 "nbformat": 4,
 "nbformat_minor": 2
}
