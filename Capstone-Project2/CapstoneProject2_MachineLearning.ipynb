{
 "cells": [
  {
   "cell_type": "markdown",
   "metadata": {},
   "source": [
    "# Project 2 Machine Learning\n",
    "\n",
    "Data in the real world is messy. Dealing with messy data sets is painful and burns through time which could be spent analysing the data itself.\n",
    "\n",
    "This dataset contains historic work order text data for different divisions.  The data is generated using queries in a relational database and exported as csv files.  Some data are scrambled.  \n",
    "\n",
    "USPS Suffix data is fromhttps://pe.usps.com/text/pub28/28apc_002.htm"
   ]
  },
  {
   "cell_type": "code",
   "execution_count": 1082,
   "metadata": {},
   "outputs": [],
   "source": [
    "import pandas as pd\n",
    "import numpy as np\n",
    "import matplotlib.pyplot as plt\n",
    "import seaborn as sns\n",
    "import time\n",
    "from collections import Counter \n",
    "\n",
    "import re\n",
    "import ftfy\n",
    "from fuzzywuzzy import fuzz\n",
    "from fuzzywuzzy import process \n",
    "from sklearn.metrics.pairwise import cosine_similarity\n",
    "from sklearn.neighbors import NearestNeighbors\n",
    "\n",
    "from sklearn.feature_extraction.text import TfidfVectorizer"
   ]
  },
  {
   "cell_type": "code",
   "execution_count": 1083,
   "metadata": {},
   "outputs": [],
   "source": [
    "def cleanse_str(string): \n",
    "    string = ftfy.fix_text(string) # fix text encoding issues\n",
    "    string = string.encode(\"ascii\", errors=\"ignore\").decode() #remove non ascii chars\n",
    "    string = string.lower() #make lower case\n",
    "    chars_to_remove = [\"#\", \"@\", \")\",\"(\",\".\",\"|\",\"[\",\"]\",\"{\",\"}\",\"'\"]\n",
    "    rx = '[' + re.escape(''.join(chars_to_remove)) + ']'\n",
    "    string = re.sub(rx, '', string) #remove the list of chars defined above\n",
    "    string = string.replace('&', 'and')\n",
    "    string = string.replace(',', ' ')\n",
    "    string = string.replace('`', ' ')\n",
    "    #string = string.replace('unknown', ' ')\n",
    "    string = string.replace('-', ' ')\n",
    "    string = string.replace('+', ' and ')\n",
    "    #string = string.title() # normalise case - capital at start of each word\n",
    "    string = re.sub(' +',' ',string).strip() # get rid of multiple spaces and replace with a single space\n",
    "    string = ' '+ string +' ' # pad names for ngrams...\n",
    "    string = re.sub(r'[,-./]|\\sBD',r'', string)\n",
    "\n",
    "    return string"
   ]
  },
  {
   "cell_type": "code",
   "execution_count": 1084,
   "metadata": {},
   "outputs": [],
   "source": [
    "def cleanse_addr_suffix (string): \n",
    "    \n",
    "    string = re.sub(r'[0-9]+', '', string)\n",
    "    \n",
    "    return string"
   ]
  },
  {
   "cell_type": "code",
   "execution_count": 1085,
   "metadata": {},
   "outputs": [],
   "source": [
    "def standardize_addr_suffix (string):\n",
    "    \n",
    "    string = string + ' '\n",
    "    \n",
    "    #string = cleanse_addr_suffix(string)\n",
    "    \n",
    "    string = re.sub(' aly ', ' alley ', string)\n",
    "    string = re.sub(' annex ', ' anex ', string)\n",
    "    string = re.sub(' anx ', ' anex ', string)\n",
    "    string = re.sub(' ave ', ' avenue ', string)\n",
    "    string = re.sub(' av ', ' avenue ', string)\n",
    "    string = re.sub(' aven ', ' avenue ', string)\n",
    "    string = re.sub(' bch ', ' beach ', string)\n",
    "    string = re.sub(' bnd ', ' bend ', string)\n",
    "    string = re.sub(' blf ', ' bluff ', string)\n",
    "    string = re.sub(' btm ', ' bottom ', string)\n",
    "    string = re.sub(' blvd ', ' boulevard ', string)\n",
    "    string = re.sub(' br ', ' branch ', string)\n",
    "    string = re.sub(' brg ', ' bridge ', string)\n",
    "    string = re.sub(' brk ', ' brook ', string)\n",
    "    string = re.sub(' byp ', ' bypass ', string)\n",
    "    string = re.sub(' bypas ', ' bypass ', string)\n",
    "    string = re.sub(' cp ', ' camp ', string)\n",
    "    string = re.sub(' cent ', ' center ', string)\n",
    "    string = re.sub(' centre ', ' center ', string)\n",
    "    string = re.sub(' cntr ', ' center ', string)\n",
    "    string = re.sub(' centr ', ' center ', string)\n",
    "    string = re.sub(' ctr ', ' center ', string)\n",
    "    string = re.sub(' circl ', ' circle ', string)\n",
    "    string = re.sub(' cir ', ' circle ', string)\n",
    "    string = re.sub(' cor ', ' corner ', string)\n",
    "    string = re.sub(' cors ', ' corners ', string)\n",
    "    string = re.sub(' crse ', ' course ', string)\n",
    "    string = re.sub(' ct ', ' court ', string)\n",
    "    string = re.sub(' cts ', ' courts ', string)\n",
    "    string = re.sub(' cv ', ' cove ', string)\n",
    "    string = re.sub(' crk ', ' creek ', string)\n",
    "    string = re.sub(' cres ', ' crescent ', string)\n",
    "    string = re.sub(' div ', ' divide ', string)\n",
    "    string = re.sub(' dr ', ' drive ', string)\n",
    "    string = re.sub(' drv ', ' drive ', string)\n",
    "    string = re.sub(' drives ', ' drives  ', string)\n",
    "    string = re.sub(' est ', ' estate ', string)\n",
    "    string = re.sub(' ests ', ' estates ', string)\n",
    "    string = re.sub(' express ', ' expressway ', string)\n",
    "    string = re.sub(' ext ', ' extension ', string)\n",
    "    string = re.sub(' fry ', ' ferry ', string)\n",
    "    string = re.sub(' fld ', ' field ', string)\n",
    "    string = re.sub(' frd ', ' ford ', string)\n",
    "    string = re.sub(' frst ', ' forest ', string)\n",
    "    string = re.sub(' forg ', ' forge ', string)\n",
    "    string = re.sub(' frk ', ' fork ', string)\n",
    "    string = re.sub(' ft ', ' fort ', string)\n",
    "    string = re.sub(' gdns ', ' gardens ', string)\n",
    "    string = re.sub(' grdns ', ' gardens ', string)\n",
    "    string = re.sub(' gatewy ', ' gateway ', string)\n",
    "    string = re.sub(' gln ', ' glen ', string)\n",
    "    string = re.sub(' grn ', ' green ', string)\n",
    "    string = re.sub(' grov ', ' grove ', string)\n",
    "    string = re.sub(' grv ', ' grove ', string)\n",
    "    string = re.sub(' harbr ', ' harbor ', string)\n",
    "    string = re.sub(' hvn ', ' haven ', string)\n",
    "    string = re.sub(' hts ', ' heights ', string)\n",
    "    string = re.sub(' ht ', ' heights ', string)\n",
    "    string = re.sub(' hwy ', ' highway ', string)\n",
    "    string = re.sub(' hway ', ' highway ', string)\n",
    "    string = re.sub(' hiway ', ' highway ', string)\n",
    "    string = re.sub(' hl ', ' hill ', string)\n",
    "    string = re.sub(' hls ', ' hills ', string)\n",
    "    string = re.sub(' holw ', ' hollow ', string)\n",
    "    string = re.sub(' is ', ' island ', string)\n",
    "    string = re.sub(' jct ', ' junction ', string)\n",
    "    string = re.sub(' knl ', ' knoll ', string)\n",
    "    string = re.sub(' knls ', ' knolls ', string)\n",
    "    string = re.sub(' lk ', ' lake ', string)\n",
    "    string = re.sub(' lks ', ' lakes ', string)\n",
    "    string = re.sub(' lndg ', ' landing ', string)\n",
    "    string = re.sub(' ln ', ' lane ', string)\n",
    "    string = re.sub(' lf ', ' loaf ', string)\n",
    "    string = re.sub(' lodg ', ' lodge ', string)\n",
    "    string = re.sub(' ldg ', ' lodge ', string)\n",
    "    string = re.sub(' mnr ', ' manor ', string)\n",
    "    string = re.sub(' mdw ', ' meadows ', string)\n",
    "    string = re.sub(' mdws ', ' meadows ', string)\n",
    "    string = re.sub(' mnt ', ' mount ', string)\n",
    "    string = re.sub(' mt ', ' mount ', string)\n",
    "    string = re.sub(' mtn ', ' mountain ', string)\n",
    "    string = re.sub(' orch ', ' orchard ', string)\n",
    "    string = re.sub(' prk ', ' park ', string)\n",
    "    string = re.sub(' pky ', ' parkway ', string)\n",
    "    string = re.sub(' pkwy ', ' parkway ', string)\n",
    "    string = re.sub(' pl ', ' place ', string)\n",
    "    string = re.sub(' pln ', ' plain ', string)\n",
    "    string = re.sub(' plns ', ' plains ', string)\n",
    "    string = re.sub(' plz ', ' plaza ', string)\n",
    "    string = re.sub(' pt ', ' point ', string)\n",
    "    string = re.sub(' pts ', ' points ', string)\n",
    "    string = re.sub(' pr ', ' prairie ', string)\n",
    "    string = re.sub(' rst ', ' rest ', string)\n",
    "    string = re.sub(' rdge ', ' ridge ', string)\n",
    "    string = re.sub(' rdg ', ' ridge ', string)\n",
    "    string = re.sub(' rvr ', ' river ', string)\n",
    "    string = re.sub(' rd ', ' road ', string)\n",
    "    string = re.sub(' rds ', ' roads ', string)\n",
    "    string = re.sub(' shr ', ' shore ', string)\n",
    "    string = re.sub(' spg ', ' spring ', string)\n",
    "    string = re.sub(' spgs ', ' springs ', string)\n",
    "    string = re.sub(' sq ', ' square ', string)\n",
    "    string = re.sub(' stn ', ' station ', string)\n",
    "    string = re.sub(' sta ', ' station ', string)\n",
    "    string = re.sub(' str ', ' street ', string)\n",
    "    string = re.sub(' st ', ' street ', string)\n",
    "    string = re.sub(' ter ', ' terrace ', string)\n",
    "    string = re.sub(' terr ', ' terrace ', string)\n",
    "    string = re.sub(' trce ', ' trace ', string)\n",
    "    string = re.sub(' tracks ', ' track ', string)\n",
    "    string = re.sub(' trak ', ' track ', string)\n",
    "    string = re.sub(' trails ', ' trail ', string)\n",
    "    string = re.sub(' trl ', ' trail ', string)\n",
    "    string = re.sub(' trlr ', ' trailer ', string)\n",
    "    string = re.sub(' un ', ' union ', string)\n",
    "    string = re.sub(' vly ', ' valley ', string)\n",
    "    string = re.sub(' vally ', ' valley ', string)\n",
    "    string = re.sub(' vw ', ' view ', string)\n",
    "    string = re.sub(' villiage ', ' village ', string)\n",
    "    string = re.sub(' vill ', ' village ', string)\n",
    "    string = re.sub(' vlg ', ' village ', string)\n",
    "    string = re.sub(' vl ', ' ville ', string)\n",
    "    string = re.sub(' vis ', ' vista ', string)\n",
    "    string = re.sub(' wy ', ' way ', string)\n",
    "\n",
    "\n",
    "    return string"
   ]
  },
  {
   "cell_type": "code",
   "execution_count": 1086,
   "metadata": {},
   "outputs": [],
   "source": [
    "def get_word_list (list_of_string):\n",
    "    split_words = []\n",
    "    \n",
    "    for value in list_of_string:#.iteritems():\n",
    "        split_word = value.split()\n",
    "        split_words.extend(split_word)\n",
    "        \n",
    "    return split_words"
   ]
  },
  {
   "cell_type": "code",
   "execution_count": 1087,
   "metadata": {},
   "outputs": [],
   "source": [
    "# load data\n",
    "file_path = 'local_directory'\n",
    "\n",
    "df_match = pd.read_csv(file_path + 'addr_match.csv')\n",
    "df_exception = pd.read_csv(file_path + 'addr_exception.csv')\n",
    "\n",
    "df_raw_sum = pd.read_csv(file_path + 'addr_raw_sum.csv')\n",
    "df_match_1_n = pd.read_csv(file_path + 'addr_match_1_n.csv')"
   ]
  },
  {
   "cell_type": "code",
   "execution_count": 1088,
   "metadata": {},
   "outputs": [],
   "source": [
    "df_master = pd.read_csv(file_path + 'addr_master.csv')"
   ]
  },
  {
   "cell_type": "code",
   "execution_count": 1089,
   "metadata": {},
   "outputs": [],
   "source": [
    "df_usps_suffix = df=pd.read_csv(file_path + 'usps_suffix.csv')"
   ]
  },
  {
   "cell_type": "code",
   "execution_count": 1090,
   "metadata": {},
   "outputs": [],
   "source": [
    "#df=pd.read_csv(file_path + 'Sample_Data_WOAddr_messy.csv')"
   ]
  },
  {
   "cell_type": "code",
   "execution_count": 1091,
   "metadata": {},
   "outputs": [
    {
     "name": "stdout",
     "output_type": "stream",
     "text": [
      "<class 'pandas.core.frame.DataFrame'>\n",
      "RangeIndex: 515 entries, 0 to 514\n",
      "Data columns (total 3 columns):\n",
      "Primary_Suffix    515 non-null object\n",
      "Comm_suffix       515 non-null object\n",
      "Std_suffix        515 non-null object\n",
      "dtypes: object(3)\n",
      "memory usage: 12.1+ KB\n"
     ]
    }
   ],
   "source": [
    "df_usps_suffix.info()"
   ]
  },
  {
   "cell_type": "code",
   "execution_count": 1092,
   "metadata": {},
   "outputs": [],
   "source": [
    "df_usps_suffix['Primary_Suffix'] = df_usps_suffix['Primary_Suffix'].str.lower()\n",
    "df_usps_suffix['Comm_suffix'] = df_usps_suffix['Comm_suffix'].str.lower()\n",
    "df_usps_suffix['Std_suffix'] = df_usps_suffix['Std_suffix'].str.lower()"
   ]
  },
  {
   "cell_type": "code",
   "execution_count": 1093,
   "metadata": {},
   "outputs": [
    {
     "data": {
      "text/html": [
       "<div>\n",
       "<style scoped>\n",
       "    .dataframe tbody tr th:only-of-type {\n",
       "        vertical-align: middle;\n",
       "    }\n",
       "\n",
       "    .dataframe tbody tr th {\n",
       "        vertical-align: top;\n",
       "    }\n",
       "\n",
       "    .dataframe thead th {\n",
       "        text-align: right;\n",
       "    }\n",
       "</style>\n",
       "<table border=\"1\" class=\"dataframe\">\n",
       "  <thead>\n",
       "    <tr style=\"text-align: right;\">\n",
       "      <th></th>\n",
       "      <th>Primary_Suffix</th>\n",
       "      <th>Comm_suffix</th>\n",
       "      <th>Std_suffix</th>\n",
       "    </tr>\n",
       "  </thead>\n",
       "  <tbody>\n",
       "    <tr>\n",
       "      <th>0</th>\n",
       "      <td>alley</td>\n",
       "      <td>allee</td>\n",
       "      <td>aly</td>\n",
       "    </tr>\n",
       "    <tr>\n",
       "      <th>1</th>\n",
       "      <td>alley</td>\n",
       "      <td>alley</td>\n",
       "      <td>aly</td>\n",
       "    </tr>\n",
       "    <tr>\n",
       "      <th>2</th>\n",
       "      <td>alley</td>\n",
       "      <td>ally</td>\n",
       "      <td>aly</td>\n",
       "    </tr>\n",
       "    <tr>\n",
       "      <th>3</th>\n",
       "      <td>alley</td>\n",
       "      <td>aly</td>\n",
       "      <td>aly</td>\n",
       "    </tr>\n",
       "    <tr>\n",
       "      <th>4</th>\n",
       "      <td>anex</td>\n",
       "      <td>anex</td>\n",
       "      <td>anx</td>\n",
       "    </tr>\n",
       "  </tbody>\n",
       "</table>\n",
       "</div>"
      ],
      "text/plain": [
       "  Primary_Suffix Comm_suffix Std_suffix\n",
       "0          alley       allee        aly\n",
       "1          alley       alley        aly\n",
       "2          alley        ally        aly\n",
       "3          alley         aly        aly\n",
       "4           anex        anex        anx"
      ]
     },
     "execution_count": 1093,
     "metadata": {},
     "output_type": "execute_result"
    }
   ],
   "source": [
    "df_usps_suffix.head()"
   ]
  },
  {
   "cell_type": "code",
   "execution_count": 1094,
   "metadata": {},
   "outputs": [
    {
     "name": "stdout",
     "output_type": "stream",
     "text": [
      "<class 'pandas.core.frame.DataFrame'>\n",
      "RangeIndex: 505767 entries, 0 to 505766\n",
      "Data columns (total 3 columns):\n",
      "P_DIV_CD    505767 non-null object\n",
      "P_ADDR      505761 non-null object\n",
      "P_CITY      505767 non-null object\n",
      "dtypes: object(3)\n",
      "memory usage: 11.6+ MB\n"
     ]
    }
   ],
   "source": [
    "df_master.info()"
   ]
  },
  {
   "cell_type": "code",
   "execution_count": 1095,
   "metadata": {},
   "outputs": [],
   "source": [
    "df_master.dropna(inplace=True)"
   ]
  },
  {
   "cell_type": "code",
   "execution_count": 1096,
   "metadata": {},
   "outputs": [
    {
     "name": "stdout",
     "output_type": "stream",
     "text": [
      "<class 'pandas.core.frame.DataFrame'>\n",
      "Int64Index: 505761 entries, 0 to 505766\n",
      "Data columns (total 3 columns):\n",
      "P_DIV_CD    505761 non-null object\n",
      "P_ADDR      505761 non-null object\n",
      "P_CITY      505761 non-null object\n",
      "dtypes: object(3)\n",
      "memory usage: 15.4+ MB\n"
     ]
    }
   ],
   "source": [
    "df_master.info()"
   ]
  },
  {
   "cell_type": "code",
   "execution_count": 1097,
   "metadata": {},
   "outputs": [
    {
     "name": "stdout",
     "output_type": "stream",
     "text": [
      "<class 'pandas.core.frame.DataFrame'>\n",
      "RangeIndex: 30000 entries, 0 to 29999\n",
      "Data columns (total 10 columns):\n",
      "DATAID         30000 non-null int64\n",
      "M_TXT          30000 non-null object\n",
      "M_DIV_CD       30000 non-null object\n",
      "M_ADDR         30000 non-null object\n",
      "M_CITY         30000 non-null object\n",
      "M_ADDR_TYPE    30000 non-null object\n",
      "P_ID           30000 non-null int64\n",
      "P_ADDR         30000 non-null object\n",
      "P_CITY         30000 non-null object\n",
      "MATCHCODE      30000 non-null object\n",
      "dtypes: int64(2), object(8)\n",
      "memory usage: 2.3+ MB\n"
     ]
    }
   ],
   "source": [
    "df_match.info()"
   ]
  },
  {
   "cell_type": "code",
   "execution_count": 1098,
   "metadata": {},
   "outputs": [
    {
     "name": "stdout",
     "output_type": "stream",
     "text": [
      "<class 'pandas.core.frame.DataFrame'>\n",
      "RangeIndex: 530437 entries, 0 to 530436\n",
      "Data columns (total 6 columns):\n",
      "DATAID         530437 non-null object\n",
      "M_TXT          530437 non-null object\n",
      "M_DIV_CD       530437 non-null object\n",
      "M_ADDR         526190 non-null object\n",
      "M_CITY         530320 non-null object\n",
      "M_ADDR_TYPE    530401 non-null object\n",
      "dtypes: object(6)\n",
      "memory usage: 24.3+ MB\n"
     ]
    }
   ],
   "source": [
    "df_exception.info()"
   ]
  },
  {
   "cell_type": "code",
   "execution_count": 1099,
   "metadata": {},
   "outputs": [
    {
     "data": {
      "text/plain": [
       "\"\\ndf_exception['M_ADDR'].fillna(df_exception['M_TXT'], inplace=True)\\ndf_exception['M_ADDR_TYPE'].fillna('Unknown', inplace=True)\\ndf_exception['M_CITY'].fillna('Unknown', inplace=True)\\n\""
      ]
     },
     "execution_count": 1099,
     "metadata": {},
     "output_type": "execute_result"
    }
   ],
   "source": [
    "# handle NULL fields\n",
    "df_exception.dropna(inplace=True)\n",
    "'''\n",
    "df_exception['M_ADDR'].fillna(df_exception['M_TXT'], inplace=True)\n",
    "df_exception['M_ADDR_TYPE'].fillna('Unknown', inplace=True)\n",
    "df_exception['M_CITY'].fillna('Unknown', inplace=True)\n",
    "'''"
   ]
  },
  {
   "cell_type": "code",
   "execution_count": 1100,
   "metadata": {},
   "outputs": [
    {
     "data": {
      "text/plain": [
       "array(['SIMPLE', 'LOT', 'ROUTE', 'RANGE', 'NOTDEFINED', 'BLOCK', 'BLANK',\n",
       "       'MULTI'], dtype=object)"
      ]
     },
     "execution_count": 1100,
     "metadata": {},
     "output_type": "execute_result"
    }
   ],
   "source": [
    "df_exception.M_ADDR_TYPE.unique()"
   ]
  },
  {
   "cell_type": "code",
   "execution_count": 1101,
   "metadata": {},
   "outputs": [
    {
     "name": "stdout",
     "output_type": "stream",
     "text": [
      "Start text cleansing ...\n",
      "SELFTIMED: 58.14395713806152\n"
     ]
    }
   ],
   "source": [
    "# cleanse text\n",
    "print('Start text cleansing ...')\n",
    "t1 = time.time()\n",
    "\n",
    "df_match['M_ADDR_c'] = df_match['M_ADDR'].apply(cleanse_str)\n",
    "df_match['P_ADDR_c'] = df_match['P_ADDR'].apply(cleanse_str)\n",
    "df_match['M_TXT_c'] = df_match['M_TXT'].apply(cleanse_str)\n",
    "df_exception['M_ADDR_c'] = df_exception['M_ADDR'].apply(cleanse_str)\n",
    "df_exception['M_TXT_c'] = df_exception['M_TXT'].apply(cleanse_str)\n",
    "\n",
    "df_match['M_CITY'] = df_match['M_CITY'].str.lower()\n",
    "df_match['P_CITY'] = df_match['P_CITY'].str.lower()\n",
    "df_exception['M_CITY'] = df_exception['M_CITY'].str.lower()\n",
    "\n",
    "t = time.time() - t1\n",
    "print(\"SELFTIMED:\", t)"
   ]
  },
  {
   "cell_type": "code",
   "execution_count": 1102,
   "metadata": {},
   "outputs": [],
   "source": [
    "# some address columns only contain number.  \n",
    "\n",
    "df_exception['M_ADDR_n'] = df_exception['M_ADDR_c'].str.replace(' ', '')\n",
    "df_exception['ADDR_isnumeric']=df_exception.M_ADDR_n.str.isnumeric()\n",
    "# Store numeric address to a seperate dataframe\n",
    "df_exception_numeric = df_exception[df_exception.ADDR_isnumeric==True]\n",
    "# Exlude numeric addresses from data set \n",
    "df_exception = df_exception[df_exception.ADDR_isnumeric==False]"
   ]
  },
  {
   "cell_type": "code",
   "execution_count": 1103,
   "metadata": {},
   "outputs": [
    {
     "name": "stdout",
     "output_type": "stream",
     "text": [
      "<class 'pandas.core.frame.DataFrame'>\n",
      "Int64Index: 525887 entries, 0 to 530436\n",
      "Data columns (total 10 columns):\n",
      "DATAID            525887 non-null object\n",
      "M_TXT             525887 non-null object\n",
      "M_DIV_CD          525887 non-null object\n",
      "M_ADDR            525887 non-null object\n",
      "M_CITY            525887 non-null object\n",
      "M_ADDR_TYPE       525887 non-null object\n",
      "M_ADDR_c          525887 non-null object\n",
      "M_TXT_c           525887 non-null object\n",
      "M_ADDR_n          525887 non-null object\n",
      "ADDR_isnumeric    525887 non-null bool\n",
      "dtypes: bool(1), object(9)\n",
      "memory usage: 40.6+ MB\n"
     ]
    }
   ],
   "source": [
    "df_exception.info()"
   ]
  },
  {
   "cell_type": "code",
   "execution_count": 1104,
   "metadata": {},
   "outputs": [
    {
     "name": "stdout",
     "output_type": "stream",
     "text": [
      "Start master data set text cleansing ...\n",
      "SELFTIMED: 94.92632150650024\n"
     ]
    }
   ],
   "source": [
    "print('Start master data set text cleansing ...')\n",
    "time1 = time.time()\n",
    "\n",
    "df_master['P_ADDR_c'] = df_master['P_ADDR'].apply(cleanse_str)\n",
    "df_master['P_CITY_c'] = df_master['P_CITY'].apply(cleanse_str)\n",
    "\n",
    "t = time.time() - t1\n",
    "print(\"SELFTIMED:\", t)"
   ]
  },
  {
   "cell_type": "code",
   "execution_count": 1105,
   "metadata": {},
   "outputs": [],
   "source": [
    "#df_master.head()"
   ]
  },
  {
   "cell_type": "code",
   "execution_count": 1106,
   "metadata": {},
   "outputs": [
    {
     "name": "stdout",
     "output_type": "stream",
     "text": [
      "<class 'pandas.core.frame.DataFrame'>\n",
      "RangeIndex: 30000 entries, 0 to 29999\n",
      "Data columns (total 13 columns):\n",
      "DATAID         30000 non-null int64\n",
      "M_TXT          30000 non-null object\n",
      "M_DIV_CD       30000 non-null object\n",
      "M_ADDR         30000 non-null object\n",
      "M_CITY         30000 non-null object\n",
      "M_ADDR_TYPE    30000 non-null object\n",
      "P_ID           30000 non-null int64\n",
      "P_ADDR         30000 non-null object\n",
      "P_CITY         30000 non-null object\n",
      "MATCHCODE      30000 non-null object\n",
      "M_ADDR_c       30000 non-null object\n",
      "P_ADDR_c       30000 non-null object\n",
      "M_TXT_c        30000 non-null object\n",
      "dtypes: int64(2), object(11)\n",
      "memory usage: 3.0+ MB\n"
     ]
    }
   ],
   "source": [
    "df_match.info()"
   ]
  },
  {
   "cell_type": "code",
   "execution_count": 1107,
   "metadata": {},
   "outputs": [
    {
     "name": "stdout",
     "output_type": "stream",
     "text": [
      "<class 'pandas.core.frame.DataFrame'>\n",
      "Int64Index: 12158 entries, 8649 to 530435\n",
      "Data columns (total 10 columns):\n",
      "DATAID            12158 non-null object\n",
      "M_TXT             12158 non-null object\n",
      "M_DIV_CD          12158 non-null object\n",
      "M_ADDR            12158 non-null object\n",
      "M_CITY            12158 non-null object\n",
      "M_ADDR_TYPE       12158 non-null object\n",
      "M_ADDR_c          12158 non-null object\n",
      "M_TXT_c           12158 non-null object\n",
      "M_ADDR_n          12158 non-null object\n",
      "ADDR_isnumeric    12158 non-null bool\n",
      "dtypes: bool(1), object(9)\n",
      "memory usage: 961.7+ KB\n"
     ]
    }
   ],
   "source": [
    "df_exception_s= df_exception[df_exception.M_ADDR_TYPE=='SIMPLE']\n",
    "df_exception_s[df_exception_s.M_DIV_CD=='d6'].info()"
   ]
  },
  {
   "cell_type": "code",
   "execution_count": null,
   "metadata": {},
   "outputs": [],
   "source": []
  },
  {
   "cell_type": "markdown",
   "metadata": {},
   "source": [
    "## EDA"
   ]
  },
  {
   "cell_type": "markdown",
   "metadata": {},
   "source": [
    "### Analyze address suffix frenquency and format \n",
    "\n",
    "Will use collection Counter to count possible suffix used by address data sets"
   ]
  },
  {
   "cell_type": "code",
   "execution_count": 1108,
   "metadata": {},
   "outputs": [
    {
     "name": "stdout",
     "output_type": "stream",
     "text": [
      "start ...\n",
      "Removed number from string.  Time used  0.13886809349060059\n",
      "Split into words.  Time used  0.16995024681091309\n",
      "Completed in  0.20203614234924316\n"
     ]
    }
   ],
   "source": [
    "# find the most frenqucent words - find out address suffix\n",
    "from collections import Counter \n",
    "\n",
    "print('start ...')\n",
    "\n",
    "t1=time.time()\n",
    "\n",
    "df_list_m= df_match['M_ADDR_c']#.apply(cleanse_addr_suffix)\n",
    "\n",
    "t = time.time() - t1\n",
    "print('Removed number from string.  Time used ', t)\n",
    "  \n",
    "# split() returns list of all the words in the string \n",
    "split_it_m = get_word_list(df_list_m)\n",
    "  \n",
    "t = time.time() - t1\n",
    "print('Split into words.  Time used ', t)\n",
    "\n",
    "# Pass the split_it list to instance of Counter class. \n",
    "Counter_m = Counter(split_it_m) \n",
    "  \n",
    "# most_common() produces k frequently encountered \n",
    "# input values and their respective counts. \n",
    "most_occur_m = Counter_m.most_common(50) \n",
    "  \n",
    "#print(most_occur_m) \n",
    "\n",
    "t = time.time() - t1\n",
    "print('Completed in ', t)"
   ]
  },
  {
   "cell_type": "code",
   "execution_count": 1109,
   "metadata": {},
   "outputs": [
    {
     "name": "stdout",
     "output_type": "stream",
     "text": [
      "start ...\n",
      "Removed number from string.  Time used  0.12282514572143555\n",
      "Split into words.  Time used  0.6742870807647705\n",
      "Completed in  1.1234793663024902\n"
     ]
    }
   ],
   "source": [
    "# find the most frenqucent words - find out address suffix\n",
    "from collections import Counter \n",
    "\n",
    "print('start ...')\n",
    "\n",
    "t1=time.time()\n",
    "\n",
    "df_list1 = df_exception['M_ADDR_c']#.apply(cleanse_addr_suffix)\n",
    "\n",
    "t = time.time() - t1\n",
    "print('Removed number from string.  Time used ', t)\n",
    "  \n",
    "# split() returns list of all the words in the string \n",
    "split_it1 = get_word_list(df_list1)\n",
    "  \n",
    "t = time.time() - t1\n",
    "print('Split into words.  Time used ', t)\n",
    "\n",
    "# Pass the split_it list to instance of Counter class. \n",
    "Counter1 = Counter(split_it1) \n",
    "  \n",
    "# most_common() produces k frequently encountered \n",
    "# input values and their respective counts. \n",
    "most_occur1 = Counter1.most_common(50) \n",
    "  \n",
    "#print(most_occur1) \n",
    "\n",
    "t = time.time() - t1\n",
    "print('Completed in ', t)"
   ]
  },
  {
   "cell_type": "code",
   "execution_count": 1110,
   "metadata": {},
   "outputs": [
    {
     "name": "stdout",
     "output_type": "stream",
     "text": [
      "start ...\n",
      "Removed number from string.  Time used  0.027070283889770508\n",
      "Split into words.  Time used  0.6587467193603516\n",
      "Completed in  0.9219443798065186\n"
     ]
    }
   ],
   "source": [
    "# find the most frenqucent words - find out address suffix\n",
    "from collections import Counter \n",
    "\n",
    "print('start ...')\n",
    "\n",
    "t1=time.time()\n",
    "\n",
    "df_list2= df_master['P_ADDR_c']#.apply(cleanse_addr_suffix)\n",
    "\n",
    "t = time.time() - t1\n",
    "print('Removed number from string.  Time used ', t)\n",
    "  \n",
    "# split() returns list of all the words in the string \n",
    "split_it2 = get_word_list(df_list2)\n",
    "  \n",
    "t = time.time() - t1\n",
    "print('Split into words.  Time used ', t)\n",
    "\n",
    "# Pass the split_it list to instance of Counter class. \n",
    "Counter2 = Counter(split_it2) \n",
    "  \n",
    "# most_common() produces k frequently encountered \n",
    "# input values and their respective counts. \n",
    "most_occur2 = Counter2.most_common(50) \n",
    "  \n",
    "#print(most_occur2) \n",
    "\n",
    "t = time.time() - t1\n",
    "print('Completed in ', t)"
   ]
  },
  {
   "cell_type": "code",
   "execution_count": 1111,
   "metadata": {},
   "outputs": [],
   "source": [
    "# convert Counter into Dataframe\n",
    "df_match_counter = pd.DataFrame.from_dict(Counter_m, orient='index').reset_index()\n",
    "df_match_counter.columns =  ['Word_Seg', 'cnt']\n",
    "\n",
    "df_exception_counter = pd.DataFrame.from_dict(Counter1, orient='index').reset_index()\n",
    "df_exception_counter.columns = ['Word_Seg', 'cnt'] \n",
    "\n",
    "df_master_counter = pd.DataFrame.from_dict(Counter2, orient='index').reset_index()\n",
    "df_master_counter.columns = ['Word_Seg', 'cnt']"
   ]
  },
  {
   "cell_type": "code",
   "execution_count": 1112,
   "metadata": {},
   "outputs": [
    {
     "name": "stdout",
     "output_type": "stream",
     "text": [
      "<class 'pandas.core.frame.DataFrame'>\n",
      "RangeIndex: 34004 entries, 0 to 34003\n",
      "Data columns (total 2 columns):\n",
      "Word_Seg    34004 non-null object\n",
      "cnt         34004 non-null int64\n",
      "dtypes: int64(1), object(1)\n",
      "memory usage: 531.4+ KB\n"
     ]
    }
   ],
   "source": [
    "df_exception_counter.info()"
   ]
  },
  {
   "cell_type": "markdown",
   "metadata": {},
   "source": [
    "### Identify commonly used suffix\n",
    "\n",
    "Join split words with commonly used suffix variances provided by USPS data set"
   ]
  },
  {
   "cell_type": "code",
   "execution_count": 1113,
   "metadata": {},
   "outputs": [],
   "source": [
    "resultm = pd.merge(df_match_counter, df_usps_suffix, how='inner', left_on='Word_Seg', right_on='Comm_suffix')\n",
    "result1 = pd.merge(df_exception_counter, df_usps_suffix, how='inner', left_on='Word_Seg', right_on='Comm_suffix')\n",
    "result2 = pd.merge(df_master_counter, df_usps_suffix, how='inner', left_on='Word_Seg', right_on='Comm_suffix')"
   ]
  },
  {
   "cell_type": "code",
   "execution_count": 1114,
   "metadata": {},
   "outputs": [
    {
     "name": "stdout",
     "output_type": "stream",
     "text": [
      "<class 'pandas.core.frame.DataFrame'>\n",
      "Int64Index: 214 entries, 0 to 213\n",
      "Data columns (total 5 columns):\n",
      "Word_Seg          214 non-null object\n",
      "cnt               214 non-null int64\n",
      "Primary_Suffix    214 non-null object\n",
      "Comm_suffix       214 non-null object\n",
      "Std_suffix        214 non-null object\n",
      "dtypes: int64(1), object(4)\n",
      "memory usage: 10.0+ KB\n"
     ]
    }
   ],
   "source": [
    "result2.info()"
   ]
  },
  {
   "cell_type": "code",
   "execution_count": 1115,
   "metadata": {},
   "outputs": [],
   "source": [
    "resultm.to_csv(file_path + 'suffix_resultm.csv')\n",
    "result1.to_csv(file_path + 'suffix_result1.csv')\n",
    "result2.to_csv(file_path + 'suffix_result2.csv')"
   ]
  },
  {
   "cell_type": "code",
   "execution_count": 1116,
   "metadata": {},
   "outputs": [
    {
     "data": {
      "text/plain": [
       "(260, 214)"
      ]
     },
     "execution_count": 1116,
     "metadata": {},
     "output_type": "execute_result"
    }
   ],
   "source": [
    "len(result1.Word_Seg.unique()), len(result2.Word_Seg.unique())#head()"
   ]
  },
  {
   "cell_type": "code",
   "execution_count": 1117,
   "metadata": {},
   "outputs": [
    {
     "data": {
      "text/html": [
       "<div>\n",
       "<style scoped>\n",
       "    .dataframe tbody tr th:only-of-type {\n",
       "        vertical-align: middle;\n",
       "    }\n",
       "\n",
       "    .dataframe tbody tr th {\n",
       "        vertical-align: top;\n",
       "    }\n",
       "\n",
       "    .dataframe thead th {\n",
       "        text-align: right;\n",
       "    }\n",
       "</style>\n",
       "<table border=\"1\" class=\"dataframe\">\n",
       "  <thead>\n",
       "    <tr style=\"text-align: right;\">\n",
       "      <th></th>\n",
       "      <th>Word_Seg</th>\n",
       "      <th>cnt</th>\n",
       "      <th>Primary_Suffix</th>\n",
       "      <th>Comm_suffix</th>\n",
       "      <th>Std_suffix</th>\n",
       "    </tr>\n",
       "  </thead>\n",
       "  <tbody>\n",
       "    <tr>\n",
       "      <th>6</th>\n",
       "      <td>pl</td>\n",
       "      <td>13371</td>\n",
       "      <td>place</td>\n",
       "      <td>pl</td>\n",
       "      <td>pl</td>\n",
       "    </tr>\n",
       "    <tr>\n",
       "      <th>118</th>\n",
       "      <td>place</td>\n",
       "      <td>545</td>\n",
       "      <td>place</td>\n",
       "      <td>place</td>\n",
       "      <td>pl</td>\n",
       "    </tr>\n",
       "  </tbody>\n",
       "</table>\n",
       "</div>"
      ],
      "text/plain": [
       "    Word_Seg    cnt Primary_Suffix Comm_suffix Std_suffix\n",
       "6         pl  13371          place          pl         pl\n",
       "118    place    545          place       place         pl"
      ]
     },
     "execution_count": 1117,
     "metadata": {},
     "output_type": "execute_result"
    }
   ],
   "source": [
    "result2[result2.Primary_Suffix=='place']"
   ]
  },
  {
   "cell_type": "code",
   "execution_count": 1118,
   "metadata": {},
   "outputs": [],
   "source": [
    "# get top 50 suffix used by address data sets\n",
    "top50_rm = resultm.sort_values(['cnt'], ascending=False).head(50)\n",
    "top50_r1 = result1.sort_values(['cnt'], ascending=False).head(50)\n",
    "top50_r2 = result2.sort_values(['cnt'], ascending=False).head(50)"
   ]
  },
  {
   "cell_type": "code",
   "execution_count": 1119,
   "metadata": {},
   "outputs": [
    {
     "data": {
      "image/png": "[encoded data removed]",
      "text/plain": [
       "<Figure size 576x432 with 1 Axes>"
      ]
     },
     "metadata": {},
     "output_type": "display_data"
    }
   ],
   "source": [
    "# plot1 real \n",
    "N = 5\n",
    "ind = np.arange(N)\n",
    "width = 0.35\n",
    "\n",
    "fig, ax= plt.subplots(figsize =(8,6))\n",
    "sns.set_style('whitegrid')\n",
    "sns.set_context('notebook')\n",
    "#sns.set(font_scale=2)\n",
    "plt.fontsize =(35)\n",
    "\n",
    "ax=sns.barplot( palette=\"Dark2\", ax=ax, x='cnt', y='Word_Seg', data=top50_r1.head(20))\n",
    "\n",
    "for p in ax.patches:\n",
    "    percentage ='{:,.0f}'.format(p.get_width())\n",
    "    width, height =p.get_width(),p.get_height()\n",
    "    x=p.get_x()+width+0.02\n",
    "    y=p.get_y()+height/2\n",
    "    ax.annotate(percentage,(x,y))\n",
    "    \n",
    "#ax1=sns.barplot( palette=\"Dark2\", ax=ax, x='Matched_Total', y='DIV_CD', data=df_stat_by_div)\n",
    "\n",
    "    \n",
    "plt.xticks(rotation =50,fontsize =12)\n",
    "plt.yticks(rotation =50,fontsize =12)\n",
    "\n",
    "plt.title('Top 25 Suffix used by Legacy Address Data Set',\n",
    "         fontsize =12 \n",
    "         )\n",
    "plt.xlabel ('Count',fontsize = 16)\n",
    "plt.ylabel ('Suffix',fontsize = 16)\n",
    "\n",
    "plt.show ()"
   ]
  },
  {
   "cell_type": "code",
   "execution_count": null,
   "metadata": {},
   "outputs": [],
   "source": []
  },
  {
   "cell_type": "code",
   "execution_count": 1120,
   "metadata": {},
   "outputs": [
    {
     "data": {
      "text/html": [
       "<div>\n",
       "<style scoped>\n",
       "    .dataframe tbody tr th:only-of-type {\n",
       "        vertical-align: middle;\n",
       "    }\n",
       "\n",
       "    .dataframe tbody tr th {\n",
       "        vertical-align: top;\n",
       "    }\n",
       "\n",
       "    .dataframe thead th {\n",
       "        text-align: right;\n",
       "    }\n",
       "</style>\n",
       "<table border=\"1\" class=\"dataframe\">\n",
       "  <thead>\n",
       "    <tr style=\"text-align: right;\">\n",
       "      <th>Word_Seg</th>\n",
       "      <th>av</th>\n",
       "      <th>ave</th>\n",
       "      <th>aven</th>\n",
       "      <th>avenue</th>\n",
       "      <th>cent</th>\n",
       "      <th>center</th>\n",
       "      <th>centr</th>\n",
       "      <th>centre</th>\n",
       "      <th>cir</th>\n",
       "      <th>circl</th>\n",
       "      <th>...</th>\n",
       "      <th>ridge</th>\n",
       "      <th>st</th>\n",
       "      <th>sta</th>\n",
       "      <th>station</th>\n",
       "      <th>stn</th>\n",
       "      <th>str</th>\n",
       "      <th>street</th>\n",
       "      <th>ter</th>\n",
       "      <th>terr</th>\n",
       "      <th>terrace</th>\n",
       "    </tr>\n",
       "    <tr>\n",
       "      <th>Primary_Suffix</th>\n",
       "      <th></th>\n",
       "      <th></th>\n",
       "      <th></th>\n",
       "      <th></th>\n",
       "      <th></th>\n",
       "      <th></th>\n",
       "      <th></th>\n",
       "      <th></th>\n",
       "      <th></th>\n",
       "      <th></th>\n",
       "      <th></th>\n",
       "      <th></th>\n",
       "      <th></th>\n",
       "      <th></th>\n",
       "      <th></th>\n",
       "      <th></th>\n",
       "      <th></th>\n",
       "      <th></th>\n",
       "      <th></th>\n",
       "      <th></th>\n",
       "      <th></th>\n",
       "    </tr>\n",
       "  </thead>\n",
       "  <tbody>\n",
       "    <tr>\n",
       "      <th>avenue</th>\n",
       "      <td>1</td>\n",
       "      <td>1</td>\n",
       "      <td>1</td>\n",
       "      <td>1</td>\n",
       "      <td>0</td>\n",
       "      <td>0</td>\n",
       "      <td>0</td>\n",
       "      <td>0</td>\n",
       "      <td>0</td>\n",
       "      <td>0</td>\n",
       "      <td>...</td>\n",
       "      <td>0</td>\n",
       "      <td>0</td>\n",
       "      <td>0</td>\n",
       "      <td>0</td>\n",
       "      <td>0</td>\n",
       "      <td>0</td>\n",
       "      <td>0</td>\n",
       "      <td>0</td>\n",
       "      <td>0</td>\n",
       "      <td>0</td>\n",
       "    </tr>\n",
       "    <tr>\n",
       "      <th>center</th>\n",
       "      <td>0</td>\n",
       "      <td>0</td>\n",
       "      <td>0</td>\n",
       "      <td>0</td>\n",
       "      <td>1</td>\n",
       "      <td>1</td>\n",
       "      <td>1</td>\n",
       "      <td>1</td>\n",
       "      <td>0</td>\n",
       "      <td>0</td>\n",
       "      <td>...</td>\n",
       "      <td>0</td>\n",
       "      <td>0</td>\n",
       "      <td>0</td>\n",
       "      <td>0</td>\n",
       "      <td>0</td>\n",
       "      <td>0</td>\n",
       "      <td>0</td>\n",
       "      <td>0</td>\n",
       "      <td>0</td>\n",
       "      <td>0</td>\n",
       "    </tr>\n",
       "    <tr>\n",
       "      <th>circle</th>\n",
       "      <td>0</td>\n",
       "      <td>0</td>\n",
       "      <td>0</td>\n",
       "      <td>0</td>\n",
       "      <td>0</td>\n",
       "      <td>0</td>\n",
       "      <td>0</td>\n",
       "      <td>0</td>\n",
       "      <td>1</td>\n",
       "      <td>1</td>\n",
       "      <td>...</td>\n",
       "      <td>0</td>\n",
       "      <td>0</td>\n",
       "      <td>0</td>\n",
       "      <td>0</td>\n",
       "      <td>0</td>\n",
       "      <td>0</td>\n",
       "      <td>0</td>\n",
       "      <td>0</td>\n",
       "      <td>0</td>\n",
       "      <td>0</td>\n",
       "    </tr>\n",
       "    <tr>\n",
       "      <th>drive</th>\n",
       "      <td>0</td>\n",
       "      <td>0</td>\n",
       "      <td>0</td>\n",
       "      <td>0</td>\n",
       "      <td>0</td>\n",
       "      <td>0</td>\n",
       "      <td>0</td>\n",
       "      <td>0</td>\n",
       "      <td>0</td>\n",
       "      <td>0</td>\n",
       "      <td>...</td>\n",
       "      <td>0</td>\n",
       "      <td>0</td>\n",
       "      <td>0</td>\n",
       "      <td>0</td>\n",
       "      <td>0</td>\n",
       "      <td>0</td>\n",
       "      <td>0</td>\n",
       "      <td>0</td>\n",
       "      <td>0</td>\n",
       "      <td>0</td>\n",
       "    </tr>\n",
       "    <tr>\n",
       "      <th>heights</th>\n",
       "      <td>0</td>\n",
       "      <td>0</td>\n",
       "      <td>0</td>\n",
       "      <td>0</td>\n",
       "      <td>0</td>\n",
       "      <td>0</td>\n",
       "      <td>0</td>\n",
       "      <td>0</td>\n",
       "      <td>0</td>\n",
       "      <td>0</td>\n",
       "      <td>...</td>\n",
       "      <td>0</td>\n",
       "      <td>0</td>\n",
       "      <td>0</td>\n",
       "      <td>0</td>\n",
       "      <td>0</td>\n",
       "      <td>0</td>\n",
       "      <td>0</td>\n",
       "      <td>0</td>\n",
       "      <td>0</td>\n",
       "      <td>0</td>\n",
       "    </tr>\n",
       "    <tr>\n",
       "      <th>highway</th>\n",
       "      <td>0</td>\n",
       "      <td>0</td>\n",
       "      <td>0</td>\n",
       "      <td>0</td>\n",
       "      <td>0</td>\n",
       "      <td>0</td>\n",
       "      <td>0</td>\n",
       "      <td>0</td>\n",
       "      <td>0</td>\n",
       "      <td>0</td>\n",
       "      <td>...</td>\n",
       "      <td>0</td>\n",
       "      <td>0</td>\n",
       "      <td>0</td>\n",
       "      <td>0</td>\n",
       "      <td>0</td>\n",
       "      <td>0</td>\n",
       "      <td>0</td>\n",
       "      <td>0</td>\n",
       "      <td>0</td>\n",
       "      <td>0</td>\n",
       "    </tr>\n",
       "    <tr>\n",
       "      <th>ridge</th>\n",
       "      <td>0</td>\n",
       "      <td>0</td>\n",
       "      <td>0</td>\n",
       "      <td>0</td>\n",
       "      <td>0</td>\n",
       "      <td>0</td>\n",
       "      <td>0</td>\n",
       "      <td>0</td>\n",
       "      <td>0</td>\n",
       "      <td>0</td>\n",
       "      <td>...</td>\n",
       "      <td>1</td>\n",
       "      <td>0</td>\n",
       "      <td>0</td>\n",
       "      <td>0</td>\n",
       "      <td>0</td>\n",
       "      <td>0</td>\n",
       "      <td>0</td>\n",
       "      <td>0</td>\n",
       "      <td>0</td>\n",
       "      <td>0</td>\n",
       "    </tr>\n",
       "    <tr>\n",
       "      <th>station</th>\n",
       "      <td>0</td>\n",
       "      <td>0</td>\n",
       "      <td>0</td>\n",
       "      <td>0</td>\n",
       "      <td>0</td>\n",
       "      <td>0</td>\n",
       "      <td>0</td>\n",
       "      <td>0</td>\n",
       "      <td>0</td>\n",
       "      <td>0</td>\n",
       "      <td>...</td>\n",
       "      <td>0</td>\n",
       "      <td>0</td>\n",
       "      <td>1</td>\n",
       "      <td>1</td>\n",
       "      <td>1</td>\n",
       "      <td>0</td>\n",
       "      <td>0</td>\n",
       "      <td>0</td>\n",
       "      <td>0</td>\n",
       "      <td>0</td>\n",
       "    </tr>\n",
       "    <tr>\n",
       "      <th>street</th>\n",
       "      <td>0</td>\n",
       "      <td>0</td>\n",
       "      <td>0</td>\n",
       "      <td>0</td>\n",
       "      <td>0</td>\n",
       "      <td>0</td>\n",
       "      <td>0</td>\n",
       "      <td>0</td>\n",
       "      <td>0</td>\n",
       "      <td>0</td>\n",
       "      <td>...</td>\n",
       "      <td>0</td>\n",
       "      <td>1</td>\n",
       "      <td>0</td>\n",
       "      <td>0</td>\n",
       "      <td>0</td>\n",
       "      <td>1</td>\n",
       "      <td>1</td>\n",
       "      <td>0</td>\n",
       "      <td>0</td>\n",
       "      <td>0</td>\n",
       "    </tr>\n",
       "    <tr>\n",
       "      <th>terrace</th>\n",
       "      <td>0</td>\n",
       "      <td>0</td>\n",
       "      <td>0</td>\n",
       "      <td>0</td>\n",
       "      <td>0</td>\n",
       "      <td>0</td>\n",
       "      <td>0</td>\n",
       "      <td>0</td>\n",
       "      <td>0</td>\n",
       "      <td>0</td>\n",
       "      <td>...</td>\n",
       "      <td>0</td>\n",
       "      <td>0</td>\n",
       "      <td>0</td>\n",
       "      <td>0</td>\n",
       "      <td>0</td>\n",
       "      <td>0</td>\n",
       "      <td>0</td>\n",
       "      <td>1</td>\n",
       "      <td>1</td>\n",
       "      <td>1</td>\n",
       "    </tr>\n",
       "  </tbody>\n",
       "</table>\n",
       "<p>10 rows × 35 columns</p>\n",
       "</div>"
      ],
      "text/plain": [
       "Word_Seg        av  ave  aven  avenue  cent  center  centr  centre  cir  \\\n",
       "Primary_Suffix                                                            \n",
       "avenue           1    1     1       1     0       0      0       0    0   \n",
       "center           0    0     0       0     1       1      1       1    0   \n",
       "circle           0    0     0       0     0       0      0       0    1   \n",
       "drive            0    0     0       0     0       0      0       0    0   \n",
       "heights          0    0     0       0     0       0      0       0    0   \n",
       "highway          0    0     0       0     0       0      0       0    0   \n",
       "ridge            0    0     0       0     0       0      0       0    0   \n",
       "station          0    0     0       0     0       0      0       0    0   \n",
       "street           0    0     0       0     0       0      0       0    0   \n",
       "terrace          0    0     0       0     0       0      0       0    0   \n",
       "\n",
       "Word_Seg        circl  ...  ridge  st  sta  station  stn  str  street  ter  \\\n",
       "Primary_Suffix         ...                                                   \n",
       "avenue              0  ...      0   0    0        0    0    0       0    0   \n",
       "center              0  ...      0   0    0        0    0    0       0    0   \n",
       "circle              1  ...      0   0    0        0    0    0       0    0   \n",
       "drive               0  ...      0   0    0        0    0    0       0    0   \n",
       "heights             0  ...      0   0    0        0    0    0       0    0   \n",
       "highway             0  ...      0   0    0        0    0    0       0    0   \n",
       "ridge               0  ...      1   0    0        0    0    0       0    0   \n",
       "station             0  ...      0   0    1        1    1    0       0    0   \n",
       "street              0  ...      0   1    0        0    0    1       1    0   \n",
       "terrace             0  ...      0   0    0        0    0    0       0    1   \n",
       "\n",
       "Word_Seg        terr  terrace  \n",
       "Primary_Suffix                 \n",
       "avenue             0        0  \n",
       "center             0        0  \n",
       "circle             0        0  \n",
       "drive              0        0  \n",
       "heights            0        0  \n",
       "highway            0        0  \n",
       "ridge              0        0  \n",
       "station            0        0  \n",
       "street             0        0  \n",
       "terrace            1        1  \n",
       "\n",
       "[10 rows x 35 columns]"
      ]
     },
     "execution_count": 1120,
     "metadata": {},
     "output_type": "execute_result"
    }
   ],
   "source": [
    "# generate matrix for top 10 primary suffix which have multiple variances in legacy address data set\n",
    "include = list(result1.groupby(\"Primary_Suffix\").Word_Seg.count().sort_values(ascending=False).head(10).index)\n",
    "df_m_suffix = result1.query('Primary_Suffix in @include').sort_values(['Primary_Suffix'], ascending=True)\n",
    "df_m_suffix.groupby(['Primary_Suffix','Word_Seg']).size().unstack(fill_value=0)"
   ]
  },
  {
   "cell_type": "code",
   "execution_count": 1121,
   "metadata": {},
   "outputs": [
    {
     "data": {
      "text/html": [
       "<div>\n",
       "<style scoped>\n",
       "    .dataframe tbody tr th:only-of-type {\n",
       "        vertical-align: middle;\n",
       "    }\n",
       "\n",
       "    .dataframe tbody tr th {\n",
       "        vertical-align: top;\n",
       "    }\n",
       "\n",
       "    .dataframe thead th {\n",
       "        text-align: right;\n",
       "    }\n",
       "</style>\n",
       "<table border=\"1\" class=\"dataframe\">\n",
       "  <thead>\n",
       "    <tr style=\"text-align: right;\">\n",
       "      <th></th>\n",
       "      <th>Word_Seg</th>\n",
       "      <th>cnt</th>\n",
       "      <th>Primary_Suffix</th>\n",
       "      <th>Comm_suffix</th>\n",
       "      <th>Std_suffix</th>\n",
       "    </tr>\n",
       "  </thead>\n",
       "  <tbody>\n",
       "    <tr>\n",
       "      <th>169</th>\n",
       "      <td>cntr</td>\n",
       "      <td>7</td>\n",
       "      <td>center</td>\n",
       "      <td>cntr</td>\n",
       "      <td>ctr</td>\n",
       "    </tr>\n",
       "    <tr>\n",
       "      <th>119</th>\n",
       "      <td>centre</td>\n",
       "      <td>14</td>\n",
       "      <td>center</td>\n",
       "      <td>centre</td>\n",
       "      <td>ctr</td>\n",
       "    </tr>\n",
       "    <tr>\n",
       "      <th>227</th>\n",
       "      <td>centr</td>\n",
       "      <td>1</td>\n",
       "      <td>center</td>\n",
       "      <td>centr</td>\n",
       "      <td>ctr</td>\n",
       "    </tr>\n",
       "    <tr>\n",
       "      <th>83</th>\n",
       "      <td>ctr</td>\n",
       "      <td>337</td>\n",
       "      <td>center</td>\n",
       "      <td>ctr</td>\n",
       "      <td>ctr</td>\n",
       "    </tr>\n",
       "    <tr>\n",
       "      <th>42</th>\n",
       "      <td>center</td>\n",
       "      <td>930</td>\n",
       "      <td>center</td>\n",
       "      <td>center</td>\n",
       "      <td>ctr</td>\n",
       "    </tr>\n",
       "    <tr>\n",
       "      <th>145</th>\n",
       "      <td>cent</td>\n",
       "      <td>94</td>\n",
       "      <td>center</td>\n",
       "      <td>cent</td>\n",
       "      <td>ctr</td>\n",
       "    </tr>\n",
       "  </tbody>\n",
       "</table>\n",
       "</div>"
      ],
      "text/plain": [
       "    Word_Seg  cnt Primary_Suffix Comm_suffix Std_suffix\n",
       "169     cntr    7         center        cntr        ctr\n",
       "119   centre   14         center      centre        ctr\n",
       "227    centr    1         center       centr        ctr\n",
       "83       ctr  337         center         ctr        ctr\n",
       "42    center  930         center      center        ctr\n",
       "145     cent   94         center        cent        ctr"
      ]
     },
     "execution_count": 1121,
     "metadata": {},
     "output_type": "execute_result"
    }
   ],
   "source": [
    "# one example shows that for 'center' , there are six variances \n",
    "df_m_suffix[df_m_suffix.Primary_Suffix=='center']"
   ]
  },
  {
   "cell_type": "markdown",
   "metadata": {},
   "source": [
    "### Conslidate address suffix variances into USPS Primary Suffix "
   ]
  },
  {
   "cell_type": "code",
   "execution_count": 1122,
   "metadata": {},
   "outputs": [
    {
     "name": "stdout",
     "output_type": "stream",
     "text": [
      "Start text cleansing ...\n",
      "SELFTIMED: 256.30390882492065\n"
     ]
    }
   ],
   "source": [
    "# standardize address suffix\n",
    "\n",
    "print('Start text cleansing ...')\n",
    "time1 = time.time()\n",
    "\n",
    "df_match['M_ADDR_s'] = df_match['M_ADDR_c'].apply(standardize_addr_suffix)\n",
    "df_match['P_ADDR_s'] = df_match['P_ADDR_c'].apply(standardize_addr_suffix)\n",
    "df_match['M_TXT_s'] = df_match['M_TXT_c'].apply(standardize_addr_suffix)\n",
    "df_exception['M_ADDR_s'] = df_exception['M_ADDR_c'].apply(standardize_addr_suffix)\n",
    "df_exception['M_TXT_s'] = df_exception['M_TXT_c'].apply(standardize_addr_suffix)\n",
    "\n",
    "df_master['P_ADDR_s'] = df_master['P_ADDR_c'].apply(standardize_addr_suffix)\n",
    "\n",
    "t = time.time() - t1\n",
    "print(\"SELFTIMED:\", t)"
   ]
  },
  {
   "cell_type": "code",
   "execution_count": 5,
   "metadata": {},
   "outputs": [],
   "source": [
    "#df_match[['M_ADDR_c','M_ADDR_s']].head(1)"
   ]
  },
  {
   "cell_type": "markdown",
   "metadata": {},
   "source": [
    "### Verify the result of standardized primary suffix "
   ]
  },
  {
   "cell_type": "code",
   "execution_count": 1124,
   "metadata": {},
   "outputs": [
    {
     "name": "stdout",
     "output_type": "stream",
     "text": [
      "start ...\n",
      "Removed number from string.  Time used  0.0004999637603759766\n",
      "Split into words.  Time used  0.6863229274749756\n",
      "Completed in  1.071847677230835\n"
     ]
    }
   ],
   "source": [
    "# find the most frenqucent words - find out address suffix\n",
    "from collections import Counter \n",
    "\n",
    "print('start ...')\n",
    "\n",
    "t1=time.time()\n",
    "\n",
    "df_list1s = df_exception['M_ADDR_s']#.apply(cleanse_addr_suffix)\n",
    "\n",
    "t = time.time() - t1\n",
    "print('Removed number from string.  Time used ', t)\n",
    "  \n",
    "# split() returns list of all the words in the string \n",
    "split_it1s = get_word_list(df_list1s)\n",
    "  \n",
    "t = time.time() - t1\n",
    "print('Split into words.  Time used ', t)\n",
    "\n",
    "# Pass the split_it list to instance of Counter class. \n",
    "Counter1s = Counter(split_it1s) \n",
    "  \n",
    "# most_common() produces k frequently encountered \n",
    "# input values and their respective counts. \n",
    "most_occur1s = Counter1s.most_common(50) \n",
    "  \n",
    "#print(most_occur1s) \n",
    "\n",
    "t = time.time() - t1\n",
    "print('Completed in ', t)"
   ]
  },
  {
   "cell_type": "code",
   "execution_count": 1125,
   "metadata": {},
   "outputs": [
    {
     "name": "stdout",
     "output_type": "stream",
     "text": [
      "start ...\n",
      "Removed number from string.  Time used  0.025570154190063477\n",
      "Split into words.  Time used  0.5314180850982666\n",
      "[('drive', 99341), ('street', 95002), ('avenue', 82563), ('road', 71499), ('lane', 33481), ('n', 30459), ('circle', 29543), ('s', 27463), ('court', 21938), ('sw', 15069), ('w', 14048), ('place', 13916), ('way', 10719), ('highway', 10366), ('e', 8440), ('park', 7399), ('ridge', 7384), ('boulevard', 6473), ('parkway', 6211), ('trail', 5455), ('old', 4835), ('ensley', 4811), ('lake', 4735), ('oak', 4664), ('4th', 4471), ('valley', 4169), ('county', 4146), ('terrace', 4038), ('3rd', 3829), ('hill', 3821), ('crest', 3657), ('creek', 3629), ('5th', 3585), ('1st', 3549), ('2nd', 3448), ('6th', 3232), ('cove', 3230), ('trace', 3167), ('forest', 2967), ('7th', 2915), ('9th', 2813), ('brook', 2753), ('loop', 2720), ('10th', 2617), ('pine', 2497), ('highland', 2408), ('8th', 2399), ('view', 2348), ('lee', 2288), ('11th', 2267)]\n",
      "Completed in  0.8427407741546631\n"
     ]
    }
   ],
   "source": [
    "# find the most frenqucent words - find out address suffix\n",
    "from collections import Counter \n",
    "\n",
    "print('start ...')\n",
    "\n",
    "t1=time.time()\n",
    "\n",
    "df_list2s= df_master['P_ADDR_s']#.apply(cleanse_addr_suffix)\n",
    "\n",
    "t = time.time() - t1\n",
    "print('Removed number from string.  Time used ', t)\n",
    "  \n",
    "# split() returns list of all the words in the string \n",
    "split_it2s = get_word_list(df_list2s)\n",
    "  \n",
    "t = time.time() - t1\n",
    "print('Split into words.  Time used ', t)\n",
    "\n",
    "# Pass the split_it list to instance of Counter class. \n",
    "Counter2s = Counter(split_it2s) \n",
    "  \n",
    "# most_common() produces k frequently encountered \n",
    "# input values and their respective counts. \n",
    "#most_occur2s = Counter2s.most_common(50) \n",
    "  \n",
    "print(most_occur2s) \n",
    "\n",
    "t = time.time() - t1\n",
    "print('Completed in ', t)"
   ]
  },
  {
   "cell_type": "code",
   "execution_count": 1126,
   "metadata": {},
   "outputs": [],
   "source": [
    "df_exception_counter_s = pd.DataFrame.from_dict(Counter1s, orient='index').reset_index()\n",
    "df_exception_counter_s.columns = ['Word_Seg', 'cnt'] \n",
    "result1s = pd.merge(df_exception_counter_s, df_usps_suffix, how='inner', left_on='Word_Seg', right_on='Comm_suffix')\n",
    "\n",
    "df_master_counter_s = pd.DataFrame.from_dict(Counter2s, orient='index').reset_index()\n",
    "df_master_counter_s.columns = ['Word_Seg', 'cnt'] \n",
    "result2s = pd.merge(df_master_counter_s, df_usps_suffix, how='inner', left_on='Word_Seg', right_on='Comm_suffix')"
   ]
  },
  {
   "cell_type": "code",
   "execution_count": 1127,
   "metadata": {},
   "outputs": [
    {
     "data": {
      "text/html": [
       "<div>\n",
       "<style scoped>\n",
       "    .dataframe tbody tr th:only-of-type {\n",
       "        vertical-align: middle;\n",
       "    }\n",
       "\n",
       "    .dataframe tbody tr th {\n",
       "        vertical-align: top;\n",
       "    }\n",
       "\n",
       "    .dataframe thead th {\n",
       "        text-align: right;\n",
       "    }\n",
       "</style>\n",
       "<table border=\"1\" class=\"dataframe\">\n",
       "  <thead>\n",
       "    <tr style=\"text-align: right;\">\n",
       "      <th></th>\n",
       "      <th>Word_Seg</th>\n",
       "      <th>cnt</th>\n",
       "      <th>Primary_Suffix</th>\n",
       "      <th>Comm_suffix</th>\n",
       "      <th>Std_suffix</th>\n",
       "    </tr>\n",
       "  </thead>\n",
       "  <tbody>\n",
       "    <tr>\n",
       "      <th>24</th>\n",
       "      <td>alley</td>\n",
       "      <td>2233</td>\n",
       "      <td>alley</td>\n",
       "      <td>alley</td>\n",
       "      <td>aly</td>\n",
       "    </tr>\n",
       "    <tr>\n",
       "      <th>160</th>\n",
       "      <td>anex</td>\n",
       "      <td>1</td>\n",
       "      <td>anex</td>\n",
       "      <td>anex</td>\n",
       "      <td>anx</td>\n",
       "    </tr>\n",
       "    <tr>\n",
       "      <th>97</th>\n",
       "      <td>arcade</td>\n",
       "      <td>15</td>\n",
       "      <td>arcade</td>\n",
       "      <td>arcade</td>\n",
       "      <td>arc</td>\n",
       "    </tr>\n",
       "    <tr>\n",
       "      <th>3</th>\n",
       "      <td>avenue</td>\n",
       "      <td>129614</td>\n",
       "      <td>avenue</td>\n",
       "      <td>avenue</td>\n",
       "      <td>ave</td>\n",
       "    </tr>\n",
       "    <tr>\n",
       "      <th>74</th>\n",
       "      <td>beach</td>\n",
       "      <td>322</td>\n",
       "      <td>beach</td>\n",
       "      <td>beach</td>\n",
       "      <td>bch</td>\n",
       "    </tr>\n",
       "  </tbody>\n",
       "</table>\n",
       "</div>"
      ],
      "text/plain": [
       "    Word_Seg     cnt Primary_Suffix Comm_suffix Std_suffix\n",
       "24     alley    2233          alley       alley        aly\n",
       "160     anex       1           anex        anex        anx\n",
       "97    arcade      15         arcade      arcade        arc\n",
       "3     avenue  129614         avenue      avenue        ave\n",
       "74     beach     322          beach       beach        bch"
      ]
     },
     "execution_count": 1127,
     "metadata": {},
     "output_type": "execute_result"
    }
   ],
   "source": [
    "result1s.sort_values(['Primary_Suffix'], ascending=True).head()"
   ]
  },
  {
   "cell_type": "code",
   "execution_count": 1128,
   "metadata": {},
   "outputs": [
    {
     "data": {
      "text/html": [
       "<div>\n",
       "<style scoped>\n",
       "    .dataframe tbody tr th:only-of-type {\n",
       "        vertical-align: middle;\n",
       "    }\n",
       "\n",
       "    .dataframe tbody tr th {\n",
       "        vertical-align: top;\n",
       "    }\n",
       "\n",
       "    .dataframe thead th {\n",
       "        text-align: right;\n",
       "    }\n",
       "</style>\n",
       "<table border=\"1\" class=\"dataframe\">\n",
       "  <thead>\n",
       "    <tr style=\"text-align: right;\">\n",
       "      <th></th>\n",
       "      <th>Word_Seg</th>\n",
       "      <th>cnt</th>\n",
       "      <th>Primary_Suffix</th>\n",
       "      <th>Comm_suffix</th>\n",
       "      <th>Std_suffix</th>\n",
       "    </tr>\n",
       "  </thead>\n",
       "  <tbody>\n",
       "    <tr>\n",
       "      <th>5</th>\n",
       "      <td>street</td>\n",
       "      <td>142153</td>\n",
       "      <td>street</td>\n",
       "      <td>street</td>\n",
       "      <td>st</td>\n",
       "    </tr>\n",
       "    <tr>\n",
       "      <th>3</th>\n",
       "      <td>avenue</td>\n",
       "      <td>129614</td>\n",
       "      <td>avenue</td>\n",
       "      <td>avenue</td>\n",
       "      <td>ave</td>\n",
       "    </tr>\n",
       "    <tr>\n",
       "      <th>1</th>\n",
       "      <td>road</td>\n",
       "      <td>63579</td>\n",
       "      <td>road</td>\n",
       "      <td>road</td>\n",
       "      <td>rd</td>\n",
       "    </tr>\n",
       "    <tr>\n",
       "      <th>8</th>\n",
       "      <td>drive</td>\n",
       "      <td>45961</td>\n",
       "      <td>drive</td>\n",
       "      <td>drive</td>\n",
       "      <td>dr</td>\n",
       "    </tr>\n",
       "    <tr>\n",
       "      <th>14</th>\n",
       "      <td>highway</td>\n",
       "      <td>17161</td>\n",
       "      <td>highway</td>\n",
       "      <td>highway</td>\n",
       "      <td>hwy</td>\n",
       "    </tr>\n",
       "  </tbody>\n",
       "</table>\n",
       "</div>"
      ],
      "text/plain": [
       "   Word_Seg     cnt Primary_Suffix Comm_suffix Std_suffix\n",
       "5    street  142153         street      street         st\n",
       "3    avenue  129614         avenue      avenue        ave\n",
       "1      road   63579           road        road         rd\n",
       "8     drive   45961          drive       drive         dr\n",
       "14  highway   17161        highway     highway        hwy"
      ]
     },
     "execution_count": 1128,
     "metadata": {},
     "output_type": "execute_result"
    }
   ],
   "source": [
    "result1s.sort_values(['cnt'], ascending=False).head()"
   ]
  },
  {
   "cell_type": "code",
   "execution_count": 1129,
   "metadata": {},
   "outputs": [
    {
     "data": {
      "image/png": "[encoded data removed]",
      "text/plain": [
       "<Figure size 576x432 with 1 Axes>"
      ]
     },
     "metadata": {},
     "output_type": "display_data"
    }
   ],
   "source": [
    "top50_r1s = result1s.sort_values(['cnt'], ascending=False).head(50)\n",
    "\n",
    "# plot1 real \n",
    "N = 5\n",
    "ind = np.arange(N)\n",
    "width = 0.35\n",
    "\n",
    "fig, ax= plt.subplots(figsize =(8,6))\n",
    "sns.set_style('whitegrid')\n",
    "sns.set_context('notebook')\n",
    "#sns.set(font_scale=2)\n",
    "plt.fontsize =(35)\n",
    "\n",
    "ax=sns.barplot( palette=\"Dark2\", ax=ax, x='cnt', y='Word_Seg', data=top50_r1s.head(20))\n",
    "\n",
    "for p in ax.patches:\n",
    "    percentage ='{:,.0f}'.format(p.get_width())\n",
    "    width, height =p.get_width(),p.get_height()\n",
    "    x=p.get_x()+width+0.02\n",
    "    y=p.get_y()+height/2\n",
    "    ax.annotate(percentage,(x,y))\n",
    "    \n",
    "#ax1=sns.barplot( palette=\"Dark2\", ax=ax, x='Matched_Total', y='DIV_CD', data=df_stat_by_div)\n",
    "\n",
    "    \n",
    "plt.xticks(rotation =50,fontsize =12)\n",
    "plt.yticks(rotation =50,fontsize =12)\n",
    "\n",
    "plt.title('Top 25 Suffix cleansed',\n",
    "         fontsize =12 \n",
    "         )\n",
    "plt.xlabel ('Count',fontsize = 16)\n",
    "plt.ylabel ('Suffix',fontsize = 16)\n",
    "\n",
    "plt.show ()"
   ]
  },
  {
   "cell_type": "code",
   "execution_count": 1130,
   "metadata": {},
   "outputs": [
    {
     "data": {
      "text/html": [
       "<div>\n",
       "<style scoped>\n",
       "    .dataframe tbody tr th:only-of-type {\n",
       "        vertical-align: middle;\n",
       "    }\n",
       "\n",
       "    .dataframe tbody tr th {\n",
       "        vertical-align: top;\n",
       "    }\n",
       "\n",
       "    .dataframe thead th {\n",
       "        text-align: right;\n",
       "    }\n",
       "</style>\n",
       "<table border=\"1\" class=\"dataframe\">\n",
       "  <thead>\n",
       "    <tr style=\"text-align: right;\">\n",
       "      <th></th>\n",
       "      <th>Word_Seg</th>\n",
       "      <th>cnt</th>\n",
       "      <th>Primary_Suffix</th>\n",
       "      <th>Comm_suffix</th>\n",
       "      <th>Std_suffix</th>\n",
       "    </tr>\n",
       "  </thead>\n",
       "  <tbody>\n",
       "    <tr>\n",
       "      <th>42</th>\n",
       "      <td>center</td>\n",
       "      <td>930</td>\n",
       "      <td>center</td>\n",
       "      <td>center</td>\n",
       "      <td>ctr</td>\n",
       "    </tr>\n",
       "    <tr>\n",
       "      <th>83</th>\n",
       "      <td>ctr</td>\n",
       "      <td>337</td>\n",
       "      <td>center</td>\n",
       "      <td>ctr</td>\n",
       "      <td>ctr</td>\n",
       "    </tr>\n",
       "    <tr>\n",
       "      <th>119</th>\n",
       "      <td>centre</td>\n",
       "      <td>14</td>\n",
       "      <td>center</td>\n",
       "      <td>centre</td>\n",
       "      <td>ctr</td>\n",
       "    </tr>\n",
       "    <tr>\n",
       "      <th>145</th>\n",
       "      <td>cent</td>\n",
       "      <td>94</td>\n",
       "      <td>center</td>\n",
       "      <td>cent</td>\n",
       "      <td>ctr</td>\n",
       "    </tr>\n",
       "    <tr>\n",
       "      <th>169</th>\n",
       "      <td>cntr</td>\n",
       "      <td>7</td>\n",
       "      <td>center</td>\n",
       "      <td>cntr</td>\n",
       "      <td>ctr</td>\n",
       "    </tr>\n",
       "    <tr>\n",
       "      <th>227</th>\n",
       "      <td>centr</td>\n",
       "      <td>1</td>\n",
       "      <td>center</td>\n",
       "      <td>centr</td>\n",
       "      <td>ctr</td>\n",
       "    </tr>\n",
       "  </tbody>\n",
       "</table>\n",
       "</div>"
      ],
      "text/plain": [
       "    Word_Seg  cnt Primary_Suffix Comm_suffix Std_suffix\n",
       "42    center  930         center      center        ctr\n",
       "83       ctr  337         center         ctr        ctr\n",
       "119   centre   14         center      centre        ctr\n",
       "145     cent   94         center        cent        ctr\n",
       "169     cntr    7         center        cntr        ctr\n",
       "227    centr    1         center       centr        ctr"
      ]
     },
     "execution_count": 1130,
     "metadata": {},
     "output_type": "execute_result"
    }
   ],
   "source": [
    "# before consolidate suffix\n",
    "result1[result1.Primary_Suffix=='center']"
   ]
  },
  {
   "cell_type": "code",
   "execution_count": 1131,
   "metadata": {},
   "outputs": [
    {
     "data": {
      "text/html": [
       "<div>\n",
       "<style scoped>\n",
       "    .dataframe tbody tr th:only-of-type {\n",
       "        vertical-align: middle;\n",
       "    }\n",
       "\n",
       "    .dataframe tbody tr th {\n",
       "        vertical-align: top;\n",
       "    }\n",
       "\n",
       "    .dataframe thead th {\n",
       "        text-align: right;\n",
       "    }\n",
       "</style>\n",
       "<table border=\"1\" class=\"dataframe\">\n",
       "  <thead>\n",
       "    <tr style=\"text-align: right;\">\n",
       "      <th></th>\n",
       "      <th>Word_Seg</th>\n",
       "      <th>cnt</th>\n",
       "      <th>Primary_Suffix</th>\n",
       "      <th>Comm_suffix</th>\n",
       "      <th>Std_suffix</th>\n",
       "    </tr>\n",
       "  </thead>\n",
       "  <tbody>\n",
       "    <tr>\n",
       "      <th>41</th>\n",
       "      <td>center</td>\n",
       "      <td>1383</td>\n",
       "      <td>center</td>\n",
       "      <td>center</td>\n",
       "      <td>ctr</td>\n",
       "    </tr>\n",
       "  </tbody>\n",
       "</table>\n",
       "</div>"
      ],
      "text/plain": [
       "   Word_Seg   cnt Primary_Suffix Comm_suffix Std_suffix\n",
       "41   center  1383         center      center        ctr"
      ]
     },
     "execution_count": 1131,
     "metadata": {},
     "output_type": "execute_result"
    }
   ],
   "source": [
    "# after consolidate suffix\n",
    "result1s[result1s.Primary_Suffix=='center']"
   ]
  },
  {
   "cell_type": "markdown",
   "metadata": {},
   "source": [
    "#### Exception of suffix consolidation \n",
    "\n",
    "Not 100% consolidated.  But te exception is not significant and will not take further efforts"
   ]
  },
  {
   "cell_type": "code",
   "execution_count": 1132,
   "metadata": {},
   "outputs": [
    {
     "data": {
      "text/html": [
       "<div>\n",
       "<style scoped>\n",
       "    .dataframe tbody tr th:only-of-type {\n",
       "        vertical-align: middle;\n",
       "    }\n",
       "\n",
       "    .dataframe tbody tr th {\n",
       "        vertical-align: top;\n",
       "    }\n",
       "\n",
       "    .dataframe thead th {\n",
       "        text-align: right;\n",
       "    }\n",
       "</style>\n",
       "<table border=\"1\" class=\"dataframe\">\n",
       "  <thead>\n",
       "    <tr style=\"text-align: right;\">\n",
       "      <th></th>\n",
       "      <th>Word_Seg</th>\n",
       "      <th>cnt</th>\n",
       "      <th>Comm_suffix</th>\n",
       "      <th>Std_suffix</th>\n",
       "    </tr>\n",
       "    <tr>\n",
       "      <th>Primary_Suffix</th>\n",
       "      <th></th>\n",
       "      <th></th>\n",
       "      <th></th>\n",
       "      <th></th>\n",
       "    </tr>\n",
       "  </thead>\n",
       "  <tbody>\n",
       "    <tr>\n",
       "      <th>drive</th>\n",
       "      <td>2</td>\n",
       "      <td>2</td>\n",
       "      <td>2</td>\n",
       "      <td>2</td>\n",
       "    </tr>\n",
       "    <tr>\n",
       "      <th>highway</th>\n",
       "      <td>2</td>\n",
       "      <td>2</td>\n",
       "      <td>2</td>\n",
       "      <td>2</td>\n",
       "    </tr>\n",
       "    <tr>\n",
       "      <th>road</th>\n",
       "      <td>2</td>\n",
       "      <td>2</td>\n",
       "      <td>2</td>\n",
       "      <td>2</td>\n",
       "    </tr>\n",
       "    <tr>\n",
       "      <th>street</th>\n",
       "      <td>2</td>\n",
       "      <td>2</td>\n",
       "      <td>2</td>\n",
       "      <td>2</td>\n",
       "    </tr>\n",
       "  </tbody>\n",
       "</table>\n",
       "</div>"
      ],
      "text/plain": [
       "                Word_Seg  cnt  Comm_suffix  Std_suffix\n",
       "Primary_Suffix                                        \n",
       "drive                  2    2            2           2\n",
       "highway                2    2            2           2\n",
       "road                   2    2            2           2\n",
       "street                 2    2            2           2"
      ]
     },
     "execution_count": 1132,
     "metadata": {},
     "output_type": "execute_result"
    }
   ],
   "source": [
    "# not perfect.  Still have some excption.  Not significant andwWill ignore as of now\n",
    "ana_r1s = result1s.groupby('Primary_Suffix').count()\n",
    "ana_r1s[ana_r1s.Word_Seg> 1]"
   ]
  },
  {
   "cell_type": "code",
   "execution_count": 1133,
   "metadata": {},
   "outputs": [
    {
     "data": {
      "text/html": [
       "<div>\n",
       "<style scoped>\n",
       "    .dataframe tbody tr th:only-of-type {\n",
       "        vertical-align: middle;\n",
       "    }\n",
       "\n",
       "    .dataframe tbody tr th {\n",
       "        vertical-align: top;\n",
       "    }\n",
       "\n",
       "    .dataframe thead th {\n",
       "        text-align: right;\n",
       "    }\n",
       "</style>\n",
       "<table border=\"1\" class=\"dataframe\">\n",
       "  <thead>\n",
       "    <tr style=\"text-align: right;\">\n",
       "      <th></th>\n",
       "      <th>Word_Seg</th>\n",
       "      <th>cnt</th>\n",
       "      <th>Primary_Suffix</th>\n",
       "      <th>Comm_suffix</th>\n",
       "      <th>Std_suffix</th>\n",
       "    </tr>\n",
       "  </thead>\n",
       "  <tbody>\n",
       "    <tr>\n",
       "      <th>8</th>\n",
       "      <td>dr</td>\n",
       "      <td>45560</td>\n",
       "      <td>drive</td>\n",
       "      <td>dr</td>\n",
       "      <td>dr</td>\n",
       "    </tr>\n",
       "    <tr>\n",
       "      <th>111</th>\n",
       "      <td>drive</td>\n",
       "      <td>400</td>\n",
       "      <td>drive</td>\n",
       "      <td>drive</td>\n",
       "      <td>dr</td>\n",
       "    </tr>\n",
       "    <tr>\n",
       "      <th>162</th>\n",
       "      <td>drv</td>\n",
       "      <td>3</td>\n",
       "      <td>drive</td>\n",
       "      <td>drv</td>\n",
       "      <td>dr</td>\n",
       "    </tr>\n",
       "  </tbody>\n",
       "</table>\n",
       "</div>"
      ],
      "text/plain": [
       "    Word_Seg    cnt Primary_Suffix Comm_suffix Std_suffix\n",
       "8         dr  45560          drive          dr         dr\n",
       "111    drive    400          drive       drive         dr\n",
       "162      drv      3          drive         drv         dr"
      ]
     },
     "execution_count": 1133,
     "metadata": {},
     "output_type": "execute_result"
    }
   ],
   "source": [
    "# one example: before\n",
    "result1[result1.Primary_Suffix=='drive']"
   ]
  },
  {
   "cell_type": "code",
   "execution_count": 1134,
   "metadata": {},
   "outputs": [
    {
     "data": {
      "text/html": [
       "<div>\n",
       "<style scoped>\n",
       "    .dataframe tbody tr th:only-of-type {\n",
       "        vertical-align: middle;\n",
       "    }\n",
       "\n",
       "    .dataframe tbody tr th {\n",
       "        vertical-align: top;\n",
       "    }\n",
       "\n",
       "    .dataframe thead th {\n",
       "        text-align: right;\n",
       "    }\n",
       "</style>\n",
       "<table border=\"1\" class=\"dataframe\">\n",
       "  <thead>\n",
       "    <tr style=\"text-align: right;\">\n",
       "      <th></th>\n",
       "      <th>Word_Seg</th>\n",
       "      <th>cnt</th>\n",
       "      <th>Primary_Suffix</th>\n",
       "      <th>Comm_suffix</th>\n",
       "      <th>Std_suffix</th>\n",
       "    </tr>\n",
       "  </thead>\n",
       "  <tbody>\n",
       "    <tr>\n",
       "      <th>8</th>\n",
       "      <td>drive</td>\n",
       "      <td>45961</td>\n",
       "      <td>drive</td>\n",
       "      <td>drive</td>\n",
       "      <td>dr</td>\n",
       "    </tr>\n",
       "    <tr>\n",
       "      <th>147</th>\n",
       "      <td>dr</td>\n",
       "      <td>2</td>\n",
       "      <td>drive</td>\n",
       "      <td>dr</td>\n",
       "      <td>dr</td>\n",
       "    </tr>\n",
       "  </tbody>\n",
       "</table>\n",
       "</div>"
      ],
      "text/plain": [
       "    Word_Seg    cnt Primary_Suffix Comm_suffix Std_suffix\n",
       "8      drive  45961          drive       drive         dr\n",
       "147       dr      2          drive          dr         dr"
      ]
     },
     "execution_count": 1134,
     "metadata": {},
     "output_type": "execute_result"
    }
   ],
   "source": [
    "# after\n",
    "result1s[result1s.Primary_Suffix=='drive']"
   ]
  },
  {
   "cell_type": "code",
   "execution_count": 6,
   "metadata": {},
   "outputs": [],
   "source": [
    "# data issue\n",
    "#df_exception[df_exception.M_ADDR_s.str.contains('drive dr')][['M_ADDR_c','M_ADDR_s']]"
   ]
  },
  {
   "cell_type": "code",
   "execution_count": 1136,
   "metadata": {},
   "outputs": [
    {
     "data": {
      "text/html": [
       "<div>\n",
       "<style scoped>\n",
       "    .dataframe tbody tr th:only-of-type {\n",
       "        vertical-align: middle;\n",
       "    }\n",
       "\n",
       "    .dataframe tbody tr th {\n",
       "        vertical-align: top;\n",
       "    }\n",
       "\n",
       "    .dataframe thead th {\n",
       "        text-align: right;\n",
       "    }\n",
       "</style>\n",
       "<table border=\"1\" class=\"dataframe\">\n",
       "  <thead>\n",
       "    <tr style=\"text-align: right;\">\n",
       "      <th></th>\n",
       "      <th>Word_Seg</th>\n",
       "      <th>cnt</th>\n",
       "      <th>Primary_Suffix</th>\n",
       "      <th>Comm_suffix</th>\n",
       "      <th>Std_suffix</th>\n",
       "    </tr>\n",
       "  </thead>\n",
       "  <tbody>\n",
       "    <tr>\n",
       "      <th>5</th>\n",
       "      <td>st</td>\n",
       "      <td>141878</td>\n",
       "      <td>street</td>\n",
       "      <td>st</td>\n",
       "      <td>st</td>\n",
       "    </tr>\n",
       "    <tr>\n",
       "      <th>74</th>\n",
       "      <td>street</td>\n",
       "      <td>279</td>\n",
       "      <td>street</td>\n",
       "      <td>street</td>\n",
       "      <td>st</td>\n",
       "    </tr>\n",
       "    <tr>\n",
       "      <th>245</th>\n",
       "      <td>str</td>\n",
       "      <td>3</td>\n",
       "      <td>street</td>\n",
       "      <td>str</td>\n",
       "      <td>st</td>\n",
       "    </tr>\n",
       "  </tbody>\n",
       "</table>\n",
       "</div>"
      ],
      "text/plain": [
       "    Word_Seg     cnt Primary_Suffix Comm_suffix Std_suffix\n",
       "5         st  141878         street          st         st\n",
       "74    street     279         street      street         st\n",
       "245      str       3         street         str         st"
      ]
     },
     "execution_count": 1136,
     "metadata": {},
     "output_type": "execute_result"
    }
   ],
   "source": [
    "# before\n",
    "result1[result1.Primary_Suffix=='street']"
   ]
  },
  {
   "cell_type": "code",
   "execution_count": 1137,
   "metadata": {},
   "outputs": [
    {
     "data": {
      "text/html": [
       "<div>\n",
       "<style scoped>\n",
       "    .dataframe tbody tr th:only-of-type {\n",
       "        vertical-align: middle;\n",
       "    }\n",
       "\n",
       "    .dataframe tbody tr th {\n",
       "        vertical-align: top;\n",
       "    }\n",
       "\n",
       "    .dataframe thead th {\n",
       "        text-align: right;\n",
       "    }\n",
       "</style>\n",
       "<table border=\"1\" class=\"dataframe\">\n",
       "  <thead>\n",
       "    <tr style=\"text-align: right;\">\n",
       "      <th></th>\n",
       "      <th>Word_Seg</th>\n",
       "      <th>cnt</th>\n",
       "      <th>Primary_Suffix</th>\n",
       "      <th>Comm_suffix</th>\n",
       "      <th>Std_suffix</th>\n",
       "    </tr>\n",
       "  </thead>\n",
       "  <tbody>\n",
       "    <tr>\n",
       "      <th>5</th>\n",
       "      <td>street</td>\n",
       "      <td>142153</td>\n",
       "      <td>street</td>\n",
       "      <td>street</td>\n",
       "      <td>st</td>\n",
       "    </tr>\n",
       "    <tr>\n",
       "      <th>131</th>\n",
       "      <td>st</td>\n",
       "      <td>7</td>\n",
       "      <td>street</td>\n",
       "      <td>st</td>\n",
       "      <td>st</td>\n",
       "    </tr>\n",
       "  </tbody>\n",
       "</table>\n",
       "</div>"
      ],
      "text/plain": [
       "    Word_Seg     cnt Primary_Suffix Comm_suffix Std_suffix\n",
       "5     street  142153         street      street         st\n",
       "131       st       7         street          st         st"
      ]
     },
     "execution_count": 1137,
     "metadata": {},
     "output_type": "execute_result"
    }
   ],
   "source": [
    "# after\n",
    "result1s[result1s.Primary_Suffix=='street']"
   ]
  },
  {
   "cell_type": "code",
   "execution_count": 1138,
   "metadata": {},
   "outputs": [
    {
     "data": {
      "text/html": [
       "<div>\n",
       "<style scoped>\n",
       "    .dataframe tbody tr th:only-of-type {\n",
       "        vertical-align: middle;\n",
       "    }\n",
       "\n",
       "    .dataframe tbody tr th {\n",
       "        vertical-align: top;\n",
       "    }\n",
       "\n",
       "    .dataframe thead th {\n",
       "        text-align: right;\n",
       "    }\n",
       "</style>\n",
       "<table border=\"1\" class=\"dataframe\">\n",
       "  <thead>\n",
       "    <tr style=\"text-align: right;\">\n",
       "      <th></th>\n",
       "      <th>Word_Seg</th>\n",
       "      <th>cnt</th>\n",
       "      <th>Comm_suffix</th>\n",
       "      <th>Std_suffix</th>\n",
       "    </tr>\n",
       "    <tr>\n",
       "      <th>Primary_Suffix</th>\n",
       "      <th></th>\n",
       "      <th></th>\n",
       "      <th></th>\n",
       "      <th></th>\n",
       "    </tr>\n",
       "  </thead>\n",
       "  <tbody>\n",
       "    <tr>\n",
       "      <th>street</th>\n",
       "      <td>2</td>\n",
       "      <td>2</td>\n",
       "      <td>2</td>\n",
       "      <td>2</td>\n",
       "    </tr>\n",
       "  </tbody>\n",
       "</table>\n",
       "</div>"
      ],
      "text/plain": [
       "                Word_Seg  cnt  Comm_suffix  Std_suffix\n",
       "Primary_Suffix                                        \n",
       "street                 2    2            2           2"
      ]
     },
     "execution_count": 1138,
     "metadata": {},
     "output_type": "execute_result"
    }
   ],
   "source": [
    "# not perfect.  Still have some excption.  Not significant andwWill ignore as of now\n",
    "ana_r2s = result2s.groupby('Primary_Suffix').count()\n",
    "ana_r2s[ana_r2s.Word_Seg> 1]"
   ]
  },
  {
   "cell_type": "markdown",
   "metadata": {},
   "source": [
    "### Next, we will explore the data set.  Used the third party address tool to match the legacy address with address master data set.  We will analyze the matching results as well "
   ]
  },
  {
   "cell_type": "code",
   "execution_count": 1139,
   "metadata": {},
   "outputs": [],
   "source": [
    "def add_value_labels(ax, spacing=5):\n",
    "\n",
    "    for rect in ax.patches:\n",
    "        y_value = rect.get_height()\n",
    "        x_value = rect.get_x() + rect.get_width() / 2\n",
    "\n",
    "        space = spacing\n",
    "        va = 'bottom'\n",
    "\n",
    "        if y_value < 0:\n",
    "            space *= -1\n",
    "            # Vertical alignment\n",
    "            va = 'top'\n",
    "\n",
    "        label = \"{:}\".format(y_value)  # Use :.1f if wanting decimals.\n",
    "\n",
    "        # Create annotation\n",
    "        ax.annotate(label, (x_value, y_value), xytext=(0, space), textcoords=\"offset points\", ha='center', va=va)"
   ]
  },
  {
   "cell_type": "code",
   "execution_count": 1140,
   "metadata": {},
   "outputs": [
    {
     "name": "stdout",
     "output_type": "stream",
     "text": [
      "<class 'pandas.core.frame.DataFrame'>\n",
      "RangeIndex: 30000 entries, 0 to 29999\n",
      "Data columns (total 16 columns):\n",
      "DATAID         30000 non-null int64\n",
      "M_TXT          30000 non-null object\n",
      "M_DIV_CD       30000 non-null object\n",
      "M_ADDR         30000 non-null object\n",
      "M_CITY         30000 non-null object\n",
      "M_ADDR_TYPE    30000 non-null object\n",
      "P_ID           30000 non-null int64\n",
      "P_ADDR         30000 non-null object\n",
      "P_CITY         30000 non-null object\n",
      "MATCHCODE      30000 non-null object\n",
      "M_ADDR_c       30000 non-null object\n",
      "P_ADDR_c       30000 non-null object\n",
      "M_TXT_c        30000 non-null object\n",
      "M_ADDR_s       30000 non-null object\n",
      "P_ADDR_s       30000 non-null object\n",
      "M_TXT_s        30000 non-null object\n",
      "dtypes: int64(2), object(14)\n",
      "memory usage: 3.7+ MB\n"
     ]
    }
   ],
   "source": [
    "# exam matched - random sampled\n",
    "df_match.info()"
   ]
  },
  {
   "cell_type": "code",
   "execution_count": 1141,
   "metadata": {},
   "outputs": [
    {
     "data": {
      "text/html": [
       "<div>\n",
       "<style scoped>\n",
       "    .dataframe tbody tr th:only-of-type {\n",
       "        vertical-align: middle;\n",
       "    }\n",
       "\n",
       "    .dataframe tbody tr th {\n",
       "        vertical-align: top;\n",
       "    }\n",
       "\n",
       "    .dataframe thead th {\n",
       "        text-align: right;\n",
       "    }\n",
       "</style>\n",
       "<table border=\"1\" class=\"dataframe\">\n",
       "  <thead>\n",
       "    <tr style=\"text-align: right;\">\n",
       "      <th></th>\n",
       "      <th>DATAID</th>\n",
       "      <th>M_DIV_CD</th>\n",
       "      <th>M_ADDR_TYPE</th>\n",
       "      <th>FOUND_MATCH</th>\n",
       "    </tr>\n",
       "  </thead>\n",
       "  <tbody>\n",
       "    <tr>\n",
       "      <th>0</th>\n",
       "      <td>35137</td>\n",
       "      <td>d2</td>\n",
       "      <td>SIMPLE</td>\n",
       "      <td>N</td>\n",
       "    </tr>\n",
       "    <tr>\n",
       "      <th>1</th>\n",
       "      <td>35138</td>\n",
       "      <td>d2</td>\n",
       "      <td>SIMPLE</td>\n",
       "      <td>N</td>\n",
       "    </tr>\n",
       "    <tr>\n",
       "      <th>2</th>\n",
       "      <td>35139</td>\n",
       "      <td>d2</td>\n",
       "      <td>SIMPLE</td>\n",
       "      <td>N</td>\n",
       "    </tr>\n",
       "    <tr>\n",
       "      <th>3</th>\n",
       "      <td>35140</td>\n",
       "      <td>d2</td>\n",
       "      <td>RANGE</td>\n",
       "      <td>N</td>\n",
       "    </tr>\n",
       "    <tr>\n",
       "      <th>4</th>\n",
       "      <td>35141</td>\n",
       "      <td>d2</td>\n",
       "      <td>RANGE</td>\n",
       "      <td>N</td>\n",
       "    </tr>\n",
       "  </tbody>\n",
       "</table>\n",
       "</div>"
      ],
      "text/plain": [
       "   DATAID M_DIV_CD M_ADDR_TYPE FOUND_MATCH\n",
       "0   35137       d2      SIMPLE           N\n",
       "1   35138       d2      SIMPLE           N\n",
       "2   35139       d2      SIMPLE           N\n",
       "3   35140       d2       RANGE           N\n",
       "4   35141       d2       RANGE           N"
      ]
     },
     "execution_count": 1141,
     "metadata": {},
     "output_type": "execute_result"
    }
   ],
   "source": [
    "df_raw_sum.head()"
   ]
  },
  {
   "cell_type": "code",
   "execution_count": 1142,
   "metadata": {},
   "outputs": [
    {
     "data": {
      "text/plain": [
       "array(['d2', 'd3', 'd6', 'd1', 'd7', 'd5', 'd4'], dtype=object)"
      ]
     },
     "execution_count": 1142,
     "metadata": {},
     "output_type": "execute_result"
    }
   ],
   "source": [
    "df_raw_sum.M_DIV_CD.unique()"
   ]
  },
  {
   "cell_type": "code",
   "execution_count": 1143,
   "metadata": {},
   "outputs": [
    {
     "data": {
      "text/html": [
       "<div>\n",
       "<style scoped>\n",
       "    .dataframe tbody tr th:only-of-type {\n",
       "        vertical-align: middle;\n",
       "    }\n",
       "\n",
       "    .dataframe tbody tr th {\n",
       "        vertical-align: top;\n",
       "    }\n",
       "\n",
       "    .dataframe thead th {\n",
       "        text-align: right;\n",
       "    }\n",
       "</style>\n",
       "<table border=\"1\" class=\"dataframe\">\n",
       "  <thead>\n",
       "    <tr style=\"text-align: right;\">\n",
       "      <th></th>\n",
       "      <th>DATAID</th>\n",
       "      <th>M_DIV_CD</th>\n",
       "      <th>M_ADDR_TYPE</th>\n",
       "      <th>FOUND_MATCH</th>\n",
       "    </tr>\n",
       "  </thead>\n",
       "  <tbody>\n",
       "    <tr>\n",
       "      <th>11</th>\n",
       "      <td>35148</td>\n",
       "      <td>d2</td>\n",
       "      <td>SIMPLE</td>\n",
       "      <td>Y</td>\n",
       "    </tr>\n",
       "    <tr>\n",
       "      <th>63</th>\n",
       "      <td>35203</td>\n",
       "      <td>d2</td>\n",
       "      <td>SIMPLE</td>\n",
       "      <td>Y</td>\n",
       "    </tr>\n",
       "    <tr>\n",
       "      <th>64</th>\n",
       "      <td>35204</td>\n",
       "      <td>d2</td>\n",
       "      <td>SIMPLE</td>\n",
       "      <td>Y</td>\n",
       "    </tr>\n",
       "    <tr>\n",
       "      <th>65</th>\n",
       "      <td>35205</td>\n",
       "      <td>d2</td>\n",
       "      <td>SIMPLE</td>\n",
       "      <td>Y</td>\n",
       "    </tr>\n",
       "    <tr>\n",
       "      <th>66</th>\n",
       "      <td>35206</td>\n",
       "      <td>d2</td>\n",
       "      <td>SIMPLE</td>\n",
       "      <td>Y</td>\n",
       "    </tr>\n",
       "  </tbody>\n",
       "</table>\n",
       "</div>"
      ],
      "text/plain": [
       "    DATAID M_DIV_CD M_ADDR_TYPE FOUND_MATCH\n",
       "11   35148       d2      SIMPLE           Y\n",
       "63   35203       d2      SIMPLE           Y\n",
       "64   35204       d2      SIMPLE           Y\n",
       "65   35205       d2      SIMPLE           Y\n",
       "66   35206       d2      SIMPLE           Y"
      ]
     },
     "execution_count": 1143,
     "metadata": {},
     "output_type": "execute_result"
    }
   ],
   "source": [
    "df_raw_sum[df_raw_sum.FOUND_MATCH=='Y'].head()"
   ]
  },
  {
   "cell_type": "code",
   "execution_count": 1144,
   "metadata": {},
   "outputs": [],
   "source": [
    "stat = df_raw_sum.groupby('M_DIV_CD').DATAID.count()\n",
    "df_temp = pd.DataFrame({'DIV_CD':stat.index, 'Raw_Total':stat.values})\n",
    "\n",
    "stat2 = df_raw_sum[df_raw_sum.FOUND_MATCH=='Y'].groupby('M_DIV_CD').DATAID.count()\n",
    "df_temp2 = pd.DataFrame({'DIV_CD':stat2.index, 'Matched_Total':stat2.values})\n",
    "\n",
    "df_stat_by_div = pd.merge(df_temp, df_temp2, on='DIV_CD', how='outer')"
   ]
  },
  {
   "cell_type": "code",
   "execution_count": 1145,
   "metadata": {},
   "outputs": [
    {
     "data": {
      "text/plain": [
       "M_DIV_CD\n",
       "d1     23098\n",
       "d2    341756\n",
       "d3     28863\n",
       "d4     83720\n",
       "d5     26632\n",
       "d6     22205\n",
       "d7     23881\n",
       "Name: DATAID, dtype: int64"
      ]
     },
     "execution_count": 1145,
     "metadata": {},
     "output_type": "execute_result"
    }
   ],
   "source": [
    "stat2"
   ]
  },
  {
   "cell_type": "code",
   "execution_count": 1146,
   "metadata": {},
   "outputs": [
    {
     "data": {
      "text/html": [
       "<div>\n",
       "<style scoped>\n",
       "    .dataframe tbody tr th:only-of-type {\n",
       "        vertical-align: middle;\n",
       "    }\n",
       "\n",
       "    .dataframe tbody tr th {\n",
       "        vertical-align: top;\n",
       "    }\n",
       "\n",
       "    .dataframe thead th {\n",
       "        text-align: right;\n",
       "    }\n",
       "</style>\n",
       "<table border=\"1\" class=\"dataframe\">\n",
       "  <thead>\n",
       "    <tr style=\"text-align: right;\">\n",
       "      <th></th>\n",
       "      <th>DIV_CD</th>\n",
       "      <th>Raw_Total</th>\n",
       "      <th>Matched_Total</th>\n",
       "    </tr>\n",
       "  </thead>\n",
       "  <tbody>\n",
       "    <tr>\n",
       "      <th>0</th>\n",
       "      <td>d1</td>\n",
       "      <td>81691</td>\n",
       "      <td>23098</td>\n",
       "    </tr>\n",
       "    <tr>\n",
       "      <th>1</th>\n",
       "      <td>d2</td>\n",
       "      <td>622397</td>\n",
       "      <td>341756</td>\n",
       "    </tr>\n",
       "    <tr>\n",
       "      <th>2</th>\n",
       "      <td>d3</td>\n",
       "      <td>63682</td>\n",
       "      <td>28863</td>\n",
       "    </tr>\n",
       "    <tr>\n",
       "      <th>3</th>\n",
       "      <td>d4</td>\n",
       "      <td>141892</td>\n",
       "      <td>83720</td>\n",
       "    </tr>\n",
       "    <tr>\n",
       "      <th>4</th>\n",
       "      <td>d5</td>\n",
       "      <td>49242</td>\n",
       "      <td>26632</td>\n",
       "    </tr>\n",
       "    <tr>\n",
       "      <th>5</th>\n",
       "      <td>d6</td>\n",
       "      <td>43782</td>\n",
       "      <td>22205</td>\n",
       "    </tr>\n",
       "    <tr>\n",
       "      <th>6</th>\n",
       "      <td>d7</td>\n",
       "      <td>77888</td>\n",
       "      <td>23881</td>\n",
       "    </tr>\n",
       "  </tbody>\n",
       "</table>\n",
       "</div>"
      ],
      "text/plain": [
       "  DIV_CD  Raw_Total  Matched_Total\n",
       "0     d1      81691          23098\n",
       "1     d2     622397         341756\n",
       "2     d3      63682          28863\n",
       "3     d4     141892          83720\n",
       "4     d5      49242          26632\n",
       "5     d6      43782          22205\n",
       "6     d7      77888          23881"
      ]
     },
     "execution_count": 1146,
     "metadata": {},
     "output_type": "execute_result"
    }
   ],
   "source": [
    "df_stat_by_div"
   ]
  },
  {
   "cell_type": "code",
   "execution_count": 1147,
   "metadata": {},
   "outputs": [],
   "source": [
    "stat = df_raw_sum.groupby('M_ADDR_TYPE').DATAID.count()\n",
    "df_temp = pd.DataFrame({'TYPE':stat.index, 'Raw_Total':stat.values})\n",
    "\n",
    "stat2 = df_raw_sum[df_raw_sum.FOUND_MATCH=='Y'].groupby('M_ADDR_TYPE').DATAID.count()\n",
    "df_temp2 = pd.DataFrame({'TYPE':stat2.index, 'Matched_Total':stat2.values})\n",
    "\n",
    "df_stat_by_type = pd.merge(df_temp, df_temp2, on='TYPE', how='outer')"
   ]
  },
  {
   "cell_type": "code",
   "execution_count": 1148,
   "metadata": {},
   "outputs": [
    {
     "data": {
      "text/html": [
       "<div>\n",
       "<style scoped>\n",
       "    .dataframe tbody tr th:only-of-type {\n",
       "        vertical-align: middle;\n",
       "    }\n",
       "\n",
       "    .dataframe tbody tr th {\n",
       "        vertical-align: top;\n",
       "    }\n",
       "\n",
       "    .dataframe thead th {\n",
       "        text-align: right;\n",
       "    }\n",
       "</style>\n",
       "<table border=\"1\" class=\"dataframe\">\n",
       "  <thead>\n",
       "    <tr style=\"text-align: right;\">\n",
       "      <th></th>\n",
       "      <th>TYPE</th>\n",
       "      <th>Raw_Total</th>\n",
       "      <th>Matched_Total</th>\n",
       "    </tr>\n",
       "  </thead>\n",
       "  <tbody>\n",
       "    <tr>\n",
       "      <th>0</th>\n",
       "      <td>BLANK</td>\n",
       "      <td>69985</td>\n",
       "      <td>6.0</td>\n",
       "    </tr>\n",
       "    <tr>\n",
       "      <th>1</th>\n",
       "      <td>BLOCK</td>\n",
       "      <td>2581</td>\n",
       "      <td>NaN</td>\n",
       "    </tr>\n",
       "    <tr>\n",
       "      <th>2</th>\n",
       "      <td>LOT</td>\n",
       "      <td>21160</td>\n",
       "      <td>43.0</td>\n",
       "    </tr>\n",
       "    <tr>\n",
       "      <th>3</th>\n",
       "      <td>MULTI</td>\n",
       "      <td>3243</td>\n",
       "      <td>1863.0</td>\n",
       "    </tr>\n",
       "    <tr>\n",
       "      <th>4</th>\n",
       "      <td>NOTDEFINED</td>\n",
       "      <td>18089</td>\n",
       "      <td>3757.0</td>\n",
       "    </tr>\n",
       "    <tr>\n",
       "      <th>5</th>\n",
       "      <td>RANGE</td>\n",
       "      <td>22646</td>\n",
       "      <td>9968.0</td>\n",
       "    </tr>\n",
       "    <tr>\n",
       "      <th>6</th>\n",
       "      <td>ROUTE</td>\n",
       "      <td>8995</td>\n",
       "      <td>NaN</td>\n",
       "    </tr>\n",
       "    <tr>\n",
       "      <th>7</th>\n",
       "      <td>SIMPLE</td>\n",
       "      <td>933875</td>\n",
       "      <td>534518.0</td>\n",
       "    </tr>\n",
       "  </tbody>\n",
       "</table>\n",
       "</div>"
      ],
      "text/plain": [
       "         TYPE  Raw_Total  Matched_Total\n",
       "0       BLANK      69985            6.0\n",
       "1       BLOCK       2581            NaN\n",
       "2         LOT      21160           43.0\n",
       "3       MULTI       3243         1863.0\n",
       "4  NOTDEFINED      18089         3757.0\n",
       "5       RANGE      22646         9968.0\n",
       "6       ROUTE       8995            NaN\n",
       "7      SIMPLE     933875       534518.0"
      ]
     },
     "execution_count": 1148,
     "metadata": {},
     "output_type": "execute_result"
    }
   ],
   "source": [
    "df_stat_by_type"
   ]
  },
  {
   "cell_type": "code",
   "execution_count": 1149,
   "metadata": {},
   "outputs": [],
   "source": [
    "df_stat_by_type.fillna(0, inplace=True)"
   ]
  },
  {
   "cell_type": "code",
   "execution_count": 1150,
   "metadata": {},
   "outputs": [
    {
     "data": {
      "text/html": [
       "<div>\n",
       "<style scoped>\n",
       "    .dataframe tbody tr th:only-of-type {\n",
       "        vertical-align: middle;\n",
       "    }\n",
       "\n",
       "    .dataframe tbody tr th {\n",
       "        vertical-align: top;\n",
       "    }\n",
       "\n",
       "    .dataframe thead th {\n",
       "        text-align: right;\n",
       "    }\n",
       "</style>\n",
       "<table border=\"1\" class=\"dataframe\">\n",
       "  <thead>\n",
       "    <tr style=\"text-align: right;\">\n",
       "      <th></th>\n",
       "      <th>TYPE</th>\n",
       "      <th>Raw_Total</th>\n",
       "      <th>Matched_Total</th>\n",
       "    </tr>\n",
       "  </thead>\n",
       "  <tbody>\n",
       "    <tr>\n",
       "      <th>0</th>\n",
       "      <td>BLANK</td>\n",
       "      <td>69985</td>\n",
       "      <td>6.0</td>\n",
       "    </tr>\n",
       "    <tr>\n",
       "      <th>1</th>\n",
       "      <td>BLOCK</td>\n",
       "      <td>2581</td>\n",
       "      <td>0.0</td>\n",
       "    </tr>\n",
       "    <tr>\n",
       "      <th>2</th>\n",
       "      <td>LOT</td>\n",
       "      <td>21160</td>\n",
       "      <td>43.0</td>\n",
       "    </tr>\n",
       "    <tr>\n",
       "      <th>3</th>\n",
       "      <td>MULTI</td>\n",
       "      <td>3243</td>\n",
       "      <td>1863.0</td>\n",
       "    </tr>\n",
       "    <tr>\n",
       "      <th>4</th>\n",
       "      <td>NOTDEFINED</td>\n",
       "      <td>18089</td>\n",
       "      <td>3757.0</td>\n",
       "    </tr>\n",
       "    <tr>\n",
       "      <th>5</th>\n",
       "      <td>RANGE</td>\n",
       "      <td>22646</td>\n",
       "      <td>9968.0</td>\n",
       "    </tr>\n",
       "    <tr>\n",
       "      <th>6</th>\n",
       "      <td>ROUTE</td>\n",
       "      <td>8995</td>\n",
       "      <td>0.0</td>\n",
       "    </tr>\n",
       "    <tr>\n",
       "      <th>7</th>\n",
       "      <td>SIMPLE</td>\n",
       "      <td>933875</td>\n",
       "      <td>534518.0</td>\n",
       "    </tr>\n",
       "  </tbody>\n",
       "</table>\n",
       "</div>"
      ],
      "text/plain": [
       "         TYPE  Raw_Total  Matched_Total\n",
       "0       BLANK      69985            6.0\n",
       "1       BLOCK       2581            0.0\n",
       "2         LOT      21160           43.0\n",
       "3       MULTI       3243         1863.0\n",
       "4  NOTDEFINED      18089         3757.0\n",
       "5       RANGE      22646         9968.0\n",
       "6       ROUTE       8995            0.0\n",
       "7      SIMPLE     933875       534518.0"
      ]
     },
     "execution_count": 1150,
     "metadata": {},
     "output_type": "execute_result"
    }
   ],
   "source": [
    "df_stat_by_type"
   ]
  },
  {
   "cell_type": "code",
   "execution_count": 1151,
   "metadata": {},
   "outputs": [
    {
     "name": "stdout",
     "output_type": "stream",
     "text": [
      "FOUND_MATCH       N       Y\n",
      "M_DIV_CD                   \n",
      "d1            58593   23098\n",
      "d2           280641  341756\n",
      "d3            34819   28863\n",
      "d4            58172   83720\n",
      "d5            22610   26632\n",
      "d6            21577   22205\n",
      "d7            54007   23881\n"
     ]
    }
   ],
   "source": [
    "print (df_raw_sum.groupby(['M_DIV_CD','FOUND_MATCH']).size().unstack(fill_value=0))"
   ]
  },
  {
   "cell_type": "code",
   "execution_count": 1152,
   "metadata": {},
   "outputs": [
    {
     "name": "stdout",
     "output_type": "stream",
     "text": [
      "FOUND_MATCH       N       Y\n",
      "M_ADDR_TYPE                \n",
      "BLANK         69979       6\n",
      "BLOCK          2581       0\n",
      "LOT           21117      43\n",
      "MULTI          1380    1863\n",
      "NOTDEFINED    14332    3757\n",
      "RANGE         12678    9968\n",
      "ROUTE          8995       0\n",
      "SIMPLE       399357  534518\n"
     ]
    }
   ],
   "source": [
    "print (df_raw_sum.groupby(['M_ADDR_TYPE','FOUND_MATCH']).size().unstack(fill_value=0))"
   ]
  },
  {
   "cell_type": "code",
   "execution_count": 1153,
   "metadata": {},
   "outputs": [
    {
     "data": {
      "image/png": "[encoded data removed]",
      "text/plain": [
       "<Figure size 432x288 with 1 Axes>"
      ]
     },
     "metadata": {},
     "output_type": "display_data"
    }
   ],
   "source": [
    "plt.figure(figsize=(6,4))\n",
    "\n",
    "result_plot = df_raw_sum.groupby(['FOUND_MATCH']).DATAID.count().plot.bar()\n",
    "plt.xlabel('Matched (Y / N)')\n",
    "plt.ylabel('Total Addresses')\n",
    "add_value_labels(result_plot, 1)\n",
    "plt.show()"
   ]
  },
  {
   "cell_type": "markdown",
   "metadata": {},
   "source": [
    "### Total 550155 found match but still have 530419 not found the match "
   ]
  },
  {
   "cell_type": "code",
   "execution_count": 1154,
   "metadata": {},
   "outputs": [
    {
     "data": {
      "text/plain": [
       "<Figure size 576x432 with 0 Axes>"
      ]
     },
     "metadata": {},
     "output_type": "display_data"
    },
    {
     "data": {
      "image/png": "[encoded data removed]",
      "text/plain": [
       "<Figure size 432x288 with 1 Axes>"
      ]
     },
     "metadata": {},
     "output_type": "display_data"
    }
   ],
   "source": [
    "plt.figure(figsize=(8,6))\n",
    "\n",
    "rsd_plot = df_raw_sum.groupby(['M_DIV_CD','FOUND_MATCH']).size().unstack(fill_value=0).plot.bar()\n",
    "plt.xlabel('DIV')\n",
    "plt.ylabel('Total Addresses')\n",
    "plt.title('Matched vs Not matched by Region')\n",
    "#add_value_labels(rsd_plot, 1)\n",
    "plt.show()"
   ]
  },
  {
   "cell_type": "markdown",
   "metadata": {},
   "source": [
    "### The above plot shows the matched vs not matched within each region "
   ]
  },
  {
   "cell_type": "code",
   "execution_count": 1155,
   "metadata": {},
   "outputs": [
    {
     "data": {
      "text/plain": [
       "<Figure size 576x432 with 0 Axes>"
      ]
     },
     "metadata": {},
     "output_type": "display_data"
    },
    {
     "data": {
      "image/png": "[encoded data removed]",
      "text/plain": [
       "<Figure size 432x288 with 1 Axes>"
      ]
     },
     "metadata": {},
     "output_type": "display_data"
    }
   ],
   "source": [
    "plt.figure(figsize=(8,6))\n",
    "rst_plot = df_raw_sum.groupby(['M_ADDR_TYPE','FOUND_MATCH']).size().unstack(fill_value=0).plot.bar()\n",
    "plt.xlabel('TYPE')\n",
    "plt.ylabel('Total Addresses')\n",
    "plt.title('Matched vs Not matched by Address Type')\n",
    "#add_value_labels(rst_plot, 1)\n",
    "plt.xticks(rotation=65) \n",
    "plt.show()"
   ]
  },
  {
   "cell_type": "markdown",
   "metadata": {},
   "source": [
    "### The above plot shows the matched vs not matched by address type.  Majority addresses have SIMPLE type.  Addresses in df_exception are the exceptions that the third party address tool couldn't resolve.  df_exception will be the data set for me to apply DLP techniques to identify the matching."
   ]
  },
  {
   "cell_type": "markdown",
   "metadata": {},
   "source": [
    "## Fuzzywuzzy functions EDA\n",
    "Next, will apply these four Fuzzywuzzy fuctions to the sampled data of matched addresses using the third-party address tool.  The confidence level of matching is about 94%.  Then will compare the results and choos the function works best for this data set."
   ]
  },
  {
   "cell_type": "code",
   "execution_count": 1156,
   "metadata": {},
   "outputs": [
    {
     "data": {
      "text/plain": [
       "\"\\ndf_match['pr1']=df_match.apply(get_partial_ratio1, axis=1)\\ndf_match['pr2']=df_match.apply(get_partial_ratio2, axis=1)\\n\""
      ]
     },
     "execution_count": 1156,
     "metadata": {},
     "output_type": "execute_result"
    }
   ],
   "source": [
    "def get_partial_ratio1(row):\n",
    "    string1 = row['M_ADDR_c']\n",
    "    string2 = row['P_ADDR_c']\n",
    "    return fuzz.partial_ratio(string1, string2)\n",
    "\n",
    "def get_partial_ratio2(row):\n",
    "    string1 = row['M_TXT_c']\n",
    "    string2 = row['P_ADDR_c']\n",
    "    return fuzz.partial_ratio(string1, string2)\n",
    "'''\n",
    "df_match['pr1']=df_match.apply(get_partial_ratio1, axis=1)\n",
    "df_match['pr2']=df_match.apply(get_partial_ratio2, axis=1)\n",
    "'''"
   ]
  },
  {
   "cell_type": "code",
   "execution_count": 1157,
   "metadata": {},
   "outputs": [
    {
     "data": {
      "text/plain": [
       "\"\\ndf_match['tstr1']=df_match.apply(get_token_set_ratio1, axis=1)\\ndf_match['tstr2']=df_match.apply(get_token_set_ratio2, axis=1)\\n\""
      ]
     },
     "execution_count": 1157,
     "metadata": {},
     "output_type": "execute_result"
    }
   ],
   "source": [
    "def get_token_set_ratio1(row):\n",
    "    string1 = row['M_ADDR_c']\n",
    "    string2 = row['P_ADDR_c']\n",
    "    return fuzz.token_set_ratio(string1, string2)\n",
    "\n",
    "def get_token_set_ratio2(row):\n",
    "    string1 = row['M_TXT_c']\n",
    "    string2 = row['P_ADDR_c']\n",
    "    return fuzz.token_set_ratio(string1, string2)\n",
    "'''\n",
    "df_match['tstr1']=df_match.apply(get_token_set_ratio1, axis=1)\n",
    "df_match['tstr2']=df_match.apply(get_token_set_ratio2, axis=1)\n",
    "'''"
   ]
  },
  {
   "cell_type": "code",
   "execution_count": 1158,
   "metadata": {},
   "outputs": [
    {
     "name": "stdout",
     "output_type": "stream",
     "text": [
      "<class 'pandas.core.frame.DataFrame'>\n",
      "RangeIndex: 30000 entries, 0 to 29999\n",
      "Data columns (total 16 columns):\n",
      "DATAID         30000 non-null int64\n",
      "M_TXT          30000 non-null object\n",
      "M_DIV_CD       30000 non-null object\n",
      "M_ADDR         30000 non-null object\n",
      "M_CITY         30000 non-null object\n",
      "M_ADDR_TYPE    30000 non-null object\n",
      "P_ID           30000 non-null int64\n",
      "P_ADDR         30000 non-null object\n",
      "P_CITY         30000 non-null object\n",
      "MATCHCODE      30000 non-null object\n",
      "M_ADDR_c       30000 non-null object\n",
      "P_ADDR_c       30000 non-null object\n",
      "M_TXT_c        30000 non-null object\n",
      "M_ADDR_s       30000 non-null object\n",
      "P_ADDR_s       30000 non-null object\n",
      "M_TXT_s        30000 non-null object\n",
      "dtypes: int64(2), object(14)\n",
      "memory usage: 3.7+ MB\n"
     ]
    }
   ],
   "source": [
    "df_match.info()"
   ]
  },
  {
   "cell_type": "code",
   "execution_count": 1159,
   "metadata": {},
   "outputs": [],
   "source": [
    "# address is cleansed.  Suffix is not consolidated\n",
    "df_match['r1'] = df_match.apply(lambda row: fuzz.ratio(row['M_ADDR_c'], row['P_ADDR_c']), axis=1)\n",
    "df_match['pr1'] = df_match.apply(lambda row: fuzz.partial_ratio(row['M_ADDR_c'], row['P_ADDR_c']), axis=1)\n",
    "df_match['tsr1'] = df_match.apply(lambda row: fuzz.token_sort_ratio(row['M_ADDR_c'], row['P_ADDR_c']), axis=1)\n",
    "df_match['tstr1'] = df_match.apply(lambda row: fuzz.token_set_ratio(row['M_ADDR_c'], row['P_ADDR_c']), axis=1)"
   ]
  },
  {
   "cell_type": "code",
   "execution_count": 1160,
   "metadata": {},
   "outputs": [],
   "source": [
    "# address is cleansed.  Suffix is consolidated to USPS primary suffix\n",
    "df_match['r1s'] = df_match.apply(lambda row: fuzz.ratio(row['M_ADDR_s'], row['P_ADDR_s']), axis=1)\n",
    "df_match['pr1s'] = df_match.apply(lambda row: fuzz.partial_ratio(row['M_ADDR_s'], row['P_ADDR_s']), axis=1)\n",
    "df_match['tsr1s'] = df_match.apply(lambda row: fuzz.token_sort_ratio(row['M_ADDR_s'], row['P_ADDR_s']), axis=1)\n",
    "df_match['tstr1s'] = df_match.apply(lambda row: fuzz.token_set_ratio(row['M_ADDR_s'], row['P_ADDR_s']), axis=1)"
   ]
  },
  {
   "cell_type": "code",
   "execution_count": 1161,
   "metadata": {},
   "outputs": [
    {
     "data": {
      "text/html": [
       "<div>\n",
       "<style scoped>\n",
       "    .dataframe tbody tr th:only-of-type {\n",
       "        vertical-align: middle;\n",
       "    }\n",
       "\n",
       "    .dataframe tbody tr th {\n",
       "        vertical-align: top;\n",
       "    }\n",
       "\n",
       "    .dataframe thead th {\n",
       "        text-align: right;\n",
       "    }\n",
       "</style>\n",
       "<table border=\"1\" class=\"dataframe\">\n",
       "  <thead>\n",
       "    <tr style=\"text-align: right;\">\n",
       "      <th></th>\n",
       "      <th>M_DIV_CD</th>\n",
       "      <th>M_ADDR_TYPE</th>\n",
       "      <th>r1</th>\n",
       "      <th>pr1</th>\n",
       "      <th>tsr1</th>\n",
       "      <th>tstr1</th>\n",
       "      <th>r1s</th>\n",
       "      <th>pr1s</th>\n",
       "      <th>tsr1s</th>\n",
       "      <th>tstr1s</th>\n",
       "    </tr>\n",
       "  </thead>\n",
       "  <tbody>\n",
       "    <tr>\n",
       "      <th>7</th>\n",
       "      <td>d2</td>\n",
       "      <td>SIMPLE</td>\n",
       "      <td>87</td>\n",
       "      <td>84</td>\n",
       "      <td>86</td>\n",
       "      <td>90</td>\n",
       "      <td>81</td>\n",
       "      <td>78</td>\n",
       "      <td>78</td>\n",
       "      <td>82</td>\n",
       "    </tr>\n",
       "    <tr>\n",
       "      <th>16</th>\n",
       "      <td>d2</td>\n",
       "      <td>RANGE</td>\n",
       "      <td>88</td>\n",
       "      <td>93</td>\n",
       "      <td>86</td>\n",
       "      <td>100</td>\n",
       "      <td>90</td>\n",
       "      <td>94</td>\n",
       "      <td>88</td>\n",
       "      <td>100</td>\n",
       "    </tr>\n",
       "    <tr>\n",
       "      <th>17</th>\n",
       "      <td>d2</td>\n",
       "      <td>SIMPLE</td>\n",
       "      <td>97</td>\n",
       "      <td>94</td>\n",
       "      <td>97</td>\n",
       "      <td>97</td>\n",
       "      <td>98</td>\n",
       "      <td>95</td>\n",
       "      <td>97</td>\n",
       "      <td>97</td>\n",
       "    </tr>\n",
       "    <tr>\n",
       "      <th>21</th>\n",
       "      <td>d2</td>\n",
       "      <td>SIMPLE</td>\n",
       "      <td>97</td>\n",
       "      <td>94</td>\n",
       "      <td>97</td>\n",
       "      <td>97</td>\n",
       "      <td>98</td>\n",
       "      <td>95</td>\n",
       "      <td>97</td>\n",
       "      <td>97</td>\n",
       "    </tr>\n",
       "    <tr>\n",
       "      <th>24</th>\n",
       "      <td>d2</td>\n",
       "      <td>SIMPLE</td>\n",
       "      <td>89</td>\n",
       "      <td>88</td>\n",
       "      <td>88</td>\n",
       "      <td>88</td>\n",
       "      <td>89</td>\n",
       "      <td>88</td>\n",
       "      <td>88</td>\n",
       "      <td>88</td>\n",
       "    </tr>\n",
       "  </tbody>\n",
       "</table>\n",
       "</div>"
      ],
      "text/plain": [
       "   M_DIV_CD M_ADDR_TYPE  r1  pr1  tsr1  tstr1  r1s  pr1s  tsr1s  tstr1s\n",
       "7        d2      SIMPLE  87   84    86     90   81    78     78      82\n",
       "16       d2       RANGE  88   93    86    100   90    94     88     100\n",
       "17       d2      SIMPLE  97   94    97     97   98    95     97      97\n",
       "21       d2      SIMPLE  97   94    97     97   98    95     97      97\n",
       "24       d2      SIMPLE  89   88    88     88   89    88     88      88"
      ]
     },
     "execution_count": 1161,
     "metadata": {},
     "output_type": "execute_result"
    }
   ],
   "source": [
    "# Fuzzywuzzy ratio matrix\n",
    "data_to_display=['M_DIV_CD','M_ADDR_TYPE','r1','pr1','tsr1','tstr1','r1s','pr1s','tsr1s','tstr1s']\n",
    "df_match[df_match.pr1<95][data_to_display].head()"
   ]
  },
  {
   "cell_type": "markdown",
   "metadata": {},
   "source": [
    "### Calculate percentage of matching with ratio above 90% "
   ]
  },
  {
   "cell_type": "code",
   "execution_count": 1162,
   "metadata": {},
   "outputs": [
    {
     "name": "stdout",
     "output_type": "stream",
     "text": [
      "r1 match (%>90) =  0.8581\n",
      "pr1 match (%>90) =  0.8755\n",
      "tsr1 match (%>90) =  0.8383666666666667\n",
      "tstr1 match (%>90) =  0.908\n",
      "\n",
      "r1s match (%>90) =  0.8698333333333333\n",
      "pr1s match (%>90) =  0.8921\n",
      "tsr1s match (%>90) =  0.8601\n",
      "tstr1s match (%>90) =  0.9305333333333333\n",
      "\n"
     ]
    }
   ],
   "source": [
    "r1_match_pct = len(df_match[df_match.r1 > 90]) / len(df_match)\n",
    "pr1_match_pct = len(df_match[df_match.pr1 > 90]) / len(df_match)\n",
    "tsr1_match_pct = len(df_match[df_match.tsr1 > 90]) / len(df_match)\n",
    "tstr1_match_pct = len(df_match[df_match.tstr1 > 90]) / len(df_match)\n",
    "print('r1 match (%>90) = ', r1_match_pct)\n",
    "print('pr1 match (%>90) = ', pr1_match_pct)\n",
    "print('tsr1 match (%>90) = ', tsr1_match_pct)\n",
    "print('tstr1 match (%>90) = ', tstr1_match_pct)\n",
    "print()\n",
    "r1s_match_pct = len(df_match[df_match.r1s > 90]) / len(df_match)\n",
    "pr1s_match_pct = len(df_match[df_match.pr1s > 90]) / len(df_match)\n",
    "tsr1s_match_pct = len(df_match[df_match.tsr1s > 90]) / len(df_match)\n",
    "tstr1s_match_pct = len(df_match[df_match.tstr1s > 90]) / len(df_match)\n",
    "print('r1s match (%>90) = ', r1s_match_pct)\n",
    "print('pr1s match (%>90) = ', pr1s_match_pct)\n",
    "print('tsr1s match (%>90) = ', tsr1s_match_pct)\n",
    "print('tstr1s match (%>90) = ', tstr1s_match_pct)\n",
    "print()"
   ]
  },
  {
   "cell_type": "markdown",
   "metadata": {},
   "source": [
    "#### Compared result s (with ratio>90).  The performance of Fuzywuzzy funtions rank in this order\n",
    "token_set_raion > partial_ratio > ratio > token_sort_ratio\n",
    "\n",
    "After consolidated suffix, the ratio of token_set_ratio improved from 90.5% to 93%"
   ]
  },
  {
   "cell_type": "code",
   "execution_count": 1163,
   "metadata": {},
   "outputs": [
    {
     "name": "stdout",
     "output_type": "stream",
     "text": [
      "r1 mean (%) =  96.6229\n",
      "pr1 mean (%) =  96.90603333333334\n",
      "tsr1 mean (%) =  96.0952\n",
      "tstr1 mean (%) =  97.72556666666667\n",
      "\n",
      "r1s mean (%) =  97.0433\n",
      "pr1s mean (%) =  97.17993333333334\n",
      "tsr1s mean (%) =  96.34213333333334\n",
      "tstr1s mean (%) =  98.1479\n",
      "\n"
     ]
    }
   ],
   "source": [
    "r1_mean = df_match['r1'].mean()\n",
    "pr1_mean = df_match['pr1'].mean()\n",
    "tsr1_mean = df_match['tsr1'].mean()\n",
    "tstr1_mean = df_match['tstr1'].mean()\n",
    "print('r1 mean (%) = ', r1_mean)\n",
    "print('pr1 mean (%) = ', pr1_mean)\n",
    "print('tsr1 mean (%) = ', tsr1_mean)\n",
    "print('tstr1 mean (%) = ', tstr1_mean)\n",
    "print()\n",
    "r1s_mean = df_match['r1s'].mean()\n",
    "pr1s_mean = df_match['pr1s'].mean()\n",
    "tsr1s_mean = df_match['tsr1s'].mean()\n",
    "tstr1s_mean = df_match['tstr1s'].mean()\n",
    "print('r1s mean (%) = ', r1s_mean)\n",
    "print('pr1s mean (%) = ', pr1s_mean)\n",
    "print('tsr1s mean (%) = ', tsr1s_mean)\n",
    "print('tstr1s mean (%) = ', tstr1s_mean)\n",
    "print()"
   ]
  },
  {
   "cell_type": "markdown",
   "metadata": {},
   "source": [
    "### After consolidating address suffix, the matching counts increased "
   ]
  },
  {
   "cell_type": "code",
   "execution_count": 1164,
   "metadata": {},
   "outputs": [
    {
     "data": {
      "image/png": "[encoded data removed]",
      "text/plain": [
       "<Figure size 432x288 with 1 Axes>"
      ]
     },
     "metadata": {},
     "output_type": "display_data"
    }
   ],
   "source": [
    "#plt.subplots(figsize=(7,6), dpi=100)\n",
    "sns.distplot( np.log(df_match.groupby('tstr1s').M_ADDR.count().values) , color=\"dodgerblue\", label=\"Primary Suffix\", hist=False, rug=True)\n",
    "sns.distplot( np.log(df_match.groupby('tstr1').M_ADDR.count().values) , color=\"orange\", label=\"Raw Suffix\", hist=False, rug=True)\n",
    "\n",
    "plt.xlabel('Count Log')\n",
    "plt.title('Suffix Raw vs Consolidated')\n",
    "plt.legend();"
   ]
  },
  {
   "cell_type": "code",
   "execution_count": 1165,
   "metadata": {},
   "outputs": [
    {
     "data": {
      "text/plain": [
       "<matplotlib.legend.Legend at 0x1b9a5bc7f28>"
      ]
     },
     "execution_count": 1165,
     "metadata": {},
     "output_type": "execute_result"
    },
    {
     "data": {
      "image/png": "[encoded data removed]",
      "text/plain": [
       "<Figure size 432x288 with 1 Axes>"
      ]
     },
     "metadata": {},
     "output_type": "display_data"
    }
   ],
   "source": [
    "plt.bar(df_match.groupby('tstr1').M_ADDR.count().index, np.log(df_match.groupby('tstr1').M_ADDR.count().values), alpha=0.5, label='Raw Suffix')\n",
    "plt.bar(df_match.groupby('tstr1s').M_ADDR.count().index, np.log(df_match.groupby('tstr1s').M_ADDR.count().values), alpha=0.5, label='Primary Suffix')\n",
    "plt.legend()"
   ]
  },
  {
   "cell_type": "markdown",
   "metadata": {},
   "source": [
    "## Machine Learning "
   ]
  },
  {
   "cell_type": "code",
   "execution_count": 1166,
   "metadata": {},
   "outputs": [],
   "source": [
    "def ngrams(string, n=3): \n",
    "    ngrams = zip(*[string[i:] for i in range(n)])\n",
    "    return [''.join(ngram) for ngram in ngrams]"
   ]
  },
  {
   "cell_type": "code",
   "execution_count": 1167,
   "metadata": {},
   "outputs": [],
   "source": [
    "#import numpy as np\n",
    "from scipy.sparse import csr_matrix\n",
    "#!pip install sparse_dot_topn \n",
    "import sparse_dot_topn.sparse_dot_topn as ct\n",
    "def awesome_cossim_top(A, B, ntop, lower_bound=0):\n",
    "    # force A and B as a CSR matrix.\n",
    "    # If they have already been CSR, there is no overhead\n",
    "    A = A.tocsr()\n",
    "    B = B.tocsr()\n",
    "    M, _ = A.shape\n",
    "    _, N = B.shape\n",
    " \n",
    "    idx_dtype = np.int32 \n",
    "    nnz_max = M*ntop\n",
    "    indptr = np.zeros(M+1, dtype=idx_dtype)\n",
    "    indices = np.zeros(nnz_max, dtype=idx_dtype)\n",
    "    data = np.zeros(nnz_max, dtype=A.dtype)        \n",
    "\n",
    "    ct.sparse_dot_topn(\n",
    "        M, N, np.asarray(A.indptr, dtype=idx_dtype),\n",
    "        np.asarray(A.indices, dtype=idx_dtype),\n",
    "        A.data,\n",
    "        np.asarray(B.indptr, dtype=idx_dtype),\n",
    "        np.asarray(B.indices, dtype=idx_dtype),\n",
    "        B.data,\n",
    "        ntop,\n",
    "        lower_bound,\n",
    "        indptr, indices, data)\n",
    "    return csr_matrix((data,indices,indptr),shape=(M,N))"
   ]
  },
  {
   "cell_type": "code",
   "execution_count": 1168,
   "metadata": {},
   "outputs": [],
   "source": [
    "def get_matches_df_2(sparse_matrix, name_vector, name_vector2):#,top=100):\n",
    "    non_zeros = sparse_matrix.nonzero()\n",
    "    \n",
    "    sparserows = non_zeros[0]\n",
    "    sparsecols = non_zeros[1]\n",
    "    \n",
    "    nr_matches = sparsecols.size\n",
    "    \n",
    "    #if top < sparsecols.size:\n",
    "       # nr_matches = top\n",
    "        \n",
    "    #else:\n",
    "        #nr_matches\n",
    "    \n",
    "    left_side = np.empty([nr_matches], dtype=object)\n",
    "    right_side = np.empty([nr_matches], dtype=object)\n",
    "    similarity = np.zeros(nr_matches)\n",
    "    \n",
    "    for index in range(0, nr_matches):\n",
    "        #print('index = ', index)\n",
    "        left_side[index] = name_vector[sparserows[index]]\n",
    "        right_side[index] = name_vector2[sparsecols[index]]\n",
    "        similarity[index] = sparse_matrix.data[index]\n",
    "    \n",
    "    return pd.DataFrame({'Messy_addr': left_side,\n",
    "                         'Master_addr': right_side,\n",
    "                          'Similarity': similarity})"
   ]
  },
  {
   "cell_type": "code",
   "execution_count": 1169,
   "metadata": {},
   "outputs": [],
   "source": [
    "def getNearestN(query):\n",
    "    queryTFIDF_ = vectorizer.transform(query)\n",
    "    distances, indices = nbrs.kneighbors(queryTFIDF_)\n",
    "    return distances, indices"
   ]
  },
  {
   "cell_type": "markdown",
   "metadata": {},
   "source": [
    "### Compare different text matching techniques to a sampled data set \n",
    "\n",
    "Three techniques:\n",
    "\n",
    "Fuzzywuzzy\n",
    "\n",
    "KNN\n",
    "\n",
    "ING (a fast matching algorithm)"
   ]
  },
  {
   "cell_type": "markdown",
   "metadata": {},
   "source": [
    "#### Data Set  - subset of matched addresses which have better data quality.  Keep data size small."
   ]
  },
  {
   "cell_type": "code",
   "execution_count": 1170,
   "metadata": {},
   "outputs": [
    {
     "data": {
      "text/plain": [
       "M_DIV_CD\n",
       "d1     1322\n",
       "d2    18544\n",
       "d3     1645\n",
       "d4     4584\n",
       "d5     1421\n",
       "d6     1195\n",
       "d7     1289\n",
       "Name: DATAID, dtype: int64"
      ]
     },
     "execution_count": 1170,
     "metadata": {},
     "output_type": "execute_result"
    }
   ],
   "source": [
    "df_match.groupby('M_DIV_CD').DATAID.count()"
   ]
  },
  {
   "cell_type": "code",
   "execution_count": 1171,
   "metadata": {},
   "outputs": [
    {
     "name": "stdout",
     "output_type": "stream",
     "text": [
      "<class 'pandas.core.frame.DataFrame'>\n",
      "Int64Index: 19100 entries, 486667 to 505766\n",
      "Data columns (total 6 columns):\n",
      "P_DIV_CD    19100 non-null object\n",
      "P_ADDR      19100 non-null object\n",
      "P_CITY      19100 non-null object\n",
      "P_ADDR_c    19100 non-null object\n",
      "P_CITY_c    19100 non-null object\n",
      "P_ADDR_s    19100 non-null object\n",
      "dtypes: object(6)\n",
      "memory usage: 1.0+ MB\n"
     ]
    }
   ],
   "source": [
    "df_master[df_master.P_DIV_CD=='d6'].info()"
   ]
  },
  {
   "cell_type": "code",
   "execution_count": 1172,
   "metadata": {},
   "outputs": [],
   "source": [
    "ds1 = df_match[df_match.M_DIV_CD=='d6'].M_ADDR_s.unique()\n",
    "ds2 = df_master[df_master.P_DIV_CD=='d6'].P_ADDR_s.unique()"
   ]
  },
  {
   "cell_type": "code",
   "execution_count": 1173,
   "metadata": {},
   "outputs": [
    {
     "data": {
      "text/plain": [
       "(1107, 19023)"
      ]
     },
     "execution_count": 1173,
     "metadata": {},
     "output_type": "execute_result"
    }
   ],
   "source": [
    "len(ds1), len(ds2)"
   ]
  },
  {
   "cell_type": "markdown",
   "metadata": {},
   "source": [
    "### Apply Fuzzywuzzy "
   ]
  },
  {
   "cell_type": "code",
   "execution_count": 1174,
   "metadata": {},
   "outputs": [],
   "source": [
    "import pandas as pd \n",
    "from fuzzywuzzy import fuzz \n",
    "from fuzzywuzzy import process\n",
    "\n",
    "def checker(to_be_matched,match_options):\n",
    "    names_messy=[]\n",
    "    names_master=[]\n",
    "    ratio_array=[]    \n",
    "    for rec in to_be_matched:\n",
    "        if rec in match_options:\n",
    "            names_messy.append(rec)\n",
    "            names_master.append(rec)\n",
    "            ratio_array.append(100)\n",
    "        else:   \n",
    "            x=process.extractOne(rec, match_options,scorer=fuzz.token_set_ratio)\n",
    "            names_messy.append(rec)\n",
    "            names_master.append(x[0])\n",
    "            ratio_array.append(x[1])\n",
    "    return names_messy, names_master,ratio_array"
   ]
  },
  {
   "cell_type": "code",
   "execution_count": 1175,
   "metadata": {},
   "outputs": [
    {
     "name": "stdout",
     "output_type": "stream",
     "text": [
      "Fuzzywuzzy matching start...\n",
      "Completed.\n",
      "Total time consumed: 152.90584063529968\n"
     ]
    }
   ],
   "source": [
    "ti = time.time()\n",
    "print('Fuzzywuzzy matching start...')\n",
    "messy_addr,master_addr,ratio_match=checker(ds1, ds2)\n",
    "print('Completed.')\n",
    "\n",
    "t=time.time() - t1\n",
    "print('Total time consumed:', t)"
   ]
  },
  {
   "cell_type": "code",
   "execution_count": 1176,
   "metadata": {},
   "outputs": [],
   "source": [
    "matches_fz = pd.DataFrame()\n",
    "matches_fz['Messy_addr'] = messy_addr\n",
    "matches_fz ['Master_addr']= master_addr\n",
    "matches_fz ['tstr1s']= ratio_match"
   ]
  },
  {
   "cell_type": "code",
   "execution_count": 1177,
   "metadata": {},
   "outputs": [
    {
     "name": "stdout",
     "output_type": "stream",
     "text": [
      "<class 'pandas.core.frame.DataFrame'>\n",
      "RangeIndex: 1107 entries, 0 to 1106\n",
      "Data columns (total 3 columns):\n",
      "Messy_addr     1107 non-null object\n",
      "Master_addr    1107 non-null object\n",
      "tstr1s         1107 non-null int64\n",
      "dtypes: int64(1), object(2)\n",
      "memory usage: 26.0+ KB\n"
     ]
    }
   ],
   "source": [
    "matches_fz.info()"
   ]
  },
  {
   "cell_type": "code",
   "execution_count": 1178,
   "metadata": {},
   "outputs": [
    {
     "name": "stdout",
     "output_type": "stream",
     "text": [
      "tstr1s match (%>90) =  0.9611562782294489\n",
      "\n"
     ]
    }
   ],
   "source": [
    "fz_tstr1s_match_pct = len(matches_fz[matches_fz.tstr1s > 90]) / len(matches_fz)\n",
    "print('tstr1s match (%>90) = ', fz_tstr1s_match_pct)\n",
    "print()"
   ]
  },
  {
   "cell_type": "markdown",
   "metadata": {},
   "source": [
    "### Apply KNN - get nearest N=1"
   ]
  },
  {
   "cell_type": "code",
   "execution_count": 1179,
   "metadata": {},
   "outputs": [
    {
     "name": "stdout",
     "output_type": "stream",
     "text": [
      "Vecorizing the data - this could take a few minutes for large datasets...\n",
      "Vecorizing completed...time used:  152.90584063529968\n",
      "getting nearest n...\n",
      "COMPLETED IN: 4.158198118209839\n",
      "finding matches...\n",
      "COMPLETED IN 4.158198118209839\n",
      "Total time consumed: 4.798900365829468\n",
      "Building data frame...\n",
      "Done\n",
      "r1s match (%>90) =  0.7199638663053297\n",
      "pr1s match (%>90) =  0.8518518518518519\n",
      "tsr1s match (%>90) =  0.8970189701897019\n",
      "tstr1s match (%>90) =  0.9376693766937669\n",
      "\n"
     ]
    }
   ],
   "source": [
    "N = 1\n",
    "\n",
    "master_addr = ds2#df_addr_g_s.ADDR.values\n",
    "messy_addr = set(ds1)  # set used for increased performance\n",
    "\n",
    "t1 = time.time()\n",
    "\n",
    "print('Vecorizing the data - this could take a few minutes for large datasets...')\n",
    "vectorizer = TfidfVectorizer(min_df=1, analyzer=ngrams)#, lowercase=False)\n",
    "tfidf = vectorizer.fit_transform(master_addr)\n",
    "print('Vecorizing completed...time used: ', t)\n",
    "\n",
    "#from sklearn.neighbors import NearestNeighbors\n",
    "nbrs = NearestNeighbors(n_neighbors=N, n_jobs=-1).fit(tfidf)\n",
    "\n",
    "#matching query:\n",
    "def getNearestN(query):\n",
    "    queryTFIDF_ = vectorizer.transform(query)\n",
    "    distances, indices = nbrs.kneighbors(queryTFIDF_)\n",
    "    return distances, indices\n",
    "\n",
    "# get timing\n",
    "t2 = time.time()\n",
    "print('getting nearest n...')\n",
    "distances, indices = getNearestN(messy_addr)\n",
    "t = time.time()-t2\n",
    "print(\"COMPLETED IN:\", t)\n",
    "\n",
    "messy_addr = list(messy_addr) #need to convert back to a list\n",
    "\n",
    "print('finding matches...')\n",
    "matches_knn_t = []\n",
    "\n",
    "for i,j in enumerate(indices):\n",
    "    temp = [round(distances[i][0],2), master_addr[j],messy_addr[i]]\n",
    "    matches_knn_t.append(temp)\n",
    "print(\"COMPLETED IN\", t)\n",
    "\n",
    "t = time.time()\n",
    "print('Total time consumed:', t - t1)\n",
    "\n",
    "print('Building data frame...')  \n",
    "matches_knn_t = pd.DataFrame(matches_knn_t, columns=['Match_confidence_lowerisbetter','Master_addr','Messy_addr'])\n",
    "print('Done')\n",
    "# run Fuzzywuzzy and populate match ratio\n",
    "matches_knn_t['pr1s'] = matches_knn_t.apply(lambda row: fuzz.partial_ratio(row['Messy_addr'], row['Master_addr']), axis=1)\n",
    "matches_knn_t['tsr1s'] = matches_knn_t.apply(lambda row: fuzz.token_sort_ratio(row['Messy_addr'], row['Master_addr']), axis=1)\n",
    "matches_knn_t['tstr1s'] = matches_knn_t.apply(lambda row: fuzz.token_set_ratio(row['Messy_addr'], row['Master_addr']), axis=1)\n",
    "matches_knn_t['r1s'] = matches_knn_t.apply(lambda row: fuzz.ratio(row['Messy_addr'], row['Master_addr']), axis=1)\n",
    "\n",
    "r1s_match_pct = len(matches_knn_t[matches_knn_t.r1s > 90]) / len(matches_knn_t)\n",
    "pr1s_match_pct = len(matches_knn_t[matches_knn_t.pr1s > 90]) / len(matches_knn_t)\n",
    "tsr1s_match_pct = len(matches_knn_t[matches_knn_t.tsr1s > 90]) / len(matches_knn_t)\n",
    "tstr1s_match_pct = len(matches_knn_t[matches_knn_t.tstr1s > 90]) / len(matches_knn_t)\n",
    "\n",
    "print('r1s match (%>90) = ', r1s_match_pct)\n",
    "print('pr1s match (%>90) = ', pr1s_match_pct)\n",
    "print('tsr1s match (%>90) = ', tsr1s_match_pct)\n",
    "print('tstr1s match (%>90) = ', tstr1s_match_pct)\n",
    "print()"
   ]
  },
  {
   "cell_type": "code",
   "execution_count": 7,
   "metadata": {},
   "outputs": [],
   "source": [
    "#matches_knn_t.sort_values(['Match_confidence_lowerisbetter'], ascending=False).head()"
   ]
  },
  {
   "cell_type": "code",
   "execution_count": 1181,
   "metadata": {},
   "outputs": [
    {
     "data": {
      "text/plain": [
       "0.7181571815718157"
      ]
     },
     "execution_count": 1181,
     "metadata": {},
     "output_type": "execute_result"
    }
   ],
   "source": [
    "len(matches_knn_t[matches_knn_t.Match_confidence_lowerisbetter==0])/len(matches_knn_t)"
   ]
  },
  {
   "cell_type": "code",
   "execution_count": 1182,
   "metadata": {},
   "outputs": [
    {
     "name": "stdout",
     "output_type": "stream",
     "text": [
      "<class 'pandas.core.frame.DataFrame'>\n",
      "RangeIndex: 1107 entries, 0 to 1106\n",
      "Data columns (total 7 columns):\n",
      "Match_confidence_lowerisbetter    1107 non-null float64\n",
      "Master_addr                       1107 non-null object\n",
      "Messy_addr                        1107 non-null object\n",
      "pr1s                              1107 non-null int64\n",
      "tsr1s                             1107 non-null int64\n",
      "tstr1s                            1107 non-null int64\n",
      "r1s                               1107 non-null int64\n",
      "dtypes: float64(1), int64(4), object(2)\n",
      "memory usage: 60.6+ KB\n"
     ]
    }
   ],
   "source": [
    "matches_knn_t.info()"
   ]
  },
  {
   "cell_type": "code",
   "execution_count": 1183,
   "metadata": {},
   "outputs": [
    {
     "name": "stdout",
     "output_type": "stream",
     "text": [
      "Match_confidence Max: 1.04\n",
      "Match_confidence Min: 0.0\n",
      "Match_confidence Mean: 0.16529358626919596\n",
      "Match_confidence Median: 0.0\n"
     ]
    }
   ],
   "source": [
    "print('Match_confidence Max:', matches_knn_t.Match_confidence_lowerisbetter.max())\n",
    "print('Match_confidence Min:', matches_knn_t.Match_confidence_lowerisbetter.min())\n",
    "print('Match_confidence Mean:', matches_knn_t.Match_confidence_lowerisbetter.mean())\n",
    "print('Match_confidence Median:', matches_knn_t.Match_confidence_lowerisbetter.median())"
   ]
  },
  {
   "cell_type": "code",
   "execution_count": 1184,
   "metadata": {},
   "outputs": [
    {
     "data": {
      "text/plain": [
       "Text(0.5, 1.0, 'KNN match confidence = 0 (highest match) ')"
      ]
     },
     "execution_count": 1184,
     "metadata": {},
     "output_type": "execute_result"
    },
    {
     "data": {
      "image/png": "[encoded data removed]",
      "text/plain": [
       "<Figure size 432x288 with 1 Axes>"
      ]
     },
     "metadata": {},
     "output_type": "display_data"
    }
   ],
   "source": [
    "_=plt.hist(matches_knn_t[matches_knn_t.Match_confidence_lowerisbetter==0].tstr1s/100, bins=5)\n",
    "plt.xlabel('Fuzzywuzzy token_set_ratio')\n",
    "plt.ylabel('Count')\n",
    "plt.title('KNN match confidence = 0 (highest match) ')"
   ]
  },
  {
   "cell_type": "code",
   "execution_count": null,
   "metadata": {},
   "outputs": [],
   "source": []
  },
  {
   "cell_type": "code",
   "execution_count": 1185,
   "metadata": {},
   "outputs": [
    {
     "data": {
      "image/png": "[encoded data removed]",
      "text/plain": [
       "<Figure size 432x432 with 3 Axes>"
      ]
     },
     "metadata": {},
     "output_type": "display_data"
    }
   ],
   "source": [
    "y = matches_knn_t[matches_knn_t.Match_confidence_lowerisbetter>0].Match_confidence_lowerisbetter\n",
    "x = matches_knn_t[matches_knn_t.Match_confidence_lowerisbetter>0].tstr1s/100\n",
    "\n",
    "#_=plt.scatter(x, y)\n",
    "h = sns.jointplot(x=x, y=y);\n",
    "h.ax_joint.set_xlabel('Ratio (token_set_ratio)', fontweight='bold')\n",
    "h.ax_joint.set_ylabel('KNN Match Confidence (lower is better)', fontweight='bold')\n",
    "\n",
    "y = matches_knn_t[matches_knn_t.Match_confidence_lowerisbetter>0].Match_confidence_lowerisbetter\n",
    "x = matches_knn_t[matches_knn_t.Match_confidence_lowerisbetter>0].tstr1s/100#plt.tight_layout()"
   ]
  },
  {
   "cell_type": "code",
   "execution_count": 1186,
   "metadata": {},
   "outputs": [
    {
     "data": {
      "image/png": "[encoded data removed]",
      "text/plain": [
       "<Figure size 432x432 with 1 Axes>"
      ]
     },
     "metadata": {},
     "output_type": "display_data"
    }
   ],
   "source": [
    "f, ax = plt.subplots(figsize=(6, 6))\n",
    "sns.kdeplot(x, y, ax=ax)\n",
    "sns.rugplot(x, color=\"g\", ax=ax)\n",
    "sns.rugplot(y, vertical=True, ax=ax);"
   ]
  },
  {
   "cell_type": "markdown",
   "metadata": {},
   "source": [
    "### ING Faster match \n",
    "\n",
    "Using TF-IDF, N-Grams, and sparse matrix multiplication. To optimize for these disadvantages they created their own library which stores only the top N highest matches in each row, and only the similarities above an (optional) threshold."
   ]
  },
  {
   "cell_type": "code",
   "execution_count": 1187,
   "metadata": {},
   "outputs": [],
   "source": [
    "top_N = 1\n",
    "similarity = 0"
   ]
  },
  {
   "cell_type": "code",
   "execution_count": 1188,
   "metadata": {},
   "outputs": [],
   "source": [
    "def run_ING_match (str1, str2, top_N, similarity):\n",
    "    \n",
    "    t1 = time.time()\n",
    "    print('building tf-idf vector n...')\n",
    "\n",
    "    vectorizer = TfidfVectorizer(min_df=1, analyzer=ngrams)\n",
    "\n",
    "    tfidf_mtx = vectorizer.fit_transform(str1)\n",
    "    tfidf_mtx2 = vectorizer.transform(str2)\n",
    "\n",
    "    t = time.time()-t1\n",
    "    print(\"Time used:\", t)\n",
    "    \n",
    "    t2 = time.time()\n",
    "    print('awesome_cossim_top n...')\n",
    "\n",
    "    # return top 1 most silimar item without caring about similarity score\n",
    "    matches_ING = awesome_cossim_top(tfidf_mtx2, tfidf_mtx.transpose(), top_N, similarity)\n",
    "\n",
    "    t = time.time()- t2\n",
    "    print(\"Time used:\", t)\n",
    "\n",
    "    t3 = time.time()\n",
    "    print('getting matches_df n...')\n",
    "\n",
    "    matches_df = get_matches_df_2(matches_ING, str2, str1)\n",
    "\n",
    "    t = time.time()- t3\n",
    "    print(\"Time used:\", t)\n",
    "\n",
    "    t = time.time()- t1\n",
    "    print(\"Total time consumed:\", t)\n",
    "    \n",
    "    # run Fuzzywuzzy and populate match ratio\n",
    "    matches_df['pr1s'] = matches_df.apply(lambda row: fuzz.partial_ratio(row['Messy_addr'], row['Master_addr']), axis=1)\n",
    "    matches_df['tsr1s'] = matches_df.apply(lambda row: fuzz.token_sort_ratio(row['Messy_addr'], row['Master_addr']), axis=1)\n",
    "    matches_df['tstr1s'] = matches_df.apply(lambda row: fuzz.token_set_ratio(row['Messy_addr'], row['Master_addr']), axis=1)\n",
    "    matches_df['r1s'] = matches_df.apply(lambda row: fuzz.ratio(row['Messy_addr'], row['Master_addr']), axis=1)\n",
    "\n",
    "    pr1s_match_pct = len(matches_df[matches_df.pr1s > 90]) / len(matches_df)\n",
    "    tsr1s_match_pct = len(matches_df[matches_df.tsr1s > 90]) / len(matches_df)\n",
    "    tstr1s_match_pct = len(matches_df[matches_df.tstr1s > 90]) / len(matches_df)\n",
    "    r1s_match_pct = len(matches_df[matches_df.r1s > 90]) / len(matches_df)\n",
    "\n",
    "    print('r1s match (%>90) = ', r1s_match_pct)\n",
    "\n",
    "    print('pr1s match (%>90) = ', pr1s_match_pct)\n",
    "    print('tsr1s match (%>90) = ', tsr1s_match_pct)\n",
    "    print('tstr1s match (%>90) = ', tstr1s_match_pct)\n",
    "    print()\n",
    "    \n",
    "    return matches_df"
   ]
  },
  {
   "cell_type": "code",
   "execution_count": 1189,
   "metadata": {},
   "outputs": [],
   "source": [
    "def run_ING_match_N (str1, str2, top_N, similarity):\n",
    "    \n",
    "    t1 = time.time()\n",
    "    #print('building tf-idf vector n...')\n",
    "\n",
    "    vectorizer = TfidfVectorizer(min_df=1, analyzer=ngrams)\n",
    "\n",
    "    tfidf_mtx = vectorizer.fit_transform(str1)\n",
    "    tfidf_mtx2 = vectorizer.transform(str2)\n",
    "\n",
    "    #t = time.time()-t1\n",
    "    #print(\"Time used:\", t)\n",
    "    \n",
    "    #t2 = time.time()\n",
    "    #print('awesome_cossim_top n...')\n",
    "\n",
    "    # return top 1 most silimar item without caring about similarity\n",
    "    matches_ING = awesome_cossim_top(tfidf_mtx2, tfidf_mtx.transpose(), top_N, similarity)\n",
    "\n",
    "    #t = time.time()- t2\n",
    "    #print(\"Time used:\", t)\n",
    "\n",
    "    #t3 = time.time()\n",
    "    #print('getting matches_df n...')\n",
    "\n",
    "    matches_df = get_matches_df_2(matches_ING, str2, str1)\n",
    "\n",
    "    #t = time.time()- t3\n",
    "    #print(\"Time used:\", t)    \n",
    "    \n",
    "    # run Fuzzywuzzy and populate match ratio\n",
    "    matches_df['pr1s'] = matches_df.apply(lambda row: fuzz.partial_ratio(row['Messy_addr'], row['Master_addr']), axis=1)\n",
    "    matches_df['tsr1s'] = matches_df.apply(lambda row: fuzz.token_sort_ratio(row['Messy_addr'], row['Master_addr']), axis=1)\n",
    "    matches_df['tstr1s'] = matches_df.apply(lambda row: fuzz.token_set_ratio(row['Messy_addr'], row['Master_addr']), axis=1)\n",
    "    matches_df['r1s'] = matches_df.apply(lambda row: fuzz.ratio(row['Messy_addr'], row['Master_addr']), axis=1)\n",
    "\n",
    "    t = time.time()- t1\n",
    "    print(\"Top 2 and 100 Completed in:\", t)\n",
    "    \n",
    "    return matches_df"
   ]
  },
  {
   "cell_type": "code",
   "execution_count": 1190,
   "metadata": {},
   "outputs": [
    {
     "name": "stdout",
     "output_type": "stream",
     "text": [
      "building tf-idf vector n...\n",
      "Time used: 0.5188751220703125\n",
      "awesome_cossim_top n...\n",
      "Time used: 0.23813438415527344\n",
      "getting matches_df n...\n",
      "Time used: 0.004509925842285156\n",
      "Total time consumed: 0.7635231018066406\n",
      "r1s match (%>90) =  0.8925022583559169\n",
      "pr1s match (%>90) =  0.8762420957542909\n",
      "tsr1s match (%>90) =  0.8970189701897019\n",
      "tstr1s match (%>90) =  0.9376693766937669\n",
      "\n"
     ]
    }
   ],
   "source": [
    "matches_good = run_ING_match (ds2, ds1, top_N, similarity)"
   ]
  },
  {
   "cell_type": "code",
   "execution_count": 1191,
   "metadata": {},
   "outputs": [
    {
     "name": "stdout",
     "output_type": "stream",
     "text": [
      "<class 'pandas.core.frame.DataFrame'>\n",
      "RangeIndex: 1107 entries, 0 to 1106\n",
      "Data columns (total 7 columns):\n",
      "Messy_addr     1107 non-null object\n",
      "Master_addr    1107 non-null object\n",
      "Similarity     1107 non-null float64\n",
      "pr1s           1107 non-null int64\n",
      "tsr1s          1107 non-null int64\n",
      "tstr1s         1107 non-null int64\n",
      "r1s            1107 non-null int64\n",
      "dtypes: float64(1), int64(4), object(2)\n",
      "memory usage: 60.6+ KB\n"
     ]
    }
   ],
   "source": [
    "matches_good.info()"
   ]
  },
  {
   "cell_type": "code",
   "execution_count": 1192,
   "metadata": {},
   "outputs": [
    {
     "data": {
      "text/plain": [
       "Text(0.5, 1.0, 'Similarity')"
      ]
     },
     "execution_count": 1192,
     "metadata": {},
     "output_type": "execute_result"
    },
    {
     "data": {
      "image/png": "[encoded data removed]",
      "text/plain": [
       "<Figure size 432x288 with 1 Axes>"
      ]
     },
     "metadata": {},
     "output_type": "display_data"
    }
   ],
   "source": [
    "_=plt.hist(matches_good[matches_good.Similarity>=0.99999].tstr1s/100, bins=6)\n",
    "plt.xlabel('Fuzzywuzzy token_set_ratio')\n",
    "plt.ylabel('Count')\n",
    "plt.title('Similarity')"
   ]
  },
  {
   "cell_type": "code",
   "execution_count": 1193,
   "metadata": {},
   "outputs": [
    {
     "name": "stdout",
     "output_type": "stream",
     "text": [
      "Similarity Max: 1.0000000000000007\n",
      "Similarity Min: 0.45857307825900095\n",
      "Similarity Mean: 0.9493159526365924\n",
      "Similarity Median: 0.9999999999999999\n"
     ]
    }
   ],
   "source": [
    "print('Similarity Max:', matches_good.Similarity.max())\n",
    "print('Similarity Min:', matches_good.Similarity.min())\n",
    "print('Similarity Mean:', matches_good.Similarity.mean())\n",
    "print('Similarity Median:', matches_good.Similarity.median())"
   ]
  },
  {
   "cell_type": "code",
   "execution_count": null,
   "metadata": {},
   "outputs": [],
   "source": []
  },
  {
   "cell_type": "code",
   "execution_count": 1194,
   "metadata": {},
   "outputs": [
    {
     "data": {
      "text/plain": [
       "Text(25.0, 0.5, 'Similarity')"
      ]
     },
     "execution_count": 1194,
     "metadata": {},
     "output_type": "execute_result"
    },
    {
     "data": {
      "image/png": "[encoded data removed]",
      "text/plain": [
       "<Figure size 432x432 with 3 Axes>"
      ]
     },
     "metadata": {},
     "output_type": "display_data"
    }
   ],
   "source": [
    "y1 = matches_good[matches_good.Similarity<0.99999].Similarity\n",
    "x1 = matches_good[matches_good.Similarity<0.99999].tstr1s/100\n",
    "\n",
    "#_=plt.scatter(x, y)\n",
    "h = sns.jointplot(x=x1, y=y1);\n",
    "h.ax_joint.set_xlabel('Ratio (token_set_ratio)', fontweight='bold')\n",
    "h.ax_joint.set_ylabel('Similarity', fontweight='bold')\n",
    "\n",
    "#plt.tight_layout()"
   ]
  },
  {
   "cell_type": "code",
   "execution_count": 1195,
   "metadata": {},
   "outputs": [
    {
     "data": {
      "image/png": "[encoded data removed]",
      "text/plain": [
       "<Figure size 432x432 with 1 Axes>"
      ]
     },
     "metadata": {},
     "output_type": "display_data"
    }
   ],
   "source": [
    "f, ax = plt.subplots(figsize=(6, 6))\n",
    "sns.kdeplot(x1, y1, ax=ax)\n",
    "sns.rugplot(x1, color=\"g\", ax=ax)\n",
    "sns.rugplot(y1, vertical=True, ax=ax);"
   ]
  },
  {
   "cell_type": "code",
   "execution_count": null,
   "metadata": {},
   "outputs": [],
   "source": []
  },
  {
   "cell_type": "code",
   "execution_count": 1196,
   "metadata": {},
   "outputs": [
    {
     "data": {
      "text/plain": [
       "(1107, 1107, 19023)"
      ]
     },
     "execution_count": 1196,
     "metadata": {},
     "output_type": "execute_result"
    }
   ],
   "source": [
    "len(matches_good.Messy_addr.unique()), len(ds1), len(ds2)"
   ]
  },
  {
   "cell_type": "markdown",
   "metadata": {},
   "source": [
    "### Compare Fuzzywuzzy, KNN and ING matching results "
   ]
  },
  {
   "cell_type": "code",
   "execution_count": 1197,
   "metadata": {},
   "outputs": [
    {
     "data": {
      "text/plain": [
       "0.7181571815718157"
      ]
     },
     "execution_count": 1197,
     "metadata": {},
     "output_type": "execute_result"
    }
   ],
   "source": [
    "len(matches_knn_t[matches_knn_t.Match_confidence_lowerisbetter==0])/len(matches_knn_t)"
   ]
  },
  {
   "cell_type": "code",
   "execution_count": 1198,
   "metadata": {},
   "outputs": [
    {
     "data": {
      "text/plain": [
       "0.27371273712737126"
      ]
     },
     "execution_count": 1198,
     "metadata": {},
     "output_type": "execute_result"
    }
   ],
   "source": [
    "len(matches_good[matches_good.Similarity==1])/len(matches_good)"
   ]
  },
  {
   "cell_type": "code",
   "execution_count": 1199,
   "metadata": {},
   "outputs": [
    {
     "name": "stdout",
     "output_type": "stream",
     "text": [
      "<class 'pandas.core.frame.DataFrame'>\n",
      "RangeIndex: 1107 entries, 0 to 1106\n",
      "Data columns (total 7 columns):\n",
      "Match_confidence_lowerisbetter    1107 non-null float64\n",
      "Master_addr                       1107 non-null object\n",
      "Messy_addr                        1107 non-null object\n",
      "pr1s                              1107 non-null int64\n",
      "tsr1s                             1107 non-null int64\n",
      "tstr1s                            1107 non-null int64\n",
      "r1s                               1107 non-null int64\n",
      "dtypes: float64(1), int64(4), object(2)\n",
      "memory usage: 60.6+ KB\n"
     ]
    }
   ],
   "source": [
    "matches_knn_t.info()"
   ]
  },
  {
   "cell_type": "code",
   "execution_count": 1200,
   "metadata": {},
   "outputs": [
    {
     "name": "stdout",
     "output_type": "stream",
     "text": [
      "<class 'pandas.core.frame.DataFrame'>\n",
      "RangeIndex: 1107 entries, 0 to 1106\n",
      "Data columns (total 7 columns):\n",
      "Messy_addr     1107 non-null object\n",
      "Master_addr    1107 non-null object\n",
      "Similarity     1107 non-null float64\n",
      "pr1s           1107 non-null int64\n",
      "tsr1s          1107 non-null int64\n",
      "tstr1s         1107 non-null int64\n",
      "r1s            1107 non-null int64\n",
      "dtypes: float64(1), int64(4), object(2)\n",
      "memory usage: 60.6+ KB\n"
     ]
    }
   ],
   "source": [
    "matches_good.info()"
   ]
  },
  {
   "cell_type": "code",
   "execution_count": 1201,
   "metadata": {},
   "outputs": [],
   "source": [
    "# merge results from three methods into a single dataframe\n",
    "df_knn = matches_knn_t.copy()\n",
    "df_knn.columns=['k_match_ratio','k_matched_addr','orig_addr','k_pr','k_tsr','k_tstr','k_r']\n",
    "\n",
    "df_ing = matches_good.copy()\n",
    "df_ing.columns = ['orig_addr','i_matched_addr','i_match_ratio','i_pr','i_tsr','i_tstr','i_r']\n",
    "\n",
    "# merge ING with KNN\n",
    "df_merged = pd.merge(df_ing, df_knn,how='inner', on='orig_addr')\n",
    "# merge Fuzzywuzzy\n",
    "df_merged = pd.merge(df_merged, matches_fz, how='inner', left_on='orig_addr', right_on='Messy_addr')"
   ]
  },
  {
   "cell_type": "code",
   "execution_count": 1202,
   "metadata": {},
   "outputs": [
    {
     "name": "stdout",
     "output_type": "stream",
     "text": [
      "<class 'pandas.core.frame.DataFrame'>\n",
      "Int64Index: 1107 entries, 0 to 1106\n",
      "Data columns (total 16 columns):\n",
      "orig_addr         1107 non-null object\n",
      "i_matched_addr    1107 non-null object\n",
      "i_match_ratio     1107 non-null float64\n",
      "i_pr              1107 non-null int64\n",
      "i_tsr             1107 non-null int64\n",
      "i_tstr            1107 non-null int64\n",
      "i_r               1107 non-null int64\n",
      "k_match_ratio     1107 non-null float64\n",
      "k_matched_addr    1107 non-null object\n",
      "k_pr              1107 non-null int64\n",
      "k_tsr             1107 non-null int64\n",
      "k_tstr            1107 non-null int64\n",
      "k_r               1107 non-null int64\n",
      "Messy_addr        1107 non-null object\n",
      "Master_addr       1107 non-null object\n",
      "tstr1s            1107 non-null int64\n",
      "dtypes: float64(2), int64(9), object(5)\n",
      "memory usage: 147.0+ KB\n"
     ]
    }
   ],
   "source": [
    "df_merged.info()"
   ]
  },
  {
   "cell_type": "code",
   "execution_count": 1203,
   "metadata": {},
   "outputs": [],
   "source": [
    "# Compare if KNN and ING return different matching addresses\n",
    "\n",
    "df_merged['k_matched_addr_c']=df_merged.apply(lambda row: cleanse_str(str(row['k_matched_addr'])), axis=1)\n",
    "\n",
    "def que(x):\n",
    "    if x['i_matched_addr'].strip()==x['k_matched_addr_c'].strip():\n",
    "        return 'Y'\n",
    "    else:\n",
    "        return 'N'\n",
    "    \n",
    "df_merged['i_equ_k'] = df_merged.apply(que, axis=1)"
   ]
  },
  {
   "cell_type": "code",
   "execution_count": 1204,
   "metadata": {},
   "outputs": [
    {
     "data": {
      "text/plain": [
       "0"
      ]
     },
     "execution_count": 1204,
     "metadata": {},
     "output_type": "execute_result"
    }
   ],
   "source": [
    "len(df_merged[df_merged.i_equ_k=='N'])"
   ]
  },
  {
   "cell_type": "code",
   "execution_count": 1205,
   "metadata": {},
   "outputs": [
    {
     "data": {
      "text/html": [
       "<div>\n",
       "<style scoped>\n",
       "    .dataframe tbody tr th:only-of-type {\n",
       "        vertical-align: middle;\n",
       "    }\n",
       "\n",
       "    .dataframe tbody tr th {\n",
       "        vertical-align: top;\n",
       "    }\n",
       "\n",
       "    .dataframe thead th {\n",
       "        text-align: right;\n",
       "    }\n",
       "</style>\n",
       "<table border=\"1\" class=\"dataframe\">\n",
       "  <thead>\n",
       "    <tr style=\"text-align: right;\">\n",
       "      <th></th>\n",
       "      <th>orig_addr</th>\n",
       "      <th>i_matched_addr</th>\n",
       "      <th>i_match_ratio</th>\n",
       "      <th>i_pr</th>\n",
       "      <th>i_tsr</th>\n",
       "      <th>i_tstr</th>\n",
       "      <th>i_r</th>\n",
       "      <th>k_match_ratio</th>\n",
       "      <th>k_matched_addr</th>\n",
       "      <th>k_pr</th>\n",
       "      <th>k_tsr</th>\n",
       "      <th>k_tstr</th>\n",
       "      <th>k_r</th>\n",
       "      <th>Messy_addr</th>\n",
       "      <th>Master_addr</th>\n",
       "      <th>tstr1s</th>\n",
       "      <th>k_matched_addr_c</th>\n",
       "      <th>i_equ_k</th>\n",
       "    </tr>\n",
       "  </thead>\n",
       "  <tbody>\n",
       "  </tbody>\n",
       "</table>\n",
       "</div>"
      ],
      "text/plain": [
       "Empty DataFrame\n",
       "Columns: [orig_addr, i_matched_addr, i_match_ratio, i_pr, i_tsr, i_tstr, i_r, k_match_ratio, k_matched_addr, k_pr, k_tsr, k_tstr, k_r, Messy_addr, Master_addr, tstr1s, k_matched_addr_c, i_equ_k]\n",
       "Index: []"
      ]
     },
     "execution_count": 1205,
     "metadata": {},
     "output_type": "execute_result"
    }
   ],
   "source": [
    "df_merged[df_merged.i_matched_addr.str.strip()!=df_merged.k_matched_addr_c.str.strip()].head()"
   ]
  },
  {
   "cell_type": "code",
   "execution_count": 1206,
   "metadata": {},
   "outputs": [],
   "source": [
    "def que(x):\n",
    "    if x['i_matched_addr'].strip()==x['Master_addr'].strip():\n",
    "        return 'Y'\n",
    "    else:\n",
    "        return 'N'\n",
    "    \n",
    "df_merged['i_equ_fz'] = df_merged.apply(que, axis=1)"
   ]
  },
  {
   "cell_type": "markdown",
   "metadata": {},
   "source": [
    "### Export the difference and manually identify the error.  Then calcualte the error rate "
   ]
  },
  {
   "cell_type": "code",
   "execution_count": 1207,
   "metadata": {},
   "outputs": [
    {
     "data": {
      "text/plain": [
       "63"
      ]
     },
     "execution_count": 1207,
     "metadata": {},
     "output_type": "execute_result"
    }
   ],
   "source": [
    "len(df_merged[df_merged.i_equ_fz=='N'])"
   ]
  },
  {
   "cell_type": "code",
   "execution_count": 1208,
   "metadata": {},
   "outputs": [],
   "source": [
    "df_merged[df_merged.i_equ_fz=='N'].to_csv('DLP_sample_diff_FZ_KNN_ING.csv')"
   ]
  },
  {
   "cell_type": "markdown",
   "metadata": {},
   "source": [
    "### KNN and ING match to the same address.  Out of 1107, Fuzzywuzzy matched to different 63 addresses.  Export the difference for manual review and analysis.  94.3% matched to the same address as KNN and ING."
   ]
  },
  {
   "cell_type": "code",
   "execution_count": 1209,
   "metadata": {},
   "outputs": [
    {
     "data": {
      "text/plain": [
       "<BarContainer object of 20 artists>"
      ]
     },
     "execution_count": 1209,
     "metadata": {},
     "output_type": "execute_result"
    },
    {
     "data": {
      "image/png": "[encoded data removed]",
      "text/plain": [
       "<Figure size 432x288 with 1 Axes>"
      ]
     },
     "metadata": {},
     "output_type": "display_data"
    }
   ],
   "source": [
    "x_fz = df_merged.groupby('tstr1s').orig_addr.count().index\n",
    "y_fz = np.log(df_merged.groupby('tstr1s').orig_addr.count().values)\n",
    "\n",
    "plt.bar(x_fz, y_fz)"
   ]
  },
  {
   "cell_type": "code",
   "execution_count": 1210,
   "metadata": {},
   "outputs": [
    {
     "data": {
      "text/plain": [
       "<BarContainer object of 24 artists>"
      ]
     },
     "execution_count": 1210,
     "metadata": {},
     "output_type": "execute_result"
    },
    {
     "data": {
      "image/png": "[encoded data removed]",
      "text/plain": [
       "<Figure size 432x288 with 1 Axes>"
      ]
     },
     "metadata": {},
     "output_type": "display_data"
    }
   ],
   "source": [
    "plt.bar(df_merged.groupby('i_tstr').orig_addr.count().index, np.log(df_merged.groupby('i_tstr').orig_addr.count().values))"
   ]
  },
  {
   "cell_type": "code",
   "execution_count": 1211,
   "metadata": {},
   "outputs": [
    {
     "data": {
      "text/plain": [
       "<BarContainer object of 24 artists>"
      ]
     },
     "execution_count": 1211,
     "metadata": {},
     "output_type": "execute_result"
    },
    {
     "data": {
      "image/png": "[encoded data removed]",
      "text/plain": [
       "<Figure size 432x288 with 1 Axes>"
      ]
     },
     "metadata": {},
     "output_type": "display_data"
    }
   ],
   "source": [
    "plt.bar(df_merged.groupby('k_tstr').orig_addr.count().index, np.log(df_merged.groupby('k_tstr').orig_addr.count().values))"
   ]
  },
  {
   "cell_type": "markdown",
   "metadata": {},
   "source": [
    "## Apply KNN and ING to large and messy data set "
   ]
  },
  {
   "cell_type": "markdown",
   "metadata": {},
   "source": [
    "### Data Set - from df_exception"
   ]
  },
  {
   "cell_type": "code",
   "execution_count": 1212,
   "metadata": {},
   "outputs": [
    {
     "name": "stdout",
     "output_type": "stream",
     "text": [
      "<class 'pandas.core.frame.DataFrame'>\n",
      "Int64Index: 525887 entries, 0 to 530436\n",
      "Data columns (total 12 columns):\n",
      "DATAID            525887 non-null object\n",
      "M_TXT             525887 non-null object\n",
      "M_DIV_CD          525887 non-null object\n",
      "M_ADDR            525887 non-null object\n",
      "M_CITY            525887 non-null object\n",
      "M_ADDR_TYPE       525887 non-null object\n",
      "M_ADDR_c          525887 non-null object\n",
      "M_TXT_c           525887 non-null object\n",
      "M_ADDR_n          525887 non-null object\n",
      "ADDR_isnumeric    525887 non-null bool\n",
      "M_ADDR_s          525887 non-null object\n",
      "M_TXT_s           525887 non-null object\n",
      "dtypes: bool(1), object(11)\n",
      "memory usage: 48.6+ MB\n"
     ]
    }
   ],
   "source": [
    "df_exception.info()"
   ]
  },
  {
   "cell_type": "code",
   "execution_count": 1213,
   "metadata": {},
   "outputs": [
    {
     "data": {
      "text/plain": [
       "M_DIV_CD\n",
       "d1     57665\n",
       "d2    280559\n",
       "d3     34734\n",
       "d4     54960\n",
       "d5     22550\n",
       "d6     21533\n",
       "d7     53886\n",
       "Name: DATAID, dtype: int64"
      ]
     },
     "execution_count": 1213,
     "metadata": {},
     "output_type": "execute_result"
    }
   ],
   "source": [
    "df_exception.groupby(['M_DIV_CD']).DATAID.count()"
   ]
  },
  {
   "cell_type": "code",
   "execution_count": 1214,
   "metadata": {},
   "outputs": [],
   "source": [
    "ds_e_d6 = df_exception[df_exception.M_DIV_CD=='d6'].M_ADDR_s.unique()\n",
    "ds_m_d6 = df_master[df_master.P_DIV_CD=='d6'].P_ADDR_s.unique()"
   ]
  },
  {
   "cell_type": "code",
   "execution_count": 1215,
   "metadata": {},
   "outputs": [
    {
     "data": {
      "text/plain": [
       "(11864, 19023)"
      ]
     },
     "execution_count": 1215,
     "metadata": {},
     "output_type": "execute_result"
    }
   ],
   "source": [
    "len(ds_e_d6), len(ds_m_d6)"
   ]
  },
  {
   "cell_type": "code",
   "execution_count": 1216,
   "metadata": {},
   "outputs": [],
   "source": [
    "ds_e_d6_s = ds_e_d6[0:2000]"
   ]
  },
  {
   "cell_type": "code",
   "execution_count": 1217,
   "metadata": {},
   "outputs": [
    {
     "data": {
      "text/plain": [
       "2000"
      ]
     },
     "execution_count": 1217,
     "metadata": {},
     "output_type": "execute_result"
    }
   ],
   "source": [
    "len(ds_e_d6_s)"
   ]
  },
  {
   "cell_type": "markdown",
   "metadata": {},
   "source": [
    "### Apply KNN\n",
    "Failed with memory error for data set ds_e_d6 (11900).  Sampled top 2000 and re-run KNN.  Plot the Fuzyywuzzy ratio to verify the result"
   ]
  },
  {
   "cell_type": "code",
   "execution_count": 1218,
   "metadata": {},
   "outputs": [
    {
     "name": "stdout",
     "output_type": "stream",
     "text": [
      "KNN program started..\n",
      "\n",
      "Vecorizing the data - this could take a few minutes for large datasets...\n",
      "Vecorizing completed...\n",
      "getting nearest n...\n",
      "COMPLETED IN: 2.4926276206970215\n",
      "finding matches...\n",
      "Building data frame...\n",
      "Done\n",
      "r1s match (%>90) =  0.098\n",
      "pr1s match (%>90) =  0.432\n",
      "tsr1s match (%>90) =  0.4555\n",
      "tstr1s match (%>90) =  0.592\n",
      "\n",
      "KNN program completed.  Time used:  3.980579137802124\n"
     ]
    }
   ],
   "source": [
    "tt1 = time.time()\n",
    "print('KNN program started..')\n",
    "print()\n",
    "\n",
    "N = 1\n",
    "master_addr = ds_m_d6 \n",
    "messy_addr = set(ds_e_d6_s)  # set used for increased performance\n",
    "\n",
    "print('Vecorizing the data - this could take a few minutes for large datasets...')\n",
    "vectorizer = TfidfVectorizer(min_df=1, analyzer=ngrams)#, lowercase=False)\n",
    "tfidf = vectorizer.fit_transform(master_addr)\n",
    "print('Vecorizing completed...')\n",
    "\n",
    "#from sklearn.neighbors import NearestNeighbors\n",
    "nbrs = NearestNeighbors(n_neighbors=N, n_jobs=-1).fit(tfidf)\n",
    "\n",
    "#matching query:\n",
    "def getNearestN(query):\n",
    "    queryTFIDF_ = vectorizer.transform(query)\n",
    "    distances, indices = nbrs.kneighbors(queryTFIDF_)\n",
    "    return distances, indices\n",
    "\n",
    "# get timing\n",
    "t1 = time.time()\n",
    "print('getting nearest n...')\n",
    "distances, indices = getNearestN(messy_addr)\n",
    "t = time.time()-t1\n",
    "print(\"COMPLETED IN:\", t)\n",
    "\n",
    "messy_addr = list(messy_addr) #need to convert back to a list\n",
    "\n",
    "print('finding matches...')\n",
    "matches_knn = []\n",
    "\n",
    "for i,j in enumerate(indices):\n",
    "    temp = [round(distances[i][0],2), master_addr[j],messy_addr[i]]\n",
    "    matches_knn.append(temp)\n",
    "           \n",
    "print('Building data frame...')  \n",
    "matches_knn = pd.DataFrame(matches_knn, columns=['Match_confidence_lowerisbetter','Master_addr','Messy_addr'])\n",
    "print('Done')\n",
    "\n",
    "# run Fuzzywuzzy and populate match ratio\n",
    "matches_knn['pr1s'] = matches_knn.apply(lambda row: fuzz.partial_ratio(row['Messy_addr'], row['Master_addr']), axis=1)\n",
    "matches_knn['tsr1s'] = matches_knn.apply(lambda row: fuzz.token_sort_ratio(row['Messy_addr'], row['Master_addr']), axis=1)\n",
    "matches_knn['tstr1s'] = matches_knn.apply(lambda row: fuzz.token_set_ratio(row['Messy_addr'], row['Master_addr']), axis=1)\n",
    "matches_knn['r1s'] = matches_knn.apply(lambda row: fuzz.ratio(row['Messy_addr'], row['Master_addr']), axis=1)\n",
    "\n",
    "r1s_match_pct = len(matches_knn[matches_knn.r1s > 90]) / len(matches_knn)\n",
    "pr1s_match_pct = len(matches_knn[matches_knn.pr1s > 90]) / len(matches_knn)\n",
    "tsr1s_match_pct = len(matches_knn[matches_knn.tsr1s > 90]) / len(matches_knn)\n",
    "tstr1s_match_pct = len(matches_knn[matches_knn.tstr1s > 90]) / len(matches_knn)\n",
    "\n",
    "print('r1s match (%>90) = ', r1s_match_pct)\n",
    "print('pr1s match (%>90) = ', pr1s_match_pct)\n",
    "print('tsr1s match (%>90) = ', tsr1s_match_pct)\n",
    "print('tstr1s match (%>90) = ', tstr1s_match_pct)\n",
    "print()\n",
    "\n",
    "tt2 = time.time() - tt1\n",
    "print('KNN program completed.  Time used: ', tt2)"
   ]
  },
  {
   "cell_type": "code",
   "execution_count": 1219,
   "metadata": {},
   "outputs": [
    {
     "data": {
      "text/plain": [
       "<BarContainer object of 63 artists>"
      ]
     },
     "execution_count": 1219,
     "metadata": {},
     "output_type": "execute_result"
    },
    {
     "data": {
      "image/png": "[encoded data removed]",
      "text/plain": [
       "<Figure size 432x288 with 1 Axes>"
      ]
     },
     "metadata": {},
     "output_type": "display_data"
    }
   ],
   "source": [
    "plt.bar(matches_knn.groupby('tstr1s').Messy_addr.count().index, np.log(matches_knn.groupby('tstr1s').Messy_addr.count().values))"
   ]
  },
  {
   "cell_type": "code",
   "execution_count": 1220,
   "metadata": {},
   "outputs": [
    {
     "name": "stdout",
     "output_type": "stream",
     "text": [
      "Match_confidence Max: 1.27\n",
      "Match_confidence Min: 0.0\n",
      "Match_confidence Mean: 0.6676200000000009\n",
      "Match_confidence Median: 0.69\n",
      "Fuzzywuzzy token_set_ratio Max: 100\n",
      "Fuzzywuzzy token_set_ratio Min: 22\n",
      "Fuzzywuzzy token_set_ratio Mean: 88.7685\n",
      "Fuzzywuzzy token_set_ratio Median: 92.0\n"
     ]
    }
   ],
   "source": [
    "print('Match_confidence Max:', matches_knn.Match_confidence_lowerisbetter.max())\n",
    "print('Match_confidence Min:', matches_knn.Match_confidence_lowerisbetter.min())\n",
    "print('Match_confidence Mean:', matches_knn.Match_confidence_lowerisbetter.mean())\n",
    "print('Match_confidence Median:', matches_knn.Match_confidence_lowerisbetter.median())\n",
    "\n",
    "print('Fuzzywuzzy token_set_ratio Max:', matches_knn.tstr1s.max())\n",
    "print('Fuzzywuzzy token_set_ratio Min:', matches_knn.tstr1s.min())\n",
    "print('Fuzzywuzzy token_set_ratio Mean:', matches_knn.tstr1s.mean())\n",
    "print('Fuzzywuzzy token_set_ratio Median:', matches_knn.tstr1s.median())"
   ]
  },
  {
   "cell_type": "code",
   "execution_count": 1221,
   "metadata": {},
   "outputs": [
    {
     "data": {
      "text/plain": [
       "<BarContainer object of 24 artists>"
      ]
     },
     "execution_count": 1221,
     "metadata": {},
     "output_type": "execute_result"
    },
    {
     "data": {
      "image/png": "[encoded data removed]",
      "text/plain": [
       "<Figure size 432x288 with 1 Axes>"
      ]
     },
     "metadata": {},
     "output_type": "display_data"
    }
   ],
   "source": [
    "plt.bar(matches_knn[matches_knn.Match_confidence_lowerisbetter<=0.67].groupby('tstr1s').Messy_addr.count().index, np.log(matches_knn[matches_knn.Match_confidence_lowerisbetter<=0.67].groupby('tstr1s').Messy_addr.count().values))"
   ]
  },
  {
   "cell_type": "markdown",
   "metadata": {},
   "source": [
    "### Run ING fast match to the same sampled data set.  Plot Fuzzywuzzy ratio to verify the match result "
   ]
  },
  {
   "cell_type": "code",
   "execution_count": 1222,
   "metadata": {},
   "outputs": [
    {
     "name": "stdout",
     "output_type": "stream",
     "text": [
      "ING program started...\n",
      "building tf-idf vector n...\n",
      "Time used: 0.47540712356567383\n",
      "awesome_cossim_top n...\n",
      "Time used: 0.34526681900024414\n",
      "getting matches_df n...\n",
      "Time used: 0.006016731262207031\n",
      "Total time consumed: 0.8277065753936768\n",
      "r1s match (%>90) =  0.492\n",
      "pr1s match (%>90) =  0.4875\n",
      "tsr1s match (%>90) =  0.4555\n",
      "tstr1s match (%>90) =  0.592\n",
      "\n",
      "ING program completed.  Time used:  1.2478554248809814\n"
     ]
    }
   ],
   "source": [
    "tt1 = time.time()\n",
    "print('ING program started...')\n",
    "matches_dff_s = run_ING_match (ds_m_d6, ds_e_d6_s, top_N, similarity)\n",
    "tt2 = time.time() - tt1\n",
    "print('ING program completed.  Time used: ', tt2)"
   ]
  },
  {
   "cell_type": "code",
   "execution_count": 1223,
   "metadata": {},
   "outputs": [
    {
     "name": "stdout",
     "output_type": "stream",
     "text": [
      "Similarity Max: 1.0000000000000004\n",
      "Similarity Min: 0.193619958443217\n",
      "Similarity Median: 0.7615683988465212\n",
      "Fuzzywuzzy token_set_ratio Max: 100\n",
      "Fuzzywuzzy token_set_ratio Min: 22\n",
      "Fuzzywuzzy token_set_ratio Median: 92.0\n"
     ]
    }
   ],
   "source": [
    "print('Similarity Max:', matches_dff_s.Similarity.max())\n",
    "print('Similarity Min:', matches_dff_s.Similarity.min())\n",
    "print('Similarity Median:', matches_dff_s.Similarity.median())\n",
    "\n",
    "print('Fuzzywuzzy token_set_ratio Max:', matches_dff_s.tstr1s.max())\n",
    "print('Fuzzywuzzy token_set_ratio Min:', matches_dff_s.tstr1s.min())\n",
    "print('Fuzzywuzzy token_set_ratio Median:', matches_dff_s.tstr1s.median())"
   ]
  },
  {
   "cell_type": "code",
   "execution_count": 1224,
   "metadata": {},
   "outputs": [
    {
     "data": {
      "text/plain": [
       "<BarContainer object of 63 artists>"
      ]
     },
     "execution_count": 1224,
     "metadata": {},
     "output_type": "execute_result"
    },
    {
     "data": {
      "image/png": "[encoded data removed]",
      "text/plain": [
       "<Figure size 432x288 with 1 Axes>"
      ]
     },
     "metadata": {},
     "output_type": "display_data"
    }
   ],
   "source": [
    "plt.bar(matches_dff_s.groupby('tstr1s').Messy_addr.count().index, np.log(matches_dff_s.groupby('tstr1s').Messy_addr.count().values))"
   ]
  },
  {
   "cell_type": "code",
   "execution_count": 1225,
   "metadata": {},
   "outputs": [
    {
     "data": {
      "text/plain": [
       "<BarContainer object of 26 artists>"
      ]
     },
     "execution_count": 1225,
     "metadata": {},
     "output_type": "execute_result"
    },
    {
     "data": {
      "image/png": "[encoded data removed]",
      "text/plain": [
       "<Figure size 432x288 with 1 Axes>"
      ]
     },
     "metadata": {},
     "output_type": "display_data"
    }
   ],
   "source": [
    "plt.bar(matches_dff_s[matches_dff_s.Similarity>=0.76].groupby('tstr1s').Messy_addr.count().index, np.log(matches_dff_s[matches_dff_s.Similarity>=0.76].groupby('tstr1s').Messy_addr.count().values))"
   ]
  },
  {
   "cell_type": "markdown",
   "metadata": {},
   "source": [
    "### Bar plot of Fuzyywuzzy ratio of two algorithm return the same statistics.  But KNN cannot perform if increase the size of data set due to memory restrict"
   ]
  },
  {
   "cell_type": "markdown",
   "metadata": {},
   "source": [
    "### Apply ING fast match to large data set - one division"
   ]
  },
  {
   "cell_type": "code",
   "execution_count": 1226,
   "metadata": {},
   "outputs": [
    {
     "name": "stdout",
     "output_type": "stream",
     "text": [
      "ING program started...\n",
      "building tf-idf vector n...\n",
      "Time used: 0.587061882019043\n",
      "awesome_cossim_top n...\n",
      "Time used: 1.5676662921905518\n",
      "getting matches_df n...\n",
      "Time used: 0.016580581665039062\n",
      "Total time consumed: 2.172792911529541\n",
      "r1s match (%>90) =  0.5670888913798902\n",
      "pr1s match (%>90) =  0.5348055150767851\n",
      "tsr1s match (%>90) =  0.5246048649254568\n",
      "tstr1s match (%>90) =  0.6196614729290438\n",
      "\n",
      "ING program completed.  Time used:  3.764163017272949\n"
     ]
    }
   ],
   "source": [
    "tt1 = time.time()\n",
    "print('ING program started...')\n",
    "matches_dff = run_ING_match (ds_m_d6, ds_e_d6_simple, top_N, similarity)\n",
    "tt2 = time.time() - tt1\n",
    "print('ING program completed.  Time used: ', tt2)"
   ]
  },
  {
   "cell_type": "code",
   "execution_count": 1227,
   "metadata": {},
   "outputs": [
    {
     "name": "stdout",
     "output_type": "stream",
     "text": [
      "Similarity Max: 1.0000000000000004\n",
      "Similarity Min: 0.193619958443217\n",
      "Similarity Median: 0.7747662469392997\n",
      "\n",
      "Fuzzywuzzy token_set_ratio Max: 100\n",
      "Fuzzywuzzy token_set_ratio Min: 31\n",
      "Fuzzywuzzy token_set_ratio Median: 89.16859096513843\n",
      "Fuzzywuzzy token_set_ratio 95% interval: (88.924349191036, 89.41283273924087)\n"
     ]
    }
   ],
   "source": [
    "print('Similarity Max:', matches_dff.Similarity.max())\n",
    "print('Similarity Min:', matches_dff.Similarity.min())\n",
    "print('Similarity Median:', matches_dff.Similarity.median())\n",
    "print()\n",
    "print('Fuzzywuzzy token_set_ratio Max:', matches_dff.tstr1s.max())\n",
    "print('Fuzzywuzzy token_set_ratio Min:', matches_dff.tstr1s.min())\n",
    "print('Fuzzywuzzy token_set_ratio Median:', matches_dff.tstr1s.mean())\n",
    "\n",
    "\n",
    "import scipy.stats as st\n",
    "\n",
    "print('Fuzzywuzzy token_set_ratio 95% interval:',st.t.interval(0.95, len(matches_dff.tstr1s)-1, loc=np.mean(matches_dff.tstr1s), scale=st.sem(matches_dff.tstr1s)))"
   ]
  },
  {
   "cell_type": "code",
   "execution_count": 1228,
   "metadata": {},
   "outputs": [
    {
     "name": "stdout",
     "output_type": "stream",
     "text": [
      "<class 'pandas.core.frame.DataFrame'>\n",
      "Int64Index: 525887 entries, 0 to 530436\n",
      "Data columns (total 12 columns):\n",
      "DATAID            525887 non-null object\n",
      "M_TXT             525887 non-null object\n",
      "M_DIV_CD          525887 non-null object\n",
      "M_ADDR            525887 non-null object\n",
      "M_CITY            525887 non-null object\n",
      "M_ADDR_TYPE       525887 non-null object\n",
      "M_ADDR_c          525887 non-null object\n",
      "M_TXT_c           525887 non-null object\n",
      "M_ADDR_n          525887 non-null object\n",
      "ADDR_isnumeric    525887 non-null bool\n",
      "M_ADDR_s          525887 non-null object\n",
      "M_TXT_s           525887 non-null object\n",
      "dtypes: bool(1), object(11)\n",
      "memory usage: 48.6+ MB\n"
     ]
    }
   ],
   "source": [
    "df_exception.info()"
   ]
  },
  {
   "cell_type": "code",
   "execution_count": 1229,
   "metadata": {},
   "outputs": [],
   "source": [
    "#df_exception[df_exception.M_DIV_CD=='d6'].groupby(['M_ADDR_s','M_CITY']).size().reset_index(name='CNT').M_ADDR_s.unique()"
   ]
  },
  {
   "cell_type": "code",
   "execution_count": 1230,
   "metadata": {},
   "outputs": [],
   "source": [
    "#df_exception[df_exception.M_DIV_CD=='d6']['M_ADDR_s'].unique()"
   ]
  },
  {
   "cell_type": "code",
   "execution_count": 1231,
   "metadata": {},
   "outputs": [
    {
     "data": {
      "text/plain": [
       "0.1996412958188544"
      ]
     },
     "execution_count": 1231,
     "metadata": {},
     "output_type": "execute_result"
    }
   ],
   "source": [
    "len(matches_dff[matches_dff.tstr1s==100])/len(matches_dff)"
   ]
  },
  {
   "cell_type": "code",
   "execution_count": 1232,
   "metadata": {},
   "outputs": [
    {
     "name": "stdout",
     "output_type": "stream",
     "text": [
      "<class 'pandas.core.frame.DataFrame'>\n",
      "RangeIndex: 8921 entries, 0 to 8920\n",
      "Data columns (total 7 columns):\n",
      "Messy_addr     8921 non-null object\n",
      "Master_addr    8921 non-null object\n",
      "Similarity     8921 non-null float64\n",
      "pr1s           8921 non-null int64\n",
      "tsr1s          8921 non-null int64\n",
      "tstr1s         8921 non-null int64\n",
      "r1s            8921 non-null int64\n",
      "dtypes: float64(1), int64(4), object(2)\n",
      "memory usage: 487.9+ KB\n"
     ]
    }
   ],
   "source": [
    "matches_dff.info()"
   ]
  },
  {
   "cell_type": "code",
   "execution_count": 1233,
   "metadata": {},
   "outputs": [
    {
     "data": {
      "text/plain": [
       "8921"
      ]
     },
     "execution_count": 1233,
     "metadata": {},
     "output_type": "execute_result"
    }
   ],
   "source": [
    "len(matches_dff.Messy_addr.unique())"
   ]
  },
  {
   "cell_type": "code",
   "execution_count": 1234,
   "metadata": {},
   "outputs": [
    {
     "data": {
      "text/plain": [
       "<BarContainer object of 66 artists>"
      ]
     },
     "execution_count": 1234,
     "metadata": {},
     "output_type": "execute_result"
    },
    {
     "data": {
      "image/png": "[encoded data removed]",
      "text/plain": [
       "<Figure size 432x288 with 1 Axes>"
      ]
     },
     "metadata": {},
     "output_type": "display_data"
    }
   ],
   "source": [
    "plt.bar(matches_dff.groupby('tstr1s').Messy_addr.count().index, np.log(matches_dff.groupby('tstr1s').Messy_addr.count().values))"
   ]
  },
  {
   "cell_type": "code",
   "execution_count": null,
   "metadata": {},
   "outputs": [],
   "source": []
  },
  {
   "cell_type": "code",
   "execution_count": 1235,
   "metadata": {},
   "outputs": [],
   "source": [
    "def get_div_match (div_cd, master_feature, messy_feature):\n",
    "\n",
    "    print()\n",
    "    print('Matching for div ', div_cd, ' started...')\n",
    "\n",
    "    t1 = time.time()\n",
    "\n",
    "    ds_master = df_master[df_master.P_DIV_CD==div_cd][master_feature].unique()\n",
    "    ds_messy = df_exception[df_exception.M_DIV_CD==div_cd][messy_feature].unique()\n",
    "\n",
    "\n",
    "    top_N = 1\n",
    "    similarity = 0\n",
    "    matches_T1 = run_ING_match (ds_master, ds_messy, top_N, similarity)\n",
    "\n",
    "    t = time.time() - t1\n",
    "    print('Top 1 completed in ', t)\n",
    "\n",
    "    top_N = 2\n",
    "    similarity = 0\n",
    "\n",
    "    ds_seed_T2 = matches_T1[matches_T1.tstr1s==100].Messy_addr.unique()\n",
    "    matches_T2 = run_ING_match_N (ds_master, ds_seed_T2, top_N, similarity)\n",
    "\n",
    "    df_2_tmp = matches_T2[matches_T2.tstr1s==100]\n",
    "    df_1_tmp = matches_T1[matches_T1.tstr1s==100]\n",
    "\n",
    "    df_T2notinT1 = df_2_tmp[~(df_2_tmp['Messy_addr'].isin(df_1_tmp['Messy_addr']) & df_2_tmp['Master_addr'].isin(df_1_tmp['Master_addr']))].reset_index(drop=True)\n",
    "\n",
    "    top_N = 100\n",
    "    similarity = 0\n",
    "\n",
    "    ds_seed_T100 = df_T2notinT1.Messy_addr.unique()#df_T2notinT1[df_T2notinT1.tstr1s==100].Messy_addr.unique()\n",
    "    matches_T100 = run_ING_match_N (ds_master, ds_seed_T100, top_N, similarity)\n",
    "\n",
    "    df_3_tmp = matches_T100[matches_T100.tstr1s==100]    \n",
    "    df_T100notinT1 = df_3_tmp[~(df_3_tmp['Messy_addr'].isin(df_1_tmp['Messy_addr']) & df_3_tmp['Master_addr'].isin(df_1_tmp['Master_addr']))].reset_index(drop=True)\n",
    "\n",
    "    t = time.time() - t1\n",
    "    print('All completed in ', t)\n",
    "    \n",
    "    matches_T1['M_DIV_CD']= div_cd\n",
    "    df_T100notinT1['M_DIV_CD']= div_cd\n",
    "    df_T2notinT1['M_DIV_CD']= div_cd\n",
    "\n",
    "    return matches_T1, df_T100notinT1, df_T2notinT1#, df_3_tmp, "
   ]
  },
  {
   "cell_type": "code",
   "execution_count": 1236,
   "metadata": {},
   "outputs": [
    {
     "name": "stdout",
     "output_type": "stream",
     "text": [
      "\n",
      "Matching for div  d6  started...\n",
      "building tf-idf vector n...\n",
      "Time used: 0.5820486545562744\n",
      "awesome_cossim_top n...\n",
      "Time used: 2.1007251739501953\n",
      "getting matches_df n...\n",
      "Time used: 0.02306056022644043\n",
      "Total time consumed: 2.7088429927825928\n",
      "r1s match (%>90) =  0.4986513823331086\n",
      "pr1s match (%>90) =  0.48238368172623064\n",
      "tsr1s match (%>90) =  0.45220836142953474\n",
      "tstr1s match (%>90) =  0.5840357383681726\n",
      "\n",
      "Top 1 completed in  5.0486907958984375\n",
      "Top 2 and 100 Completed in: 1.7832276821136475\n",
      "Top 2 and 100 Completed in: 7.826847553253174\n",
      "All completed in  14.683845043182373\n",
      "size of m_t1: 11864\n",
      "size of m_tn: 9623\n",
      "size of m_tn_seed: 430\n"
     ]
    }
   ],
   "source": [
    "master_feature='P_ADDR_s'\n",
    "messy_feature='M_ADDR_s'\n",
    "div_cd = 'd6'\n",
    "\n",
    "m_t1, m_tn, m_tn_seed = get_div_match (div_cd, master_feature, messy_feature)\n",
    "print('size of m_t1:', len(m_t1))  \n",
    "print('size of m_tn:', len(m_tn))\n",
    "print('size of m_tn_seed:', len(m_tn_seed))"
   ]
  },
  {
   "cell_type": "code",
   "execution_count": 1237,
   "metadata": {},
   "outputs": [
    {
     "name": "stdout",
     "output_type": "stream",
     "text": [
      "<class 'pandas.core.frame.DataFrame'>\n",
      "Int64Index: 8604 entries, 0 to 8603\n",
      "Data columns (total 8 columns):\n",
      "Messy_addr     8604 non-null object\n",
      "Master_addr    8604 non-null object\n",
      "Similarity     8604 non-null float64\n",
      "pr1s           8604 non-null int64\n",
      "tsr1s          8604 non-null int64\n",
      "tstr1s         8604 non-null int64\n",
      "r1s            8604 non-null int64\n",
      "M_DIV_CD       8604 non-null object\n",
      "dtypes: float64(1), int64(4), object(3)\n",
      "memory usage: 605.0+ KB\n"
     ]
    }
   ],
   "source": [
    "m_tns[m_tns.M_DIV_CD=='d5'].info()"
   ]
  },
  {
   "cell_type": "code",
   "execution_count": 1238,
   "metadata": {},
   "outputs": [],
   "source": [
    "#m_tn[(m_tn['Messy_addr'].isin(m_t1[m_t1.tstr1s==100]['Messy_addr']) & m_tn['Master_addr'].isin(m_t1[m_t1.tstr1s==100]['Master_addr']))]"
   ]
  },
  {
   "cell_type": "code",
   "execution_count": 1239,
   "metadata": {},
   "outputs": [],
   "source": [
    "#m_tn[(m_tn['Messy_addr'].isin(m_t1['Messy_addr']) & m_tn['Master_addr'].isin(m_t1['Master_addr']))].head()"
   ]
  },
  {
   "cell_type": "markdown",
   "metadata": {},
   "source": [
    "### Scale to large data set"
   ]
  },
  {
   "cell_type": "markdown",
   "metadata": {},
   "source": [
    "#### Run1 to all without break down to division "
   ]
  },
  {
   "cell_type": "code",
   "execution_count": 1242,
   "metadata": {},
   "outputs": [
    {
     "name": "stdout",
     "output_type": "stream",
     "text": [
      "building tf-idf vector n...\n",
      "Time used: 16.1040678024292\n",
      "awesome_cossim_top n...\n",
      "Time used: 3756.5679426193237\n",
      "getting matches_df n...\n",
      "Time used: 1.1045677661895752\n",
      "Total time consumed: 3773.7916209697723\n",
      "r1s match (%>90) =  0.5065046372501164\n",
      "pr1s match (%>90) =  0.526466948950517\n",
      "tsr1s match (%>90) =  0.42622685631903373\n",
      "tstr1s match (%>90) =  0.5728933716270674\n",
      "\n"
     ]
    }
   ],
   "source": [
    "ds_e = df_exception.M_ADDR_s.unique()\n",
    "ds_m = df_master.P_ADDR_s.unique()\n",
    "\n",
    "matches_all = run_ING_match (ds_m, ds_e, top_N, similarity)"
   ]
  },
  {
   "cell_type": "code",
   "execution_count": 1243,
   "metadata": {},
   "outputs": [],
   "source": [
    "matches_all_r1 = matches_all.copy()"
   ]
  },
  {
   "cell_type": "code",
   "execution_count": 1244,
   "metadata": {},
   "outputs": [
    {
     "data": {
      "text/plain": [
       "(352364, 500919, 505761)"
      ]
     },
     "execution_count": 1244,
     "metadata": {},
     "output_type": "execute_result"
    }
   ],
   "source": [
    "len(ds_e), len(ds_m), len(df_master.P_ADDR_s)"
   ]
  },
  {
   "cell_type": "code",
   "execution_count": 1245,
   "metadata": {},
   "outputs": [
    {
     "name": "stdout",
     "output_type": "stream",
     "text": [
      "<class 'pandas.core.frame.DataFrame'>\n",
      "RangeIndex: 352364 entries, 0 to 352363\n",
      "Data columns (total 7 columns):\n",
      "Messy_addr     352364 non-null object\n",
      "Master_addr    352364 non-null object\n",
      "Similarity     352364 non-null float64\n",
      "pr1s           352364 non-null int64\n",
      "tsr1s          352364 non-null int64\n",
      "tstr1s         352364 non-null int64\n",
      "r1s            352364 non-null int64\n",
      "dtypes: float64(1), int64(4), object(2)\n",
      "memory usage: 18.8+ MB\n"
     ]
    }
   ],
   "source": [
    "matches_all_r1.info()"
   ]
  },
  {
   "cell_type": "markdown",
   "metadata": {},
   "source": [
    "#### Run 2 run program for each division.  \n",
    "\n",
    "Breaking large data set into smaller trunck; Bring in division as an additional feature "
   ]
  },
  {
   "cell_type": "code",
   "execution_count": 1246,
   "metadata": {},
   "outputs": [
    {
     "data": {
      "text/plain": [
       "array(['d2', 'd1', 'd7', 'd4', 'd3', 'd5', 'd6'], dtype=object)"
      ]
     },
     "execution_count": 1246,
     "metadata": {},
     "output_type": "execute_result"
    }
   ],
   "source": [
    "df_exception.M_DIV_CD.unique()"
   ]
  },
  {
   "cell_type": "code",
   "execution_count": 1247,
   "metadata": {},
   "outputs": [
    {
     "name": "stdout",
     "output_type": "stream",
     "text": [
      "The program started ...\n",
      "\n",
      "Matching for div  d1  started...\n",
      "building tf-idf vector n...\n",
      "Time used: 2.142190933227539\n",
      "awesome_cossim_top n...\n",
      "Time used: 20.321574211120605\n",
      "getting matches_df n...\n",
      "Time used: 0.0822153091430664\n",
      "Total time consumed: 22.54848837852478\n",
      "r1s match (%>90) =  0.46165827941528875\n",
      "pr1s match (%>90) =  0.47752216630721306\n",
      "tsr1s match (%>90) =  0.41363527438293796\n",
      "tstr1s match (%>90) =  0.5331176611550443\n",
      "\n",
      "Top 1 completed in  30.677200317382812\n",
      "Top 2 and 100 Completed in: 11.112823724746704\n",
      "Top 2 and 100 Completed in: 22.027884483337402\n",
      "All completed in  63.88233661651611\n",
      "\n",
      "Matching for div  d2  started...\n",
      "building tf-idf vector n...\n",
      "Time used: 8.41646146774292\n",
      "awesome_cossim_top n...\n",
      "Time used: 703.5318794250488\n",
      "getting matches_df n...\n",
      "Time used: 0.4020833969116211\n",
      "Total time consumed: 712.3524167537689\n",
      "r1s match (%>90) =  0.5485644970345186\n",
      "pr1s match (%>90) =  0.549182670157984\n",
      "tsr1s match (%>90) =  0.44739405037527774\n",
      "tstr1s match (%>90) =  0.6008817714742263\n",
      "\n",
      "Top 1 completed in  742.8550837039948\n",
      "Top 2 and 100 Completed in: 181.52299761772156\n",
      "Top 2 and 100 Completed in: 49.521790981292725\n",
      "All completed in  974.0297157764435\n",
      "\n",
      "Matching for div  d3  started...\n",
      "building tf-idf vector n...\n",
      "Time used: 1.3380584716796875\n",
      "awesome_cossim_top n...\n",
      "Time used: 11.04915714263916\n",
      "getting matches_df n...\n",
      "Time used: 0.06566357612609863\n",
      "Total time consumed: 12.455893516540527\n",
      "r1s match (%>90) =  0.5511576587621283\n",
      "pr1s match (%>90) =  0.5641878874916809\n",
      "tsr1s match (%>90) =  0.48943920977967703\n",
      "tstr1s match (%>90) =  0.5878664751830187\n",
      "\n",
      "Top 1 completed in  18.13263702392578\n",
      "Top 2 and 100 Completed in: 7.404102802276611\n",
      "Top 2 and 100 Completed in: 20.614872694015503\n",
      "All completed in  46.19247913360596\n",
      "\n",
      "Matching for div  d4  started...\n",
      "building tf-idf vector n...\n",
      "Time used: 2.939344882965088\n",
      "awesome_cossim_top n...\n",
      "Time used: 38.733911752700806\n",
      "getting matches_df n...\n",
      "Time used: 0.09825992584228516\n",
      "Total time consumed: 41.77352571487427\n",
      "r1s match (%>90) =  0.4088394303384732\n",
      "pr1s match (%>90) =  0.5143993100111492\n",
      "tsr1s match (%>90) =  0.3637587563371689\n",
      "tstr1s match (%>90) =  0.5499926373140922\n",
      "\n",
      "Top 1 completed in  50.452667474746704\n",
      "Top 2 and 100 Completed in: 19.507707118988037\n",
      "Top 2 and 100 Completed in: 19.74946665763855\n",
      "All completed in  89.78704762458801\n",
      "\n",
      "Matching for div  d5  started...\n",
      "building tf-idf vector n...\n",
      "Time used: 1.1265230178833008\n",
      "awesome_cossim_top n...\n",
      "Time used: 5.52785849571228\n",
      "getting matches_df n...\n",
      "Time used: 0.03910517692565918\n",
      "Total time consumed: 6.695957899093628\n",
      "r1s match (%>90) =  0.457551887971993\n",
      "pr1s match (%>90) =  0.42829457364341084\n",
      "tsr1s match (%>90) =  0.4087896974243561\n",
      "tstr1s match (%>90) =  0.5034383595898975\n",
      "\n",
      "Top 1 completed in  9.724992275238037\n",
      "Top 2 and 100 Completed in: 3.4491186141967773\n",
      "Top 2 and 100 Completed in: 7.231691837310791\n",
      "All completed in  20.43990659713745\n",
      "\n",
      "Matching for div  d6  started...\n",
      "building tf-idf vector n...\n",
      "Time used: 0.6973493099212646\n",
      "awesome_cossim_top n...\n",
      "Time used: 2.133711814880371\n",
      "getting matches_df n...\n",
      "Time used: 0.019551753997802734\n",
      "Total time consumed: 2.85261869430542\n",
      "r1s match (%>90) =  0.4986513823331086\n",
      "pr1s match (%>90) =  0.48238368172623064\n",
      "tsr1s match (%>90) =  0.45220836142953474\n",
      "tstr1s match (%>90) =  0.5840357383681726\n",
      "\n",
      "Top 1 completed in  5.171265602111816\n",
      "Top 2 and 100 Completed in: 1.925105333328247\n",
      "Top 2 and 100 Completed in: 7.9896018505096436\n",
      "All completed in  15.112549543380737\n",
      "The run completed in: 1210.2415356636047\n",
      "size of m_t1s: 317149\n",
      "size of m_tns: 86395\n",
      "size of m_tn_seeds: 5959\n"
     ]
    }
   ],
   "source": [
    "master_feature='P_ADDR_s'\n",
    "messy_feature='M_ADDR_s'\n",
    "\n",
    "div_list = ['d1', 'd2', 'd3', 'd4', 'd5', 'd6']#df_exception.M_DIV_CD.unique()\n",
    "\n",
    "m_t1s = pd.DataFrame()\n",
    "m_tns = pd.DataFrame()\n",
    "m_tn_seeds = pd.DataFrame()\n",
    "\n",
    "t_started = time.time()\n",
    "print('The program started ...')\n",
    "\n",
    "for div_cd in div_list:\n",
    "\n",
    "    m_t1, m_tn, m_tn_seed = get_div_match (div_cd, master_feature, messy_feature)\n",
    "    m_t1s = m_t1s.append(m_t1)\n",
    "    m_tns = m_tns.append(m_tn)\n",
    "    m_tn_seeds = m_tn_seeds.append(m_tn_seed)\n",
    "\n",
    "t_used = time.time()- t_started\n",
    "print('The run completed in:', t_used)\n",
    "print('size of m_t1s:', len(m_t1s))  \n",
    "print('size of m_tns:', len(m_tns))\n",
    "print('size of m_tn_seeds:', len(m_tn_seeds))"
   ]
  },
  {
   "cell_type": "code",
   "execution_count": 1248,
   "metadata": {},
   "outputs": [
    {
     "name": "stdout",
     "output_type": "stream",
     "text": [
      "size of m_t1s: 317149\n",
      "size of m_tns: 86395\n",
      "size of m_tn_seeds: 5959\n"
     ]
    }
   ],
   "source": [
    "print('size of m_t1s:', len(m_t1s))  \n",
    "print('size of m_tns:', len(m_tns))\n",
    "print('size of m_tn_seeds:', len(m_tn_seeds))"
   ]
  },
  {
   "cell_type": "code",
   "execution_count": 1249,
   "metadata": {},
   "outputs": [
    {
     "name": "stdout",
     "output_type": "stream",
     "text": [
      "Similarity Max: 1.0000000000000007\n",
      "Similarity Min: 0.20264296648059807\n",
      "Similarity Mean: 0.7664397916141261\n",
      "Similarity Median: 0.7850021685579134\n",
      "Fuzzywuzzy token_set_ratio Max: 100\n",
      "Fuzzywuzzy token_set_ratio Min: 14\n",
      "Fuzzywuzzy token_set_ratio Mean: 89.09729995118684\n",
      "Fuzzywuzzy token_set_ratio Median: 92.0\n"
     ]
    }
   ],
   "source": [
    "print('Similarity Max:', matches_all.Similarity.max())\n",
    "print('Similarity Min:', matches_all.Similarity.min())\n",
    "print('Similarity Mean:', matches_all.Similarity.mean())\n",
    "print('Similarity Median:', matches_all.Similarity.median())\n",
    "\n",
    "print('Fuzzywuzzy token_set_ratio Max:', matches_all.tstr1s.max())\n",
    "print('Fuzzywuzzy token_set_ratio Min:', matches_all.tstr1s.min())\n",
    "print('Fuzzywuzzy token_set_ratio Mean:', matches_all.tstr1s.mean())\n",
    "print('Fuzzywuzzy token_set_ratio Median:', matches_all.tstr1s.median())"
   ]
  },
  {
   "cell_type": "code",
   "execution_count": 1250,
   "metadata": {},
   "outputs": [],
   "source": [
    "matches_all = m_t1s.copy()"
   ]
  },
  {
   "cell_type": "code",
   "execution_count": 1251,
   "metadata": {},
   "outputs": [
    {
     "name": "stdout",
     "output_type": "stream",
     "text": [
      "<class 'pandas.core.frame.DataFrame'>\n",
      "Int64Index: 317149 entries, 0 to 11863\n",
      "Data columns (total 8 columns):\n",
      "Messy_addr     317149 non-null object\n",
      "Master_addr    317149 non-null object\n",
      "Similarity     317149 non-null float64\n",
      "pr1s           317149 non-null int64\n",
      "tsr1s          317149 non-null int64\n",
      "tstr1s         317149 non-null int64\n",
      "r1s            317149 non-null int64\n",
      "M_DIV_CD       317149 non-null object\n",
      "dtypes: float64(1), int64(4), object(3)\n",
      "memory usage: 21.8+ MB\n"
     ]
    }
   ],
   "source": [
    "matches_all.info()"
   ]
  },
  {
   "cell_type": "code",
   "execution_count": 4,
   "metadata": {},
   "outputs": [],
   "source": [
    "#matches_all[(matches_all.tstr1s==100) & (matches_all.Similarity> 0.80)].head()"
   ]
  },
  {
   "cell_type": "code",
   "execution_count": 3,
   "metadata": {},
   "outputs": [],
   "source": [
    "#matches_all[ (matches_all.Similarity==1)].head()"
   ]
  },
  {
   "cell_type": "code",
   "execution_count": 1254,
   "metadata": {},
   "outputs": [
    {
     "data": {
      "text/plain": [
       "1"
      ]
     },
     "execution_count": 1254,
     "metadata": {},
     "output_type": "execute_result"
    }
   ],
   "source": [
    "ana_m_tns = m_tns[m_tns.tstr1s==100].groupby('Messy_addr').count()\n",
    "len(ana_m_tns[ana_m_tns.Master_addr==100])"
   ]
  },
  {
   "cell_type": "code",
   "execution_count": 1255,
   "metadata": {},
   "outputs": [
    {
     "data": {
      "text/plain": [
       "Text(25.0, 0.5, 'Similarity')"
      ]
     },
     "execution_count": 1255,
     "metadata": {},
     "output_type": "execute_result"
    },
    {
     "data": {
      "image/png": "[encoded data removed]",
      "text/plain": [
       "<Figure size 432x432 with 3 Axes>"
      ]
     },
     "metadata": {},
     "output_type": "display_data"
    }
   ],
   "source": [
    "yy = matches_all.Similarity\n",
    "xx = matches_all.tstr1s/100\n",
    "\n",
    "#_=plt.scatter(x, y)\n",
    "h = sns.jointplot(x=xx, y=yy, alpha=0.005);\n",
    "h.ax_joint.set_xlabel('Ratio (token_set_ratio)', fontweight='bold')\n",
    "h.ax_joint.set_ylabel('Similarity', fontweight='bold')\n",
    "\n",
    "#plt.tight_layout()"
   ]
  },
  {
   "cell_type": "code",
   "execution_count": 2,
   "metadata": {},
   "outputs": [],
   "source": [
    "#matches_all[(matches_all.Similarity>0.5) & (matches_all.tstr1s==100)].head()"
   ]
  },
  {
   "cell_type": "code",
   "execution_count": 1257,
   "metadata": {},
   "outputs": [
    {
     "data": {
      "text/plain": [
       "<BarContainer object of 85 artists>"
      ]
     },
     "execution_count": 1257,
     "metadata": {},
     "output_type": "execute_result"
    },
    {
     "data": {
      "image/png": "[encoded data removed]",
      "text/plain": [
       "<Figure size 432x288 with 1 Axes>"
      ]
     },
     "metadata": {},
     "output_type": "display_data"
    }
   ],
   "source": [
    "plt.bar(matches_all.groupby('tstr1s').Messy_addr.count().index, np.log(matches_all.groupby('tstr1s').Messy_addr.count().values))"
   ]
  },
  {
   "cell_type": "code",
   "execution_count": 1258,
   "metadata": {},
   "outputs": [],
   "source": [
    "matches_all['Similarity_r']=np.round(matches_all.Similarity, 2)"
   ]
  },
  {
   "cell_type": "code",
   "execution_count": 1259,
   "metadata": {},
   "outputs": [
    {
     "data": {
      "text/plain": [
       "0    0.90\n",
       "1    0.89\n",
       "2    0.86\n",
       "3    0.93\n",
       "4    0.90\n",
       "Name: Similarity_r, dtype: float64"
      ]
     },
     "execution_count": 1259,
     "metadata": {},
     "output_type": "execute_result"
    }
   ],
   "source": [
    "matches_all.Similarity_r.head()"
   ]
  },
  {
   "cell_type": "code",
   "execution_count": 1260,
   "metadata": {},
   "outputs": [
    {
     "data": {
      "image/png": "[encoded data removed]",
      "text/plain": [
       "<Figure size 432x288 with 1 Axes>"
      ]
     },
     "metadata": {},
     "output_type": "display_data"
    }
   ],
   "source": [
    "#plt.subplots(figsize=(7,6), dpi=100)\n",
    "sns.distplot( np.log(matches_all.groupby('tstr1s').Messy_addr.count().values) , color=\"dodgerblue\", label=\"Fuzzywuzzy\")\n",
    "sns.distplot( np.log(matches_all.groupby('Similarity_r').Messy_addr.count().values) , color=\"orange\", label=\"Similarity\")\n",
    "\n",
    "plt.xlabel('Count Log')\n",
    "plt.title('Match Result Histogram')\n",
    "plt.legend();"
   ]
  },
  {
   "cell_type": "code",
   "execution_count": 1261,
   "metadata": {},
   "outputs": [
    {
     "data": {
      "text/plain": [
       "0.25596170884978353"
      ]
     },
     "execution_count": 1261,
     "metadata": {},
     "output_type": "execute_result"
    }
   ],
   "source": [
    "len(matches_all[matches_all.tstr1s==100])/len(matches_all)"
   ]
  },
  {
   "cell_type": "code",
   "execution_count": 1262,
   "metadata": {},
   "outputs": [
    {
     "name": "stdout",
     "output_type": "stream",
     "text": [
      "<class 'pandas.core.frame.DataFrame'>\n",
      "Int64Index: 81178 entries, 1 to 11863\n",
      "Data columns (total 9 columns):\n",
      "Messy_addr      81178 non-null object\n",
      "Master_addr     81178 non-null object\n",
      "Similarity      81178 non-null float64\n",
      "pr1s            81178 non-null int64\n",
      "tsr1s           81178 non-null int64\n",
      "tstr1s          81178 non-null int64\n",
      "r1s             81178 non-null int64\n",
      "M_DIV_CD        81178 non-null object\n",
      "Similarity_r    81178 non-null float64\n",
      "dtypes: float64(2), int64(4), object(3)\n",
      "memory usage: 6.2+ MB\n"
     ]
    }
   ],
   "source": [
    "matches_all[matches_all.tstr1s==100].info()"
   ]
  },
  {
   "cell_type": "code",
   "execution_count": 1263,
   "metadata": {},
   "outputs": [
    {
     "data": {
      "text/plain": [
       "69478"
      ]
     },
     "execution_count": 1263,
     "metadata": {},
     "output_type": "execute_result"
    }
   ],
   "source": [
    "len(matches_all[matches_all.tstr1s==100].Master_addr.unique())"
   ]
  },
  {
   "cell_type": "code",
   "execution_count": 1,
   "metadata": {},
   "outputs": [],
   "source": [
    "#matches_all[(matches_all.tstr1s>97) & (matches_all.r1s>75)].head()"
   ]
  },
  {
   "cell_type": "code",
   "execution_count": 1265,
   "metadata": {},
   "outputs": [],
   "source": [
    "df_export_top1 = pd.merge(df_exception, m_t1s, how='left', left_on=['M_ADDR_s','M_DIV_CD'], right_on=['Messy_addr','M_DIV_CD'])"
   ]
  },
  {
   "cell_type": "code",
   "execution_count": 1266,
   "metadata": {},
   "outputs": [],
   "source": [
    "df_export_top1.to_csv('DLP_Matched_Addr_top1.csv')"
   ]
  },
  {
   "cell_type": "code",
   "execution_count": 1267,
   "metadata": {},
   "outputs": [],
   "source": [
    "df_export_multiple = pd.merge(df_exception, m_tns, how='inner', left_on=['M_ADDR_s','M_DIV_CD'], right_on=['Messy_addr','M_DIV_CD'])"
   ]
  },
  {
   "cell_type": "code",
   "execution_count": 1269,
   "metadata": {},
   "outputs": [],
   "source": [
    "m_tns.to_csv('DLP_Matched_Addr_multiple_raw.csv')\n",
    "df_export_multiple.to_csv('DLP_Matched_Addr_multiple.csv')"
   ]
  },
  {
   "cell_type": "code",
   "execution_count": 1271,
   "metadata": {},
   "outputs": [],
   "source": [
    "df_master.to_csv('DLP_Master_cleansed.csv')"
   ]
  },
  {
   "cell_type": "markdown",
   "metadata": {},
   "source": [
    "###  Conclusion: As we saw, three methods are quite good for matching strings even data is dirty. The biggest challenge however, is the speed. Fuzzywuzzy and KNN are working fine with small data set but will require more on hardware and memory to scale to large data set. ING algorithm shows the biggest advantage on speed.  With ING implemented above, I have a program which is able to match over 300k addresses against another over half million master data set in 20 minutes, the program includes top 1 match, top2 and top 100 match for seeded data."
   ]
  },
  {
   "cell_type": "code",
   "execution_count": null,
   "metadata": {},
   "outputs": [],
   "source": []
  }
 ],
 "metadata": {
  "kernelspec": {
   "display_name": "Python 3",
   "language": "python",
   "name": "python3"
  },
  "language_info": {
   "codemirror_mode": {
    "name": "ipython",
    "version": 3
   },
   "file_extension": ".py",
   "mimetype": "text/x-python",
   "name": "python",
   "nbconvert_exporter": "python",
   "pygments_lexer": "ipython3",
   "version": "3.7.3"
  }
 },
 "nbformat": 4,
 "nbformat_minor": 2
}
