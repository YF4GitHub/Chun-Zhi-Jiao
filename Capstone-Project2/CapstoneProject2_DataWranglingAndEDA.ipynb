{
 "cells": [
  {
   "cell_type": "markdown",
   "metadata": {},
   "source": [
    "# Project 2 Data Wrangling and EDA\n",
    "\n",
    "Data in the real world is messy. Dealing with messy data sets is painful and burns through time which could be spent analysing the data itself.\n",
    "\n",
    "This dataset contains historic work order text data for different divisions.  The data is generated using queries in a relational database and exported as csv files.  Some data are scrambled.  \n",
    "\n",
    "USPS Suffix data is fromhttps://pe.usps.com/text/pub28/28apc_002.htm"
   ]
  },
  {
   "cell_type": "code",
   "execution_count": 394,
   "metadata": {},
   "outputs": [],
   "source": [
    "import pandas as pd\n",
    "import numpy as np\n",
    "import matplotlib.pyplot as plt\n",
    "import seaborn as sns\n",
    "import time\n",
    "from collections import Counter \n",
    "\n",
    "import re\n",
    "import ftfy\n",
    "from fuzzywuzzy import fuzz\n",
    "from fuzzywuzzy import process \n",
    "from sklearn.metrics.pairwise import cosine_similarity\n",
    "from sklearn.neighbors import NearestNeighbors"
   ]
  },
  {
   "cell_type": "code",
   "execution_count": 395,
   "metadata": {},
   "outputs": [],
   "source": [
    "def cleanse_str(string): \n",
    "    string = ftfy.fix_text(string) # fix text encoding issues\n",
    "    string = string.encode(\"ascii\", errors=\"ignore\").decode() #remove non ascii chars\n",
    "    string = string.lower() #make lower case\n",
    "    chars_to_remove = [\"#\", \"@\", \")\",\"(\",\".\",\"|\",\"[\",\"]\",\"{\",\"}\",\"'\"]\n",
    "    rx = '[' + re.escape(''.join(chars_to_remove)) + ']'\n",
    "    string = re.sub(rx, '', string) #remove the list of chars defined above\n",
    "    string = string.replace('&', 'and')\n",
    "    string = string.replace(',', ' ')\n",
    "    string = string.replace('`', ' ')\n",
    "    #string = string.replace('unknown', ' ')\n",
    "    string = string.replace('-', ' ')\n",
    "    string = string.replace('+', ' and ')\n",
    "    #string = string.title() # normalise case - capital at start of each word\n",
    "    string = re.sub(' +',' ',string).strip() # get rid of multiple spaces and replace with a single space\n",
    "    string = ' '+ string +' ' # pad names for ngrams...\n",
    "    string = re.sub(r'[,-./]|\\sBD',r'', string)\n",
    "\n",
    "    return string"
   ]
  },
  {
   "cell_type": "code",
   "execution_count": 396,
   "metadata": {},
   "outputs": [],
   "source": [
    "def cleanse_addr_suffix (string): \n",
    "    \n",
    "    string = re.sub(r'[0-9]+', '', string)\n",
    "    \n",
    "    return string"
   ]
  },
  {
   "cell_type": "code",
   "execution_count": 397,
   "metadata": {},
   "outputs": [],
   "source": [
    "def standardize_addr_suffix (string):\n",
    "    \n",
    "    string = string + ' '\n",
    "    \n",
    "    #string = cleanse_addr_suffix(string)\n",
    "    \n",
    "    string = re.sub(' aly ', ' alley ', string)\n",
    "    string = re.sub(' annex ', ' anex ', string)\n",
    "    string = re.sub(' anx ', ' anex ', string)\n",
    "    string = re.sub(' ave ', ' avenue ', string)\n",
    "    string = re.sub(' av ', ' avenue ', string)\n",
    "    string = re.sub(' aven ', ' avenue ', string)\n",
    "    string = re.sub(' bch ', ' beach ', string)\n",
    "    string = re.sub(' bnd ', ' bend ', string)\n",
    "    string = re.sub(' blf ', ' bluff ', string)\n",
    "    string = re.sub(' btm ', ' bottom ', string)\n",
    "    string = re.sub(' blvd ', ' boulevard ', string)\n",
    "    string = re.sub(' br ', ' branch ', string)\n",
    "    string = re.sub(' brg ', ' bridge ', string)\n",
    "    string = re.sub(' brk ', ' brook ', string)\n",
    "    string = re.sub(' byp ', ' bypass ', string)\n",
    "    string = re.sub(' bypas ', ' bypass ', string)\n",
    "    string = re.sub(' cp ', ' camp ', string)\n",
    "    string = re.sub(' cent ', ' center ', string)\n",
    "    string = re.sub(' centre ', ' center ', string)\n",
    "    string = re.sub(' cntr ', ' center ', string)\n",
    "    string = re.sub(' centr ', ' center ', string)\n",
    "    string = re.sub(' ctr ', ' center ', string)\n",
    "    string = re.sub(' circl ', ' circle ', string)\n",
    "    string = re.sub(' cir ', ' circle ', string)\n",
    "    string = re.sub(' cor ', ' corner ', string)\n",
    "    string = re.sub(' cors ', ' corners ', string)\n",
    "    string = re.sub(' crse ', ' course ', string)\n",
    "    string = re.sub(' ct ', ' court ', string)\n",
    "    string = re.sub(' cts ', ' courts ', string)\n",
    "    string = re.sub(' cv ', ' cove ', string)\n",
    "    string = re.sub(' crk ', ' creek ', string)\n",
    "    string = re.sub(' cres ', ' crescent ', string)\n",
    "    string = re.sub(' div ', ' divide ', string)\n",
    "    string = re.sub(' dr ', ' drive ', string)\n",
    "    string = re.sub(' drv ', ' drive ', string)\n",
    "    string = re.sub(' drives ', ' drives  ', string)\n",
    "    string = re.sub(' est ', ' estate ', string)\n",
    "    string = re.sub(' ests ', ' estates ', string)\n",
    "    string = re.sub(' express ', ' expressway ', string)\n",
    "    string = re.sub(' ext ', ' extension ', string)\n",
    "    string = re.sub(' fry ', ' ferry ', string)\n",
    "    string = re.sub(' fld ', ' field ', string)\n",
    "    string = re.sub(' frd ', ' ford ', string)\n",
    "    string = re.sub(' frst ', ' forest ', string)\n",
    "    string = re.sub(' forg ', ' forge ', string)\n",
    "    string = re.sub(' frk ', ' fork ', string)\n",
    "    string = re.sub(' ft ', ' fort ', string)\n",
    "    string = re.sub(' gdns ', ' gardens ', string)\n",
    "    string = re.sub(' grdns ', ' gardens ', string)\n",
    "    string = re.sub(' gatewy ', ' gateway ', string)\n",
    "    string = re.sub(' gln ', ' glen ', string)\n",
    "    string = re.sub(' grn ', ' green ', string)\n",
    "    string = re.sub(' grov ', ' grove ', string)\n",
    "    string = re.sub(' grv ', ' grove ', string)\n",
    "    string = re.sub(' harbr ', ' harbor ', string)\n",
    "    string = re.sub(' hvn ', ' haven ', string)\n",
    "    string = re.sub(' hts ', ' heights ', string)\n",
    "    string = re.sub(' ht ', ' heights ', string)\n",
    "    string = re.sub(' hwy ', ' highway ', string)\n",
    "    string = re.sub(' hway ', ' highway ', string)\n",
    "    string = re.sub(' hiway ', ' highway ', string)\n",
    "    string = re.sub(' hl ', ' hill ', string)\n",
    "    string = re.sub(' hls ', ' hills ', string)\n",
    "    string = re.sub(' holw ', ' hollow ', string)\n",
    "    string = re.sub(' is ', ' island ', string)\n",
    "    string = re.sub(' jct ', ' junction ', string)\n",
    "    string = re.sub(' knl ', ' knoll ', string)\n",
    "    string = re.sub(' knls ', ' knolls ', string)\n",
    "    string = re.sub(' lk ', ' lake ', string)\n",
    "    string = re.sub(' lks ', ' lakes ', string)\n",
    "    string = re.sub(' lndg ', ' landing ', string)\n",
    "    string = re.sub(' ln ', ' lane ', string)\n",
    "    string = re.sub(' lf ', ' loaf ', string)\n",
    "    string = re.sub(' lodg ', ' lodge ', string)\n",
    "    string = re.sub(' ldg ', ' lodge ', string)\n",
    "    string = re.sub(' mnr ', ' manor ', string)\n",
    "    string = re.sub(' mdw ', ' meadows ', string)\n",
    "    string = re.sub(' mdws ', ' meadows ', string)\n",
    "    string = re.sub(' mnt ', ' mount ', string)\n",
    "    string = re.sub(' mt ', ' mount ', string)\n",
    "    string = re.sub(' mtn ', ' mountain ', string)\n",
    "    string = re.sub(' orch ', ' orchard ', string)\n",
    "    string = re.sub(' prk ', ' park ', string)\n",
    "    string = re.sub(' pky ', ' parkway ', string)\n",
    "    string = re.sub(' pkwy ', ' parkway ', string)\n",
    "    string = re.sub(' pl ', ' place ', string)\n",
    "    string = re.sub(' pln ', ' plain ', string)\n",
    "    string = re.sub(' plns ', ' plains ', string)\n",
    "    string = re.sub(' plz ', ' plaza ', string)\n",
    "    string = re.sub(' pt ', ' point ', string)\n",
    "    string = re.sub(' pts ', ' points ', string)\n",
    "    string = re.sub(' pr ', ' prairie ', string)\n",
    "    string = re.sub(' rst ', ' rest ', string)\n",
    "    string = re.sub(' rdge ', ' ridge ', string)\n",
    "    string = re.sub(' rdg ', ' ridge ', string)\n",
    "    string = re.sub(' rvr ', ' river ', string)\n",
    "    string = re.sub(' rd ', ' road ', string)\n",
    "    string = re.sub(' rds ', ' roads ', string)\n",
    "    string = re.sub(' shr ', ' shore ', string)\n",
    "    string = re.sub(' spg ', ' spring ', string)\n",
    "    string = re.sub(' spgs ', ' springs ', string)\n",
    "    string = re.sub(' sq ', ' square ', string)\n",
    "    string = re.sub(' stn ', ' station ', string)\n",
    "    string = re.sub(' sta ', ' station ', string)\n",
    "    string = re.sub(' str ', ' street ', string)\n",
    "    string = re.sub(' st ', ' street ', string)\n",
    "    string = re.sub(' ter ', ' terrace ', string)\n",
    "    string = re.sub(' terr ', ' terrace ', string)\n",
    "    string = re.sub(' trce ', ' trace ', string)\n",
    "    string = re.sub(' tracks ', ' track ', string)\n",
    "    string = re.sub(' trak ', ' track ', string)\n",
    "    string = re.sub(' trails ', ' trail ', string)\n",
    "    string = re.sub(' trl ', ' trail ', string)\n",
    "    string = re.sub(' trlr ', ' trailer ', string)\n",
    "    string = re.sub(' un ', ' union ', string)\n",
    "    string = re.sub(' vly ', ' valley ', string)\n",
    "    string = re.sub(' vally ', ' valley ', string)\n",
    "    string = re.sub(' vw ', ' view ', string)\n",
    "    string = re.sub(' villiage ', ' village ', string)\n",
    "    string = re.sub(' vill ', ' village ', string)\n",
    "    string = re.sub(' vlg ', ' village ', string)\n",
    "    string = re.sub(' vl ', ' ville ', string)\n",
    "    string = re.sub(' vis ', ' vista ', string)\n",
    "    string = re.sub(' wy ', ' way ', string)\n",
    "\n",
    "\n",
    "    return string"
   ]
  },
  {
   "cell_type": "code",
   "execution_count": 398,
   "metadata": {},
   "outputs": [],
   "source": [
    "def get_word_list (list_of_string):\n",
    "    split_words = []\n",
    "    \n",
    "    for value in list_of_string:#.iteritems():\n",
    "        split_word = value.split()\n",
    "        split_words.extend(split_word)\n",
    "        \n",
    "    return split_words"
   ]
  },
  {
   "cell_type": "code",
   "execution_count": 399,
   "metadata": {},
   "outputs": [],
   "source": [
    "# load data\n",
    "file_path = 'local_directory' # mask this path.  \n",
    "\n",
    "df4_g=pd.read_csv(file_path + 'p_addr_list.csv',encoding='ISO-8859-1')\n",
    "\n",
    "df_match = pd.read_csv(file_path + 'addr_match.csv')\n",
    "df_exception = pd.read_csv(file_path + 'addr_exception.csv')\n",
    "\n",
    "df_raw_sum = pd.read_csv(file_path + 'addr_raw_sum.csv')\n",
    "df_match_1_n = pd.read_csv(file_path + 'addr_match_1_n.csv')"
   ]
  },
  {
   "cell_type": "code",
   "execution_count": 400,
   "metadata": {},
   "outputs": [],
   "source": [
    "df_master = pd.read_csv(file_path + 'addr_master.csv')"
   ]
  },
  {
   "cell_type": "code",
   "execution_count": 401,
   "metadata": {},
   "outputs": [],
   "source": [
    "df_usps_suffix = df=pd.read_csv(file_path + 'usps_suffix.csv')"
   ]
  },
  {
   "cell_type": "code",
   "execution_count": 402,
   "metadata": {},
   "outputs": [],
   "source": [
    "#df=pd.read_csv(file_path + 'Sample_Data_WOAddr_messy.csv')"
   ]
  },
  {
   "cell_type": "code",
   "execution_count": 403,
   "metadata": {},
   "outputs": [],
   "source": [
    "#df['addr1'].fillna(df['city1'], inplace=True)\n",
    "#df['addr_cln']= df['addr1'].apply(cleanse_str)#.str.lower()\n",
    "#df['addr_cln'].str.upper()\n",
    "#df.dropna(inplace=True)\n",
    "#df['addr_c'] = df['addr1'].apply(cleanse_str)\n",
    "#df['addr_s'] = df['addr_c'].apply(cleanse_addr_suffix)"
   ]
  },
  {
   "cell_type": "code",
   "execution_count": 404,
   "metadata": {},
   "outputs": [],
   "source": [
    "#df['addr_s'] = df['addr_c'].apply(standardize_addr_suffix)"
   ]
  },
  {
   "cell_type": "code",
   "execution_count": 405,
   "metadata": {},
   "outputs": [],
   "source": [
    "#df"
   ]
  },
  {
   "cell_type": "code",
   "execution_count": 406,
   "metadata": {},
   "outputs": [
    {
     "name": "stdout",
     "output_type": "stream",
     "text": [
      "<class 'pandas.core.frame.DataFrame'>\n",
      "RangeIndex: 515 entries, 0 to 514\n",
      "Data columns (total 3 columns):\n",
      "Primary_Suffix    515 non-null object\n",
      "Comm_suffix       515 non-null object\n",
      "Std_suffix        515 non-null object\n",
      "dtypes: object(3)\n",
      "memory usage: 12.1+ KB\n"
     ]
    }
   ],
   "source": [
    "df_usps_suffix.info()"
   ]
  },
  {
   "cell_type": "code",
   "execution_count": 407,
   "metadata": {},
   "outputs": [],
   "source": [
    "df_usps_suffix['Primary_Suffix'] = df_usps_suffix['Primary_Suffix'].str.lower()\n",
    "df_usps_suffix['Comm_suffix'] = df_usps_suffix['Comm_suffix'].str.lower()\n",
    "df_usps_suffix['Std_suffix'] = df_usps_suffix['Std_suffix'].str.lower()"
   ]
  },
  {
   "cell_type": "code",
   "execution_count": 408,
   "metadata": {},
   "outputs": [
    {
     "data": {
      "text/html": [
       "<div>\n",
       "<style scoped>\n",
       "    .dataframe tbody tr th:only-of-type {\n",
       "        vertical-align: middle;\n",
       "    }\n",
       "\n",
       "    .dataframe tbody tr th {\n",
       "        vertical-align: top;\n",
       "    }\n",
       "\n",
       "    .dataframe thead th {\n",
       "        text-align: right;\n",
       "    }\n",
       "</style>\n",
       "<table border=\"1\" class=\"dataframe\">\n",
       "  <thead>\n",
       "    <tr style=\"text-align: right;\">\n",
       "      <th></th>\n",
       "      <th>Primary_Suffix</th>\n",
       "      <th>Comm_suffix</th>\n",
       "      <th>Std_suffix</th>\n",
       "    </tr>\n",
       "  </thead>\n",
       "  <tbody>\n",
       "    <tr>\n",
       "      <th>0</th>\n",
       "      <td>alley</td>\n",
       "      <td>allee</td>\n",
       "      <td>aly</td>\n",
       "    </tr>\n",
       "    <tr>\n",
       "      <th>1</th>\n",
       "      <td>alley</td>\n",
       "      <td>alley</td>\n",
       "      <td>aly</td>\n",
       "    </tr>\n",
       "    <tr>\n",
       "      <th>2</th>\n",
       "      <td>alley</td>\n",
       "      <td>ally</td>\n",
       "      <td>aly</td>\n",
       "    </tr>\n",
       "    <tr>\n",
       "      <th>3</th>\n",
       "      <td>alley</td>\n",
       "      <td>aly</td>\n",
       "      <td>aly</td>\n",
       "    </tr>\n",
       "    <tr>\n",
       "      <th>4</th>\n",
       "      <td>anex</td>\n",
       "      <td>anex</td>\n",
       "      <td>anx</td>\n",
       "    </tr>\n",
       "  </tbody>\n",
       "</table>\n",
       "</div>"
      ],
      "text/plain": [
       "  Primary_Suffix Comm_suffix Std_suffix\n",
       "0          alley       allee        aly\n",
       "1          alley       alley        aly\n",
       "2          alley        ally        aly\n",
       "3          alley         aly        aly\n",
       "4           anex        anex        anx"
      ]
     },
     "execution_count": 408,
     "metadata": {},
     "output_type": "execute_result"
    }
   ],
   "source": [
    "df_usps_suffix.head()"
   ]
  },
  {
   "cell_type": "code",
   "execution_count": 409,
   "metadata": {},
   "outputs": [
    {
     "name": "stdout",
     "output_type": "stream",
     "text": [
      "<class 'pandas.core.frame.DataFrame'>\n",
      "RangeIndex: 505767 entries, 0 to 505766\n",
      "Data columns (total 3 columns):\n",
      "P_DIV_CD    505767 non-null object\n",
      "P_ADDR      505761 non-null object\n",
      "P_CITY      505767 non-null object\n",
      "dtypes: object(3)\n",
      "memory usage: 11.6+ MB\n"
     ]
    }
   ],
   "source": [
    "df_master.info()"
   ]
  },
  {
   "cell_type": "code",
   "execution_count": 410,
   "metadata": {},
   "outputs": [],
   "source": [
    "df_master.dropna(inplace=True)"
   ]
  },
  {
   "cell_type": "code",
   "execution_count": 411,
   "metadata": {},
   "outputs": [
    {
     "name": "stdout",
     "output_type": "stream",
     "text": [
      "<class 'pandas.core.frame.DataFrame'>\n",
      "Int64Index: 505761 entries, 0 to 505766\n",
      "Data columns (total 3 columns):\n",
      "P_DIV_CD    505761 non-null object\n",
      "P_ADDR      505761 non-null object\n",
      "P_CITY      505761 non-null object\n",
      "dtypes: object(3)\n",
      "memory usage: 15.4+ MB\n"
     ]
    }
   ],
   "source": [
    "df_master.info()"
   ]
  },
  {
   "cell_type": "code",
   "execution_count": 412,
   "metadata": {},
   "outputs": [
    {
     "name": "stdout",
     "output_type": "stream",
     "text": [
      "<class 'pandas.core.frame.DataFrame'>\n",
      "RangeIndex: 530437 entries, 0 to 530436\n",
      "Data columns (total 6 columns):\n",
      "DATAID         530437 non-null object\n",
      "M_TXT          530437 non-null object\n",
      "M_DIV_CD       530437 non-null object\n",
      "M_ADDR         526190 non-null object\n",
      "M_CITY         530320 non-null object\n",
      "M_ADDR_TYPE    530401 non-null object\n",
      "dtypes: object(6)\n",
      "memory usage: 24.3+ MB\n"
     ]
    }
   ],
   "source": [
    "df_exception.info()"
   ]
  },
  {
   "cell_type": "code",
   "execution_count": 413,
   "metadata": {},
   "outputs": [
    {
     "name": "stdout",
     "output_type": "stream",
     "text": [
      "<class 'pandas.core.frame.DataFrame'>\n",
      "RangeIndex: 30000 entries, 0 to 29999\n",
      "Data columns (total 10 columns):\n",
      "DATAID         30000 non-null int64\n",
      "M_TXT          30000 non-null object\n",
      "M_DIV_CD       30000 non-null object\n",
      "M_ADDR         30000 non-null object\n",
      "M_CITY         30000 non-null object\n",
      "M_ADDR_TYPE    30000 non-null object\n",
      "P_ID           30000 non-null int64\n",
      "P_ADDR         30000 non-null object\n",
      "P_CITY         30000 non-null object\n",
      "MATCHCODE      30000 non-null object\n",
      "dtypes: int64(2), object(8)\n",
      "memory usage: 2.3+ MB\n"
     ]
    }
   ],
   "source": [
    "df_match.info()"
   ]
  },
  {
   "cell_type": "code",
   "execution_count": 414,
   "metadata": {},
   "outputs": [
    {
     "name": "stdout",
     "output_type": "stream",
     "text": [
      "<class 'pandas.core.frame.DataFrame'>\n",
      "RangeIndex: 530437 entries, 0 to 530436\n",
      "Data columns (total 6 columns):\n",
      "DATAID         530437 non-null object\n",
      "M_TXT          530437 non-null object\n",
      "M_DIV_CD       530437 non-null object\n",
      "M_ADDR         526190 non-null object\n",
      "M_CITY         530320 non-null object\n",
      "M_ADDR_TYPE    530401 non-null object\n",
      "dtypes: object(6)\n",
      "memory usage: 24.3+ MB\n"
     ]
    }
   ],
   "source": [
    "df_exception.info()"
   ]
  },
  {
   "cell_type": "code",
   "execution_count": 415,
   "metadata": {},
   "outputs": [],
   "source": [
    "# handle NULL fields\n",
    "df_exception['M_ADDR'].fillna(df_exception['M_TXT'], inplace=True)\n",
    "df_exception['M_ADDR_TYPE'].fillna('Unknown', inplace=True)\n",
    "df_exception['M_CITY'].fillna('Unknown', inplace=True)"
   ]
  },
  {
   "cell_type": "code",
   "execution_count": 416,
   "metadata": {},
   "outputs": [
    {
     "data": {
      "text/plain": [
       "array(['SIMPLE', 'LOT', 'ROUTE', 'RANGE', 'NOTDEFINED', 'BLOCK', 'BLANK',\n",
       "       'MULTI', 'Unknown'], dtype=object)"
      ]
     },
     "execution_count": 416,
     "metadata": {},
     "output_type": "execute_result"
    }
   ],
   "source": [
    "df_exception.M_ADDR_TYPE.unique()"
   ]
  },
  {
   "cell_type": "code",
   "execution_count": 417,
   "metadata": {},
   "outputs": [
    {
     "name": "stdout",
     "output_type": "stream",
     "text": [
      "Start text cleansing ...\n",
      "SELFTIMED: 48.190377950668335\n"
     ]
    }
   ],
   "source": [
    "# cleanse text\n",
    "print('Start text cleansing ...')\n",
    "t1 = time.time()\n",
    "\n",
    "df_match['M_ADDR_c'] = df_match['M_ADDR'].apply(cleanse_str)\n",
    "df_match['P_ADDR_c'] = df_match['P_ADDR'].apply(cleanse_str)\n",
    "df_match['M_TXT_c'] = df_match['M_TXT'].apply(cleanse_str)\n",
    "df_exception['M_ADDR_c'] = df_exception['M_ADDR'].apply(cleanse_str)\n",
    "df_exception['M_TXT_c'] = df_exception['M_TXT'].apply(cleanse_str)\n",
    "\n",
    "df_match['M_CITY'] = df_match['M_CITY'].str.lower()\n",
    "df_match['P_CITY'] = df_match['P_CITY'].str.lower()\n",
    "df_exception['M_CITY'] = df_exception['M_CITY'].str.lower()\n",
    "\n",
    "t = time.time() - t1\n",
    "print(\"SELFTIMED:\", t)"
   ]
  },
  {
   "cell_type": "code",
   "execution_count": 418,
   "metadata": {},
   "outputs": [
    {
     "name": "stdout",
     "output_type": "stream",
     "text": [
      "Start text cleansing ...\n",
      "SELFTIMED: 81.92391037940979\n"
     ]
    }
   ],
   "source": [
    "print('Start text cleansing ...')\n",
    "time1 = time.time()\n",
    "\n",
    "df_master['P_ADDR_c'] = df_master['P_ADDR'].apply(cleanse_str)\n",
    "df_master['P_CITY_c'] = df_master['P_CITY'].apply(cleanse_str)\n",
    "\n",
    "t = time.time() - t1\n",
    "print(\"SELFTIMED:\", t)"
   ]
  },
  {
   "cell_type": "code",
   "execution_count": 419,
   "metadata": {},
   "outputs": [
    {
     "name": "stdout",
     "output_type": "stream",
     "text": [
      "<class 'pandas.core.frame.DataFrame'>\n",
      "Int64Index: 505761 entries, 0 to 505766\n",
      "Data columns (total 5 columns):\n",
      "P_DIV_CD    505761 non-null object\n",
      "P_ADDR      505761 non-null object\n",
      "P_CITY      505761 non-null object\n",
      "P_ADDR_c    505761 non-null object\n",
      "P_CITY_c    505761 non-null object\n",
      "dtypes: object(5)\n",
      "memory usage: 23.2+ MB\n"
     ]
    }
   ],
   "source": [
    "df_master.info()"
   ]
  },
  {
   "cell_type": "code",
   "execution_count": 420,
   "metadata": {},
   "outputs": [
    {
     "name": "stdout",
     "output_type": "stream",
     "text": [
      "<class 'pandas.core.frame.DataFrame'>\n",
      "RangeIndex: 30000 entries, 0 to 29999\n",
      "Data columns (total 13 columns):\n",
      "DATAID         30000 non-null int64\n",
      "M_TXT          30000 non-null object\n",
      "M_DIV_CD       30000 non-null object\n",
      "M_ADDR         30000 non-null object\n",
      "M_CITY         30000 non-null object\n",
      "M_ADDR_TYPE    30000 non-null object\n",
      "P_ID           30000 non-null int64\n",
      "P_ADDR         30000 non-null object\n",
      "P_CITY         30000 non-null object\n",
      "MATCHCODE      30000 non-null object\n",
      "M_ADDR_c       30000 non-null object\n",
      "P_ADDR_c       30000 non-null object\n",
      "M_TXT_c        30000 non-null object\n",
      "dtypes: int64(2), object(11)\n",
      "memory usage: 3.0+ MB\n"
     ]
    }
   ],
   "source": [
    "df_match.info()"
   ]
  },
  {
   "cell_type": "code",
   "execution_count": null,
   "metadata": {},
   "outputs": [],
   "source": []
  },
  {
   "cell_type": "code",
   "execution_count": 421,
   "metadata": {},
   "outputs": [
    {
     "name": "stdout",
     "output_type": "stream",
     "text": [
      "<class 'pandas.core.frame.DataFrame'>\n",
      "RangeIndex: 530437 entries, 0 to 530436\n",
      "Data columns (total 8 columns):\n",
      "DATAID         530437 non-null object\n",
      "M_TXT          530437 non-null object\n",
      "M_DIV_CD       530437 non-null object\n",
      "M_ADDR         530437 non-null object\n",
      "M_CITY         530437 non-null object\n",
      "M_ADDR_TYPE    530437 non-null object\n",
      "M_ADDR_c       530437 non-null object\n",
      "M_TXT_c        530437 non-null object\n",
      "dtypes: object(8)\n",
      "memory usage: 32.4+ MB\n"
     ]
    }
   ],
   "source": [
    "df_exception.info()"
   ]
  },
  {
   "cell_type": "code",
   "execution_count": 422,
   "metadata": {},
   "outputs": [
    {
     "name": "stdout",
     "output_type": "stream",
     "text": [
      "<class 'pandas.core.frame.DataFrame'>\n",
      "Int64Index: 12166 entries, 8649 to 530435\n",
      "Data columns (total 8 columns):\n",
      "DATAID         12166 non-null object\n",
      "M_TXT          12166 non-null object\n",
      "M_DIV_CD       12166 non-null object\n",
      "M_ADDR         12166 non-null object\n",
      "M_CITY         12166 non-null object\n",
      "M_ADDR_TYPE    12166 non-null object\n",
      "M_ADDR_c       12166 non-null object\n",
      "M_TXT_c        12166 non-null object\n",
      "dtypes: object(8)\n",
      "memory usage: 855.4+ KB\n"
     ]
    },
    {
     "name": "stderr",
     "output_type": "stream",
     "text": [
      "C:\\anaconda3\\lib\\site-packages\\ipykernel_launcher.py:2: UserWarning: Boolean Series key will be reindexed to match DataFrame index.\n",
      "  \n"
     ]
    }
   ],
   "source": [
    "df_exception_s= df_exception[df_exception.M_ADDR_TYPE=='SIMPLE']\n",
    "df_exception_s[df_exception.M_DIV_CD=='d6'].info()"
   ]
  },
  {
   "cell_type": "code",
   "execution_count": null,
   "metadata": {},
   "outputs": [],
   "source": []
  },
  {
   "cell_type": "markdown",
   "metadata": {},
   "source": [
    "## EDA"
   ]
  },
  {
   "cell_type": "markdown",
   "metadata": {},
   "source": [
    "### Analyze address suffix frenquency and format \n",
    "\n",
    "Will use collection Counter to count possible suffix used by address data sets"
   ]
  },
  {
   "cell_type": "code",
   "execution_count": 424,
   "metadata": {},
   "outputs": [
    {
     "name": "stdout",
     "output_type": "stream",
     "text": [
      "start ...\n",
      "Removed number from string.  Time used  0.0060176849365234375\n",
      "Split into words.  Time used  0.031081199645996094\n",
      "[('ave', 6293), ('st', 6234), ('dr', 4474), ('rd', 3465), ('n', 2832), ('s', 2646), ('ln', 1492), ('ct', 1193), ('cir', 1109), ('sw', 1098), ('pl', 984), ('w', 902), ('av', 660), ('way', 548), ('e', 490), ('4th', 481), ('ridge', 379), ('1st', 374), ('2nd', 374), ('3rd', 369), ('blvd', 362), ('hwy', 358), ('park', 319), ('6th', 319), ('5th', 317), ('7th', 294), ('lake', 292), ('valley', 285), ('10th', 283), ('9th', 244), ('crest', 236), ('8th', 232), ('15th', 229), ('pkwy', 221), ('ter', 213), ('12th', 211), ('11th', 208), ('16th', 205), ('hill', 204), ('19th', 198), ('oak', 192), ('highland', 188), ('trl', 179), ('old', 178), ('18th', 178), ('14th', 177), ('20th', 163), ('13th', 160), ('creek', 150), ('17th', 149)]\n",
      "Completed in  0.07621622085571289\n"
     ]
    }
   ],
   "source": [
    "# find the most frenqucent words - find out address suffix\n",
    "from collections import Counter \n",
    "\n",
    "print('start ...')\n",
    "\n",
    "t1=time.time()\n",
    "\n",
    "df_list_m= df_match['M_ADDR_c']#.apply(cleanse_addr_suffix)\n",
    "\n",
    "t = time.time() - t1\n",
    "print('Removed number from string.  Time used ', t)\n",
    "  \n",
    "# split() returns list of all the words in the string \n",
    "split_it_m = get_word_list(df_list_m)\n",
    "  \n",
    "t = time.time() - t1\n",
    "print('Split into words.  Time used ', t)\n",
    "\n",
    "# Pass the split_it list to instance of Counter class. \n",
    "Counter_m = Counter(split_it_m) \n",
    "  \n",
    "# most_common() produces k frequently encountered \n",
    "# input values and their respective counts. \n",
    "most_occur_m = Counter_m.most_common(50) \n",
    "  \n",
    "print(most_occur_m) \n",
    "\n",
    "t = time.time() - t1\n",
    "print('Completed in ', t)"
   ]
  },
  {
   "cell_type": "code",
   "execution_count": 425,
   "metadata": {},
   "outputs": [
    {
     "name": "stdout",
     "output_type": "stream",
     "text": [
      "start ...\n",
      "Removed number from string.  Time used  0.0\n",
      "Split into words.  Time used  0.5182955265045166\n",
      "[('st', 142748), ('ave', 119192), ('n', 67851), ('rd', 63447), ('dr', 46065), ('s', 46044), ('0000', 18904), ('hwy', 17271), ('w', 15022), ('e', 14507), ('ln', 13299), ('ct', 12405), ('cir', 11959), ('pl', 11433), ('av', 10411), ('rte', 8776), ('1st', 8229), ('sw', 7893), ('2nd', 6952), ('3rd', 6920), ('5th', 6784), ('none', 6778), ('6th', 6525), ('4th', 6523), ('10th', 6116), ('ens', 5557), ('8th', 5545), ('1', 5490), ('7th', 5232), ('blvd', 5192), ('old', 5034), ('valley', 4884), ('9th', 4711), ('19th', 4445), ('ridge', 4260), ('11th', 4259), ('2', 4150), ('18th', 4098), ('rt', 4040), ('way', 4000), ('15th', 3956), ('12th', 3947), ('and', 3933), ('20th', 3857), ('16th', 3801), ('park', 3764), ('14th', 3627), ('hill', 3607), ('13th', 3410), ('24th', 3278)]\n",
      "Completed in  0.8224079608917236\n"
     ]
    }
   ],
   "source": [
    "# find the most frenqucent words - find out address suffix\n",
    "from collections import Counter \n",
    "\n",
    "print('start ...')\n",
    "\n",
    "t1=time.time()\n",
    "\n",
    "df_list1 = df_exception['M_ADDR_c']#.apply(cleanse_addr_suffix)\n",
    "\n",
    "t = time.time() - t1\n",
    "print('Removed number from string.  Time used ', t)\n",
    "  \n",
    "# split() returns list of all the words in the string \n",
    "split_it1 = get_word_list(df_list1)\n",
    "  \n",
    "t = time.time() - t1\n",
    "print('Split into words.  Time used ', t)\n",
    "\n",
    "# Pass the split_it list to instance of Counter class. \n",
    "Counter1 = Counter(split_it1) \n",
    "  \n",
    "# most_common() produces k frequently encountered \n",
    "# input values and their respective counts. \n",
    "most_occur1 = Counter1.most_common(50) \n",
    "  \n",
    "print(most_occur1) \n",
    "\n",
    "t = time.time() - t1\n",
    "print('Completed in ', t)"
   ]
  },
  {
   "cell_type": "code",
   "execution_count": 426,
   "metadata": {},
   "outputs": [
    {
     "name": "stdout",
     "output_type": "stream",
     "text": [
      "start ...\n",
      "Removed number from string.  Time used  0.12936019897460938\n",
      "Split into words.  Time used  0.5313823223114014\n",
      "[('dr', 99313), ('st', 90268), ('ave', 77373), ('rd', 66040), ('ln', 32483), ('n', 30459), ('cir', 29182), ('s', 27463), ('ct', 20045), ('sw', 15069), ('w', 14048), ('pl', 13371), ('way', 10719), ('e', 8440), ('highway', 7503), ('park', 7399), ('ridge', 6548), ('blvd', 6449), ('pkwy', 5735), ('road', 5459), ('trl', 5317), ('avenue', 5190), ('old', 4835), ('ensley', 4811), ('street', 4735), ('lake', 4725), ('oak', 4664), ('4th', 4471), ('valley', 4159), ('county', 4146), ('3rd', 3829), ('hill', 3698), ('crest', 3657), ('creek', 3600), ('5th', 3585), ('1st', 3549), ('2nd', 3448), ('6th', 3232), ('ter', 3203), ('forest', 2965), ('7th', 2915), ('hwy', 2863), ('9th', 2813), ('brook', 2728), ('loop', 2720), ('10th', 2617), ('pine', 2497), ('highland', 2408), ('8th', 2399), ('trce', 2304)]\n",
      "Completed in  0.7670149803161621\n"
     ]
    }
   ],
   "source": [
    "# find the most frenqucent words - find out address suffix\n",
    "from collections import Counter \n",
    "\n",
    "print('start ...')\n",
    "\n",
    "t1=time.time()\n",
    "\n",
    "df_list2= df_master['P_ADDR_c']#.apply(cleanse_addr_suffix)\n",
    "\n",
    "t = time.time() - t1\n",
    "print('Removed number from string.  Time used ', t)\n",
    "  \n",
    "# split() returns list of all the words in the string \n",
    "split_it2 = get_word_list(df_list2)\n",
    "  \n",
    "t = time.time() - t1\n",
    "print('Split into words.  Time used ', t)\n",
    "\n",
    "# Pass the split_it list to instance of Counter class. \n",
    "Counter2 = Counter(split_it2) \n",
    "  \n",
    "# most_common() produces k frequently encountered \n",
    "# input values and their respective counts. \n",
    "most_occur2 = Counter2.most_common(50) \n",
    "  \n",
    "print(most_occur2) \n",
    "\n",
    "t = time.time() - t1\n",
    "print('Completed in ', t)"
   ]
  },
  {
   "cell_type": "code",
   "execution_count": 506,
   "metadata": {},
   "outputs": [],
   "source": [
    "# convert Counter into Dataframe\n",
    "df_match_counter = pd.DataFrame.from_dict(Counter_m, orient='index').reset_index()\n",
    "df_match_counter.columns =  ['Word_Seg', 'cnt']\n",
    "\n",
    "df_exception_counter = pd.DataFrame.from_dict(Counter1, orient='index').reset_index()\n",
    "df_exception_counter.columns = ['Word_Seg', 'cnt'] \n",
    "\n",
    "df_master_counter = pd.DataFrame.from_dict(Counter2, orient='index').reset_index()\n",
    "df_master_counter.columns = ['Word_Seg', 'cnt']"
   ]
  },
  {
   "cell_type": "code",
   "execution_count": 507,
   "metadata": {},
   "outputs": [
    {
     "name": "stdout",
     "output_type": "stream",
     "text": [
      "<class 'pandas.core.frame.DataFrame'>\n",
      "RangeIndex: 41439 entries, 0 to 41438\n",
      "Data columns (total 2 columns):\n",
      "Word_Seg    41439 non-null object\n",
      "cnt         41439 non-null int64\n",
      "dtypes: int64(1), object(1)\n",
      "memory usage: 647.6+ KB\n"
     ]
    }
   ],
   "source": [
    "df_exception_counter.info()"
   ]
  },
  {
   "cell_type": "markdown",
   "metadata": {},
   "source": [
    "### Look up by commonly used suffix\n",
    "\n",
    "Join split words with commonly used suffix variances provided by USPS data set"
   ]
  },
  {
   "cell_type": "code",
   "execution_count": 429,
   "metadata": {},
   "outputs": [],
   "source": [
    "resultm = pd.merge(df_match_counter, df_usps_suffix, how='inner', left_on='Word_Seg', right_on='Comm_suffix')\n",
    "result1 = pd.merge(df_exception_counter, df_usps_suffix, how='inner', left_on='Word_Seg', right_on='Comm_suffix')\n",
    "result2 = pd.merge(df_master_counter, df_usps_suffix, how='inner', left_on='Word_Seg', right_on='Comm_suffix')"
   ]
  },
  {
   "cell_type": "code",
   "execution_count": 430,
   "metadata": {},
   "outputs": [
    {
     "name": "stdout",
     "output_type": "stream",
     "text": [
      "<class 'pandas.core.frame.DataFrame'>\n",
      "Int64Index: 214 entries, 0 to 213\n",
      "Data columns (total 5 columns):\n",
      "Word_Seg          214 non-null object\n",
      "cnt               214 non-null int64\n",
      "Primary_Suffix    214 non-null object\n",
      "Comm_suffix       214 non-null object\n",
      "Std_suffix        214 non-null object\n",
      "dtypes: int64(1), object(4)\n",
      "memory usage: 10.0+ KB\n"
     ]
    }
   ],
   "source": [
    "result2.info()"
   ]
  },
  {
   "cell_type": "code",
   "execution_count": 431,
   "metadata": {},
   "outputs": [],
   "source": [
    "resultm.to_csv(file_path + 'suffix_resultm.csv')\n",
    "result1.to_csv(file_path + 'suffix_result1.csv')\n",
    "result2.to_csv(file_path + 'suffix_result2.csv')"
   ]
  },
  {
   "cell_type": "code",
   "execution_count": 432,
   "metadata": {},
   "outputs": [
    {
     "data": {
      "text/plain": [
       "(260, 214)"
      ]
     },
     "execution_count": 432,
     "metadata": {},
     "output_type": "execute_result"
    }
   ],
   "source": [
    "len(result1.Word_Seg.unique()), len(result2.Word_Seg.unique())#head()"
   ]
  },
  {
   "cell_type": "code",
   "execution_count": 433,
   "metadata": {},
   "outputs": [
    {
     "data": {
      "text/html": [
       "<div>\n",
       "<style scoped>\n",
       "    .dataframe tbody tr th:only-of-type {\n",
       "        vertical-align: middle;\n",
       "    }\n",
       "\n",
       "    .dataframe tbody tr th {\n",
       "        vertical-align: top;\n",
       "    }\n",
       "\n",
       "    .dataframe thead th {\n",
       "        text-align: right;\n",
       "    }\n",
       "</style>\n",
       "<table border=\"1\" class=\"dataframe\">\n",
       "  <thead>\n",
       "    <tr style=\"text-align: right;\">\n",
       "      <th></th>\n",
       "      <th>Word_Seg</th>\n",
       "      <th>cnt</th>\n",
       "      <th>Primary_Suffix</th>\n",
       "      <th>Comm_suffix</th>\n",
       "      <th>Std_suffix</th>\n",
       "    </tr>\n",
       "  </thead>\n",
       "  <tbody>\n",
       "    <tr>\n",
       "      <th>6</th>\n",
       "      <td>pl</td>\n",
       "      <td>13371</td>\n",
       "      <td>place</td>\n",
       "      <td>pl</td>\n",
       "      <td>pl</td>\n",
       "    </tr>\n",
       "    <tr>\n",
       "      <th>118</th>\n",
       "      <td>place</td>\n",
       "      <td>545</td>\n",
       "      <td>place</td>\n",
       "      <td>place</td>\n",
       "      <td>pl</td>\n",
       "    </tr>\n",
       "  </tbody>\n",
       "</table>\n",
       "</div>"
      ],
      "text/plain": [
       "    Word_Seg    cnt Primary_Suffix Comm_suffix Std_suffix\n",
       "6         pl  13371          place          pl         pl\n",
       "118    place    545          place       place         pl"
      ]
     },
     "execution_count": 433,
     "metadata": {},
     "output_type": "execute_result"
    }
   ],
   "source": [
    "result2[result2.Primary_Suffix=='place']"
   ]
  },
  {
   "cell_type": "code",
   "execution_count": 508,
   "metadata": {},
   "outputs": [],
   "source": [
    "# get top 50 suffix used by address data sets\n",
    "top50_rm = resultm.sort_values(['cnt'], ascending=False).head(50)\n",
    "top50_r1 = result1.sort_values(['cnt'], ascending=False).head(50)\n",
    "top50_r2 = result2.sort_values(['cnt'], ascending=False).head(50)"
   ]
  },
  {
   "cell_type": "code",
   "execution_count": 509,
   "metadata": {},
   "outputs": [
    {
     "data": {
      "image/png": "[encoded data removed]",
      "text/plain": [
       "<Figure size 576x432 with 1 Axes>"
      ]
     },
     "metadata": {},
     "output_type": "display_data"
    }
   ],
   "source": [
    "# plot1 real \n",
    "N = 5\n",
    "ind = np.arange(N)\n",
    "width = 0.35\n",
    "\n",
    "fig, ax= plt.subplots(figsize =(8,6))\n",
    "sns.set_style('whitegrid')\n",
    "sns.set_context('notebook')\n",
    "#sns.set(font_scale=2)\n",
    "plt.fontsize =(35)\n",
    "\n",
    "ax=sns.barplot( palette=\"Dark2\", ax=ax, x='cnt', y='Word_Seg', data=top50_r1.head(20))\n",
    "\n",
    "for p in ax.patches:\n",
    "    percentage ='{:,.0f}'.format(p.get_width())\n",
    "    width, height =p.get_width(),p.get_height()\n",
    "    x=p.get_x()+width+0.02\n",
    "    y=p.get_y()+height/2\n",
    "    ax.annotate(percentage,(x,y))\n",
    "    \n",
    "#ax1=sns.barplot( palette=\"Dark2\", ax=ax, x='Matched_Total', y='DIV_CD', data=df_stat_by_div)\n",
    "\n",
    "    \n",
    "plt.xticks(rotation =50,fontsize =12)\n",
    "plt.yticks(rotation =50,fontsize =12)\n",
    "\n",
    "plt.title('Top 25 Suffix used by Legacy Address Data Set',\n",
    "         fontsize =12 \n",
    "         )\n",
    "plt.xlabel ('Count',fontsize = 16)\n",
    "plt.ylabel ('Suffix',fontsize = 16)\n",
    "\n",
    "plt.show ()"
   ]
  },
  {
   "cell_type": "code",
   "execution_count": 510,
   "metadata": {},
   "outputs": [
    {
     "data": {
      "text/html": [
       "<div>\n",
       "<style scoped>\n",
       "    .dataframe tbody tr th:only-of-type {\n",
       "        vertical-align: middle;\n",
       "    }\n",
       "\n",
       "    .dataframe tbody tr th {\n",
       "        vertical-align: top;\n",
       "    }\n",
       "\n",
       "    .dataframe thead th {\n",
       "        text-align: right;\n",
       "    }\n",
       "</style>\n",
       "<table border=\"1\" class=\"dataframe\">\n",
       "  <thead>\n",
       "    <tr style=\"text-align: right;\">\n",
       "      <th></th>\n",
       "      <th>Word_Seg</th>\n",
       "      <th>cnt</th>\n",
       "      <th>Primary_Suffix</th>\n",
       "      <th>Comm_suffix</th>\n",
       "      <th>Std_suffix</th>\n",
       "    </tr>\n",
       "  </thead>\n",
       "  <tbody>\n",
       "    <tr>\n",
       "      <th>170</th>\n",
       "      <td>cntr</td>\n",
       "      <td>7</td>\n",
       "      <td>center</td>\n",
       "      <td>cntr</td>\n",
       "      <td>ctr</td>\n",
       "    </tr>\n",
       "    <tr>\n",
       "      <th>120</th>\n",
       "      <td>centre</td>\n",
       "      <td>14</td>\n",
       "      <td>center</td>\n",
       "      <td>centre</td>\n",
       "      <td>ctr</td>\n",
       "    </tr>\n",
       "    <tr>\n",
       "      <th>228</th>\n",
       "      <td>centr</td>\n",
       "      <td>1</td>\n",
       "      <td>center</td>\n",
       "      <td>centr</td>\n",
       "      <td>ctr</td>\n",
       "    </tr>\n",
       "    <tr>\n",
       "      <th>83</th>\n",
       "      <td>ctr</td>\n",
       "      <td>338</td>\n",
       "      <td>center</td>\n",
       "      <td>ctr</td>\n",
       "      <td>ctr</td>\n",
       "    </tr>\n",
       "    <tr>\n",
       "      <th>42</th>\n",
       "      <td>center</td>\n",
       "      <td>933</td>\n",
       "      <td>center</td>\n",
       "      <td>center</td>\n",
       "      <td>ctr</td>\n",
       "    </tr>\n",
       "    <tr>\n",
       "      <th>146</th>\n",
       "      <td>cent</td>\n",
       "      <td>94</td>\n",
       "      <td>center</td>\n",
       "      <td>cent</td>\n",
       "      <td>ctr</td>\n",
       "    </tr>\n",
       "  </tbody>\n",
       "</table>\n",
       "</div>"
      ],
      "text/plain": [
       "    Word_Seg  cnt Primary_Suffix Comm_suffix Std_suffix\n",
       "170     cntr    7         center        cntr        ctr\n",
       "120   centre   14         center      centre        ctr\n",
       "228    centr    1         center       centr        ctr\n",
       "83       ctr  338         center         ctr        ctr\n",
       "42    center  933         center      center        ctr\n",
       "146     cent   94         center        cent        ctr"
      ]
     },
     "execution_count": 510,
     "metadata": {},
     "output_type": "execute_result"
    }
   ],
   "source": [
    "# one example shows that for 'center' , there are six variances \n",
    "df_m_suffix[df_m_suffix.Primary_Suffix=='center']"
   ]
  },
  {
   "cell_type": "code",
   "execution_count": 512,
   "metadata": {},
   "outputs": [
    {
     "data": {
      "text/html": [
       "<div>\n",
       "<style scoped>\n",
       "    .dataframe tbody tr th:only-of-type {\n",
       "        vertical-align: middle;\n",
       "    }\n",
       "\n",
       "    .dataframe tbody tr th {\n",
       "        vertical-align: top;\n",
       "    }\n",
       "\n",
       "    .dataframe thead th {\n",
       "        text-align: right;\n",
       "    }\n",
       "</style>\n",
       "<table border=\"1\" class=\"dataframe\">\n",
       "  <thead>\n",
       "    <tr style=\"text-align: right;\">\n",
       "      <th>Word_Seg</th>\n",
       "      <th>av</th>\n",
       "      <th>ave</th>\n",
       "      <th>aven</th>\n",
       "      <th>avenue</th>\n",
       "      <th>cent</th>\n",
       "      <th>center</th>\n",
       "      <th>centr</th>\n",
       "      <th>centre</th>\n",
       "      <th>cir</th>\n",
       "      <th>circl</th>\n",
       "      <th>...</th>\n",
       "      <th>ridge</th>\n",
       "      <th>st</th>\n",
       "      <th>sta</th>\n",
       "      <th>station</th>\n",
       "      <th>stn</th>\n",
       "      <th>str</th>\n",
       "      <th>street</th>\n",
       "      <th>ter</th>\n",
       "      <th>terr</th>\n",
       "      <th>terrace</th>\n",
       "    </tr>\n",
       "    <tr>\n",
       "      <th>Primary_Suffix</th>\n",
       "      <th></th>\n",
       "      <th></th>\n",
       "      <th></th>\n",
       "      <th></th>\n",
       "      <th></th>\n",
       "      <th></th>\n",
       "      <th></th>\n",
       "      <th></th>\n",
       "      <th></th>\n",
       "      <th></th>\n",
       "      <th></th>\n",
       "      <th></th>\n",
       "      <th></th>\n",
       "      <th></th>\n",
       "      <th></th>\n",
       "      <th></th>\n",
       "      <th></th>\n",
       "      <th></th>\n",
       "      <th></th>\n",
       "      <th></th>\n",
       "      <th></th>\n",
       "    </tr>\n",
       "  </thead>\n",
       "  <tbody>\n",
       "    <tr>\n",
       "      <th>avenue</th>\n",
       "      <td>1</td>\n",
       "      <td>1</td>\n",
       "      <td>1</td>\n",
       "      <td>1</td>\n",
       "      <td>0</td>\n",
       "      <td>0</td>\n",
       "      <td>0</td>\n",
       "      <td>0</td>\n",
       "      <td>0</td>\n",
       "      <td>0</td>\n",
       "      <td>...</td>\n",
       "      <td>0</td>\n",
       "      <td>0</td>\n",
       "      <td>0</td>\n",
       "      <td>0</td>\n",
       "      <td>0</td>\n",
       "      <td>0</td>\n",
       "      <td>0</td>\n",
       "      <td>0</td>\n",
       "      <td>0</td>\n",
       "      <td>0</td>\n",
       "    </tr>\n",
       "    <tr>\n",
       "      <th>center</th>\n",
       "      <td>0</td>\n",
       "      <td>0</td>\n",
       "      <td>0</td>\n",
       "      <td>0</td>\n",
       "      <td>1</td>\n",
       "      <td>1</td>\n",
       "      <td>1</td>\n",
       "      <td>1</td>\n",
       "      <td>0</td>\n",
       "      <td>0</td>\n",
       "      <td>...</td>\n",
       "      <td>0</td>\n",
       "      <td>0</td>\n",
       "      <td>0</td>\n",
       "      <td>0</td>\n",
       "      <td>0</td>\n",
       "      <td>0</td>\n",
       "      <td>0</td>\n",
       "      <td>0</td>\n",
       "      <td>0</td>\n",
       "      <td>0</td>\n",
       "    </tr>\n",
       "    <tr>\n",
       "      <th>circle</th>\n",
       "      <td>0</td>\n",
       "      <td>0</td>\n",
       "      <td>0</td>\n",
       "      <td>0</td>\n",
       "      <td>0</td>\n",
       "      <td>0</td>\n",
       "      <td>0</td>\n",
       "      <td>0</td>\n",
       "      <td>1</td>\n",
       "      <td>1</td>\n",
       "      <td>...</td>\n",
       "      <td>0</td>\n",
       "      <td>0</td>\n",
       "      <td>0</td>\n",
       "      <td>0</td>\n",
       "      <td>0</td>\n",
       "      <td>0</td>\n",
       "      <td>0</td>\n",
       "      <td>0</td>\n",
       "      <td>0</td>\n",
       "      <td>0</td>\n",
       "    </tr>\n",
       "    <tr>\n",
       "      <th>drive</th>\n",
       "      <td>0</td>\n",
       "      <td>0</td>\n",
       "      <td>0</td>\n",
       "      <td>0</td>\n",
       "      <td>0</td>\n",
       "      <td>0</td>\n",
       "      <td>0</td>\n",
       "      <td>0</td>\n",
       "      <td>0</td>\n",
       "      <td>0</td>\n",
       "      <td>...</td>\n",
       "      <td>0</td>\n",
       "      <td>0</td>\n",
       "      <td>0</td>\n",
       "      <td>0</td>\n",
       "      <td>0</td>\n",
       "      <td>0</td>\n",
       "      <td>0</td>\n",
       "      <td>0</td>\n",
       "      <td>0</td>\n",
       "      <td>0</td>\n",
       "    </tr>\n",
       "    <tr>\n",
       "      <th>heights</th>\n",
       "      <td>0</td>\n",
       "      <td>0</td>\n",
       "      <td>0</td>\n",
       "      <td>0</td>\n",
       "      <td>0</td>\n",
       "      <td>0</td>\n",
       "      <td>0</td>\n",
       "      <td>0</td>\n",
       "      <td>0</td>\n",
       "      <td>0</td>\n",
       "      <td>...</td>\n",
       "      <td>0</td>\n",
       "      <td>0</td>\n",
       "      <td>0</td>\n",
       "      <td>0</td>\n",
       "      <td>0</td>\n",
       "      <td>0</td>\n",
       "      <td>0</td>\n",
       "      <td>0</td>\n",
       "      <td>0</td>\n",
       "      <td>0</td>\n",
       "    </tr>\n",
       "    <tr>\n",
       "      <th>highway</th>\n",
       "      <td>0</td>\n",
       "      <td>0</td>\n",
       "      <td>0</td>\n",
       "      <td>0</td>\n",
       "      <td>0</td>\n",
       "      <td>0</td>\n",
       "      <td>0</td>\n",
       "      <td>0</td>\n",
       "      <td>0</td>\n",
       "      <td>0</td>\n",
       "      <td>...</td>\n",
       "      <td>0</td>\n",
       "      <td>0</td>\n",
       "      <td>0</td>\n",
       "      <td>0</td>\n",
       "      <td>0</td>\n",
       "      <td>0</td>\n",
       "      <td>0</td>\n",
       "      <td>0</td>\n",
       "      <td>0</td>\n",
       "      <td>0</td>\n",
       "    </tr>\n",
       "    <tr>\n",
       "      <th>ridge</th>\n",
       "      <td>0</td>\n",
       "      <td>0</td>\n",
       "      <td>0</td>\n",
       "      <td>0</td>\n",
       "      <td>0</td>\n",
       "      <td>0</td>\n",
       "      <td>0</td>\n",
       "      <td>0</td>\n",
       "      <td>0</td>\n",
       "      <td>0</td>\n",
       "      <td>...</td>\n",
       "      <td>1</td>\n",
       "      <td>0</td>\n",
       "      <td>0</td>\n",
       "      <td>0</td>\n",
       "      <td>0</td>\n",
       "      <td>0</td>\n",
       "      <td>0</td>\n",
       "      <td>0</td>\n",
       "      <td>0</td>\n",
       "      <td>0</td>\n",
       "    </tr>\n",
       "    <tr>\n",
       "      <th>station</th>\n",
       "      <td>0</td>\n",
       "      <td>0</td>\n",
       "      <td>0</td>\n",
       "      <td>0</td>\n",
       "      <td>0</td>\n",
       "      <td>0</td>\n",
       "      <td>0</td>\n",
       "      <td>0</td>\n",
       "      <td>0</td>\n",
       "      <td>0</td>\n",
       "      <td>...</td>\n",
       "      <td>0</td>\n",
       "      <td>0</td>\n",
       "      <td>1</td>\n",
       "      <td>1</td>\n",
       "      <td>1</td>\n",
       "      <td>0</td>\n",
       "      <td>0</td>\n",
       "      <td>0</td>\n",
       "      <td>0</td>\n",
       "      <td>0</td>\n",
       "    </tr>\n",
       "    <tr>\n",
       "      <th>street</th>\n",
       "      <td>0</td>\n",
       "      <td>0</td>\n",
       "      <td>0</td>\n",
       "      <td>0</td>\n",
       "      <td>0</td>\n",
       "      <td>0</td>\n",
       "      <td>0</td>\n",
       "      <td>0</td>\n",
       "      <td>0</td>\n",
       "      <td>0</td>\n",
       "      <td>...</td>\n",
       "      <td>0</td>\n",
       "      <td>1</td>\n",
       "      <td>0</td>\n",
       "      <td>0</td>\n",
       "      <td>0</td>\n",
       "      <td>1</td>\n",
       "      <td>1</td>\n",
       "      <td>0</td>\n",
       "      <td>0</td>\n",
       "      <td>0</td>\n",
       "    </tr>\n",
       "    <tr>\n",
       "      <th>terrace</th>\n",
       "      <td>0</td>\n",
       "      <td>0</td>\n",
       "      <td>0</td>\n",
       "      <td>0</td>\n",
       "      <td>0</td>\n",
       "      <td>0</td>\n",
       "      <td>0</td>\n",
       "      <td>0</td>\n",
       "      <td>0</td>\n",
       "      <td>0</td>\n",
       "      <td>...</td>\n",
       "      <td>0</td>\n",
       "      <td>0</td>\n",
       "      <td>0</td>\n",
       "      <td>0</td>\n",
       "      <td>0</td>\n",
       "      <td>0</td>\n",
       "      <td>0</td>\n",
       "      <td>1</td>\n",
       "      <td>1</td>\n",
       "      <td>1</td>\n",
       "    </tr>\n",
       "  </tbody>\n",
       "</table>\n",
       "<p>10 rows × 35 columns</p>\n",
       "</div>"
      ],
      "text/plain": [
       "Word_Seg        av  ave  aven  avenue  cent  center  centr  centre  cir  \\\n",
       "Primary_Suffix                                                            \n",
       "avenue           1    1     1       1     0       0      0       0    0   \n",
       "center           0    0     0       0     1       1      1       1    0   \n",
       "circle           0    0     0       0     0       0      0       0    1   \n",
       "drive            0    0     0       0     0       0      0       0    0   \n",
       "heights          0    0     0       0     0       0      0       0    0   \n",
       "highway          0    0     0       0     0       0      0       0    0   \n",
       "ridge            0    0     0       0     0       0      0       0    0   \n",
       "station          0    0     0       0     0       0      0       0    0   \n",
       "street           0    0     0       0     0       0      0       0    0   \n",
       "terrace          0    0     0       0     0       0      0       0    0   \n",
       "\n",
       "Word_Seg        circl  ...  ridge  st  sta  station  stn  str  street  ter  \\\n",
       "Primary_Suffix         ...                                                   \n",
       "avenue              0  ...      0   0    0        0    0    0       0    0   \n",
       "center              0  ...      0   0    0        0    0    0       0    0   \n",
       "circle              1  ...      0   0    0        0    0    0       0    0   \n",
       "drive               0  ...      0   0    0        0    0    0       0    0   \n",
       "heights             0  ...      0   0    0        0    0    0       0    0   \n",
       "highway             0  ...      0   0    0        0    0    0       0    0   \n",
       "ridge               0  ...      1   0    0        0    0    0       0    0   \n",
       "station             0  ...      0   0    1        1    1    0       0    0   \n",
       "street              0  ...      0   1    0        0    0    1       1    0   \n",
       "terrace             0  ...      0   0    0        0    0    0       0    1   \n",
       "\n",
       "Word_Seg        terr  terrace  \n",
       "Primary_Suffix                 \n",
       "avenue             0        0  \n",
       "center             0        0  \n",
       "circle             0        0  \n",
       "drive              0        0  \n",
       "heights            0        0  \n",
       "highway            0        0  \n",
       "ridge              0        0  \n",
       "station            0        0  \n",
       "street             0        0  \n",
       "terrace            1        1  \n",
       "\n",
       "[10 rows x 35 columns]"
      ]
     },
     "execution_count": 512,
     "metadata": {},
     "output_type": "execute_result"
    }
   ],
   "source": [
    "# generate matrix for top 10 primary suffix which have multiple variances in legacy address data set\n",
    "include = list(result1.groupby(\"Primary_Suffix\").Word_Seg.count().sort_values(ascending=False).head(10).index)\n",
    "df_m_suffix = result1.query('Primary_Suffix in @include').sort_values(['Primary_Suffix'], ascending=True)\n",
    "df_m_suffix.groupby(['Primary_Suffix','Word_Seg']).size().unstack(fill_value=0)"
   ]
  },
  {
   "cell_type": "code",
   "execution_count": null,
   "metadata": {},
   "outputs": [],
   "source": []
  },
  {
   "cell_type": "code",
   "execution_count": null,
   "metadata": {},
   "outputs": [],
   "source": []
  },
  {
   "cell_type": "markdown",
   "metadata": {},
   "source": [
    "### Conslidate address suffix variances into USPS Primary Suffix "
   ]
  },
  {
   "cell_type": "code",
   "execution_count": 439,
   "metadata": {},
   "outputs": [
    {
     "name": "stdout",
     "output_type": "stream",
     "text": [
      "Start text cleansing ...\n",
      "SELFTIMED: 264.58072328567505\n"
     ]
    }
   ],
   "source": [
    "# standardize address suffix\n",
    "\n",
    "print('Start text cleansing ...')\n",
    "time1 = time.time()\n",
    "\n",
    "df_match['M_ADDR_s'] = df_match['M_ADDR_c'].apply(standardize_addr_suffix)\n",
    "df_match['P_ADDR_s'] = df_match['P_ADDR_c'].apply(standardize_addr_suffix)\n",
    "df_match['M_TXT_s'] = df_match['M_TXT_c'].apply(standardize_addr_suffix)\n",
    "df_exception['M_ADDR_s'] = df_exception['M_ADDR_c'].apply(standardize_addr_suffix)\n",
    "df_exception['M_TXT_s'] = df_exception['M_TXT_c'].apply(standardize_addr_suffix)\n",
    "\n",
    "df_master['P_ADDR_s'] = df_master['P_ADDR_c'].apply(standardize_addr_suffix)\n",
    "\n",
    "t = time.time() - t1\n",
    "print(\"SELFTIMED:\", t)"
   ]
  },
  {
   "cell_type": "code",
   "execution_count": 515,
   "metadata": {},
   "outputs": [
    {
     "data": {
      "text/html": [
       "<div>\n",
       "<style scoped>\n",
       "    .dataframe tbody tr th:only-of-type {\n",
       "        vertical-align: middle;\n",
       "    }\n",
       "\n",
       "    .dataframe tbody tr th {\n",
       "        vertical-align: top;\n",
       "    }\n",
       "\n",
       "    .dataframe thead th {\n",
       "        text-align: right;\n",
       "    }\n",
       "</style>\n",
       "<table border=\"1\" class=\"dataframe\">\n",
       "  <thead>\n",
       "    <tr style=\"text-align: right;\">\n",
       "      <th></th>\n",
       "      <th>M_ADDR_c</th>\n",
       "      <th>M_ADDR_s</th>\n",
       "    </tr>\n",
       "  </thead>\n",
       "  <tbody>\n",
       "    <tr>\n",
       "      <th>0</th>\n",
       "      <td>3107 dartmouth ave</td>\n",
       "      <td>3107 dartmouth avenue</td>\n",
       "    </tr>\n",
       "  </tbody>\n",
       "</table>\n",
       "</div>"
      ],
      "text/plain": [
       "               M_ADDR_c                  M_ADDR_s\n",
       "0   3107 dartmouth ave    3107 dartmouth avenue  "
      ]
     },
     "execution_count": 515,
     "metadata": {},
     "output_type": "execute_result"
    }
   ],
   "source": [
    "df_match[['M_ADDR_c','M_ADDR_s']].head(1)"
   ]
  },
  {
   "cell_type": "markdown",
   "metadata": {},
   "source": [
    "### Verify the result of standardized primary suffix "
   ]
  },
  {
   "cell_type": "code",
   "execution_count": 441,
   "metadata": {},
   "outputs": [
    {
     "name": "stdout",
     "output_type": "stream",
     "text": [
      "start ...\n",
      "Removed number from string.  Time used  0.19252777099609375\n",
      "Split into words.  Time used  0.68994140625\n",
      "[('street', 143023), ('avenue', 129808), ('n', 67851), ('road', 64112), ('drive', 46466), ('s', 46044), ('0000', 18904), ('highway', 17380), ('w', 15022), ('e', 14507), ('lane', 14309), ('court', 13364), ('circle', 12532), ('place', 11735), ('rte', 8776), ('1st', 8229), ('sw', 7893), ('2nd', 6952), ('3rd', 6920), ('5th', 6784), ('none', 6778), ('6th', 6525), ('4th', 6523), ('10th', 6116), ('ens', 5557), ('8th', 5545), ('1', 5490), ('7th', 5232), ('boulevard', 5197), ('old', 5034), ('valley', 4931), ('9th', 4711), ('19th', 4445), ('park', 4358), ('ridge', 4322), ('11th', 4259), ('2', 4150), ('18th', 4098), ('rt', 4040), ('way', 4021), ('15th', 3956), ('12th', 3947), ('and', 3933), ('20th', 3857), ('16th', 3801), ('hill', 3756), ('14th', 3627), ('lake', 3477), ('13th', 3410), ('24th', 3278)]\n",
      "Completed in  0.9990241527557373\n"
     ]
    }
   ],
   "source": [
    "# find the most frenqucent words - find out address suffix\n",
    "from collections import Counter \n",
    "\n",
    "print('start ...')\n",
    "\n",
    "t1=time.time()\n",
    "\n",
    "df_list1s = df_exception['M_ADDR_s']#.apply(cleanse_addr_suffix)\n",
    "\n",
    "t = time.time() - t1\n",
    "print('Removed number from string.  Time used ', t)\n",
    "  \n",
    "# split() returns list of all the words in the string \n",
    "split_it1s = get_word_list(df_list1s)\n",
    "  \n",
    "t = time.time() - t1\n",
    "print('Split into words.  Time used ', t)\n",
    "\n",
    "# Pass the split_it list to instance of Counter class. \n",
    "Counter1s = Counter(split_it1s) \n",
    "  \n",
    "# most_common() produces k frequently encountered \n",
    "# input values and their respective counts. \n",
    "most_occur1s = Counter1s.most_common(50) \n",
    "  \n",
    "print(most_occur1s) \n",
    "\n",
    "t = time.time() - t1\n",
    "print('Completed in ', t)"
   ]
  },
  {
   "cell_type": "code",
   "execution_count": 442,
   "metadata": {},
   "outputs": [
    {
     "name": "stdout",
     "output_type": "stream",
     "text": [
      "start ...\n",
      "Removed number from string.  Time used  0.1190025806427002\n",
      "Split into words.  Time used  0.5461223125457764\n",
      "[('drive', 99341), ('street', 95002), ('avenue', 82563), ('road', 71499), ('lane', 33481), ('n', 30459), ('circle', 29543), ('s', 27463), ('court', 21938), ('sw', 15069), ('w', 14048), ('place', 13916), ('way', 10719), ('highway', 10366), ('e', 8440), ('park', 7399), ('ridge', 7384), ('boulevard', 6473), ('parkway', 6211), ('trail', 5455), ('old', 4835), ('ensley', 4811), ('lake', 4735), ('oak', 4664), ('4th', 4471), ('valley', 4169), ('county', 4146), ('terrace', 4038), ('3rd', 3829), ('hill', 3821), ('crest', 3657), ('creek', 3629), ('5th', 3585), ('1st', 3549), ('2nd', 3448), ('6th', 3232), ('cove', 3230), ('trace', 3167), ('forest', 2967), ('7th', 2915), ('9th', 2813), ('brook', 2753), ('loop', 2720), ('10th', 2617), ('pine', 2497), ('highland', 2408), ('8th', 2399), ('view', 2348), ('lee', 2288), ('11th', 2267)]\n",
      "Completed in  0.776343822479248\n"
     ]
    }
   ],
   "source": [
    "# find the most frenqucent words - find out address suffix\n",
    "from collections import Counter \n",
    "\n",
    "print('start ...')\n",
    "\n",
    "t1=time.time()\n",
    "\n",
    "df_list2s= df_master['P_ADDR_s']#.apply(cleanse_addr_suffix)\n",
    "\n",
    "t = time.time() - t1\n",
    "print('Removed number from string.  Time used ', t)\n",
    "  \n",
    "# split() returns list of all the words in the string \n",
    "split_it2s = get_word_list(df_list2s)\n",
    "  \n",
    "t = time.time() - t1\n",
    "print('Split into words.  Time used ', t)\n",
    "\n",
    "# Pass the split_it list to instance of Counter class. \n",
    "Counter2s = Counter(split_it2s) \n",
    "  \n",
    "# most_common() produces k frequently encountered \n",
    "# input values and their respective counts. \n",
    "most_occur2s = Counter2s.most_common(50) \n",
    "  \n",
    "print(most_occur2s) \n",
    "\n",
    "t = time.time() - t1\n",
    "print('Completed in ', t)"
   ]
  },
  {
   "cell_type": "code",
   "execution_count": 443,
   "metadata": {},
   "outputs": [],
   "source": [
    "df_exception_counter_s = pd.DataFrame.from_dict(Counter1s, orient='index').reset_index()\n",
    "df_exception_counter_s.columns = ['Word_Seg', 'cnt'] \n",
    "result1s = pd.merge(df_exception_counter_s, df_usps_suffix, how='inner', left_on='Word_Seg', right_on='Comm_suffix')\n",
    "\n",
    "df_master_counter_s = pd.DataFrame.from_dict(Counter2s, orient='index').reset_index()\n",
    "df_master_counter_s.columns = ['Word_Seg', 'cnt'] \n",
    "result2s = pd.merge(df_master_counter_s, df_usps_suffix, how='inner', left_on='Word_Seg', right_on='Comm_suffix')"
   ]
  },
  {
   "cell_type": "code",
   "execution_count": 516,
   "metadata": {},
   "outputs": [
    {
     "data": {
      "text/html": [
       "<div>\n",
       "<style scoped>\n",
       "    .dataframe tbody tr th:only-of-type {\n",
       "        vertical-align: middle;\n",
       "    }\n",
       "\n",
       "    .dataframe tbody tr th {\n",
       "        vertical-align: top;\n",
       "    }\n",
       "\n",
       "    .dataframe thead th {\n",
       "        text-align: right;\n",
       "    }\n",
       "</style>\n",
       "<table border=\"1\" class=\"dataframe\">\n",
       "  <thead>\n",
       "    <tr style=\"text-align: right;\">\n",
       "      <th></th>\n",
       "      <th>Word_Seg</th>\n",
       "      <th>cnt</th>\n",
       "      <th>Primary_Suffix</th>\n",
       "      <th>Comm_suffix</th>\n",
       "      <th>Std_suffix</th>\n",
       "    </tr>\n",
       "  </thead>\n",
       "  <tbody>\n",
       "    <tr>\n",
       "      <th>24</th>\n",
       "      <td>alley</td>\n",
       "      <td>2237</td>\n",
       "      <td>alley</td>\n",
       "      <td>alley</td>\n",
       "      <td>aly</td>\n",
       "    </tr>\n",
       "    <tr>\n",
       "      <th>146</th>\n",
       "      <td>anex</td>\n",
       "      <td>2</td>\n",
       "      <td>anex</td>\n",
       "      <td>anex</td>\n",
       "      <td>anx</td>\n",
       "    </tr>\n",
       "    <tr>\n",
       "      <th>98</th>\n",
       "      <td>arcade</td>\n",
       "      <td>15</td>\n",
       "      <td>arcade</td>\n",
       "      <td>arcade</td>\n",
       "      <td>arc</td>\n",
       "    </tr>\n",
       "    <tr>\n",
       "      <th>3</th>\n",
       "      <td>avenue</td>\n",
       "      <td>129808</td>\n",
       "      <td>avenue</td>\n",
       "      <td>avenue</td>\n",
       "      <td>ave</td>\n",
       "    </tr>\n",
       "    <tr>\n",
       "      <th>74</th>\n",
       "      <td>beach</td>\n",
       "      <td>330</td>\n",
       "      <td>beach</td>\n",
       "      <td>beach</td>\n",
       "      <td>bch</td>\n",
       "    </tr>\n",
       "  </tbody>\n",
       "</table>\n",
       "</div>"
      ],
      "text/plain": [
       "    Word_Seg     cnt Primary_Suffix Comm_suffix Std_suffix\n",
       "24     alley    2237          alley       alley        aly\n",
       "146     anex       2           anex        anex        anx\n",
       "98    arcade      15         arcade      arcade        arc\n",
       "3     avenue  129808         avenue      avenue        ave\n",
       "74     beach     330          beach       beach        bch"
      ]
     },
     "execution_count": 516,
     "metadata": {},
     "output_type": "execute_result"
    }
   ],
   "source": [
    "result1s.sort_values(['Primary_Suffix'], ascending=True).head()"
   ]
  },
  {
   "cell_type": "code",
   "execution_count": 519,
   "metadata": {},
   "outputs": [
    {
     "data": {
      "text/html": [
       "<div>\n",
       "<style scoped>\n",
       "    .dataframe tbody tr th:only-of-type {\n",
       "        vertical-align: middle;\n",
       "    }\n",
       "\n",
       "    .dataframe tbody tr th {\n",
       "        vertical-align: top;\n",
       "    }\n",
       "\n",
       "    .dataframe thead th {\n",
       "        text-align: right;\n",
       "    }\n",
       "</style>\n",
       "<table border=\"1\" class=\"dataframe\">\n",
       "  <thead>\n",
       "    <tr style=\"text-align: right;\">\n",
       "      <th></th>\n",
       "      <th>Word_Seg</th>\n",
       "      <th>cnt</th>\n",
       "      <th>Primary_Suffix</th>\n",
       "      <th>Comm_suffix</th>\n",
       "      <th>Std_suffix</th>\n",
       "    </tr>\n",
       "  </thead>\n",
       "  <tbody>\n",
       "    <tr>\n",
       "      <th>5</th>\n",
       "      <td>street</td>\n",
       "      <td>143023</td>\n",
       "      <td>street</td>\n",
       "      <td>street</td>\n",
       "      <td>st</td>\n",
       "    </tr>\n",
       "    <tr>\n",
       "      <th>3</th>\n",
       "      <td>avenue</td>\n",
       "      <td>129808</td>\n",
       "      <td>avenue</td>\n",
       "      <td>avenue</td>\n",
       "      <td>ave</td>\n",
       "    </tr>\n",
       "    <tr>\n",
       "      <th>1</th>\n",
       "      <td>road</td>\n",
       "      <td>64112</td>\n",
       "      <td>road</td>\n",
       "      <td>road</td>\n",
       "      <td>rd</td>\n",
       "    </tr>\n",
       "    <tr>\n",
       "      <th>8</th>\n",
       "      <td>drive</td>\n",
       "      <td>46466</td>\n",
       "      <td>drive</td>\n",
       "      <td>drive</td>\n",
       "      <td>dr</td>\n",
       "    </tr>\n",
       "    <tr>\n",
       "      <th>14</th>\n",
       "      <td>highway</td>\n",
       "      <td>17380</td>\n",
       "      <td>highway</td>\n",
       "      <td>highway</td>\n",
       "      <td>hwy</td>\n",
       "    </tr>\n",
       "  </tbody>\n",
       "</table>\n",
       "</div>"
      ],
      "text/plain": [
       "   Word_Seg     cnt Primary_Suffix Comm_suffix Std_suffix\n",
       "5    street  143023         street      street         st\n",
       "3    avenue  129808         avenue      avenue        ave\n",
       "1      road   64112           road        road         rd\n",
       "8     drive   46466          drive       drive         dr\n",
       "14  highway   17380        highway     highway        hwy"
      ]
     },
     "execution_count": 519,
     "metadata": {},
     "output_type": "execute_result"
    }
   ],
   "source": [
    "result1s.sort_values(['cnt'], ascending=False).head()"
   ]
  },
  {
   "cell_type": "code",
   "execution_count": 446,
   "metadata": {},
   "outputs": [
    {
     "data": {
      "image/png": "[encoded data removed]",
      "text/plain": [
       "<Figure size 576x432 with 1 Axes>"
      ]
     },
     "metadata": {},
     "output_type": "display_data"
    }
   ],
   "source": [
    "top50_r1s = result1s.sort_values(['cnt'], ascending=False).head(50)\n",
    "\n",
    "# plot1 real \n",
    "N = 5\n",
    "ind = np.arange(N)\n",
    "width = 0.35\n",
    "\n",
    "fig, ax= plt.subplots(figsize =(8,6))\n",
    "sns.set_style('whitegrid')\n",
    "sns.set_context('notebook')\n",
    "#sns.set(font_scale=2)\n",
    "plt.fontsize =(35)\n",
    "\n",
    "ax=sns.barplot( palette=\"Dark2\", ax=ax, x='cnt', y='Word_Seg', data=top50_r1s.head(20))\n",
    "\n",
    "for p in ax.patches:\n",
    "    percentage ='{:,.0f}'.format(p.get_width())\n",
    "    width, height =p.get_width(),p.get_height()\n",
    "    x=p.get_x()+width+0.02\n",
    "    y=p.get_y()+height/2\n",
    "    ax.annotate(percentage,(x,y))\n",
    "    \n",
    "#ax1=sns.barplot( palette=\"Dark2\", ax=ax, x='Matched_Total', y='DIV_CD', data=df_stat_by_div)\n",
    "\n",
    "    \n",
    "plt.xticks(rotation =50,fontsize =12)\n",
    "plt.yticks(rotation =50,fontsize =12)\n",
    "\n",
    "plt.title('Top 25 Suffix cleansed',\n",
    "         fontsize =12 \n",
    "         )\n",
    "plt.xlabel ('Count',fontsize = 16)\n",
    "plt.ylabel ('Suffix',fontsize = 16)\n",
    "\n",
    "plt.show ()"
   ]
  },
  {
   "cell_type": "code",
   "execution_count": 522,
   "metadata": {},
   "outputs": [
    {
     "data": {
      "text/html": [
       "<div>\n",
       "<style scoped>\n",
       "    .dataframe tbody tr th:only-of-type {\n",
       "        vertical-align: middle;\n",
       "    }\n",
       "\n",
       "    .dataframe tbody tr th {\n",
       "        vertical-align: top;\n",
       "    }\n",
       "\n",
       "    .dataframe thead th {\n",
       "        text-align: right;\n",
       "    }\n",
       "</style>\n",
       "<table border=\"1\" class=\"dataframe\">\n",
       "  <thead>\n",
       "    <tr style=\"text-align: right;\">\n",
       "      <th></th>\n",
       "      <th>Word_Seg</th>\n",
       "      <th>cnt</th>\n",
       "      <th>Primary_Suffix</th>\n",
       "      <th>Comm_suffix</th>\n",
       "      <th>Std_suffix</th>\n",
       "    </tr>\n",
       "  </thead>\n",
       "  <tbody>\n",
       "    <tr>\n",
       "      <th>42</th>\n",
       "      <td>center</td>\n",
       "      <td>933</td>\n",
       "      <td>center</td>\n",
       "      <td>center</td>\n",
       "      <td>ctr</td>\n",
       "    </tr>\n",
       "    <tr>\n",
       "      <th>83</th>\n",
       "      <td>ctr</td>\n",
       "      <td>338</td>\n",
       "      <td>center</td>\n",
       "      <td>ctr</td>\n",
       "      <td>ctr</td>\n",
       "    </tr>\n",
       "    <tr>\n",
       "      <th>120</th>\n",
       "      <td>centre</td>\n",
       "      <td>14</td>\n",
       "      <td>center</td>\n",
       "      <td>centre</td>\n",
       "      <td>ctr</td>\n",
       "    </tr>\n",
       "    <tr>\n",
       "      <th>146</th>\n",
       "      <td>cent</td>\n",
       "      <td>94</td>\n",
       "      <td>center</td>\n",
       "      <td>cent</td>\n",
       "      <td>ctr</td>\n",
       "    </tr>\n",
       "    <tr>\n",
       "      <th>170</th>\n",
       "      <td>cntr</td>\n",
       "      <td>7</td>\n",
       "      <td>center</td>\n",
       "      <td>cntr</td>\n",
       "      <td>ctr</td>\n",
       "    </tr>\n",
       "    <tr>\n",
       "      <th>228</th>\n",
       "      <td>centr</td>\n",
       "      <td>1</td>\n",
       "      <td>center</td>\n",
       "      <td>centr</td>\n",
       "      <td>ctr</td>\n",
       "    </tr>\n",
       "  </tbody>\n",
       "</table>\n",
       "</div>"
      ],
      "text/plain": [
       "    Word_Seg  cnt Primary_Suffix Comm_suffix Std_suffix\n",
       "42    center  933         center      center        ctr\n",
       "83       ctr  338         center         ctr        ctr\n",
       "120   centre   14         center      centre        ctr\n",
       "146     cent   94         center        cent        ctr\n",
       "170     cntr    7         center        cntr        ctr\n",
       "228    centr    1         center       centr        ctr"
      ]
     },
     "execution_count": 522,
     "metadata": {},
     "output_type": "execute_result"
    }
   ],
   "source": [
    "# before consolidate suffix\n",
    "result1[result1.Primary_Suffix=='center']"
   ]
  },
  {
   "cell_type": "code",
   "execution_count": 521,
   "metadata": {},
   "outputs": [
    {
     "data": {
      "text/html": [
       "<div>\n",
       "<style scoped>\n",
       "    .dataframe tbody tr th:only-of-type {\n",
       "        vertical-align: middle;\n",
       "    }\n",
       "\n",
       "    .dataframe tbody tr th {\n",
       "        vertical-align: top;\n",
       "    }\n",
       "\n",
       "    .dataframe thead th {\n",
       "        text-align: right;\n",
       "    }\n",
       "</style>\n",
       "<table border=\"1\" class=\"dataframe\">\n",
       "  <thead>\n",
       "    <tr style=\"text-align: right;\">\n",
       "      <th></th>\n",
       "      <th>Word_Seg</th>\n",
       "      <th>cnt</th>\n",
       "      <th>Primary_Suffix</th>\n",
       "      <th>Comm_suffix</th>\n",
       "      <th>Std_suffix</th>\n",
       "    </tr>\n",
       "  </thead>\n",
       "  <tbody>\n",
       "    <tr>\n",
       "      <th>41</th>\n",
       "      <td>center</td>\n",
       "      <td>1387</td>\n",
       "      <td>center</td>\n",
       "      <td>center</td>\n",
       "      <td>ctr</td>\n",
       "    </tr>\n",
       "  </tbody>\n",
       "</table>\n",
       "</div>"
      ],
      "text/plain": [
       "   Word_Seg   cnt Primary_Suffix Comm_suffix Std_suffix\n",
       "41   center  1387         center      center        ctr"
      ]
     },
     "execution_count": 521,
     "metadata": {},
     "output_type": "execute_result"
    }
   ],
   "source": [
    "# after consolidate suffix\n",
    "result1s[result1s.Primary_Suffix=='center']"
   ]
  },
  {
   "cell_type": "markdown",
   "metadata": {},
   "source": [
    "#### Exception of suffix consolidation \n",
    "\n",
    "Not 100% consolidated.  But te exception is not significant and will not take further efforts"
   ]
  },
  {
   "cell_type": "code",
   "execution_count": 524,
   "metadata": {},
   "outputs": [
    {
     "data": {
      "text/html": [
       "<div>\n",
       "<style scoped>\n",
       "    .dataframe tbody tr th:only-of-type {\n",
       "        vertical-align: middle;\n",
       "    }\n",
       "\n",
       "    .dataframe tbody tr th {\n",
       "        vertical-align: top;\n",
       "    }\n",
       "\n",
       "    .dataframe thead th {\n",
       "        text-align: right;\n",
       "    }\n",
       "</style>\n",
       "<table border=\"1\" class=\"dataframe\">\n",
       "  <thead>\n",
       "    <tr style=\"text-align: right;\">\n",
       "      <th></th>\n",
       "      <th>Word_Seg</th>\n",
       "      <th>cnt</th>\n",
       "      <th>Comm_suffix</th>\n",
       "      <th>Std_suffix</th>\n",
       "    </tr>\n",
       "    <tr>\n",
       "      <th>Primary_Suffix</th>\n",
       "      <th></th>\n",
       "      <th></th>\n",
       "      <th></th>\n",
       "      <th></th>\n",
       "    </tr>\n",
       "  </thead>\n",
       "  <tbody>\n",
       "    <tr>\n",
       "      <th>drive</th>\n",
       "      <td>2</td>\n",
       "      <td>2</td>\n",
       "      <td>2</td>\n",
       "      <td>2</td>\n",
       "    </tr>\n",
       "    <tr>\n",
       "      <th>highway</th>\n",
       "      <td>2</td>\n",
       "      <td>2</td>\n",
       "      <td>2</td>\n",
       "      <td>2</td>\n",
       "    </tr>\n",
       "    <tr>\n",
       "      <th>road</th>\n",
       "      <td>2</td>\n",
       "      <td>2</td>\n",
       "      <td>2</td>\n",
       "      <td>2</td>\n",
       "    </tr>\n",
       "    <tr>\n",
       "      <th>street</th>\n",
       "      <td>2</td>\n",
       "      <td>2</td>\n",
       "      <td>2</td>\n",
       "      <td>2</td>\n",
       "    </tr>\n",
       "  </tbody>\n",
       "</table>\n",
       "</div>"
      ],
      "text/plain": [
       "                Word_Seg  cnt  Comm_suffix  Std_suffix\n",
       "Primary_Suffix                                        \n",
       "drive                  2    2            2           2\n",
       "highway                2    2            2           2\n",
       "road                   2    2            2           2\n",
       "street                 2    2            2           2"
      ]
     },
     "execution_count": 524,
     "metadata": {},
     "output_type": "execute_result"
    }
   ],
   "source": [
    "# not perfect.  Still have some excption.  Not significant andwWill ignore as of now\n",
    "ana_r1s = result1s.groupby('Primary_Suffix').count()\n",
    "ana_r1s[ana_r1s.Word_Seg> 1]"
   ]
  },
  {
   "cell_type": "code",
   "execution_count": 528,
   "metadata": {},
   "outputs": [
    {
     "data": {
      "text/html": [
       "<div>\n",
       "<style scoped>\n",
       "    .dataframe tbody tr th:only-of-type {\n",
       "        vertical-align: middle;\n",
       "    }\n",
       "\n",
       "    .dataframe tbody tr th {\n",
       "        vertical-align: top;\n",
       "    }\n",
       "\n",
       "    .dataframe thead th {\n",
       "        text-align: right;\n",
       "    }\n",
       "</style>\n",
       "<table border=\"1\" class=\"dataframe\">\n",
       "  <thead>\n",
       "    <tr style=\"text-align: right;\">\n",
       "      <th></th>\n",
       "      <th>Word_Seg</th>\n",
       "      <th>cnt</th>\n",
       "      <th>Primary_Suffix</th>\n",
       "      <th>Comm_suffix</th>\n",
       "      <th>Std_suffix</th>\n",
       "    </tr>\n",
       "  </thead>\n",
       "  <tbody>\n",
       "    <tr>\n",
       "      <th>8</th>\n",
       "      <td>dr</td>\n",
       "      <td>46065</td>\n",
       "      <td>drive</td>\n",
       "      <td>dr</td>\n",
       "      <td>dr</td>\n",
       "    </tr>\n",
       "    <tr>\n",
       "      <th>111</th>\n",
       "      <td>drive</td>\n",
       "      <td>400</td>\n",
       "      <td>drive</td>\n",
       "      <td>drive</td>\n",
       "      <td>dr</td>\n",
       "    </tr>\n",
       "    <tr>\n",
       "      <th>163</th>\n",
       "      <td>drv</td>\n",
       "      <td>3</td>\n",
       "      <td>drive</td>\n",
       "      <td>drv</td>\n",
       "      <td>dr</td>\n",
       "    </tr>\n",
       "  </tbody>\n",
       "</table>\n",
       "</div>"
      ],
      "text/plain": [
       "    Word_Seg    cnt Primary_Suffix Comm_suffix Std_suffix\n",
       "8         dr  46065          drive          dr         dr\n",
       "111    drive    400          drive       drive         dr\n",
       "163      drv      3          drive         drv         dr"
      ]
     },
     "execution_count": 528,
     "metadata": {},
     "output_type": "execute_result"
    }
   ],
   "source": [
    "# one example: before\n",
    "result1[result1.Primary_Suffix=='drive']"
   ]
  },
  {
   "cell_type": "code",
   "execution_count": 527,
   "metadata": {},
   "outputs": [
    {
     "data": {
      "text/html": [
       "<div>\n",
       "<style scoped>\n",
       "    .dataframe tbody tr th:only-of-type {\n",
       "        vertical-align: middle;\n",
       "    }\n",
       "\n",
       "    .dataframe tbody tr th {\n",
       "        vertical-align: top;\n",
       "    }\n",
       "\n",
       "    .dataframe thead th {\n",
       "        text-align: right;\n",
       "    }\n",
       "</style>\n",
       "<table border=\"1\" class=\"dataframe\">\n",
       "  <thead>\n",
       "    <tr style=\"text-align: right;\">\n",
       "      <th></th>\n",
       "      <th>Word_Seg</th>\n",
       "      <th>cnt</th>\n",
       "      <th>Primary_Suffix</th>\n",
       "      <th>Comm_suffix</th>\n",
       "      <th>Std_suffix</th>\n",
       "    </tr>\n",
       "  </thead>\n",
       "  <tbody>\n",
       "    <tr>\n",
       "      <th>8</th>\n",
       "      <td>drive</td>\n",
       "      <td>46466</td>\n",
       "      <td>drive</td>\n",
       "      <td>drive</td>\n",
       "      <td>dr</td>\n",
       "    </tr>\n",
       "    <tr>\n",
       "      <th>149</th>\n",
       "      <td>dr</td>\n",
       "      <td>2</td>\n",
       "      <td>drive</td>\n",
       "      <td>dr</td>\n",
       "      <td>dr</td>\n",
       "    </tr>\n",
       "  </tbody>\n",
       "</table>\n",
       "</div>"
      ],
      "text/plain": [
       "    Word_Seg    cnt Primary_Suffix Comm_suffix Std_suffix\n",
       "8      drive  46466          drive       drive         dr\n",
       "149       dr      2          drive          dr         dr"
      ]
     },
     "execution_count": 527,
     "metadata": {},
     "output_type": "execute_result"
    }
   ],
   "source": [
    "# after\n",
    "result1s[result1s.Primary_Suffix=='drive']"
   ]
  },
  {
   "cell_type": "code",
   "execution_count": 532,
   "metadata": {},
   "outputs": [
    {
     "data": {
      "text/html": [
       "<div>\n",
       "<style scoped>\n",
       "    .dataframe tbody tr th:only-of-type {\n",
       "        vertical-align: middle;\n",
       "    }\n",
       "\n",
       "    .dataframe tbody tr th {\n",
       "        vertical-align: top;\n",
       "    }\n",
       "\n",
       "    .dataframe thead th {\n",
       "        text-align: right;\n",
       "    }\n",
       "</style>\n",
       "<table border=\"1\" class=\"dataframe\">\n",
       "  <thead>\n",
       "    <tr style=\"text-align: right;\">\n",
       "      <th></th>\n",
       "      <th>M_ADDR_c</th>\n",
       "      <th>M_ADDR_s</th>\n",
       "    </tr>\n",
       "  </thead>\n",
       "  <tbody>\n",
       "    <tr>\n",
       "      <th>188620</th>\n",
       "      <td>3809 franklin dr dr</td>\n",
       "      <td>3809 franklin drive dr</td>\n",
       "    </tr>\n",
       "    <tr>\n",
       "      <th>530060</th>\n",
       "      <td>107 morgan dr dr</td>\n",
       "      <td>107 morgan drive dr</td>\n",
       "    </tr>\n",
       "  </tbody>\n",
       "</table>\n",
       "</div>"
      ],
      "text/plain": [
       "                     M_ADDR_c                   M_ADDR_s\n",
       "188620   3809 franklin dr dr    3809 franklin drive dr  \n",
       "530060      107 morgan dr dr       107 morgan drive dr  "
      ]
     },
     "execution_count": 532,
     "metadata": {},
     "output_type": "execute_result"
    }
   ],
   "source": [
    "# data issue\n",
    "df_exception[df_exception.M_ADDR_s.str.contains('drive dr')][['M_ADDR_c','M_ADDR_s']]"
   ]
  },
  {
   "cell_type": "code",
   "execution_count": 529,
   "metadata": {},
   "outputs": [
    {
     "data": {
      "text/html": [
       "<div>\n",
       "<style scoped>\n",
       "    .dataframe tbody tr th:only-of-type {\n",
       "        vertical-align: middle;\n",
       "    }\n",
       "\n",
       "    .dataframe tbody tr th {\n",
       "        vertical-align: top;\n",
       "    }\n",
       "\n",
       "    .dataframe thead th {\n",
       "        text-align: right;\n",
       "    }\n",
       "</style>\n",
       "<table border=\"1\" class=\"dataframe\">\n",
       "  <thead>\n",
       "    <tr style=\"text-align: right;\">\n",
       "      <th></th>\n",
       "      <th>Word_Seg</th>\n",
       "      <th>cnt</th>\n",
       "      <th>Primary_Suffix</th>\n",
       "      <th>Comm_suffix</th>\n",
       "      <th>Std_suffix</th>\n",
       "    </tr>\n",
       "  </thead>\n",
       "  <tbody>\n",
       "    <tr>\n",
       "      <th>5</th>\n",
       "      <td>st</td>\n",
       "      <td>142748</td>\n",
       "      <td>street</td>\n",
       "      <td>st</td>\n",
       "      <td>st</td>\n",
       "    </tr>\n",
       "    <tr>\n",
       "      <th>74</th>\n",
       "      <td>street</td>\n",
       "      <td>279</td>\n",
       "      <td>street</td>\n",
       "      <td>street</td>\n",
       "      <td>st</td>\n",
       "    </tr>\n",
       "    <tr>\n",
       "      <th>246</th>\n",
       "      <td>str</td>\n",
       "      <td>3</td>\n",
       "      <td>street</td>\n",
       "      <td>str</td>\n",
       "      <td>st</td>\n",
       "    </tr>\n",
       "  </tbody>\n",
       "</table>\n",
       "</div>"
      ],
      "text/plain": [
       "    Word_Seg     cnt Primary_Suffix Comm_suffix Std_suffix\n",
       "5         st  142748         street          st         st\n",
       "74    street     279         street      street         st\n",
       "246      str       3         street         str         st"
      ]
     },
     "execution_count": 529,
     "metadata": {},
     "output_type": "execute_result"
    }
   ],
   "source": [
    "# before\n",
    "result1[result1.Primary_Suffix=='street']"
   ]
  },
  {
   "cell_type": "code",
   "execution_count": 530,
   "metadata": {},
   "outputs": [
    {
     "data": {
      "text/html": [
       "<div>\n",
       "<style scoped>\n",
       "    .dataframe tbody tr th:only-of-type {\n",
       "        vertical-align: middle;\n",
       "    }\n",
       "\n",
       "    .dataframe tbody tr th {\n",
       "        vertical-align: top;\n",
       "    }\n",
       "\n",
       "    .dataframe thead th {\n",
       "        text-align: right;\n",
       "    }\n",
       "</style>\n",
       "<table border=\"1\" class=\"dataframe\">\n",
       "  <thead>\n",
       "    <tr style=\"text-align: right;\">\n",
       "      <th></th>\n",
       "      <th>Word_Seg</th>\n",
       "      <th>cnt</th>\n",
       "      <th>Primary_Suffix</th>\n",
       "      <th>Comm_suffix</th>\n",
       "      <th>Std_suffix</th>\n",
       "    </tr>\n",
       "  </thead>\n",
       "  <tbody>\n",
       "    <tr>\n",
       "      <th>5</th>\n",
       "      <td>street</td>\n",
       "      <td>143023</td>\n",
       "      <td>street</td>\n",
       "      <td>street</td>\n",
       "      <td>st</td>\n",
       "    </tr>\n",
       "    <tr>\n",
       "      <th>132</th>\n",
       "      <td>st</td>\n",
       "      <td>7</td>\n",
       "      <td>street</td>\n",
       "      <td>st</td>\n",
       "      <td>st</td>\n",
       "    </tr>\n",
       "  </tbody>\n",
       "</table>\n",
       "</div>"
      ],
      "text/plain": [
       "    Word_Seg     cnt Primary_Suffix Comm_suffix Std_suffix\n",
       "5     street  143023         street      street         st\n",
       "132       st       7         street          st         st"
      ]
     },
     "execution_count": 530,
     "metadata": {},
     "output_type": "execute_result"
    }
   ],
   "source": [
    "# after\n",
    "result1s[result1s.Primary_Suffix=='street']"
   ]
  },
  {
   "cell_type": "code",
   "execution_count": 526,
   "metadata": {},
   "outputs": [
    {
     "data": {
      "text/html": [
       "<div>\n",
       "<style scoped>\n",
       "    .dataframe tbody tr th:only-of-type {\n",
       "        vertical-align: middle;\n",
       "    }\n",
       "\n",
       "    .dataframe tbody tr th {\n",
       "        vertical-align: top;\n",
       "    }\n",
       "\n",
       "    .dataframe thead th {\n",
       "        text-align: right;\n",
       "    }\n",
       "</style>\n",
       "<table border=\"1\" class=\"dataframe\">\n",
       "  <thead>\n",
       "    <tr style=\"text-align: right;\">\n",
       "      <th></th>\n",
       "      <th>Word_Seg</th>\n",
       "      <th>cnt</th>\n",
       "      <th>Comm_suffix</th>\n",
       "      <th>Std_suffix</th>\n",
       "    </tr>\n",
       "    <tr>\n",
       "      <th>Primary_Suffix</th>\n",
       "      <th></th>\n",
       "      <th></th>\n",
       "      <th></th>\n",
       "      <th></th>\n",
       "    </tr>\n",
       "  </thead>\n",
       "  <tbody>\n",
       "    <tr>\n",
       "      <th>street</th>\n",
       "      <td>2</td>\n",
       "      <td>2</td>\n",
       "      <td>2</td>\n",
       "      <td>2</td>\n",
       "    </tr>\n",
       "  </tbody>\n",
       "</table>\n",
       "</div>"
      ],
      "text/plain": [
       "                Word_Seg  cnt  Comm_suffix  Std_suffix\n",
       "Primary_Suffix                                        \n",
       "street                 2    2            2           2"
      ]
     },
     "execution_count": 526,
     "metadata": {},
     "output_type": "execute_result"
    }
   ],
   "source": [
    "# not perfect.  Still have some excption.  Not significant andwWill ignore as of now\n",
    "ana_r2s = result2s.groupby('Primary_Suffix').count()\n",
    "ana_r2s[ana_r2s.Word_Seg> 1]"
   ]
  },
  {
   "cell_type": "markdown",
   "metadata": {},
   "source": [
    "### Next, we will explore the data set.  Used the third party address tool to match the legacy address with address master data set.  We will analyze the matching results as well "
   ]
  },
  {
   "cell_type": "code",
   "execution_count": 457,
   "metadata": {},
   "outputs": [],
   "source": [
    "def add_value_labels(ax, spacing=5):\n",
    "\n",
    "    for rect in ax.patches:\n",
    "        y_value = rect.get_height()\n",
    "        x_value = rect.get_x() + rect.get_width() / 2\n",
    "\n",
    "        space = spacing\n",
    "        va = 'bottom'\n",
    "\n",
    "        if y_value < 0:\n",
    "            space *= -1\n",
    "            # Vertical alignment\n",
    "            va = 'top'\n",
    "\n",
    "        label = \"{:}\".format(y_value)  # Use :.1f if wanting decimals.\n",
    "\n",
    "        # Create annotation\n",
    "        ax.annotate(label, (x_value, y_value), xytext=(0, space), textcoords=\"offset points\", ha='center', va=va)"
   ]
  },
  {
   "cell_type": "code",
   "execution_count": 458,
   "metadata": {},
   "outputs": [
    {
     "name": "stdout",
     "output_type": "stream",
     "text": [
      "<class 'pandas.core.frame.DataFrame'>\n",
      "RangeIndex: 30000 entries, 0 to 29999\n",
      "Data columns (total 16 columns):\n",
      "DATAID         30000 non-null int64\n",
      "M_TXT          30000 non-null object\n",
      "M_DIV_CD       30000 non-null object\n",
      "M_ADDR         30000 non-null object\n",
      "M_CITY         30000 non-null object\n",
      "M_ADDR_TYPE    30000 non-null object\n",
      "P_ID           30000 non-null int64\n",
      "P_ADDR         30000 non-null object\n",
      "P_CITY         30000 non-null object\n",
      "MATCHCODE      30000 non-null object\n",
      "M_ADDR_c       30000 non-null object\n",
      "P_ADDR_c       30000 non-null object\n",
      "M_TXT_c        30000 non-null object\n",
      "M_ADDR_s       30000 non-null object\n",
      "P_ADDR_s       30000 non-null object\n",
      "M_TXT_s        30000 non-null object\n",
      "dtypes: int64(2), object(14)\n",
      "memory usage: 3.7+ MB\n"
     ]
    }
   ],
   "source": [
    "# exam matched - random sampled\n",
    "df_match.info()"
   ]
  },
  {
   "cell_type": "code",
   "execution_count": 459,
   "metadata": {},
   "outputs": [
    {
     "data": {
      "text/html": [
       "<div>\n",
       "<style scoped>\n",
       "    .dataframe tbody tr th:only-of-type {\n",
       "        vertical-align: middle;\n",
       "    }\n",
       "\n",
       "    .dataframe tbody tr th {\n",
       "        vertical-align: top;\n",
       "    }\n",
       "\n",
       "    .dataframe thead th {\n",
       "        text-align: right;\n",
       "    }\n",
       "</style>\n",
       "<table border=\"1\" class=\"dataframe\">\n",
       "  <thead>\n",
       "    <tr style=\"text-align: right;\">\n",
       "      <th></th>\n",
       "      <th>DATAID</th>\n",
       "      <th>M_DIV_CD</th>\n",
       "      <th>M_ADDR_TYPE</th>\n",
       "      <th>FOUND_MATCH</th>\n",
       "    </tr>\n",
       "  </thead>\n",
       "  <tbody>\n",
       "    <tr>\n",
       "      <th>0</th>\n",
       "      <td>35137</td>\n",
       "      <td>d2</td>\n",
       "      <td>SIMPLE</td>\n",
       "      <td>N</td>\n",
       "    </tr>\n",
       "    <tr>\n",
       "      <th>1</th>\n",
       "      <td>35138</td>\n",
       "      <td>d2</td>\n",
       "      <td>SIMPLE</td>\n",
       "      <td>N</td>\n",
       "    </tr>\n",
       "    <tr>\n",
       "      <th>2</th>\n",
       "      <td>35139</td>\n",
       "      <td>d2</td>\n",
       "      <td>SIMPLE</td>\n",
       "      <td>N</td>\n",
       "    </tr>\n",
       "    <tr>\n",
       "      <th>3</th>\n",
       "      <td>35140</td>\n",
       "      <td>d2</td>\n",
       "      <td>RANGE</td>\n",
       "      <td>N</td>\n",
       "    </tr>\n",
       "    <tr>\n",
       "      <th>4</th>\n",
       "      <td>35141</td>\n",
       "      <td>d2</td>\n",
       "      <td>RANGE</td>\n",
       "      <td>N</td>\n",
       "    </tr>\n",
       "  </tbody>\n",
       "</table>\n",
       "</div>"
      ],
      "text/plain": [
       "   DATAID M_DIV_CD M_ADDR_TYPE FOUND_MATCH\n",
       "0   35137       d2      SIMPLE           N\n",
       "1   35138       d2      SIMPLE           N\n",
       "2   35139       d2      SIMPLE           N\n",
       "3   35140       d2       RANGE           N\n",
       "4   35141       d2       RANGE           N"
      ]
     },
     "execution_count": 459,
     "metadata": {},
     "output_type": "execute_result"
    }
   ],
   "source": [
    "df_raw_sum.head()"
   ]
  },
  {
   "cell_type": "code",
   "execution_count": 460,
   "metadata": {},
   "outputs": [
    {
     "data": {
      "text/plain": [
       "array(['d2', 'd3', 'd6', 'd1', 'd7', 'd5', 'd4'], dtype=object)"
      ]
     },
     "execution_count": 460,
     "metadata": {},
     "output_type": "execute_result"
    }
   ],
   "source": [
    "df_raw_sum.M_DIV_CD.unique()"
   ]
  },
  {
   "cell_type": "code",
   "execution_count": 461,
   "metadata": {},
   "outputs": [
    {
     "data": {
      "text/html": [
       "<div>\n",
       "<style scoped>\n",
       "    .dataframe tbody tr th:only-of-type {\n",
       "        vertical-align: middle;\n",
       "    }\n",
       "\n",
       "    .dataframe tbody tr th {\n",
       "        vertical-align: top;\n",
       "    }\n",
       "\n",
       "    .dataframe thead th {\n",
       "        text-align: right;\n",
       "    }\n",
       "</style>\n",
       "<table border=\"1\" class=\"dataframe\">\n",
       "  <thead>\n",
       "    <tr style=\"text-align: right;\">\n",
       "      <th></th>\n",
       "      <th>DATAID</th>\n",
       "      <th>M_DIV_CD</th>\n",
       "      <th>M_ADDR_TYPE</th>\n",
       "      <th>FOUND_MATCH</th>\n",
       "    </tr>\n",
       "  </thead>\n",
       "  <tbody>\n",
       "    <tr>\n",
       "      <th>11</th>\n",
       "      <td>35148</td>\n",
       "      <td>d2</td>\n",
       "      <td>SIMPLE</td>\n",
       "      <td>Y</td>\n",
       "    </tr>\n",
       "    <tr>\n",
       "      <th>63</th>\n",
       "      <td>35203</td>\n",
       "      <td>d2</td>\n",
       "      <td>SIMPLE</td>\n",
       "      <td>Y</td>\n",
       "    </tr>\n",
       "    <tr>\n",
       "      <th>64</th>\n",
       "      <td>35204</td>\n",
       "      <td>d2</td>\n",
       "      <td>SIMPLE</td>\n",
       "      <td>Y</td>\n",
       "    </tr>\n",
       "    <tr>\n",
       "      <th>65</th>\n",
       "      <td>35205</td>\n",
       "      <td>d2</td>\n",
       "      <td>SIMPLE</td>\n",
       "      <td>Y</td>\n",
       "    </tr>\n",
       "    <tr>\n",
       "      <th>66</th>\n",
       "      <td>35206</td>\n",
       "      <td>d2</td>\n",
       "      <td>SIMPLE</td>\n",
       "      <td>Y</td>\n",
       "    </tr>\n",
       "  </tbody>\n",
       "</table>\n",
       "</div>"
      ],
      "text/plain": [
       "    DATAID M_DIV_CD M_ADDR_TYPE FOUND_MATCH\n",
       "11   35148       d2      SIMPLE           Y\n",
       "63   35203       d2      SIMPLE           Y\n",
       "64   35204       d2      SIMPLE           Y\n",
       "65   35205       d2      SIMPLE           Y\n",
       "66   35206       d2      SIMPLE           Y"
      ]
     },
     "execution_count": 461,
     "metadata": {},
     "output_type": "execute_result"
    }
   ],
   "source": [
    "df_raw_sum[df_raw_sum.FOUND_MATCH=='Y'].head()"
   ]
  },
  {
   "cell_type": "code",
   "execution_count": 462,
   "metadata": {},
   "outputs": [],
   "source": [
    "stat = df_raw_sum.groupby('M_DIV_CD').DATAID.count()\n",
    "df_temp = pd.DataFrame({'DIV_CD':stat.index, 'Raw_Total':stat.values})\n",
    "\n",
    "stat2 = df_raw_sum[df_raw_sum.FOUND_MATCH=='Y'].groupby('M_DIV_CD').DATAID.count()\n",
    "df_temp2 = pd.DataFrame({'DIV_CD':stat2.index, 'Matched_Total':stat2.values})\n",
    "\n",
    "df_stat_by_div = pd.merge(df_temp, df_temp2, on='DIV_CD', how='outer')"
   ]
  },
  {
   "cell_type": "code",
   "execution_count": 463,
   "metadata": {},
   "outputs": [
    {
     "data": {
      "text/plain": [
       "M_DIV_CD\n",
       "d1     23098\n",
       "d2    341756\n",
       "d3     28863\n",
       "d4     83720\n",
       "d5     26632\n",
       "d6     22205\n",
       "d7     23881\n",
       "Name: DATAID, dtype: int64"
      ]
     },
     "execution_count": 463,
     "metadata": {},
     "output_type": "execute_result"
    }
   ],
   "source": [
    "stat2"
   ]
  },
  {
   "cell_type": "code",
   "execution_count": 464,
   "metadata": {},
   "outputs": [
    {
     "data": {
      "text/html": [
       "<div>\n",
       "<style scoped>\n",
       "    .dataframe tbody tr th:only-of-type {\n",
       "        vertical-align: middle;\n",
       "    }\n",
       "\n",
       "    .dataframe tbody tr th {\n",
       "        vertical-align: top;\n",
       "    }\n",
       "\n",
       "    .dataframe thead th {\n",
       "        text-align: right;\n",
       "    }\n",
       "</style>\n",
       "<table border=\"1\" class=\"dataframe\">\n",
       "  <thead>\n",
       "    <tr style=\"text-align: right;\">\n",
       "      <th></th>\n",
       "      <th>DIV_CD</th>\n",
       "      <th>Raw_Total</th>\n",
       "      <th>Matched_Total</th>\n",
       "    </tr>\n",
       "  </thead>\n",
       "  <tbody>\n",
       "    <tr>\n",
       "      <th>0</th>\n",
       "      <td>d1</td>\n",
       "      <td>81691</td>\n",
       "      <td>23098</td>\n",
       "    </tr>\n",
       "    <tr>\n",
       "      <th>1</th>\n",
       "      <td>d2</td>\n",
       "      <td>622397</td>\n",
       "      <td>341756</td>\n",
       "    </tr>\n",
       "    <tr>\n",
       "      <th>2</th>\n",
       "      <td>d3</td>\n",
       "      <td>63682</td>\n",
       "      <td>28863</td>\n",
       "    </tr>\n",
       "    <tr>\n",
       "      <th>3</th>\n",
       "      <td>d4</td>\n",
       "      <td>141892</td>\n",
       "      <td>83720</td>\n",
       "    </tr>\n",
       "    <tr>\n",
       "      <th>4</th>\n",
       "      <td>d5</td>\n",
       "      <td>49242</td>\n",
       "      <td>26632</td>\n",
       "    </tr>\n",
       "    <tr>\n",
       "      <th>5</th>\n",
       "      <td>d6</td>\n",
       "      <td>43782</td>\n",
       "      <td>22205</td>\n",
       "    </tr>\n",
       "    <tr>\n",
       "      <th>6</th>\n",
       "      <td>d7</td>\n",
       "      <td>77888</td>\n",
       "      <td>23881</td>\n",
       "    </tr>\n",
       "  </tbody>\n",
       "</table>\n",
       "</div>"
      ],
      "text/plain": [
       "  DIV_CD  Raw_Total  Matched_Total\n",
       "0     d1      81691          23098\n",
       "1     d2     622397         341756\n",
       "2     d3      63682          28863\n",
       "3     d4     141892          83720\n",
       "4     d5      49242          26632\n",
       "5     d6      43782          22205\n",
       "6     d7      77888          23881"
      ]
     },
     "execution_count": 464,
     "metadata": {},
     "output_type": "execute_result"
    }
   ],
   "source": [
    "df_stat_by_div"
   ]
  },
  {
   "cell_type": "code",
   "execution_count": 465,
   "metadata": {},
   "outputs": [],
   "source": [
    "stat = df_raw_sum.groupby('M_ADDR_TYPE').DATAID.count()\n",
    "df_temp = pd.DataFrame({'TYPE':stat.index, 'Raw_Total':stat.values})\n",
    "\n",
    "stat2 = df_raw_sum[df_raw_sum.FOUND_MATCH=='Y'].groupby('M_ADDR_TYPE').DATAID.count()\n",
    "df_temp2 = pd.DataFrame({'TYPE':stat2.index, 'Matched_Total':stat2.values})\n",
    "\n",
    "df_stat_by_type = pd.merge(df_temp, df_temp2, on='TYPE', how='outer')"
   ]
  },
  {
   "cell_type": "code",
   "execution_count": 466,
   "metadata": {},
   "outputs": [
    {
     "data": {
      "text/html": [
       "<div>\n",
       "<style scoped>\n",
       "    .dataframe tbody tr th:only-of-type {\n",
       "        vertical-align: middle;\n",
       "    }\n",
       "\n",
       "    .dataframe tbody tr th {\n",
       "        vertical-align: top;\n",
       "    }\n",
       "\n",
       "    .dataframe thead th {\n",
       "        text-align: right;\n",
       "    }\n",
       "</style>\n",
       "<table border=\"1\" class=\"dataframe\">\n",
       "  <thead>\n",
       "    <tr style=\"text-align: right;\">\n",
       "      <th></th>\n",
       "      <th>TYPE</th>\n",
       "      <th>Raw_Total</th>\n",
       "      <th>Matched_Total</th>\n",
       "    </tr>\n",
       "  </thead>\n",
       "  <tbody>\n",
       "    <tr>\n",
       "      <th>0</th>\n",
       "      <td>BLANK</td>\n",
       "      <td>69985</td>\n",
       "      <td>6.0</td>\n",
       "    </tr>\n",
       "    <tr>\n",
       "      <th>1</th>\n",
       "      <td>BLOCK</td>\n",
       "      <td>2581</td>\n",
       "      <td>NaN</td>\n",
       "    </tr>\n",
       "    <tr>\n",
       "      <th>2</th>\n",
       "      <td>LOT</td>\n",
       "      <td>21160</td>\n",
       "      <td>43.0</td>\n",
       "    </tr>\n",
       "    <tr>\n",
       "      <th>3</th>\n",
       "      <td>MULTI</td>\n",
       "      <td>3243</td>\n",
       "      <td>1863.0</td>\n",
       "    </tr>\n",
       "    <tr>\n",
       "      <th>4</th>\n",
       "      <td>NOTDEFINED</td>\n",
       "      <td>18089</td>\n",
       "      <td>3757.0</td>\n",
       "    </tr>\n",
       "    <tr>\n",
       "      <th>5</th>\n",
       "      <td>RANGE</td>\n",
       "      <td>22646</td>\n",
       "      <td>9968.0</td>\n",
       "    </tr>\n",
       "    <tr>\n",
       "      <th>6</th>\n",
       "      <td>ROUTE</td>\n",
       "      <td>8995</td>\n",
       "      <td>NaN</td>\n",
       "    </tr>\n",
       "    <tr>\n",
       "      <th>7</th>\n",
       "      <td>SIMPLE</td>\n",
       "      <td>933875</td>\n",
       "      <td>534518.0</td>\n",
       "    </tr>\n",
       "  </tbody>\n",
       "</table>\n",
       "</div>"
      ],
      "text/plain": [
       "         TYPE  Raw_Total  Matched_Total\n",
       "0       BLANK      69985            6.0\n",
       "1       BLOCK       2581            NaN\n",
       "2         LOT      21160           43.0\n",
       "3       MULTI       3243         1863.0\n",
       "4  NOTDEFINED      18089         3757.0\n",
       "5       RANGE      22646         9968.0\n",
       "6       ROUTE       8995            NaN\n",
       "7      SIMPLE     933875       534518.0"
      ]
     },
     "execution_count": 466,
     "metadata": {},
     "output_type": "execute_result"
    }
   ],
   "source": [
    "df_stat_by_type"
   ]
  },
  {
   "cell_type": "code",
   "execution_count": 467,
   "metadata": {},
   "outputs": [],
   "source": [
    "df_stat_by_type.fillna(0, inplace=True)"
   ]
  },
  {
   "cell_type": "code",
   "execution_count": 468,
   "metadata": {},
   "outputs": [
    {
     "data": {
      "text/html": [
       "<div>\n",
       "<style scoped>\n",
       "    .dataframe tbody tr th:only-of-type {\n",
       "        vertical-align: middle;\n",
       "    }\n",
       "\n",
       "    .dataframe tbody tr th {\n",
       "        vertical-align: top;\n",
       "    }\n",
       "\n",
       "    .dataframe thead th {\n",
       "        text-align: right;\n",
       "    }\n",
       "</style>\n",
       "<table border=\"1\" class=\"dataframe\">\n",
       "  <thead>\n",
       "    <tr style=\"text-align: right;\">\n",
       "      <th></th>\n",
       "      <th>TYPE</th>\n",
       "      <th>Raw_Total</th>\n",
       "      <th>Matched_Total</th>\n",
       "    </tr>\n",
       "  </thead>\n",
       "  <tbody>\n",
       "    <tr>\n",
       "      <th>0</th>\n",
       "      <td>BLANK</td>\n",
       "      <td>69985</td>\n",
       "      <td>6.0</td>\n",
       "    </tr>\n",
       "    <tr>\n",
       "      <th>1</th>\n",
       "      <td>BLOCK</td>\n",
       "      <td>2581</td>\n",
       "      <td>0.0</td>\n",
       "    </tr>\n",
       "    <tr>\n",
       "      <th>2</th>\n",
       "      <td>LOT</td>\n",
       "      <td>21160</td>\n",
       "      <td>43.0</td>\n",
       "    </tr>\n",
       "    <tr>\n",
       "      <th>3</th>\n",
       "      <td>MULTI</td>\n",
       "      <td>3243</td>\n",
       "      <td>1863.0</td>\n",
       "    </tr>\n",
       "    <tr>\n",
       "      <th>4</th>\n",
       "      <td>NOTDEFINED</td>\n",
       "      <td>18089</td>\n",
       "      <td>3757.0</td>\n",
       "    </tr>\n",
       "    <tr>\n",
       "      <th>5</th>\n",
       "      <td>RANGE</td>\n",
       "      <td>22646</td>\n",
       "      <td>9968.0</td>\n",
       "    </tr>\n",
       "    <tr>\n",
       "      <th>6</th>\n",
       "      <td>ROUTE</td>\n",
       "      <td>8995</td>\n",
       "      <td>0.0</td>\n",
       "    </tr>\n",
       "    <tr>\n",
       "      <th>7</th>\n",
       "      <td>SIMPLE</td>\n",
       "      <td>933875</td>\n",
       "      <td>534518.0</td>\n",
       "    </tr>\n",
       "  </tbody>\n",
       "</table>\n",
       "</div>"
      ],
      "text/plain": [
       "         TYPE  Raw_Total  Matched_Total\n",
       "0       BLANK      69985            6.0\n",
       "1       BLOCK       2581            0.0\n",
       "2         LOT      21160           43.0\n",
       "3       MULTI       3243         1863.0\n",
       "4  NOTDEFINED      18089         3757.0\n",
       "5       RANGE      22646         9968.0\n",
       "6       ROUTE       8995            0.0\n",
       "7      SIMPLE     933875       534518.0"
      ]
     },
     "execution_count": 468,
     "metadata": {},
     "output_type": "execute_result"
    }
   ],
   "source": [
    "df_stat_by_type"
   ]
  },
  {
   "cell_type": "code",
   "execution_count": 469,
   "metadata": {},
   "outputs": [
    {
     "name": "stdout",
     "output_type": "stream",
     "text": [
      "FOUND_MATCH       N       Y\n",
      "M_DIV_CD                   \n",
      "d1            58593   23098\n",
      "d2           280641  341756\n",
      "d3            34819   28863\n",
      "d4            58172   83720\n",
      "d5            22610   26632\n",
      "d6            21577   22205\n",
      "d7            54007   23881\n"
     ]
    }
   ],
   "source": [
    "print (df_raw_sum.groupby(['M_DIV_CD','FOUND_MATCH']).size().unstack(fill_value=0))"
   ]
  },
  {
   "cell_type": "code",
   "execution_count": 470,
   "metadata": {},
   "outputs": [
    {
     "name": "stdout",
     "output_type": "stream",
     "text": [
      "FOUND_MATCH       N       Y\n",
      "M_ADDR_TYPE                \n",
      "BLANK         69979       6\n",
      "BLOCK          2581       0\n",
      "LOT           21117      43\n",
      "MULTI          1380    1863\n",
      "NOTDEFINED    14332    3757\n",
      "RANGE         12678    9968\n",
      "ROUTE          8995       0\n",
      "SIMPLE       399357  534518\n"
     ]
    }
   ],
   "source": [
    "print (df_raw_sum.groupby(['M_ADDR_TYPE','FOUND_MATCH']).size().unstack(fill_value=0))"
   ]
  },
  {
   "cell_type": "code",
   "execution_count": 471,
   "metadata": {},
   "outputs": [
    {
     "data": {
      "image/png": "[encoded data removed]",
      "text/plain": [
       "<Figure size 432x288 with 1 Axes>"
      ]
     },
     "metadata": {},
     "output_type": "display_data"
    }
   ],
   "source": [
    "plt.figure(figsize=(6,4))\n",
    "\n",
    "result_plot = df_raw_sum.groupby(['FOUND_MATCH']).DATAID.count().plot.bar()\n",
    "plt.xlabel('Matched (Y / N)')\n",
    "plt.ylabel('Total Addresses')\n",
    "add_value_labels(result_plot, 1)\n",
    "plt.show()"
   ]
  },
  {
   "cell_type": "markdown",
   "metadata": {},
   "source": [
    "### Total 550155 found match but still have 530419 not found the match "
   ]
  },
  {
   "cell_type": "code",
   "execution_count": 472,
   "metadata": {},
   "outputs": [
    {
     "data": {
      "text/plain": [
       "<Figure size 576x432 with 0 Axes>"
      ]
     },
     "metadata": {},
     "output_type": "display_data"
    },
    {
     "data": {
      "image/png": "[encoded data removed]",
      "text/plain": [
       "<Figure size 432x288 with 1 Axes>"
      ]
     },
     "metadata": {},
     "output_type": "display_data"
    }
   ],
   "source": [
    "plt.figure(figsize=(8,6))\n",
    "\n",
    "rsd_plot = df_raw_sum.groupby(['M_DIV_CD','FOUND_MATCH']).size().unstack(fill_value=0).plot.bar()\n",
    "plt.xlabel('DIV')\n",
    "plt.ylabel('Total Addresses')\n",
    "plt.title('Matched vs Not matched by Region')\n",
    "#add_value_labels(rsd_plot, 1)\n",
    "plt.show()"
   ]
  },
  {
   "cell_type": "markdown",
   "metadata": {},
   "source": [
    "### The above plot shows the matched vs not matched within each region "
   ]
  },
  {
   "cell_type": "code",
   "execution_count": 473,
   "metadata": {},
   "outputs": [
    {
     "data": {
      "text/plain": [
       "<Figure size 576x432 with 0 Axes>"
      ]
     },
     "metadata": {},
     "output_type": "display_data"
    },
    {
     "data": {
      "image/png": "[encoded data removed]",
      "text/plain": [
       "<Figure size 432x288 with 1 Axes>"
      ]
     },
     "metadata": {},
     "output_type": "display_data"
    }
   ],
   "source": [
    "plt.figure(figsize=(8,6))\n",
    "rst_plot = df_raw_sum.groupby(['M_ADDR_TYPE','FOUND_MATCH']).size().unstack(fill_value=0).plot.bar()\n",
    "plt.xlabel('TYPE')\n",
    "plt.ylabel('Total Addresses')\n",
    "plt.title('Matched vs Not matched by Address Type')\n",
    "#add_value_labels(rst_plot, 1)\n",
    "plt.xticks(rotation=65) \n",
    "plt.show()"
   ]
  },
  {
   "cell_type": "markdown",
   "metadata": {},
   "source": [
    "### The above plot shows the matched vs not matched by address type.  Majority addresses have SIMPLE type "
   ]
  },
  {
   "cell_type": "code",
   "execution_count": 474,
   "metadata": {},
   "outputs": [
    {
     "data": {
      "text/plain": [
       "32"
      ]
     },
     "execution_count": 474,
     "metadata": {},
     "output_type": "execute_result"
    }
   ],
   "source": [
    "# the maximum addresses one address mapped to the master addresses.  Use this to determine the top_N\n",
    "df_match_1_n.CNT.max()"
   ]
  },
  {
   "cell_type": "markdown",
   "metadata": {},
   "source": [
    "####  One address was possibly matched to multiple master addresses (i.e., apartment complex).  Use this to determine the top_N"
   ]
  },
  {
   "cell_type": "markdown",
   "metadata": {},
   "source": [
    "## Fuzzywuzzy functions EDA\n",
    "Next, will apply these four Fuzzywuzzy fuctions to the sampled data of matched addresses using the third-party address tool.  The confidence level of matching is about 94%.  Then will compare the results and choos the function works best for this data set."
   ]
  },
  {
   "cell_type": "code",
   "execution_count": 478,
   "metadata": {},
   "outputs": [
    {
     "data": {
      "text/plain": [
       "\"\\ndf_match['pr1']=df_match.apply(get_partial_ratio1, axis=1)\\ndf_match['pr2']=df_match.apply(get_partial_ratio2, axis=1)\\n\""
      ]
     },
     "execution_count": 478,
     "metadata": {},
     "output_type": "execute_result"
    }
   ],
   "source": [
    "def get_partial_ratio1(row):\n",
    "    string1 = row['M_ADDR_c']\n",
    "    string2 = row['P_ADDR_c']\n",
    "    return fuzz.partial_ratio(string1, string2)\n",
    "\n",
    "def get_partial_ratio2(row):\n",
    "    string1 = row['M_TXT_c']\n",
    "    string2 = row['P_ADDR_c']\n",
    "    return fuzz.partial_ratio(string1, string2)\n",
    "'''\n",
    "df_match['pr1']=df_match.apply(get_partial_ratio1, axis=1)\n",
    "df_match['pr2']=df_match.apply(get_partial_ratio2, axis=1)\n",
    "'''"
   ]
  },
  {
   "cell_type": "code",
   "execution_count": 479,
   "metadata": {},
   "outputs": [
    {
     "data": {
      "text/plain": [
       "\"\\ndf_match['tstr1']=df_match.apply(get_token_set_ratio1, axis=1)\\ndf_match['tstr2']=df_match.apply(get_token_set_ratio2, axis=1)\\n\""
      ]
     },
     "execution_count": 479,
     "metadata": {},
     "output_type": "execute_result"
    }
   ],
   "source": [
    "def get_token_set_ratio1(row):\n",
    "    string1 = row['M_ADDR_c']\n",
    "    string2 = row['P_ADDR_c']\n",
    "    return fuzz.token_set_ratio(string1, string2)\n",
    "\n",
    "def get_token_set_ratio2(row):\n",
    "    string1 = row['M_TXT_c']\n",
    "    string2 = row['P_ADDR_c']\n",
    "    return fuzz.token_set_ratio(string1, string2)\n",
    "'''\n",
    "df_match['tstr1']=df_match.apply(get_token_set_ratio1, axis=1)\n",
    "df_match['tstr2']=df_match.apply(get_token_set_ratio2, axis=1)\n",
    "'''"
   ]
  },
  {
   "cell_type": "code",
   "execution_count": 480,
   "metadata": {},
   "outputs": [
    {
     "name": "stdout",
     "output_type": "stream",
     "text": [
      "<class 'pandas.core.frame.DataFrame'>\n",
      "RangeIndex: 30000 entries, 0 to 29999\n",
      "Data columns (total 16 columns):\n",
      "DATAID         30000 non-null int64\n",
      "M_TXT          30000 non-null object\n",
      "M_DIV_CD       30000 non-null object\n",
      "M_ADDR         30000 non-null object\n",
      "M_CITY         30000 non-null object\n",
      "M_ADDR_TYPE    30000 non-null object\n",
      "P_ID           30000 non-null int64\n",
      "P_ADDR         30000 non-null object\n",
      "P_CITY         30000 non-null object\n",
      "MATCHCODE      30000 non-null object\n",
      "M_ADDR_c       30000 non-null object\n",
      "P_ADDR_c       30000 non-null object\n",
      "M_TXT_c        30000 non-null object\n",
      "M_ADDR_s       30000 non-null object\n",
      "P_ADDR_s       30000 non-null object\n",
      "M_TXT_s        30000 non-null object\n",
      "dtypes: int64(2), object(14)\n",
      "memory usage: 3.7+ MB\n"
     ]
    }
   ],
   "source": [
    "df_match.info()"
   ]
  },
  {
   "cell_type": "code",
   "execution_count": 536,
   "metadata": {},
   "outputs": [],
   "source": [
    "# address is cleansed.  Suffix is not consolidated\n",
    "df_match['r1'] = df_match.apply(lambda row: fuzz.ratio(row['M_ADDR_c'], row['P_ADDR_c']), axis=1)\n",
    "df_match['pr1'] = df_match.apply(lambda row: fuzz.partial_ratio(row['M_ADDR_c'], row['P_ADDR_c']), axis=1)\n",
    "df_match['tsr1'] = df_match.apply(lambda row: fuzz.token_sort_ratio(row['M_ADDR_c'], row['P_ADDR_c']), axis=1)\n",
    "df_match['tstr1'] = df_match.apply(lambda row: fuzz.token_set_ratio(row['M_ADDR_c'], row['P_ADDR_c']), axis=1)"
   ]
  },
  {
   "cell_type": "code",
   "execution_count": 487,
   "metadata": {},
   "outputs": [
    {
     "data": {
      "text/plain": [
       "\"\\ndf_match['r2'] = df_match.apply(lambda row: fuzz.ratio(row['M_TXT_c'], row['P_ADDR_c']), axis=1)\\ndf_match['pr2'] = df_match.apply(lambda row: fuzz.partial_ratio(row['M_TXT_c'], row['P_ADDR_c']), axis=1)\\ndf_match['tsr2'] = df_match.apply(lambda row: fuzz.token_sort_ratio(row['M_TXT_c'], row['P_ADDR_c']), axis=1)\\ndf_match['tstr2'] = df_match.apply(lambda row: fuzz.token_set_ratio(row['M_TXT_c'], row['P_ADDR_c']), axis=1)\\n\""
      ]
     },
     "execution_count": 487,
     "metadata": {},
     "output_type": "execute_result"
    }
   ],
   "source": [
    "'''\n",
    "df_match['r2'] = df_match.apply(lambda row: fuzz.ratio(row['M_TXT_c'], row['P_ADDR_c']), axis=1)\n",
    "df_match['pr2'] = df_match.apply(lambda row: fuzz.partial_ratio(row['M_TXT_c'], row['P_ADDR_c']), axis=1)\n",
    "df_match['tsr2'] = df_match.apply(lambda row: fuzz.token_sort_ratio(row['M_TXT_c'], row['P_ADDR_c']), axis=1)\n",
    "df_match['tstr2'] = df_match.apply(lambda row: fuzz.token_set_ratio(row['M_TXT_c'], row['P_ADDR_c']), axis=1)\n",
    "'''"
   ]
  },
  {
   "cell_type": "code",
   "execution_count": 537,
   "metadata": {},
   "outputs": [],
   "source": [
    "# address is cleansed.  Suffix is consolidated to USPS primary suffix\n",
    "df_match['r1s'] = df_match.apply(lambda row: fuzz.ratio(row['M_ADDR_s'], row['P_ADDR_s']), axis=1)\n",
    "df_match['pr1s'] = df_match.apply(lambda row: fuzz.partial_ratio(row['M_ADDR_s'], row['P_ADDR_s']), axis=1)\n",
    "df_match['tsr1s'] = df_match.apply(lambda row: fuzz.token_sort_ratio(row['M_ADDR_s'], row['P_ADDR_s']), axis=1)\n",
    "df_match['tstr1s'] = df_match.apply(lambda row: fuzz.token_set_ratio(row['M_ADDR_s'], row['P_ADDR_s']), axis=1)"
   ]
  },
  {
   "cell_type": "code",
   "execution_count": 540,
   "metadata": {},
   "outputs": [
    {
     "data": {
      "text/html": [
       "<div>\n",
       "<style scoped>\n",
       "    .dataframe tbody tr th:only-of-type {\n",
       "        vertical-align: middle;\n",
       "    }\n",
       "\n",
       "    .dataframe tbody tr th {\n",
       "        vertical-align: top;\n",
       "    }\n",
       "\n",
       "    .dataframe thead th {\n",
       "        text-align: right;\n",
       "    }\n",
       "</style>\n",
       "<table border=\"1\" class=\"dataframe\">\n",
       "  <thead>\n",
       "    <tr style=\"text-align: right;\">\n",
       "      <th></th>\n",
       "      <th>M_DIV_CD</th>\n",
       "      <th>M_ADDR_TYPE</th>\n",
       "      <th>r1</th>\n",
       "      <th>pr1</th>\n",
       "      <th>tsr1</th>\n",
       "      <th>tstr1</th>\n",
       "      <th>r1s</th>\n",
       "      <th>pr1s</th>\n",
       "      <th>tsr1s</th>\n",
       "      <th>tstr1s</th>\n",
       "    </tr>\n",
       "  </thead>\n",
       "  <tbody>\n",
       "    <tr>\n",
       "      <th>7</th>\n",
       "      <td>d2</td>\n",
       "      <td>SIMPLE</td>\n",
       "      <td>87</td>\n",
       "      <td>84</td>\n",
       "      <td>86</td>\n",
       "      <td>90</td>\n",
       "      <td>81</td>\n",
       "      <td>78</td>\n",
       "      <td>78</td>\n",
       "      <td>82</td>\n",
       "    </tr>\n",
       "    <tr>\n",
       "      <th>16</th>\n",
       "      <td>d2</td>\n",
       "      <td>RANGE</td>\n",
       "      <td>88</td>\n",
       "      <td>93</td>\n",
       "      <td>86</td>\n",
       "      <td>100</td>\n",
       "      <td>90</td>\n",
       "      <td>94</td>\n",
       "      <td>88</td>\n",
       "      <td>100</td>\n",
       "    </tr>\n",
       "    <tr>\n",
       "      <th>17</th>\n",
       "      <td>d2</td>\n",
       "      <td>SIMPLE</td>\n",
       "      <td>97</td>\n",
       "      <td>94</td>\n",
       "      <td>97</td>\n",
       "      <td>97</td>\n",
       "      <td>98</td>\n",
       "      <td>95</td>\n",
       "      <td>97</td>\n",
       "      <td>97</td>\n",
       "    </tr>\n",
       "    <tr>\n",
       "      <th>21</th>\n",
       "      <td>d2</td>\n",
       "      <td>SIMPLE</td>\n",
       "      <td>97</td>\n",
       "      <td>94</td>\n",
       "      <td>97</td>\n",
       "      <td>97</td>\n",
       "      <td>98</td>\n",
       "      <td>95</td>\n",
       "      <td>97</td>\n",
       "      <td>97</td>\n",
       "    </tr>\n",
       "    <tr>\n",
       "      <th>24</th>\n",
       "      <td>d2</td>\n",
       "      <td>SIMPLE</td>\n",
       "      <td>89</td>\n",
       "      <td>88</td>\n",
       "      <td>88</td>\n",
       "      <td>88</td>\n",
       "      <td>89</td>\n",
       "      <td>88</td>\n",
       "      <td>88</td>\n",
       "      <td>88</td>\n",
       "    </tr>\n",
       "  </tbody>\n",
       "</table>\n",
       "</div>"
      ],
      "text/plain": [
       "   M_DIV_CD M_ADDR_TYPE  r1  pr1  tsr1  tstr1  r1s  pr1s  tsr1s  tstr1s\n",
       "7        d2      SIMPLE  87   84    86     90   81    78     78      82\n",
       "16       d2       RANGE  88   93    86    100   90    94     88     100\n",
       "17       d2      SIMPLE  97   94    97     97   98    95     97      97\n",
       "21       d2      SIMPLE  97   94    97     97   98    95     97      97\n",
       "24       d2      SIMPLE  89   88    88     88   89    88     88      88"
      ]
     },
     "execution_count": 540,
     "metadata": {},
     "output_type": "execute_result"
    }
   ],
   "source": [
    "# Fuzzywuzzy ratio matrix\n",
    "data_to_display=['M_DIV_CD','M_ADDR_TYPE','r1','pr1','tsr1','tstr1','r1s','pr1s','tsr1s','tstr1s']\n",
    "df_match[df_match.pr1<95][data_to_display].head()"
   ]
  },
  {
   "cell_type": "markdown",
   "metadata": {},
   "source": [
    "### Calculate percentage of matching with ratio above 90% "
   ]
  },
  {
   "cell_type": "code",
   "execution_count": 541,
   "metadata": {},
   "outputs": [
    {
     "name": "stdout",
     "output_type": "stream",
     "text": [
      "r1 match (%>90) =  0.8581\n",
      "pr1 match (%>90) =  0.8755\n",
      "tsr1 match (%>90) =  0.8383666666666667\n",
      "tstr1 match (%>90) =  0.908\n",
      "\n",
      "r1s match (%>90) =  0.8698333333333333\n",
      "pr1s match (%>90) =  0.8921\n",
      "tsr1s match (%>90) =  0.8601\n",
      "tstr1s match (%>90) =  0.9305333333333333\n",
      "\n"
     ]
    }
   ],
   "source": [
    "r1_match_pct = len(df_match[df_match.r1 > 90]) / len(df_match)\n",
    "pr1_match_pct = len(df_match[df_match.pr1 > 90]) / len(df_match)\n",
    "tsr1_match_pct = len(df_match[df_match.tsr1 > 90]) / len(df_match)\n",
    "tstr1_match_pct = len(df_match[df_match.tstr1 > 90]) / len(df_match)\n",
    "print('r1 match (%>90) = ', r1_match_pct)\n",
    "print('pr1 match (%>90) = ', pr1_match_pct)\n",
    "print('tsr1 match (%>90) = ', tsr1_match_pct)\n",
    "print('tstr1 match (%>90) = ', tstr1_match_pct)\n",
    "print()\n",
    "r1s_match_pct = len(df_match[df_match.r1s > 90]) / len(df_match)\n",
    "pr1s_match_pct = len(df_match[df_match.pr1s > 90]) / len(df_match)\n",
    "tsr1s_match_pct = len(df_match[df_match.tsr1s > 90]) / len(df_match)\n",
    "tstr1s_match_pct = len(df_match[df_match.tstr1s > 90]) / len(df_match)\n",
    "print('r1s match (%>90) = ', r1s_match_pct)\n",
    "print('pr1s match (%>90) = ', pr1s_match_pct)\n",
    "print('tsr1s match (%>90) = ', tsr1s_match_pct)\n",
    "print('tstr1s match (%>90) = ', tstr1s_match_pct)\n",
    "print()"
   ]
  },
  {
   "cell_type": "markdown",
   "metadata": {},
   "source": [
    "#### Compared result s (with ratio>90).  The performance of Fuzywuzzy funtions rank in this order\n",
    "token_set_raion > partial_ratio > ratio > token_sort_ratio\n",
    "\n",
    "After consolidated suffix, the ratio of token_set_ratio improved from 90.5% to 93%"
   ]
  },
  {
   "cell_type": "code",
   "execution_count": 542,
   "metadata": {},
   "outputs": [
    {
     "name": "stdout",
     "output_type": "stream",
     "text": [
      "r1 mean (%) =  96.6229\n",
      "pr1 mean (%) =  96.90603333333334\n",
      "tsr1 mean (%) =  96.0952\n",
      "tstr1 mean (%) =  97.72556666666667\n",
      "\n",
      "r1s mean (%) =  97.0433\n",
      "pr1s mean (%) =  97.17993333333334\n",
      "tsr1s mean (%) =  96.34213333333334\n",
      "tstr1s mean (%) =  98.1479\n",
      "\n"
     ]
    }
   ],
   "source": [
    "r1_mean = df_match['r1'].mean()\n",
    "pr1_mean = df_match['pr1'].mean()\n",
    "tsr1_mean = df_match['tsr1'].mean()\n",
    "tstr1_mean = df_match['tstr1'].mean()\n",
    "print('r1 mean (%) = ', r1_mean)\n",
    "print('pr1 mean (%) = ', pr1_mean)\n",
    "print('tsr1 mean (%) = ', tsr1_mean)\n",
    "print('tstr1 mean (%) = ', tstr1_mean)\n",
    "print()\n",
    "r1s_mean = df_match['r1s'].mean()\n",
    "pr1s_mean = df_match['pr1s'].mean()\n",
    "tsr1s_mean = df_match['tsr1s'].mean()\n",
    "tstr1s_mean = df_match['tstr1s'].mean()\n",
    "print('r1s mean (%) = ', r1s_mean)\n",
    "print('pr1s mean (%) = ', pr1s_mean)\n",
    "print('tsr1s mean (%) = ', tsr1s_mean)\n",
    "print('tstr1s mean (%) = ', tstr1s_mean)\n",
    "print()"
   ]
  },
  {
   "cell_type": "markdown",
   "metadata": {},
   "source": [
    "### Using boxplot to exam ratio results between 90% and 100%.  "
   ]
  },
  {
   "cell_type": "code",
   "execution_count": 492,
   "metadata": {},
   "outputs": [
    {
     "data": {
      "text/plain": [
       "[Text(0, 0, 'Ratio'),\n",
       " Text(0, 0, 'Partial Ratio'),\n",
       " Text(0, 0, 'Token Sort Ratio'),\n",
       " Text(0, 0, 'Token Set Ratio')]"
      ]
     },
     "execution_count": 492,
     "metadata": {},
     "output_type": "execute_result"
    },
    {
     "data": {
      "image/png": "[encoded data removed]",
      "text/plain": [
       "<Figure size 576x576 with 1 Axes>"
      ]
     },
     "metadata": {},
     "output_type": "display_data"
    }
   ],
   "source": [
    "d1=df_match[(df_match.r1>=90) & (df_match.r1<100)].r1\n",
    "d2=df_match[(df_match.pr1>=90) & (df_match.pr1<100)].pr1\n",
    "d3=df_match[(df_match.tsr1>=90) & (df_match.tsr1<100)].tsr1\n",
    "d4=df_match[(df_match.tstr1>=90) & (df_match.tstr1<100)].tstr1\n",
    "\n",
    "data_to_plot = [d1, d2, d3, d4]\n",
    "xticklables = ['Ratio', 'Partial Ratio', 'Token Sort Ratio', 'Token Set Ratio']\n",
    "\n",
    "fig = plt.figure(1, figsize=(8, 8))\n",
    "plt.title('Ratio >= 90 (matching address with address)') \n",
    "ax = sns.boxplot(data = data_to_plot)\n",
    "ax.set_xticklabels(xticklables)"
   ]
  },
  {
   "cell_type": "markdown",
   "metadata": {},
   "source": [
    "### Using Histgram to exam results with ratio < 90% "
   ]
  },
  {
   "cell_type": "code",
   "execution_count": 493,
   "metadata": {},
   "outputs": [
    {
     "data": {
      "image/png": "[encoded data removed]",
      "text/plain": [
       "<Figure size 432x288 with 4 Axes>"
      ]
     },
     "metadata": {},
     "output_type": "display_data"
    }
   ],
   "source": [
    "fig = plt.figure()\n",
    "fig.subplots_adjust(hspace=0.6, wspace=0.6)\n",
    "\n",
    "#ax=fig.add_subplot(2,2,1)\n",
    "plt.subplot(2,2,1)\n",
    "_=plt.hist(df_match[df_match.r1< 90].r1/100, bins=30)\n",
    "plt.title('Ratio (% < 90) ')\n",
    "\n",
    "plt.subplot(2,2,2)\n",
    "_=plt.hist(df_match[df_match.pr1< 90].pr1/100, bins=30)\n",
    "plt.title('Partial Ratio (% < 90) ')\n",
    "plt.subplot(2,2,3)\n",
    "_=plt.hist(df_match[df_match.tsr1< 90].tsr1/100, bins=30)\n",
    "plt.title('Token Sort Ratio (% < 90) ')\n",
    "plt.subplot(2,2,4)\n",
    "_=plt.hist(df_match[df_match.tstr1< 90].tstr1/100, bins=30)\n",
    "plt.title('Token Set Ratio (% < 90) ')\n",
    "plt.show()"
   ]
  },
  {
   "cell_type": "code",
   "execution_count": 494,
   "metadata": {},
   "outputs": [
    {
     "data": {
      "image/png": "[encoded data removed]",
      "text/plain": [
       "<Figure size 432x288 with 4 Axes>"
      ]
     },
     "metadata": {},
     "output_type": "display_data"
    }
   ],
   "source": [
    "fig = plt.figure()\n",
    "fig.subplots_adjust(hspace=0.6, wspace=0.6)\n",
    "\n",
    "#ax=fig.add_subplot(2,2,1)\n",
    "plt.subplot(2,2,1)\n",
    "_=plt.hist(df_match[df_match.r1s< 90].r1s/100, bins=30)\n",
    "plt.title('Ratio (% < 90) ')\n",
    "\n",
    "plt.subplot(2,2,2)\n",
    "_=plt.hist(df_match[df_match.pr1s< 90].pr1s/100, bins=30)\n",
    "plt.title('Partial Ratio (% < 90) ')\n",
    "plt.subplot(2,2,3)\n",
    "_=plt.hist(df_match[df_match.tsr1s< 90].tsr1s/100, bins=30)\n",
    "plt.title('Token Sort Ratio (% < 90) ')\n",
    "plt.subplot(2,2,4)\n",
    "_=plt.hist(df_match[df_match.tstr1s< 90].tstr1s/100, bins=30)\n",
    "plt.title('Token Set Ratio (% < 90) ')\n",
    "plt.show()"
   ]
  },
  {
   "cell_type": "code",
   "execution_count": null,
   "metadata": {},
   "outputs": [],
   "source": []
  },
  {
   "cell_type": "markdown",
   "metadata": {},
   "source": [
    "### Using boxplot to exam ratio results between 80% and 90%.  "
   ]
  },
  {
   "cell_type": "code",
   "execution_count": 545,
   "metadata": {},
   "outputs": [
    {
     "data": {
      "text/plain": [
       "[Text(0, 0, 'Ratio'),\n",
       " Text(0, 0, 'Partial Ratio'),\n",
       " Text(0, 0, 'Token Sort Ratio'),\n",
       " Text(0, 0, 'Token Set Ratio')]"
      ]
     },
     "execution_count": 545,
     "metadata": {},
     "output_type": "execute_result"
    },
    {
     "data": {
      "image/png": "[encoded data removed]",
      "text/plain": [
       "<Figure size 576x576 with 1 Axes>"
      ]
     },
     "metadata": {},
     "output_type": "display_data"
    }
   ],
   "source": [
    "d1=df_match[(df_match.r1>80) & (df_match.r1<90)].r1\n",
    "d2=df_match[(df_match.pr1>80) & (df_match.pr1<90)].pr1\n",
    "d3=df_match[(df_match.tsr1>80) & (df_match.tsr1<90)].tsr1\n",
    "d4=df_match[(df_match.tstr1>80) & (df_match.tstr1<90)].tstr1\n",
    "\n",
    "data_to_plot = [d1, d2, d3, d4]\n",
    "xticklables = ['Ratio', 'Partial Ratio', 'Token Sort Ratio', 'Token Set Ratio']\n",
    "\n",
    "fig = plt.figure(1, figsize=(8, 8))\n",
    "plt.title('Ratio < 90 (matching address with address)') \n",
    "ax = sns.boxplot(data = data_to_plot)\n",
    "ax.set_xticklabels(xticklables)"
   ]
  },
  {
   "cell_type": "code",
   "execution_count": 544,
   "metadata": {},
   "outputs": [
    {
     "data": {
      "text/plain": [
       "[Text(0, 0, 'Ratio'),\n",
       " Text(0, 0, 'Partial Ratio'),\n",
       " Text(0, 0, 'Token Sort Ratio'),\n",
       " Text(0, 0, 'Token Set Ratio')]"
      ]
     },
     "execution_count": 544,
     "metadata": {},
     "output_type": "execute_result"
    },
    {
     "data": {
      "image/png": "[encoded data removed]",
      "text/plain": [
       "<Figure size 576x576 with 1 Axes>"
      ]
     },
     "metadata": {},
     "output_type": "display_data"
    }
   ],
   "source": [
    "d1=df_match[(df_match.r1s>80) & (df_match.r1s<90)].r1s\n",
    "d2=df_match[(df_match.pr1s>80) & (df_match.pr1s<90)].pr1s\n",
    "d3=df_match[(df_match.tsr1s>80) & (df_match.tsr1s<90)].tsr1s\n",
    "d4=df_match[(df_match.tstr1s>80) & (df_match.tstr1s<90)].tstr1s\n",
    "\n",
    "data_to_plot = [d1, d2, d3, d4]\n",
    "xticklables = ['Ratio', 'Partial Ratio', 'Token Sort Ratio', 'Token Set Ratio']\n",
    "\n",
    "fig = plt.figure(1, figsize=(8, 8))\n",
    "plt.title('Ratio < 90 (matching address with address) - suffix cleansed') \n",
    "ax = sns.boxplot(data = data_to_plot)\n",
    "ax.set_xticklabels(xticklables)"
   ]
  },
  {
   "cell_type": "code",
   "execution_count": null,
   "metadata": {},
   "outputs": [],
   "source": []
  },
  {
   "cell_type": "code",
   "execution_count": 499,
   "metadata": {},
   "outputs": [],
   "source": [
    "#df_match[(df_match.pr1>80) & (df_match.pr1<90)].tail()"
   ]
  },
  {
   "cell_type": "code",
   "execution_count": 500,
   "metadata": {},
   "outputs": [
    {
     "data": {
      "text/plain": [
       "array(['SIMPLE', 'RANGE', 'NOTDEFINED', 'MULTI', 'LOT', 'BLANK'],\n",
       "      dtype=object)"
      ]
     },
     "execution_count": 500,
     "metadata": {},
     "output_type": "execute_result"
    }
   ],
   "source": [
    "df_match[(df_match.pr1>90)].M_ADDR_TYPE.unique()"
   ]
  },
  {
   "cell_type": "code",
   "execution_count": 501,
   "metadata": {},
   "outputs": [
    {
     "data": {
      "text/plain": [
       "M_ADDR_TYPE\n",
       "BLANK             2\n",
       "LOT               6\n",
       "MULTI            93\n",
       "NOTDEFINED       82\n",
       "RANGE           577\n",
       "SIMPLE        25505\n",
       "Name: DATAID, dtype: int64"
      ]
     },
     "execution_count": 501,
     "metadata": {},
     "output_type": "execute_result"
    }
   ],
   "source": [
    "df_match[(df_match.pr1>90)].groupby('M_ADDR_TYPE').DATAID.count()"
   ]
  },
  {
   "cell_type": "code",
   "execution_count": 502,
   "metadata": {},
   "outputs": [
    {
     "data": {
      "text/plain": [
       "M_ADDR_TYPE\n",
       "BLANK             2\n",
       "LOT               6\n",
       "MULTI           102\n",
       "NOTDEFINED      116\n",
       "RANGE           621\n",
       "SIMPLE        25916\n",
       "Name: DATAID, dtype: int64"
      ]
     },
     "execution_count": 502,
     "metadata": {},
     "output_type": "execute_result"
    }
   ],
   "source": [
    "df_match[(df_match.pr1s>90)].groupby('M_ADDR_TYPE').DATAID.count()"
   ]
  },
  {
   "cell_type": "code",
   "execution_count": 503,
   "metadata": {},
   "outputs": [
    {
     "data": {
      "text/plain": [
       "M_ADDR_TYPE\n",
       "BLANK             2\n",
       "LOT               5\n",
       "MULTI            74\n",
       "NOTDEFINED      191\n",
       "RANGE           710\n",
       "SIMPLE        26258\n",
       "Name: DATAID, dtype: int64"
      ]
     },
     "execution_count": 503,
     "metadata": {},
     "output_type": "execute_result"
    }
   ],
   "source": [
    "df_match[(df_match.tstr1>90)].groupby('M_ADDR_TYPE').DATAID.count()"
   ]
  },
  {
   "cell_type": "code",
   "execution_count": 504,
   "metadata": {},
   "outputs": [
    {
     "data": {
      "text/plain": [
       "M_ADDR_TYPE\n",
       "BLANK             2\n",
       "LOT               6\n",
       "MULTI            92\n",
       "NOTDEFINED      203\n",
       "RANGE           768\n",
       "SIMPLE        26845\n",
       "Name: DATAID, dtype: int64"
      ]
     },
     "execution_count": 504,
     "metadata": {},
     "output_type": "execute_result"
    }
   ],
   "source": [
    "df_match[(df_match.tstr1s>90)].groupby('M_ADDR_TYPE').DATAID.count()"
   ]
  },
  {
   "cell_type": "code",
   "execution_count": null,
   "metadata": {},
   "outputs": [],
   "source": []
  },
  {
   "cell_type": "code",
   "execution_count": null,
   "metadata": {},
   "outputs": [],
   "source": []
  },
  {
   "cell_type": "code",
   "execution_count": 505,
   "metadata": {},
   "outputs": [],
   "source": []
  },
  {
   "cell_type": "code",
   "execution_count": null,
   "metadata": {},
   "outputs": [],
   "source": []
  },
  {
   "cell_type": "code",
   "execution_count": null,
   "metadata": {},
   "outputs": [],
   "source": []
  }
 ],
 "metadata": {
  "kernelspec": {
   "display_name": "Python 3",
   "language": "python",
   "name": "python3"
  },
  "language_info": {
   "codemirror_mode": {
    "name": "ipython",
    "version": 3
   },
   "file_extension": ".py",
   "mimetype": "text/x-python",
   "name": "python",
   "nbconvert_exporter": "python",
   "pygments_lexer": "ipython3",
   "version": "3.7.3"
  }
 },
 "nbformat": 4,
 "nbformat_minor": 2
}
