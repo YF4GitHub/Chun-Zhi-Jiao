{
 "cells": [
  {
   "cell_type": "markdown",
   "metadata": {},
   "source": [
    "# Project 2 Data Wrangling and EAD"
   ]
  },
  {
   "cell_type": "markdown",
   "metadata": {},
   "source": [
    "Data in the real world is messy. Dealing with messy data sets is painful and burns through time which could be spent analysing the data itself.\n",
    "\n",
    "This dataset contains historic work order text data for different divisions.  The data is generated using queries in a relational database and exported as csv files.  Some data are scrambled.  "
   ]
  },
  {
   "cell_type": "code",
   "execution_count": 831,
   "metadata": {},
   "outputs": [],
   "source": [
    "import pandas as pd\n",
    "import numpy as np\n",
    "import matplotlib.pyplot as plt\n",
    "import seaborn as sns\n",
    "import time\n",
    "\n",
    "import re\n",
    "import ftfy\n",
    "from fuzzywuzzy import fuzz\n",
    "from fuzzywuzzy import process \n",
    "from sklearn.metrics.pairwise import cosine_similarity\n",
    "from sklearn.neighbors import NearestNeighbors"
   ]
  },
  {
   "cell_type": "code",
   "execution_count": 832,
   "metadata": {},
   "outputs": [],
   "source": [
    "def cleanse_str(string): \n",
    "    string = ftfy.fix_text(string) # fix text encoding issues\n",
    "    string = string.encode(\"ascii\", errors=\"ignore\").decode() #remove non ascii chars\n",
    "    string = string.lower() #make lower case\n",
    "    chars_to_remove = [\"#\", \"@\", \")\",\"(\",\".\",\"|\",\"[\",\"]\",\"{\",\"}\",\"'\"]\n",
    "    rx = '[' + re.escape(''.join(chars_to_remove)) + ']'\n",
    "    string = re.sub(rx, '', string) #remove the list of chars defined above\n",
    "    string = string.replace('&', 'and')\n",
    "    string = string.replace(',', ' ')\n",
    "    #string = string.replace('unknown', ' ')\n",
    "    string = string.replace('-', ' ')\n",
    "    string = string.replace('+', ' and ')\n",
    "    #string = string.title() # normalise case - capital at start of each word\n",
    "    string = re.sub(' +',' ',string).strip() # get rid of multiple spaces and replace with a single space\n",
    "    string = ' '+ string +' ' # pad names for ngrams...\n",
    "    string = re.sub(r'[,-./]|\\sBD',r'', string)\n",
    "\n",
    "    return string"
   ]
  },
  {
   "cell_type": "code",
   "execution_count": 833,
   "metadata": {},
   "outputs": [],
   "source": [
    "# load data\n",
    "file_path = 'LocalPath'\n",
    "\n",
    "df4_g=pd.read_csv(file_path + 'p_addr_list.csv',encoding='ISO-8859-1')\n",
    "\n",
    "df_match = pd.read_csv(file_path + 'addr_match.csv')\n",
    "df_exception = pd.read_csv(file_path + 'addr_exception.csv')\n",
    "\n",
    "df_raw_sum = pd.read_csv(file_path + 'addr_raw_sum.csv')\n",
    "df_match_1_n = pd.read_csv(file_path + 'addr_match_1_n.csv')"
   ]
  },
  {
   "cell_type": "code",
   "execution_count": 834,
   "metadata": {},
   "outputs": [],
   "source": [
    "df_master = df=pd.read_csv(file_path + 'addr_master.csv')"
   ]
  },
  {
   "cell_type": "code",
   "execution_count": 835,
   "metadata": {},
   "outputs": [],
   "source": [
    "#df=pd.read_csv(file_path + 'Sample_Data_WOAddr_messy.csv')"
   ]
  },
  {
   "cell_type": "code",
   "execution_count": 836,
   "metadata": {},
   "outputs": [],
   "source": [
    "#df['addr1'].fillna(df['city1'], inplace=True)\n",
    "#df['addr_cln']= df['addr1'].apply(cleanse_str)#.str.lower()\n",
    "#df['addr_cln'].str.upper()"
   ]
  },
  {
   "cell_type": "code",
   "execution_count": 837,
   "metadata": {},
   "outputs": [
    {
     "name": "stdout",
     "output_type": "stream",
     "text": [
      "<class 'pandas.core.frame.DataFrame'>\n",
      "RangeIndex: 505767 entries, 0 to 505766\n",
      "Data columns (total 3 columns):\n",
      "P_DIV_CD    505767 non-null object\n",
      "P_ADDR      505761 non-null object\n",
      "P_CITY      505767 non-null object\n",
      "dtypes: object(3)\n",
      "memory usage: 11.6+ MB\n"
     ]
    }
   ],
   "source": [
    "df_master.info()"
   ]
  },
  {
   "cell_type": "code",
   "execution_count": 838,
   "metadata": {},
   "outputs": [],
   "source": [
    "df_master.dropna(inplace=True)"
   ]
  },
  {
   "cell_type": "code",
   "execution_count": 839,
   "metadata": {},
   "outputs": [
    {
     "name": "stdout",
     "output_type": "stream",
     "text": [
      "<class 'pandas.core.frame.DataFrame'>\n",
      "Int64Index: 505761 entries, 0 to 505766\n",
      "Data columns (total 3 columns):\n",
      "P_DIV_CD    505761 non-null object\n",
      "P_ADDR      505761 non-null object\n",
      "P_CITY      505761 non-null object\n",
      "dtypes: object(3)\n",
      "memory usage: 15.4+ MB\n"
     ]
    }
   ],
   "source": [
    "df_master.info()"
   ]
  },
  {
   "cell_type": "code",
   "execution_count": 840,
   "metadata": {},
   "outputs": [
    {
     "name": "stdout",
     "output_type": "stream",
     "text": [
      "<class 'pandas.core.frame.DataFrame'>\n",
      "RangeIndex: 530437 entries, 0 to 530436\n",
      "Data columns (total 6 columns):\n",
      "DATAID         530437 non-null object\n",
      "M_TXT          530437 non-null object\n",
      "M_DIV_CD       530437 non-null object\n",
      "M_ADDR         526190 non-null object\n",
      "M_CITY         530320 non-null object\n",
      "M_ADDR_TYPE    530401 non-null object\n",
      "dtypes: object(6)\n",
      "memory usage: 24.3+ MB\n"
     ]
    }
   ],
   "source": [
    "df_exception.info()"
   ]
  },
  {
   "cell_type": "code",
   "execution_count": 841,
   "metadata": {},
   "outputs": [
    {
     "name": "stdout",
     "output_type": "stream",
     "text": [
      "<class 'pandas.core.frame.DataFrame'>\n",
      "RangeIndex: 30000 entries, 0 to 29999\n",
      "Data columns (total 10 columns):\n",
      "DATAID         30000 non-null int64\n",
      "M_TXT          30000 non-null object\n",
      "M_DIV_CD       30000 non-null object\n",
      "M_ADDR         30000 non-null object\n",
      "M_CITY         30000 non-null object\n",
      "M_ADDR_TYPE    30000 non-null object\n",
      "P_ID           30000 non-null int64\n",
      "P_ADDR         30000 non-null object\n",
      "P_CITY         30000 non-null object\n",
      "MATCHCODE      30000 non-null object\n",
      "dtypes: int64(2), object(8)\n",
      "memory usage: 2.3+ MB\n"
     ]
    }
   ],
   "source": [
    "df_match.info()"
   ]
  },
  {
   "cell_type": "code",
   "execution_count": 842,
   "metadata": {},
   "outputs": [
    {
     "name": "stdout",
     "output_type": "stream",
     "text": [
      "<class 'pandas.core.frame.DataFrame'>\n",
      "RangeIndex: 530437 entries, 0 to 530436\n",
      "Data columns (total 6 columns):\n",
      "DATAID         530437 non-null object\n",
      "M_TXT          530437 non-null object\n",
      "M_DIV_CD       530437 non-null object\n",
      "M_ADDR         526190 non-null object\n",
      "M_CITY         530320 non-null object\n",
      "M_ADDR_TYPE    530401 non-null object\n",
      "dtypes: object(6)\n",
      "memory usage: 24.3+ MB\n"
     ]
    }
   ],
   "source": [
    "df_exception.info()"
   ]
  },
  {
   "cell_type": "code",
   "execution_count": 843,
   "metadata": {},
   "outputs": [],
   "source": [
    "# handle NULL fields\n",
    "df_exception['M_ADDR'].fillna(df_exception['M_TXT'], inplace=True)\n",
    "df_exception['M_ADDR_TYPE'].fillna('Unknown', inplace=True)\n",
    "df_exception['M_CITY'].fillna('Unknown', inplace=True)"
   ]
  },
  {
   "cell_type": "code",
   "execution_count": 844,
   "metadata": {},
   "outputs": [
    {
     "data": {
      "text/plain": [
       "array(['SIMPLE', 'LOT', 'ROUTE', 'RANGE', 'NOTDEFINED', 'BLOCK', 'BLANK',\n",
       "       'MULTI', 'Unknown'], dtype=object)"
      ]
     },
     "execution_count": 844,
     "metadata": {},
     "output_type": "execute_result"
    }
   ],
   "source": [
    "df_exception.M_ADDR_TYPE.unique()"
   ]
  },
  {
   "cell_type": "code",
   "execution_count": 845,
   "metadata": {},
   "outputs": [
    {
     "name": "stdout",
     "output_type": "stream",
     "text": [
      "Start text cleansing ...\n",
      "SELFTIMED: 254240.8039753437\n"
     ]
    }
   ],
   "source": [
    "# cleanse text\n",
    "print('Start text cleansing ...')\n",
    "time1 = time.time()\n",
    "\n",
    "df_match['M_ADDR_c'] = df_match['M_ADDR'].apply(cleanse_str)\n",
    "df_match['P_ADDR_c'] = df_match['P_ADDR'].apply(cleanse_str)\n",
    "df_match['M_TXT_c'] = df_match['M_TXT'].apply(cleanse_str)\n",
    "df_exception['M_ADDR_c'] = df_exception['M_ADDR'].apply(cleanse_str)\n",
    "df_exception['M_TXT_c'] = df_exception['M_TXT'].apply(cleanse_str)\n",
    "\n",
    "df_match['M_CITY'] = df_match['M_CITY'].str.lower()\n",
    "df_match['P_CITY'] = df_match['P_CITY'].str.lower()\n",
    "df_exception['M_CITY'] = df_exception['M_CITY'].str.lower()\n",
    "\n",
    "t = time.time() - t1\n",
    "print(\"SELFTIMED:\", t)"
   ]
  },
  {
   "cell_type": "code",
   "execution_count": 846,
   "metadata": {},
   "outputs": [
    {
     "name": "stdout",
     "output_type": "stream",
     "text": [
      "<class 'pandas.core.frame.DataFrame'>\n",
      "RangeIndex: 30000 entries, 0 to 29999\n",
      "Data columns (total 13 columns):\n",
      "DATAID         30000 non-null int64\n",
      "M_TXT          30000 non-null object\n",
      "M_DIV_CD       30000 non-null object\n",
      "M_ADDR         30000 non-null object\n",
      "M_CITY         30000 non-null object\n",
      "M_ADDR_TYPE    30000 non-null object\n",
      "P_ID           30000 non-null int64\n",
      "P_ADDR         30000 non-null object\n",
      "P_CITY         30000 non-null object\n",
      "MATCHCODE      30000 non-null object\n",
      "M_ADDR_c       30000 non-null object\n",
      "P_ADDR_c       30000 non-null object\n",
      "M_TXT_c        30000 non-null object\n",
      "dtypes: int64(2), object(11)\n",
      "memory usage: 3.0+ MB\n"
     ]
    }
   ],
   "source": [
    "df_match.info()"
   ]
  },
  {
   "cell_type": "code",
   "execution_count": 847,
   "metadata": {},
   "outputs": [
    {
     "name": "stdout",
     "output_type": "stream",
     "text": [
      "<class 'pandas.core.frame.DataFrame'>\n",
      "RangeIndex: 530437 entries, 0 to 530436\n",
      "Data columns (total 8 columns):\n",
      "DATAID         530437 non-null object\n",
      "M_TXT          530437 non-null object\n",
      "M_DIV_CD       530437 non-null object\n",
      "M_ADDR         530437 non-null object\n",
      "M_CITY         530437 non-null object\n",
      "M_ADDR_TYPE    530437 non-null object\n",
      "M_ADDR_c       530437 non-null object\n",
      "M_TXT_c        530437 non-null object\n",
      "dtypes: object(8)\n",
      "memory usage: 32.4+ MB\n"
     ]
    }
   ],
   "source": [
    "df_exception.info()"
   ]
  },
  {
   "cell_type": "code",
   "execution_count": 849,
   "metadata": {},
   "outputs": [],
   "source": [
    "df_exception_s= df_exception[df_exception.M_ADDR_TYPE=='SIMPLE']"
   ]
  },
  {
   "cell_type": "code",
   "execution_count": 850,
   "metadata": {},
   "outputs": [
    {
     "name": "stdout",
     "output_type": "stream",
     "text": [
      "<class 'pandas.core.frame.DataFrame'>\n",
      "Int64Index: 12166 entries, 8649 to 530435\n",
      "Data columns (total 8 columns):\n",
      "DATAID         12166 non-null object\n",
      "M_TXT          12166 non-null object\n",
      "M_DIV_CD       12166 non-null object\n",
      "M_ADDR         12166 non-null object\n",
      "M_CITY         12166 non-null object\n",
      "M_ADDR_TYPE    12166 non-null object\n",
      "M_ADDR_c       12166 non-null object\n",
      "M_TXT_c        12166 non-null object\n",
      "dtypes: object(8)\n",
      "memory usage: 855.4+ KB\n"
     ]
    },
    {
     "name": "stderr",
     "output_type": "stream",
     "text": [
      "C:\\anaconda3\\lib\\site-packages\\ipykernel_launcher.py:1: UserWarning: Boolean Series key will be reindexed to match DataFrame index.\n",
      "  \"\"\"Entry point for launching an IPython kernel.\n"
     ]
    }
   ],
   "source": [
    "df_exception_s[df_exception.M_DIV_CD=='d6'].info()"
   ]
  },
  {
   "cell_type": "code",
   "execution_count": 853,
   "metadata": {},
   "outputs": [
    {
     "name": "stdout",
     "output_type": "stream",
     "text": [
      "<class 'pandas.core.frame.DataFrame'>\n",
      "RangeIndex: 1080574 entries, 0 to 1080573\n",
      "Data columns (total 4 columns):\n",
      "DATAID         1080574 non-null int64\n",
      "M_DIV_CD       1080574 non-null object\n",
      "M_ADDR_TYPE    1080574 non-null object\n",
      "FOUND_MATCH    1080574 non-null object\n",
      "dtypes: int64(1), object(3)\n",
      "memory usage: 33.0+ MB\n"
     ]
    }
   ],
   "source": [
    "df_raw_sum.info()"
   ]
  },
  {
   "cell_type": "code",
   "execution_count": 854,
   "metadata": {},
   "outputs": [
    {
     "data": {
      "text/html": [
       "<div>\n",
       "<style scoped>\n",
       "    .dataframe tbody tr th:only-of-type {\n",
       "        vertical-align: middle;\n",
       "    }\n",
       "\n",
       "    .dataframe tbody tr th {\n",
       "        vertical-align: top;\n",
       "    }\n",
       "\n",
       "    .dataframe thead th {\n",
       "        text-align: right;\n",
       "    }\n",
       "</style>\n",
       "<table border=\"1\" class=\"dataframe\">\n",
       "  <thead>\n",
       "    <tr style=\"text-align: right;\">\n",
       "      <th></th>\n",
       "      <th>DATAID</th>\n",
       "      <th>M_DIV_CD</th>\n",
       "      <th>M_ADDR_TYPE</th>\n",
       "      <th>FOUND_MATCH</th>\n",
       "    </tr>\n",
       "  </thead>\n",
       "  <tbody>\n",
       "    <tr>\n",
       "      <th>0</th>\n",
       "      <td>35137</td>\n",
       "      <td>d2</td>\n",
       "      <td>SIMPLE</td>\n",
       "      <td>N</td>\n",
       "    </tr>\n",
       "    <tr>\n",
       "      <th>1</th>\n",
       "      <td>35138</td>\n",
       "      <td>d2</td>\n",
       "      <td>SIMPLE</td>\n",
       "      <td>N</td>\n",
       "    </tr>\n",
       "    <tr>\n",
       "      <th>2</th>\n",
       "      <td>35139</td>\n",
       "      <td>d2</td>\n",
       "      <td>SIMPLE</td>\n",
       "      <td>N</td>\n",
       "    </tr>\n",
       "    <tr>\n",
       "      <th>3</th>\n",
       "      <td>35140</td>\n",
       "      <td>d2</td>\n",
       "      <td>RANGE</td>\n",
       "      <td>N</td>\n",
       "    </tr>\n",
       "    <tr>\n",
       "      <th>4</th>\n",
       "      <td>35141</td>\n",
       "      <td>d2</td>\n",
       "      <td>RANGE</td>\n",
       "      <td>N</td>\n",
       "    </tr>\n",
       "  </tbody>\n",
       "</table>\n",
       "</div>"
      ],
      "text/plain": [
       "   DATAID M_DIV_CD M_ADDR_TYPE FOUND_MATCH\n",
       "0   35137       d2      SIMPLE           N\n",
       "1   35138       d2      SIMPLE           N\n",
       "2   35139       d2      SIMPLE           N\n",
       "3   35140       d2       RANGE           N\n",
       "4   35141       d2       RANGE           N"
      ]
     },
     "execution_count": 854,
     "metadata": {},
     "output_type": "execute_result"
    }
   ],
   "source": [
    "df_raw_sum.head()"
   ]
  },
  {
   "cell_type": "markdown",
   "metadata": {},
   "source": [
    "## EDA\n",
    "\n",
    "Next, we will explore the data set.  Used the third party address tool to match the legacy address with address master data set.  We will analyze the matching results as well"
   ]
  },
  {
   "cell_type": "code",
   "execution_count": 855,
   "metadata": {},
   "outputs": [],
   "source": [
    "def add_value_labels(ax, spacing=5):\n",
    "\n",
    "    for rect in ax.patches:\n",
    "        y_value = rect.get_height()\n",
    "        x_value = rect.get_x() + rect.get_width() / 2\n",
    "\n",
    "        space = spacing\n",
    "        va = 'bottom'\n",
    "\n",
    "        if y_value < 0:\n",
    "            space *= -1\n",
    "            # Vertical alignment\n",
    "            va = 'top'\n",
    "\n",
    "        label = \"{:}\".format(y_value)  # Use :.1f if wanting decimals.\n",
    "\n",
    "        # Create annotation\n",
    "        ax.annotate(label, (x_value, y_value), xytext=(0, space), textcoords=\"offset points\", ha='center', va=va)"
   ]
  },
  {
   "cell_type": "code",
   "execution_count": 856,
   "metadata": {},
   "outputs": [
    {
     "name": "stdout",
     "output_type": "stream",
     "text": [
      "<class 'pandas.core.frame.DataFrame'>\n",
      "RangeIndex: 30000 entries, 0 to 29999\n",
      "Data columns (total 13 columns):\n",
      "DATAID         30000 non-null int64\n",
      "M_TXT          30000 non-null object\n",
      "M_DIV_CD       30000 non-null object\n",
      "M_ADDR         30000 non-null object\n",
      "M_CITY         30000 non-null object\n",
      "M_ADDR_TYPE    30000 non-null object\n",
      "P_ID           30000 non-null int64\n",
      "P_ADDR         30000 non-null object\n",
      "P_CITY         30000 non-null object\n",
      "MATCHCODE      30000 non-null object\n",
      "M_ADDR_c       30000 non-null object\n",
      "P_ADDR_c       30000 non-null object\n",
      "M_TXT_c        30000 non-null object\n",
      "dtypes: int64(2), object(11)\n",
      "memory usage: 3.0+ MB\n"
     ]
    }
   ],
   "source": [
    "# exam matched - random sampled\n",
    "df_match.info()"
   ]
  },
  {
   "cell_type": "code",
   "execution_count": 857,
   "metadata": {},
   "outputs": [
    {
     "data": {
      "text/html": [
       "<div>\n",
       "<style scoped>\n",
       "    .dataframe tbody tr th:only-of-type {\n",
       "        vertical-align: middle;\n",
       "    }\n",
       "\n",
       "    .dataframe tbody tr th {\n",
       "        vertical-align: top;\n",
       "    }\n",
       "\n",
       "    .dataframe thead th {\n",
       "        text-align: right;\n",
       "    }\n",
       "</style>\n",
       "<table border=\"1\" class=\"dataframe\">\n",
       "  <thead>\n",
       "    <tr style=\"text-align: right;\">\n",
       "      <th></th>\n",
       "      <th>DATAID</th>\n",
       "      <th>M_DIV_CD</th>\n",
       "      <th>M_ADDR_TYPE</th>\n",
       "      <th>FOUND_MATCH</th>\n",
       "    </tr>\n",
       "  </thead>\n",
       "  <tbody>\n",
       "    <tr>\n",
       "      <th>0</th>\n",
       "      <td>35137</td>\n",
       "      <td>d2</td>\n",
       "      <td>SIMPLE</td>\n",
       "      <td>N</td>\n",
       "    </tr>\n",
       "    <tr>\n",
       "      <th>1</th>\n",
       "      <td>35138</td>\n",
       "      <td>d2</td>\n",
       "      <td>SIMPLE</td>\n",
       "      <td>N</td>\n",
       "    </tr>\n",
       "    <tr>\n",
       "      <th>2</th>\n",
       "      <td>35139</td>\n",
       "      <td>d2</td>\n",
       "      <td>SIMPLE</td>\n",
       "      <td>N</td>\n",
       "    </tr>\n",
       "    <tr>\n",
       "      <th>3</th>\n",
       "      <td>35140</td>\n",
       "      <td>d2</td>\n",
       "      <td>RANGE</td>\n",
       "      <td>N</td>\n",
       "    </tr>\n",
       "    <tr>\n",
       "      <th>4</th>\n",
       "      <td>35141</td>\n",
       "      <td>d2</td>\n",
       "      <td>RANGE</td>\n",
       "      <td>N</td>\n",
       "    </tr>\n",
       "  </tbody>\n",
       "</table>\n",
       "</div>"
      ],
      "text/plain": [
       "   DATAID M_DIV_CD M_ADDR_TYPE FOUND_MATCH\n",
       "0   35137       d2      SIMPLE           N\n",
       "1   35138       d2      SIMPLE           N\n",
       "2   35139       d2      SIMPLE           N\n",
       "3   35140       d2       RANGE           N\n",
       "4   35141       d2       RANGE           N"
      ]
     },
     "execution_count": 857,
     "metadata": {},
     "output_type": "execute_result"
    }
   ],
   "source": [
    "df_raw_sum.head()"
   ]
  },
  {
   "cell_type": "code",
   "execution_count": 858,
   "metadata": {},
   "outputs": [
    {
     "data": {
      "text/plain": [
       "array(['d2', 'd3', 'd6', 'd1', 'd7', 'd5', 'd4'], dtype=object)"
      ]
     },
     "execution_count": 858,
     "metadata": {},
     "output_type": "execute_result"
    }
   ],
   "source": [
    "df_raw_sum.M_DIV_CD.unique()"
   ]
  },
  {
   "cell_type": "code",
   "execution_count": 859,
   "metadata": {},
   "outputs": [
    {
     "data": {
      "text/html": [
       "<div>\n",
       "<style scoped>\n",
       "    .dataframe tbody tr th:only-of-type {\n",
       "        vertical-align: middle;\n",
       "    }\n",
       "\n",
       "    .dataframe tbody tr th {\n",
       "        vertical-align: top;\n",
       "    }\n",
       "\n",
       "    .dataframe thead th {\n",
       "        text-align: right;\n",
       "    }\n",
       "</style>\n",
       "<table border=\"1\" class=\"dataframe\">\n",
       "  <thead>\n",
       "    <tr style=\"text-align: right;\">\n",
       "      <th></th>\n",
       "      <th>DATAID</th>\n",
       "      <th>M_DIV_CD</th>\n",
       "      <th>M_ADDR_TYPE</th>\n",
       "      <th>FOUND_MATCH</th>\n",
       "    </tr>\n",
       "  </thead>\n",
       "  <tbody>\n",
       "    <tr>\n",
       "      <th>11</th>\n",
       "      <td>35148</td>\n",
       "      <td>d2</td>\n",
       "      <td>SIMPLE</td>\n",
       "      <td>Y</td>\n",
       "    </tr>\n",
       "    <tr>\n",
       "      <th>63</th>\n",
       "      <td>35203</td>\n",
       "      <td>d2</td>\n",
       "      <td>SIMPLE</td>\n",
       "      <td>Y</td>\n",
       "    </tr>\n",
       "    <tr>\n",
       "      <th>64</th>\n",
       "      <td>35204</td>\n",
       "      <td>d2</td>\n",
       "      <td>SIMPLE</td>\n",
       "      <td>Y</td>\n",
       "    </tr>\n",
       "    <tr>\n",
       "      <th>65</th>\n",
       "      <td>35205</td>\n",
       "      <td>d2</td>\n",
       "      <td>SIMPLE</td>\n",
       "      <td>Y</td>\n",
       "    </tr>\n",
       "    <tr>\n",
       "      <th>66</th>\n",
       "      <td>35206</td>\n",
       "      <td>d2</td>\n",
       "      <td>SIMPLE</td>\n",
       "      <td>Y</td>\n",
       "    </tr>\n",
       "  </tbody>\n",
       "</table>\n",
       "</div>"
      ],
      "text/plain": [
       "    DATAID M_DIV_CD M_ADDR_TYPE FOUND_MATCH\n",
       "11   35148       d2      SIMPLE           Y\n",
       "63   35203       d2      SIMPLE           Y\n",
       "64   35204       d2      SIMPLE           Y\n",
       "65   35205       d2      SIMPLE           Y\n",
       "66   35206       d2      SIMPLE           Y"
      ]
     },
     "execution_count": 859,
     "metadata": {},
     "output_type": "execute_result"
    }
   ],
   "source": [
    "df_raw_sum[df_raw_sum.FOUND_MATCH=='Y'].head()"
   ]
  },
  {
   "cell_type": "code",
   "execution_count": 860,
   "metadata": {},
   "outputs": [],
   "source": [
    "stat = df_raw_sum.groupby('M_DIV_CD').DATAID.count()\n",
    "df_temp = pd.DataFrame({'DIV_CD':stat.index, 'Raw_Total':stat.values})\n",
    "\n",
    "stat2 = df_raw_sum[df_raw_sum.FOUND_MATCH=='Y'].groupby('M_DIV_CD').DATAID.count()\n",
    "df_temp2 = pd.DataFrame({'DIV_CD':stat2.index, 'Matched_Total':stat2.values})\n",
    "\n",
    "df_stat_by_div = pd.merge(df_temp, df_temp2, on='DIV_CD', how='outer')"
   ]
  },
  {
   "cell_type": "code",
   "execution_count": 861,
   "metadata": {},
   "outputs": [
    {
     "data": {
      "text/plain": [
       "M_DIV_CD\n",
       "d1     23098\n",
       "d2    341756\n",
       "d3     28863\n",
       "d4     83720\n",
       "d5     26632\n",
       "d6     22205\n",
       "d7     23881\n",
       "Name: DATAID, dtype: int64"
      ]
     },
     "execution_count": 861,
     "metadata": {},
     "output_type": "execute_result"
    }
   ],
   "source": [
    "stat2"
   ]
  },
  {
   "cell_type": "code",
   "execution_count": 862,
   "metadata": {},
   "outputs": [
    {
     "data": {
      "text/html": [
       "<div>\n",
       "<style scoped>\n",
       "    .dataframe tbody tr th:only-of-type {\n",
       "        vertical-align: middle;\n",
       "    }\n",
       "\n",
       "    .dataframe tbody tr th {\n",
       "        vertical-align: top;\n",
       "    }\n",
       "\n",
       "    .dataframe thead th {\n",
       "        text-align: right;\n",
       "    }\n",
       "</style>\n",
       "<table border=\"1\" class=\"dataframe\">\n",
       "  <thead>\n",
       "    <tr style=\"text-align: right;\">\n",
       "      <th></th>\n",
       "      <th>DIV_CD</th>\n",
       "      <th>Raw_Total</th>\n",
       "      <th>Matched_Total</th>\n",
       "    </tr>\n",
       "  </thead>\n",
       "  <tbody>\n",
       "    <tr>\n",
       "      <th>0</th>\n",
       "      <td>d1</td>\n",
       "      <td>81691</td>\n",
       "      <td>23098</td>\n",
       "    </tr>\n",
       "    <tr>\n",
       "      <th>1</th>\n",
       "      <td>d2</td>\n",
       "      <td>622397</td>\n",
       "      <td>341756</td>\n",
       "    </tr>\n",
       "    <tr>\n",
       "      <th>2</th>\n",
       "      <td>d3</td>\n",
       "      <td>63682</td>\n",
       "      <td>28863</td>\n",
       "    </tr>\n",
       "    <tr>\n",
       "      <th>3</th>\n",
       "      <td>d4</td>\n",
       "      <td>141892</td>\n",
       "      <td>83720</td>\n",
       "    </tr>\n",
       "    <tr>\n",
       "      <th>4</th>\n",
       "      <td>d5</td>\n",
       "      <td>49242</td>\n",
       "      <td>26632</td>\n",
       "    </tr>\n",
       "    <tr>\n",
       "      <th>5</th>\n",
       "      <td>d6</td>\n",
       "      <td>43782</td>\n",
       "      <td>22205</td>\n",
       "    </tr>\n",
       "    <tr>\n",
       "      <th>6</th>\n",
       "      <td>d7</td>\n",
       "      <td>77888</td>\n",
       "      <td>23881</td>\n",
       "    </tr>\n",
       "  </tbody>\n",
       "</table>\n",
       "</div>"
      ],
      "text/plain": [
       "  DIV_CD  Raw_Total  Matched_Total\n",
       "0     d1      81691          23098\n",
       "1     d2     622397         341756\n",
       "2     d3      63682          28863\n",
       "3     d4     141892          83720\n",
       "4     d5      49242          26632\n",
       "5     d6      43782          22205\n",
       "6     d7      77888          23881"
      ]
     },
     "execution_count": 862,
     "metadata": {},
     "output_type": "execute_result"
    }
   ],
   "source": [
    "df_stat_by_div"
   ]
  },
  {
   "cell_type": "code",
   "execution_count": 863,
   "metadata": {},
   "outputs": [],
   "source": [
    "stat = df_raw_sum.groupby('M_ADDR_TYPE').DATAID.count()\n",
    "df_temp = pd.DataFrame({'TYPE':stat.index, 'Raw_Total':stat.values})\n",
    "\n",
    "stat2 = df_raw_sum[df_raw_sum.FOUND_MATCH=='Y'].groupby('M_ADDR_TYPE').DATAID.count()\n",
    "df_temp2 = pd.DataFrame({'TYPE':stat2.index, 'Matched_Total':stat2.values})\n",
    "\n",
    "df_stat_by_type = pd.merge(df_temp, df_temp2, on='TYPE', how='outer')"
   ]
  },
  {
   "cell_type": "code",
   "execution_count": 864,
   "metadata": {},
   "outputs": [
    {
     "data": {
      "text/html": [
       "<div>\n",
       "<style scoped>\n",
       "    .dataframe tbody tr th:only-of-type {\n",
       "        vertical-align: middle;\n",
       "    }\n",
       "\n",
       "    .dataframe tbody tr th {\n",
       "        vertical-align: top;\n",
       "    }\n",
       "\n",
       "    .dataframe thead th {\n",
       "        text-align: right;\n",
       "    }\n",
       "</style>\n",
       "<table border=\"1\" class=\"dataframe\">\n",
       "  <thead>\n",
       "    <tr style=\"text-align: right;\">\n",
       "      <th></th>\n",
       "      <th>TYPE</th>\n",
       "      <th>Raw_Total</th>\n",
       "      <th>Matched_Total</th>\n",
       "    </tr>\n",
       "  </thead>\n",
       "  <tbody>\n",
       "    <tr>\n",
       "      <th>0</th>\n",
       "      <td>BLANK</td>\n",
       "      <td>69985</td>\n",
       "      <td>6.0</td>\n",
       "    </tr>\n",
       "    <tr>\n",
       "      <th>1</th>\n",
       "      <td>BLOCK</td>\n",
       "      <td>2581</td>\n",
       "      <td>NaN</td>\n",
       "    </tr>\n",
       "    <tr>\n",
       "      <th>2</th>\n",
       "      <td>LOT</td>\n",
       "      <td>21160</td>\n",
       "      <td>43.0</td>\n",
       "    </tr>\n",
       "    <tr>\n",
       "      <th>3</th>\n",
       "      <td>MULTI</td>\n",
       "      <td>3243</td>\n",
       "      <td>1863.0</td>\n",
       "    </tr>\n",
       "    <tr>\n",
       "      <th>4</th>\n",
       "      <td>NOTDEFINED</td>\n",
       "      <td>18089</td>\n",
       "      <td>3757.0</td>\n",
       "    </tr>\n",
       "    <tr>\n",
       "      <th>5</th>\n",
       "      <td>RANGE</td>\n",
       "      <td>22646</td>\n",
       "      <td>9968.0</td>\n",
       "    </tr>\n",
       "    <tr>\n",
       "      <th>6</th>\n",
       "      <td>ROUTE</td>\n",
       "      <td>8995</td>\n",
       "      <td>NaN</td>\n",
       "    </tr>\n",
       "    <tr>\n",
       "      <th>7</th>\n",
       "      <td>SIMPLE</td>\n",
       "      <td>933875</td>\n",
       "      <td>534518.0</td>\n",
       "    </tr>\n",
       "  </tbody>\n",
       "</table>\n",
       "</div>"
      ],
      "text/plain": [
       "         TYPE  Raw_Total  Matched_Total\n",
       "0       BLANK      69985            6.0\n",
       "1       BLOCK       2581            NaN\n",
       "2         LOT      21160           43.0\n",
       "3       MULTI       3243         1863.0\n",
       "4  NOTDEFINED      18089         3757.0\n",
       "5       RANGE      22646         9968.0\n",
       "6       ROUTE       8995            NaN\n",
       "7      SIMPLE     933875       534518.0"
      ]
     },
     "execution_count": 864,
     "metadata": {},
     "output_type": "execute_result"
    }
   ],
   "source": [
    "df_stat_by_type"
   ]
  },
  {
   "cell_type": "code",
   "execution_count": 865,
   "metadata": {},
   "outputs": [],
   "source": [
    "df_stat_by_type.fillna(0, inplace=True)"
   ]
  },
  {
   "cell_type": "code",
   "execution_count": 866,
   "metadata": {},
   "outputs": [
    {
     "data": {
      "text/html": [
       "<div>\n",
       "<style scoped>\n",
       "    .dataframe tbody tr th:only-of-type {\n",
       "        vertical-align: middle;\n",
       "    }\n",
       "\n",
       "    .dataframe tbody tr th {\n",
       "        vertical-align: top;\n",
       "    }\n",
       "\n",
       "    .dataframe thead th {\n",
       "        text-align: right;\n",
       "    }\n",
       "</style>\n",
       "<table border=\"1\" class=\"dataframe\">\n",
       "  <thead>\n",
       "    <tr style=\"text-align: right;\">\n",
       "      <th></th>\n",
       "      <th>TYPE</th>\n",
       "      <th>Raw_Total</th>\n",
       "      <th>Matched_Total</th>\n",
       "    </tr>\n",
       "  </thead>\n",
       "  <tbody>\n",
       "    <tr>\n",
       "      <th>0</th>\n",
       "      <td>BLANK</td>\n",
       "      <td>69985</td>\n",
       "      <td>6.0</td>\n",
       "    </tr>\n",
       "    <tr>\n",
       "      <th>1</th>\n",
       "      <td>BLOCK</td>\n",
       "      <td>2581</td>\n",
       "      <td>0.0</td>\n",
       "    </tr>\n",
       "    <tr>\n",
       "      <th>2</th>\n",
       "      <td>LOT</td>\n",
       "      <td>21160</td>\n",
       "      <td>43.0</td>\n",
       "    </tr>\n",
       "    <tr>\n",
       "      <th>3</th>\n",
       "      <td>MULTI</td>\n",
       "      <td>3243</td>\n",
       "      <td>1863.0</td>\n",
       "    </tr>\n",
       "    <tr>\n",
       "      <th>4</th>\n",
       "      <td>NOTDEFINED</td>\n",
       "      <td>18089</td>\n",
       "      <td>3757.0</td>\n",
       "    </tr>\n",
       "    <tr>\n",
       "      <th>5</th>\n",
       "      <td>RANGE</td>\n",
       "      <td>22646</td>\n",
       "      <td>9968.0</td>\n",
       "    </tr>\n",
       "    <tr>\n",
       "      <th>6</th>\n",
       "      <td>ROUTE</td>\n",
       "      <td>8995</td>\n",
       "      <td>0.0</td>\n",
       "    </tr>\n",
       "    <tr>\n",
       "      <th>7</th>\n",
       "      <td>SIMPLE</td>\n",
       "      <td>933875</td>\n",
       "      <td>534518.0</td>\n",
       "    </tr>\n",
       "  </tbody>\n",
       "</table>\n",
       "</div>"
      ],
      "text/plain": [
       "         TYPE  Raw_Total  Matched_Total\n",
       "0       BLANK      69985            6.0\n",
       "1       BLOCK       2581            0.0\n",
       "2         LOT      21160           43.0\n",
       "3       MULTI       3243         1863.0\n",
       "4  NOTDEFINED      18089         3757.0\n",
       "5       RANGE      22646         9968.0\n",
       "6       ROUTE       8995            0.0\n",
       "7      SIMPLE     933875       534518.0"
      ]
     },
     "execution_count": 866,
     "metadata": {},
     "output_type": "execute_result"
    }
   ],
   "source": [
    "df_stat_by_type"
   ]
  },
  {
   "cell_type": "code",
   "execution_count": 867,
   "metadata": {},
   "outputs": [
    {
     "name": "stdout",
     "output_type": "stream",
     "text": [
      "FOUND_MATCH       N       Y\n",
      "M_DIV_CD                   \n",
      "d1            58593   23098\n",
      "d2           280641  341756\n",
      "d3            34819   28863\n",
      "d4            58172   83720\n",
      "d5            22610   26632\n",
      "d6            21577   22205\n",
      "d7            54007   23881\n"
     ]
    }
   ],
   "source": [
    "print (df_raw_sum.groupby(['M_DIV_CD','FOUND_MATCH']).size().unstack(fill_value=0))"
   ]
  },
  {
   "cell_type": "code",
   "execution_count": 868,
   "metadata": {},
   "outputs": [
    {
     "name": "stdout",
     "output_type": "stream",
     "text": [
      "FOUND_MATCH       N       Y\n",
      "M_ADDR_TYPE                \n",
      "BLANK         69979       6\n",
      "BLOCK          2581       0\n",
      "LOT           21117      43\n",
      "MULTI          1380    1863\n",
      "NOTDEFINED    14332    3757\n",
      "RANGE         12678    9968\n",
      "ROUTE          8995       0\n",
      "SIMPLE       399357  534518\n"
     ]
    }
   ],
   "source": [
    "print (df_raw_sum.groupby(['M_ADDR_TYPE','FOUND_MATCH']).size().unstack(fill_value=0))"
   ]
  },
  {
   "cell_type": "code",
   "execution_count": 869,
   "metadata": {},
   "outputs": [
    {
     "data": {
      "image/png": "[encoded data removed]",
      "text/plain": [
       "<Figure size 432x288 with 1 Axes>"
      ]
     },
     "metadata": {},
     "output_type": "display_data"
    }
   ],
   "source": [
    "plt.figure(figsize=(6,4))\n",
    "\n",
    "result_plot = df_raw_sum.groupby(['FOUND_MATCH']).DATAID.count().plot.bar()\n",
    "plt.xlabel('Matched (Y / N)')\n",
    "plt.ylabel('Total Addresses')\n",
    "add_value_labels(result_plot, 1)\n",
    "plt.show()"
   ]
  },
  {
   "cell_type": "markdown",
   "metadata": {},
   "source": [
    "### Total 550155 found match but still have 530419 not found the match "
   ]
  },
  {
   "cell_type": "code",
   "execution_count": 870,
   "metadata": {},
   "outputs": [
    {
     "data": {
      "text/plain": [
       "<Figure size 576x432 with 0 Axes>"
      ]
     },
     "metadata": {},
     "output_type": "display_data"
    },
    {
     "data": {
      "image/png": "[encoded data removed]",
      "text/plain": [
       "<Figure size 432x288 with 1 Axes>"
      ]
     },
     "metadata": {},
     "output_type": "display_data"
    }
   ],
   "source": [
    "plt.figure(figsize=(8,6))\n",
    "\n",
    "rsd_plot = df_raw_sum.groupby(['M_DIV_CD','FOUND_MATCH']).size().unstack(fill_value=0).plot.bar()\n",
    "plt.xlabel('DIV')\n",
    "plt.ylabel('Total Addresses')\n",
    "plt.title('Matched vs Not matched by Region')\n",
    "#add_value_labels(rsd_plot, 1)\n",
    "plt.show()"
   ]
  },
  {
   "cell_type": "markdown",
   "metadata": {},
   "source": [
    "### The above plot shows the matched vs not matched within each region "
   ]
  },
  {
   "cell_type": "code",
   "execution_count": 871,
   "metadata": {},
   "outputs": [
    {
     "data": {
      "text/plain": [
       "<Figure size 576x432 with 0 Axes>"
      ]
     },
     "metadata": {},
     "output_type": "display_data"
    },
    {
     "data": {
      "image/png": "[encoded data removed]",
      "text/plain": [
       "<Figure size 432x288 with 1 Axes>"
      ]
     },
     "metadata": {},
     "output_type": "display_data"
    }
   ],
   "source": [
    "plt.figure(figsize=(8,6))\n",
    "rst_plot = df_raw_sum.groupby(['M_ADDR_TYPE','FOUND_MATCH']).size().unstack(fill_value=0).plot.bar()\n",
    "plt.xlabel('TYPE')\n",
    "plt.ylabel('Total Addresses')\n",
    "plt.title('Matched vs Not matched by Address Type')\n",
    "#add_value_labels(rst_plot, 1)\n",
    "plt.xticks(rotation=65) \n",
    "plt.show()"
   ]
  },
  {
   "cell_type": "markdown",
   "metadata": {},
   "source": [
    "### The above plot shows the matched vs not matched by address type.  Majority addresses have SIMPLE type "
   ]
  },
  {
   "cell_type": "code",
   "execution_count": 872,
   "metadata": {},
   "outputs": [
    {
     "data": {
      "text/plain": [
       "32"
      ]
     },
     "execution_count": 872,
     "metadata": {},
     "output_type": "execute_result"
    }
   ],
   "source": [
    "# the maximum addresses one address mapped to the master addresses.  Use this to determine the top_N\n",
    "df_match_1_n.CNT.max()"
   ]
  },
  {
   "cell_type": "markdown",
   "metadata": {},
   "source": [
    "####  One address was possibly matched to multiple master addresses (i.e., apartment complex).  Use this to determine the top_N"
   ]
  },
  {
   "cell_type": "markdown",
   "metadata": {},
   "source": [
    "## Exploring fuzzywuzzy fuctions"
   ]
  },
  {
   "cell_type": "code",
   "execution_count": 873,
   "metadata": {},
   "outputs": [],
   "source": [
    "str1='This is a test.  Installed service pipe @ 9029 A Hwy 119 S on [2/10/2017] '\n",
    "str2='9029 A HWY 119 S'\n",
    "str3='9029 Highway 119'"
   ]
  },
  {
   "cell_type": "code",
   "execution_count": 874,
   "metadata": {},
   "outputs": [],
   "source": [
    "def exporing_fuzzywuzzy_func (str1, str2, str3):\n",
    "    str1_c = cleanse_str(str1)\n",
    "    str2_c = cleanse_str(str2)\n",
    "    str3_c = cleanse_str(str3)\n",
    "    print('str1_c: ', str1_c)\n",
    "    print('str2_c: ', str2_c)\n",
    "    print('str3_c: ', str3_c)\n",
    "    print()\n",
    "    print('Compare free text with std addr ... start here ...')\n",
    "\n",
    "    r1 = fuzz.ratio (str1, str3)\n",
    "    r1c = fuzz.ratio (str1_c, str3_c)\n",
    "\n",
    "    pr1 = fuzz.partial_ratio(str1, str3)\n",
    "    pr1c = fuzz.partial_ratio(str1_c, str3_c)\n",
    "\n",
    "    tsr1 = fuzz.token_sort_ratio(str1, str3) \n",
    "    tsr1c = fuzz.token_sort_ratio(str1_c, str3_c) \n",
    "\n",
    "    tstr1 = fuzz.token_set_ratio(str1, str3)\n",
    "    tstr1c = fuzz.token_set_ratio(str1_c, str3_c)\n",
    "\n",
    "    print('Raw - ratio :', r1)\n",
    "    print('Cleansed - Function ratio :', r1c)\n",
    "    print()\n",
    "    print('Raw - partial_ratio :', pr1)\n",
    "    print('Cleansed - partial_ratio :', pr1c)\n",
    "    print()\n",
    "    print('Raw - token_sort_ratio :', tsr1)\n",
    "    print('Cleansed - token_sort_ratio :', tsr1c)\n",
    "    print()\n",
    "    print('Raw - token_set_ratio :', tstr1)\n",
    "    print('Cleansed - token_set_ratio :', tstr1c)\n",
    "    print()\n",
    "\n",
    "    print()\n",
    "    print('Compare addr with std addr...start here...')\n",
    "    r2 = fuzz.ratio (str2, str3)\n",
    "    r2c = fuzz.ratio (str2_c, str3_c)\n",
    "\n",
    "    pr2 = fuzz.partial_ratio(str2, str3)\n",
    "    pr2c = fuzz.partial_ratio(str2_c, str3_c)\n",
    "\n",
    "    tsr2 = fuzz.token_sort_ratio(str2, str3) \n",
    "    tsr2c = fuzz.token_sort_ratio(str2_c, str3_c) \n",
    "\n",
    "    tstr2 = fuzz.token_set_ratio(str2, str3)\n",
    "    tstr2c = fuzz.token_set_ratio(str2_c, str3_c)\n",
    "\n",
    "    print('Raw - ratio :', r2)\n",
    "    print('Cleansed - Function ratio :', r2c)\n",
    "    print()\n",
    "    print('Raw - partial_ratio :', pr2)\n",
    "    print('Cleansed - partial_ratio :', pr2c)\n",
    "    print()\n",
    "    print('Raw - token_sort_ratio :', tsr2)\n",
    "    print('Cleansed - token_sort_ratio :', tsr2c)\n",
    "    print()\n",
    "    print('Raw - token_set_ratio :', tstr2)\n",
    "    print('Cleansed - token_set_ratio :', tstr2c)\n",
    "    print()"
   ]
  },
  {
   "cell_type": "code",
   "execution_count": 875,
   "metadata": {},
   "outputs": [
    {
     "name": "stdout",
     "output_type": "stream",
     "text": [
      "str1_c:   this is a test installed service pipe 9029 a hwy 119 s on 2102017 \n",
      "str2_c:   9029 a hwy 119 s \n",
      "str3_c:   9029 highway 119 \n",
      "\n",
      "Compare free text with std addr ... start here ...\n",
      "Raw - ratio : 27\n",
      "Cleansed - Function ratio : 33\n",
      "\n",
      "Raw - partial_ratio : 75\n",
      "Cleansed - partial_ratio : 78\n",
      "\n",
      "Raw - token_sort_ratio : 29\n",
      "Cleansed - token_sort_ratio : 30\n",
      "\n",
      "Raw - token_set_ratio : 67\n",
      "Cleansed - token_set_ratio : 67\n",
      "\n",
      "\n",
      "Compare addr with std addr...start here...\n",
      "Raw - ratio : 62\n",
      "Cleansed - Function ratio : 78\n",
      "\n",
      "Raw - partial_ratio : 62\n",
      "Cleansed - partial_ratio : 78\n",
      "\n",
      "Raw - token_sort_ratio : 75\n",
      "Cleansed - token_sort_ratio : 75\n",
      "\n",
      "Raw - token_set_ratio : 75\n",
      "Cleansed - token_set_ratio : 75\n",
      "\n"
     ]
    }
   ],
   "source": [
    "exporing_fuzzywuzzy_func (str1, str2, str3)"
   ]
  },
  {
   "cell_type": "code",
   "execution_count": null,
   "metadata": {},
   "outputs": [],
   "source": []
  },
  {
   "cell_type": "markdown",
   "metadata": {},
   "source": [
    "## Fuzzywuzzy functions EDA\n",
    "Next, will apply these four Fuzzywuzzy fuctions to the sampled data of matched addresses using the third-party address tool.  The confidence level of matching is about 94%.  Then will compare the results and choos the function works best for this data set."
   ]
  },
  {
   "cell_type": "code",
   "execution_count": 876,
   "metadata": {},
   "outputs": [
    {
     "data": {
      "text/plain": [
       "\"\\ndf_match['pr1']=df_match.apply(get_partial_ratio1, axis=1)\\ndf_match['pr2']=df_match.apply(get_partial_ratio2, axis=1)\\n\""
      ]
     },
     "execution_count": 876,
     "metadata": {},
     "output_type": "execute_result"
    }
   ],
   "source": [
    "def get_partial_ratio1(row):\n",
    "    string1 = row['M_ADDR_c']\n",
    "    string2 = row['P_ADDR_c']\n",
    "    return fuzz.partial_ratio(string1, string2)\n",
    "\n",
    "def get_partial_ratio2(row):\n",
    "    string1 = row['M_TXT_c']\n",
    "    string2 = row['P_ADDR_c']\n",
    "    return fuzz.partial_ratio(string1, string2)\n",
    "'''\n",
    "df_match['pr1']=df_match.apply(get_partial_ratio1, axis=1)\n",
    "df_match['pr2']=df_match.apply(get_partial_ratio2, axis=1)\n",
    "'''"
   ]
  },
  {
   "cell_type": "code",
   "execution_count": 877,
   "metadata": {},
   "outputs": [
    {
     "data": {
      "text/plain": [
       "\"\\ndf_match['tstr1']=df_match.apply(get_token_set_ratio1, axis=1)\\ndf_match['tstr2']=df_match.apply(get_token_set_ratio2, axis=1)\\n\""
      ]
     },
     "execution_count": 877,
     "metadata": {},
     "output_type": "execute_result"
    }
   ],
   "source": [
    "def get_token_set_ratio1(row):\n",
    "    string1 = row['M_ADDR_c']\n",
    "    string2 = row['P_ADDR_c']\n",
    "    return fuzz.token_set_ratio(string1, string2)\n",
    "\n",
    "def get_token_set_ratio2(row):\n",
    "    string1 = row['M_TXT_c']\n",
    "    string2 = row['P_ADDR_c']\n",
    "    return fuzz.token_set_ratio(string1, string2)\n",
    "'''\n",
    "df_match['tstr1']=df_match.apply(get_token_set_ratio1, axis=1)\n",
    "df_match['tstr2']=df_match.apply(get_token_set_ratio2, axis=1)\n",
    "'''"
   ]
  },
  {
   "cell_type": "code",
   "execution_count": 878,
   "metadata": {},
   "outputs": [
    {
     "name": "stdout",
     "output_type": "stream",
     "text": [
      "<class 'pandas.core.frame.DataFrame'>\n",
      "RangeIndex: 30000 entries, 0 to 29999\n",
      "Data columns (total 13 columns):\n",
      "DATAID         30000 non-null int64\n",
      "M_TXT          30000 non-null object\n",
      "M_DIV_CD       30000 non-null object\n",
      "M_ADDR         30000 non-null object\n",
      "M_CITY         30000 non-null object\n",
      "M_ADDR_TYPE    30000 non-null object\n",
      "P_ID           30000 non-null int64\n",
      "P_ADDR         30000 non-null object\n",
      "P_CITY         30000 non-null object\n",
      "MATCHCODE      30000 non-null object\n",
      "M_ADDR_c       30000 non-null object\n",
      "P_ADDR_c       30000 non-null object\n",
      "M_TXT_c        30000 non-null object\n",
      "dtypes: int64(2), object(11)\n",
      "memory usage: 3.0+ MB\n"
     ]
    }
   ],
   "source": [
    "df_match.info()"
   ]
  },
  {
   "cell_type": "code",
   "execution_count": 879,
   "metadata": {},
   "outputs": [],
   "source": [
    "df_match['r1'] = df_match.apply(lambda row: fuzz.ratio(row['M_ADDR_c'], row['P_ADDR_c']), axis=1)\n",
    "df_match['pr1'] = df_match.apply(lambda row: fuzz.partial_ratio(row['M_ADDR_c'], row['P_ADDR_c']), axis=1)\n",
    "df_match['tsr1'] = df_match.apply(lambda row: fuzz.token_sort_ratio(row['M_ADDR_c'], row['P_ADDR_c']), axis=1)\n",
    "df_match['tstr1'] = df_match.apply(lambda row: fuzz.token_set_ratio(row['M_ADDR_c'], row['P_ADDR_c']), axis=1)"
   ]
  },
  {
   "cell_type": "code",
   "execution_count": 880,
   "metadata": {},
   "outputs": [],
   "source": [
    "df_match['r2'] = df_match.apply(lambda row: fuzz.ratio(row['M_TXT_c'], row['P_ADDR_c']), axis=1)\n",
    "df_match['pr2'] = df_match.apply(lambda row: fuzz.partial_ratio(row['M_TXT_c'], row['P_ADDR_c']), axis=1)\n",
    "df_match['tsr2'] = df_match.apply(lambda row: fuzz.token_sort_ratio(row['M_TXT_c'], row['P_ADDR_c']), axis=1)\n",
    "df_match['tstr2'] = df_match.apply(lambda row: fuzz.token_set_ratio(row['M_TXT_c'], row['P_ADDR_c']), axis=1)"
   ]
  },
  {
   "cell_type": "code",
   "execution_count": 881,
   "metadata": {},
   "outputs": [
    {
     "data": {
      "text/html": [
       "<div>\n",
       "<style scoped>\n",
       "    .dataframe tbody tr th:only-of-type {\n",
       "        vertical-align: middle;\n",
       "    }\n",
       "\n",
       "    .dataframe tbody tr th {\n",
       "        vertical-align: top;\n",
       "    }\n",
       "\n",
       "    .dataframe thead th {\n",
       "        text-align: right;\n",
       "    }\n",
       "</style>\n",
       "<table border=\"1\" class=\"dataframe\">\n",
       "  <thead>\n",
       "    <tr style=\"text-align: right;\">\n",
       "      <th></th>\n",
       "      <th>M_DIV_CD</th>\n",
       "      <th>M_ADDR_TYPE</th>\n",
       "      <th>pr1</th>\n",
       "      <th>pr1</th>\n",
       "      <th>tsr1</th>\n",
       "      <th>tstr1</th>\n",
       "      <th>pr2</th>\n",
       "      <th>pr2</th>\n",
       "      <th>tsr2</th>\n",
       "      <th>tstr2</th>\n",
       "    </tr>\n",
       "  </thead>\n",
       "  <tbody>\n",
       "    <tr>\n",
       "      <th>7</th>\n",
       "      <td>d2</td>\n",
       "      <td>SIMPLE</td>\n",
       "      <td>84</td>\n",
       "      <td>84</td>\n",
       "      <td>86</td>\n",
       "      <td>90</td>\n",
       "      <td>84</td>\n",
       "      <td>84</td>\n",
       "      <td>71</td>\n",
       "      <td>90</td>\n",
       "    </tr>\n",
       "    <tr>\n",
       "      <th>16</th>\n",
       "      <td>d2</td>\n",
       "      <td>RANGE</td>\n",
       "      <td>93</td>\n",
       "      <td>93</td>\n",
       "      <td>86</td>\n",
       "      <td>100</td>\n",
       "      <td>93</td>\n",
       "      <td>93</td>\n",
       "      <td>69</td>\n",
       "      <td>100</td>\n",
       "    </tr>\n",
       "    <tr>\n",
       "      <th>17</th>\n",
       "      <td>d2</td>\n",
       "      <td>SIMPLE</td>\n",
       "      <td>94</td>\n",
       "      <td>94</td>\n",
       "      <td>97</td>\n",
       "      <td>97</td>\n",
       "      <td>94</td>\n",
       "      <td>94</td>\n",
       "      <td>80</td>\n",
       "      <td>80</td>\n",
       "    </tr>\n",
       "    <tr>\n",
       "      <th>21</th>\n",
       "      <td>d2</td>\n",
       "      <td>SIMPLE</td>\n",
       "      <td>94</td>\n",
       "      <td>94</td>\n",
       "      <td>97</td>\n",
       "      <td>97</td>\n",
       "      <td>94</td>\n",
       "      <td>94</td>\n",
       "      <td>78</td>\n",
       "      <td>78</td>\n",
       "    </tr>\n",
       "    <tr>\n",
       "      <th>24</th>\n",
       "      <td>d2</td>\n",
       "      <td>SIMPLE</td>\n",
       "      <td>88</td>\n",
       "      <td>88</td>\n",
       "      <td>88</td>\n",
       "      <td>88</td>\n",
       "      <td>80</td>\n",
       "      <td>80</td>\n",
       "      <td>72</td>\n",
       "      <td>76</td>\n",
       "    </tr>\n",
       "  </tbody>\n",
       "</table>\n",
       "</div>"
      ],
      "text/plain": [
       "   M_DIV_CD M_ADDR_TYPE  pr1  pr1  tsr1  tstr1  pr2  pr2  tsr2  tstr2\n",
       "7        d2      SIMPLE   84   84    86     90   84   84    71     90\n",
       "16       d2       RANGE   93   93    86    100   93   93    69    100\n",
       "17       d2      SIMPLE   94   94    97     97   94   94    80     80\n",
       "21       d2      SIMPLE   94   94    97     97   94   94    78     78\n",
       "24       d2      SIMPLE   88   88    88     88   80   80    72     76"
      ]
     },
     "execution_count": 881,
     "metadata": {},
     "output_type": "execute_result"
    }
   ],
   "source": [
    "data_to_display=['M_DIV_CD','M_ADDR_TYPE','pr1','pr1','tsr1','tstr1','pr2','pr2','tsr2','tstr2']\n",
    "df_match[df_match.pr1<95][data_to_display].head()"
   ]
  },
  {
   "cell_type": "markdown",
   "metadata": {},
   "source": [
    "### Calculate percentage of matching with ratio above 90% "
   ]
  },
  {
   "cell_type": "code",
   "execution_count": 882,
   "metadata": {},
   "outputs": [
    {
     "name": "stdout",
     "output_type": "stream",
     "text": [
      "r1 match (%>90) =  0.8581\n",
      "pr1 match (%>90) =  0.8755\n",
      "tsr1 match (%>90) =  0.8383666666666667\n",
      "tstr1 match (%>90) =  0.908\n",
      "\n",
      "r2 match (%>90) =  0.0125\n",
      "pr2 match (%>90) =  0.8255\n",
      "tsr2 match (%>90) =  0.011733333333333333\n",
      "tstr2 match (%>90) =  0.7811666666666667\n"
     ]
    }
   ],
   "source": [
    "r1_match_pct = len(df_match[df_match.r1 > 90]) / len(df_match)\n",
    "pr1_match_pct = len(df_match[df_match.pr1 > 90]) / len(df_match)\n",
    "tsr1_match_pct = len(df_match[df_match.tsr1 > 90]) / len(df_match)\n",
    "tstr1_match_pct = len(df_match[df_match.tstr1 > 90]) / len(df_match)\n",
    "print('r1 match (%>90) = ', r1_match_pct)\n",
    "print('pr1 match (%>90) = ', pr1_match_pct)\n",
    "print('tsr1 match (%>90) = ', tsr1_match_pct)\n",
    "print('tstr1 match (%>90) = ', tstr1_match_pct)\n",
    "print()\n",
    "r2_match_pct = len(df_match[df_match.r2 > 90]) / len(df_match)\n",
    "pr2_match_pct = len(df_match[df_match.pr2 > 90]) / len(df_match)\n",
    "tsr2_match_pct = len(df_match[df_match.tsr2 > 90]) / len(df_match)\n",
    "tstr2_match_pct = len(df_match[df_match.tstr2 > 90]) / len(df_match)\n",
    "print('r2 match (%>90) = ', r2_match_pct)\n",
    "print('pr2 match (%>90) = ', pr2_match_pct)\n",
    "print('tsr2 match (%>90) = ', tsr2_match_pct)\n",
    "print('tstr2 match (%>90) = ', tstr2_match_pct)"
   ]
  },
  {
   "cell_type": "markdown",
   "metadata": {},
   "source": [
    "#### Compare address to address, function token_set_ratio got the highest match % (with ratio > 90).  If use the free text (which contains the address) to find the match with address, then partial_ratio perfoms best with 82% with raio>90"
   ]
  },
  {
   "cell_type": "code",
   "execution_count": 883,
   "metadata": {},
   "outputs": [
    {
     "name": "stdout",
     "output_type": "stream",
     "text": [
      "r1 mean (%) =  96.6229\n",
      "pr1 mean (%) =  96.90603333333334\n",
      "tsr1 mean (%) =  96.0952\n",
      "tstr1 mean (%) =  97.72556666666667\n",
      "\n",
      "r2 mean (%) =  74.98543333333333\n",
      "pr2 mean (%) =  95.9572\n",
      "tsr2 mean (%) =  72.25533333333334\n",
      "tstr2 mean (%) =  94.7659\n",
      "\n"
     ]
    }
   ],
   "source": [
    "r1_mean = df_match['r1'].mean()\n",
    "pr1_mean = df_match['pr1'].mean()\n",
    "tsr1_mean = df_match['tsr1'].mean()\n",
    "tstr1_mean = df_match['tstr1'].mean()\n",
    "print('r1 mean (%) = ', r1_mean)\n",
    "print('pr1 mean (%) = ', pr1_mean)\n",
    "print('tsr1 mean (%) = ', tsr1_mean)\n",
    "print('tstr1 mean (%) = ', tstr1_mean)\n",
    "print()\n",
    "r2_mean = df_match['r2'].mean()\n",
    "pr2_mean = df_match['pr2'].mean()\n",
    "tsr2_mean = df_match['tsr2'].mean()\n",
    "tstr2_mean = df_match['tstr2'].mean()\n",
    "print('r2 mean (%) = ', r2_mean)\n",
    "print('pr2 mean (%) = ', pr2_mean)\n",
    "print('tsr2 mean (%) = ', tsr2_mean)\n",
    "print('tstr2 mean (%) = ', tstr2_mean)\n",
    "print()"
   ]
  },
  {
   "cell_type": "markdown",
   "metadata": {},
   "source": [
    "### Exam ratio < 90% "
   ]
  },
  {
   "cell_type": "code",
   "execution_count": 884,
   "metadata": {},
   "outputs": [
    {
     "data": {
      "image/png": "[encoded data removed]",
      "text/plain": [
       "<Figure size 432x288 with 4 Axes>"
      ]
     },
     "metadata": {},
     "output_type": "display_data"
    }
   ],
   "source": [
    "fig = plt.figure()\n",
    "fig.subplots_adjust(hspace=0.6, wspace=0.6)\n",
    "\n",
    "#ax=fig.add_subplot(2,2,1)\n",
    "plt.subplot(2,2,1)\n",
    "_=plt.hist(df_match[df_match.r1< 90].r1/100, bins=30)\n",
    "plt.title('Ratio (% < 90) ')\n",
    "\n",
    "plt.subplot(2,2,2)\n",
    "_=plt.hist(df_match[df_match.pr1< 90].pr1/100, bins=30)\n",
    "plt.title('Partial Ratio (% < 90) ')\n",
    "plt.subplot(2,2,3)\n",
    "_=plt.hist(df_match[df_match.tsr1< 90].tsr1/100, bins=30)\n",
    "plt.title('Token Sort Ratio (% < 90) ')\n",
    "plt.subplot(2,2,4)\n",
    "_=plt.hist(df_match[df_match.tstr1< 90].tstr1/100, bins=30)\n",
    "plt.title('Token Set Ratio (% < 90) ')\n",
    "plt.show()"
   ]
  },
  {
   "cell_type": "code",
   "execution_count": 885,
   "metadata": {},
   "outputs": [
    {
     "data": {
      "image/png": "[encoded data removed]",
      "text/plain": [
       "<Figure size 432x288 with 4 Axes>"
      ]
     },
     "metadata": {},
     "output_type": "display_data"
    }
   ],
   "source": [
    "fig = plt.figure()\n",
    "fig.subplots_adjust(hspace=0.6, wspace=0.6)\n",
    "\n",
    "#ax=fig.add_subplot(2,2,1)\n",
    "plt.subplot(2,2,1)\n",
    "_=plt.hist(df_match[df_match.r2< 90].r2/100, bins=30)\n",
    "plt.title('Ratio (% < 90) ')\n",
    "\n",
    "plt.subplot(2,2,2)\n",
    "_=plt.hist(df_match[df_match.pr2< 90].pr2/100, bins=30)\n",
    "plt.title('Partial Ratio (% < 90) ')\n",
    "plt.subplot(2,2,3)\n",
    "_=plt.hist(df_match[df_match.tsr2< 90].tsr2/100, bins=30)\n",
    "plt.title('Token Sort Ratio (% < 90) ')\n",
    "plt.subplot(2,2,4)\n",
    "_=plt.hist(df_match[df_match.tstr2< 90].tstr2/100, bins=30)\n",
    "plt.title('Token Set Ratio (% < 90) ')\n",
    "plt.show()"
   ]
  },
  {
   "cell_type": "code",
   "execution_count": 889,
   "metadata": {},
   "outputs": [
    {
     "data": {
      "text/plain": [
       "[Text(0, 0, 'Ratio'),\n",
       " Text(0, 0, 'Partial Ratio'),\n",
       " Text(0, 0, 'Token Sort Ratio'),\n",
       " Text(0, 0, 'Token Set Ratio')]"
      ]
     },
     "execution_count": 889,
     "metadata": {},
     "output_type": "execute_result"
    },
    {
     "data": {
      "image/png": "[encoded data removed]",
      "text/plain": [
       "<Figure size 576x576 with 1 Axes>"
      ]
     },
     "metadata": {},
     "output_type": "display_data"
    }
   ],
   "source": [
    "d1=df_match[(df_match.r1>50) & (df_match.r1<90)].r1\n",
    "d2=df_match[(df_match.pr1>50) & (df_match.pr1<90)].pr1\n",
    "d3=df_match[(df_match.tsr1>50) & (df_match.tsr1<90)].tsr1\n",
    "d4=df_match[(df_match.tstr1>50) & (df_match.tstr1<90)].tstr1\n",
    "\n",
    "data_to_plot = [d1, d2, d3, d4]\n",
    "xticklables = ['Ratio', 'Partial Ratio', 'Token Sort Ratio', 'Token Set Ratio']\n",
    "\n",
    "fig = plt.figure(1, figsize=(8, 8))\n",
    "plt.title('Ratio < 90 (matching address with address)') \n",
    "ax = sns.boxplot(data = data_to_plot)\n",
    "ax.set_xticklabels(xticklables)"
   ]
  },
  {
   "cell_type": "markdown",
   "metadata": {},
   "source": [
    "### From the above box plat, we can see that for ratio < 90%, the function token_set_ratio has the highest median matching ratio than the other functions "
   ]
  },
  {
   "cell_type": "code",
   "execution_count": 890,
   "metadata": {},
   "outputs": [
    {
     "data": {
      "text/plain": [
       "[Text(0, 0, 'Ratio'),\n",
       " Text(0, 0, 'Partial Ratio'),\n",
       " Text(0, 0, 'Token Sort Ratio'),\n",
       " Text(0, 0, 'Token Set Ratio')]"
      ]
     },
     "execution_count": 890,
     "metadata": {},
     "output_type": "execute_result"
    },
    {
     "data": {
      "image/png": "[encoded data removed]",
      "text/plain": [
       "<Figure size 576x576 with 1 Axes>"
      ]
     },
     "metadata": {},
     "output_type": "display_data"
    }
   ],
   "source": [
    "d1=df_match[(df_match.r2>50) & (df_match.r2<90)].r2\n",
    "d2=df_match[(df_match.pr2>50) & (df_match.pr2<90)].pr2\n",
    "d3=df_match[(df_match.tsr2>50) & (df_match.tsr2<90)].tsr2\n",
    "d4=df_match[(df_match.tstr2>50) & (df_match.tstr2<90)].tstr2\n",
    "\n",
    "data_to_plot = [d1, d2, d3, d4]\n",
    "xticklables = ['Ratio', 'Partial Ratio', 'Token Sort Ratio', 'Token Set Ratio']\n",
    "\n",
    "fig = plt.figure(1, figsize=(8, 8))\n",
    "plt.title('Ratio < 90 (matching free-text with address)') \n",
    "ax = sns.boxplot(data = data_to_plot)\n",
    "ax.set_xticklabels(xticklables)"
   ]
  },
  {
   "cell_type": "markdown",
   "metadata": {},
   "source": [
    "### From the above box plat, we can see that for ratio < 90%, the function partial_ratio has the highest median matching ratio than the other functions, and token_set_ratio ranks the second"
   ]
  },
  {
   "cell_type": "code",
   "execution_count": null,
   "metadata": {},
   "outputs": [],
   "source": []
  },
  {
   "cell_type": "code",
   "execution_count": null,
   "metadata": {},
   "outputs": [],
   "source": []
  },
  {
   "cell_type": "code",
   "execution_count": null,
   "metadata": {},
   "outputs": [],
   "source": []
  },
  {
   "cell_type": "code",
   "execution_count": null,
   "metadata": {},
   "outputs": [],
   "source": []
  }
 ],
 "metadata": {
  "kernelspec": {
   "display_name": "Python 3",
   "language": "python",
   "name": "python3"
  },
  "language_info": {
   "codemirror_mode": {
    "name": "ipython",
    "version": 3
   },
   "file_extension": ".py",
   "mimetype": "text/x-python",
   "name": "python",
   "nbconvert_exporter": "python",
   "pygments_lexer": "ipython3",
   "version": "3.7.3"
  }
 },
 "nbformat": 4,
 "nbformat_minor": 2
}
